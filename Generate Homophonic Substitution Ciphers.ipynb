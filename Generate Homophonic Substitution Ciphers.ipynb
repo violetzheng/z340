{
 "cells": [
  {
   "cell_type": "markdown",
   "id": "b14da3b7",
   "metadata": {},
   "source": [
    "# Homophonic Substitution Ciphers Generator\n",
    "### April 2022"
   ]
  },
  {
   "cell_type": "markdown",
   "id": "13f7b0c4",
   "metadata": {},
   "source": [
    "## Generate a homophonic substitution key for a given plaintext"
   ]
  },
  {
   "cell_type": "code",
   "execution_count": 3,
   "id": "8e319790",
   "metadata": {},
   "outputs": [],
   "source": [
    "import random\n",
    "import re\n",
    "#outputs a list of size 26, ith entry corresponding to the symbols encrypting the ith letter in the alphabet\n",
    "def generate_homophonic_key(total_symbols,plaintext):\n",
    "    '''default input is 63 number of symbols, this function generates a homophonic substitution key using these symbols to encrypt the plaintext'''\n",
    "    #total_symbols = no. of possible symbols used to represent the alphabet, max is 63 here\n",
    "    plaintext = plaintext.lower()\n",
    "    new_string = re.sub(r'[^\\w\\s]', '', plaintext)\n",
    "    new_string=new_string.replace(\" \", \"\")\n",
    "    plaintext = new_string\n",
    "    alphabet = 'abcdefghijklmnopqrstuvwxyz'\n",
    "    alphabet1 = alphabet.upper()\n",
    "    alphabet = [ 'e', 't', 'a', 'o', 'h', 'n', 'i', 's', 'r', 'd', 'l', 'u', 'w', 'm', 'c', 'g', 'f', 'y', 'p', 'v', 'k', 'b', 'j', 'x', 'z', 'q']\n",
    "    symbols = alphabet + list(alphabet1)+['.','!','@','$','%','^','&','*','~','?','<']\n",
    "    #max 63 possible symbols\n",
    "    symbols = symbols[0:total_symbols]\n",
    "    encryption = ['']*26\n",
    "\n",
    "    total = 63\n",
    "    #generate encryption for first 6 commonly occuring letters in english\n",
    "    for i in range(0,6):\n",
    "        #randomly select between 3 to 9 symbols for each letter. We allocate more symbols for popular letters in alphabet\n",
    "        x=random.sample(range(3,9), 1)[0]\n",
    "        ran_ind = random.sample(range(0, total-1), x)\n",
    "        letters_to_remove = []\n",
    "        for j in ran_ind:\n",
    "            encryption[i] += str(symbols[j])\n",
    "            letters_to_remove.append(symbols[j])\n",
    "        for j in letters_to_remove:\n",
    "            symbols.remove(j)\n",
    "        total-=x\n",
    "    for i in range(6,26):\n",
    "        x=random.sample(range(1,4), 1)[0]\n",
    "        if total <= 26-i+2:\n",
    "            x=1\n",
    "        ran_ind = random.sample(range(0, total), x)\n",
    "        letters_to_remove = []\n",
    "        for j in ran_ind:\n",
    "            encryption[i] += str(symbols[j])\n",
    "            letters_to_remove.append(symbols[j])\n",
    "        for j in letters_to_remove:\n",
    "            symbols.remove(j)\n",
    "        total-=x\n",
    "    if len(symbols)>0:\n",
    "        for i in symbols:\n",
    "            encryption[0] += i\n",
    "    encoded =''\n",
    "    plaintext.lower()\n",
    "    #encrypt plaintext according to generated key\n",
    "    for l in plaintext:\n",
    "        encoded += encryption[alphabet.index(l)][random.sample(range(0,len(encryption[alphabet.index(l)])),1)[0]]\n",
    "    return encoded"
   ]
  },
  {
   "cell_type": "code",
   "execution_count": 4,
   "id": "82a11139",
   "metadata": {},
   "outputs": [
    {
     "data": {
      "text/plain": [
       "'@Mv^%Mszhn%C!DW@t*a@rpkaro*px?%MxDL@tn%@LvI%Cjy^VqxDv@aG!t@Wvk%MjikVYxDDxP<@asBz%%@WpkaCscdmx$oxDhz<@nD@WpIaCszcmx$oxD@f$?qlX.@WO@FvHaMsd%yIaxAPD<@VjL@CpHaFoza*JaxfxDNJ?uUq%a@FvkaC&cam?@fV!Dj!m*@WvR%Fsiv@Urq?PDNcamk@?vc&JG*wq?OFj@EVhyDP?nXapdsIGS!Fo@EVh*DP?iX%vnvy?yb.<VP@gVG@?y$CW!snHwYApipc?Yk<<VP@SVG@?Y$FLs*!Woq?vJO@A%o!?LW&qmy?@Plvk%%xDJ?<@udLoym?c%nSLmz?@PNFsKL%!tyxD@MaA!@a@iaLRQro!?@r@ca@fa@aFnlxS@r%hq@AV?n$q@wclDP?VxxG!?D!?Yw@<@Er&i%XmY?.JF@wqldV?YnPD$!tmK?@axUPA.O'"
      ]
     },
     "execution_count": 4,
     "metadata": {},
     "output_type": "execute_result"
    }
   ],
   "source": [
    "generate_homophonic_key(63,\"It was the best of times, it was the worst of times, it was the age of wisdom, it was the age of foolishness, it was the epoch of belief, it was the epoch of incredulity, it was the season of Light, it was the season of Darkness, it was the spring of hope, it was the winter of despair, we had everything before us, we had nothing before us, we were all going direct to Heaven, we were all going direct the other way in short, the period was so far like the present period, that some of its noisiest authorities insisted on its being received, for good or for evil, in the superlative degree of comparison only.\")"
   ]
  },
  {
   "cell_type": "markdown",
   "id": "6298640f",
   "metadata": {},
   "source": [
    "## Generate Symbol Frequency Histogram for generated ciphertext"
   ]
  },
  {
   "cell_type": "code",
   "execution_count": null,
   "id": "1cd2f86b",
   "metadata": {},
   "outputs": [],
   "source": [
    "#create frequency graph of each symbol in plaintext\n",
    "from collections import Counter\n",
    "import numpy as np\n",
    "import matplotlib.pyplot as plt\n",
    "def letter_frequency_histogram(plaintext,total_symbols):\n",
    "    '''graph each symbol with its frequency of appearance in ciphertext'''\n",
    "    plaintext = \"\".join(plaintext.split())\n",
    "    plaintext = plaintext.lower()\n",
    "    encoded = generate_homophonic_key(total_symbols,plaintext)\n",
    "    encoded_text =''.join(encoded)\n",
    "    print(encoded_text)\n",
    "    #frequency by no. of letter / len(text)\n",
    "    c = Counter(encoded_text)\n",
    "    plt.figure(1, figsize=(15, 5)) \n",
    "    plt.bar(*zip(*c.most_common()), width=.5, color='b')\n",
    "    plt.show()"
   ]
  },
  {
   "cell_type": "markdown",
   "id": "59b073f7",
   "metadata": {},
   "source": [
    "## Create Homophonic Substitution Ciphers of different length for testing purposes later"
   ]
  },
  {
   "cell_type": "code",
   "execution_count": null,
   "id": "b3e9251a",
   "metadata": {},
   "outputs": [],
   "source": [
    "letter_frequency_histogram('christmas wont be christmas without any presents grumbled jo lying on the rugits so dreadful to be poor sighed meg looking down at her old dressi dont think its fair for some girls to have plenty of pretty things and other girls nothing at all added little amy with an injured sniffweve got father and mother and each other said beth contentedly from her cornerthe four young faces on which the firelight shone brightened at the cheerful words but darkened again as jo said sadly we havent got father and shall not have him for a long time she didnt say perhaps never but each silently added it thinking of father far away where the fighting wasnobody spoke for a minute then meg said in an altered tone you know the reason mother proposed not having any presents this christmas was because it is going to be a hard winter for everyone and she thinks we ought not to spend money for pleasure when our men are suffering so in the army we cant do much but we can make our little sacrifices and ought to do it gladly but i am afraid i dont and meg shook her head as she thought regretfully of all the pretty things she wantedbut i dont think the little we should spend would do any good weve each got a dollar and the army wouldnt be much helped by our giving that i agree not to expect anything from mother or you but i do want to buy undine and sintran for myself ive wanted it so long said jo who was a bookwormi planned to spend mine in new music said beth with a little sigh which no one heard but the hearth brush and kettleholderi shall get a nice box of fabers drawing pencils i really need them said amy decidedlymother didnt say anything about our money and she wont wish us to give up everything lets each buy what we want and have a little fun im sure we work hard enough to earn it cried jo examining the heels of her shoes in a gentlemanly manneri know i doteaching those tiresome children nearly all day when im longing to enjoy myself at home began meg in the complaining tone againyou dont have half such a hard time as i do said jo how would you like to be shut up for hours with a nervous fussy old lady who keeps you trotting is never satisfied and worries you till youre ready to fly out the window or cryits naughty to fret but i do think washing dishes and keeping things tidy is the worst work in the world it makes me cross and my hands get so stiff i cant practice well at all and beth looked at her rough hands with a sigh that any one could hear that timei dont believe any of you suffer as i do cried amy for you dont have to go to school with impertinent girls who plague you if you dont know your lessons and laugh at your dresses and label your father if he isnt rich and insult you when your nose isnt niceif you mean libel id say so and not talk about labels as if papa was a pickle bottle advised jo laughingi know what i mean and you neednt be statirical about it its proper to use good words and improve your vocabilary returned amy with dignitydont peck at one another children dont you wish we had the money papa lost when we were little jo dear me how happy and good wed be if we had no worries said meg who could remember better timesyou said the other day you thought we were a deal happier than the king children for they were fighting and fretting all the time in spite of their moneyso i did beth well i think we are for though we do have to work we make fun of ourselves and are a pretty jolly set as jo would sayjo does use such slang words observed amy with a reproving look at the long figure stretched on the rugjo immediately sat up put her hands in her pockets and began to whistledont jo its so boyishthats why i do iti detest rude unladylike girlsi hate affected niminypiminy chitsbirds in their little nests agree sang beth the peacemaker with such a funny face that both sharp voices softened to a laugh and the pecking ended for that timereally girls you are both to be blamed said meg beginning to lecture in her eldersisterly fashion you are old enough to leave off boyish tricks and to behave better josephine it didnt matter so much when you were a little girl but now you are so tall and turn up your hair you should remember that you are a young ladyim not and if turning up my hair makes me one ill wear it in two tails till im twenty cried jo pulling off her net and shaking down a chestnut mane i hate to think ive got to grow up and be miss march and wear long gowns and look as prim as a china aster its bad enough to be a girl anyway when i like boys games and work and manners i cant get over my disappointment in not being a boy and its worse than ever now for im dying to go and fight with papa and i can only stay home and knit like a poky old womanand jo shook the blue army sock till the needles rattled like castanets and her ball bounded across the roompoor jo its too bad but it cant be helped so you must try to be contented with making your name boyish and playing brother to us girls said beth stroking the rough head with a hand that all the dish washing and dusting in the world could not make ungentle in its touchas for you amy continued meg you are altogether too particular and prim your airs are funny now but youll grow up an affected little goose if you dont take care i like your nice manners and refined ways of speaking when you dont try to be elegant but your absurd words are as bad as jos slangif jo is a tomboy and amy a goose what am i please asked beth ready to share the lectureyoure a dear and nothing else answered meg warmly and no one contradicted her for the mouse was the pet of the familyas young readers like to know how people look we will take this moment to give them a little sketch of the four sisters who sat knitting away in the twilight while the december snow fell quietly without and the fire crackled cheerfully within it was a comfortable room though the carpet was faded and the furniture very plain for a good picture or two hung on the walls books filled the recesses chrysanthemums and christmas roses bloomed in the windows and a pleasant atmosphere of home peace pervaded itmargaret the eldest of the four was sixteen and very pretty being plump and fair with large eyes plenty of soft brown hair a sweet mouth and white hands of which she was rather vain fifteenyearold jo was very tall thin and brown and reminded one of a colt for she never seemed to know what to do with her long limbs which were very much in her way she had a decided mouth a comical nose and sharp gray eyes which appeared to see everything and were by turns fierce funny or thoughtful her long thick hair was her one beauty but it was usually bundled into a net to be out of her way round shoulders had jo big hands and feet a flyaway look to her clothes and the uncomfortable appearance of a girl who was rapidly shooting up into a woman and didnt like it elizabeth or beth as everyone called her was a rosy smoothhaired brighteyed girl of thirteen with a shy manner a timid voice and a peaceful expression which was seldom disturbed her father called her little miss tranquility and the name suited her excellently for she seemed to live in a happy world of her own only venturing out to meet the few whom she trusted and loved amy though the youngest was a most important person in her own opinion at least a regular snow maiden with blue eyes and yellow hair curling on her shoulders pale and slender and always carrying herself like a young lady mindful of her manners what the characters of the four sisters were we will leave to be found outthe clock struck six and having swept up the hearth beth put a pair of slippers down to warm somehow the sight of the old shoes had a good effect upon the girls for mother was coming and everyone brightened to welcome her meg stopped lecturing and lighted the lamp amy got out of the easy chair without being asked and jo forgot how tired she was as she sat up to hold the slippers nearer to the blazethey are quite worn out marmee must have a new pairi thought id get her some with my dollar said bethno i shall cried amyim the oldest began meg but jo cut in with a decided im the man of the family now papa is away and i shall provide the slippers for he told me to take special care of mother while he was goneill tell you what well do said beth lets each get her something for christmas and not get anything for ourselvesthats like you dear what will we get exclaimed joeveryone thought soberly for a minute then meg announced as if the idea was suggested by the sight of her own pretty hands i shall give her a nice pair of glovesarmy shoes best to be had cried josome handkerchiefs all hemmed said bethill get a little bottle of cologne she likes it and it wont cost much so ill have some left to buy my pencils added amyhow will we give the things asked megput them on the table and bring her in and see her open the bundles dont you remember how we used to do on our birthdays answered joi used to be so frightened when it was my turn to sit in the chair with the crown on and see you all come marching round to give the presents with a kiss i liked the things and the kisses but it was dreadful to have you sit looking at me while i opened the bundles said beth who was toasting her face and the bread for tea at the same timelet marmee think we are getting things for ourselves and then surprise her we must go shopping tomorrow afternoon meg there is so much to do about the play for christmas night said jo marching up and down with her hands behind her back and her nose in the airi dont mean to act any more after this time im getting too old for such things observed meg who was as much a child as ever about dressingup frolicsyou wont stop i know as long as you can trail round in a white gown with your hair down and wear goldpaper jewelry you are the best actress weve got and therell be an end of everything if you quit the boards said jo we ought to rehearse tonight come here amy and do the fainting scene for you are as stiff as a poker in thati cant help it i never saw anyone faint and i dont choose to make myself all black and blue tumbling flat as you do if i can go down easily ill drop if i cant i shall fall into a chair and be graceful i dont care if hugo does come at me with a pistol returned amy who was not gifted with dramatic power but was chosen because she was small enough to be borne out shrieking by the villain of the piecedo it this way clasp your hands so and stagger across the room crying frantically roderigo save me save me and away went jo with a melodramatic scream which was truly thrillingamy followed but she poked her hands out stiffly before her and jerked herself along as if she went by machinery and her ow was more suggestive of pins being run into her than of fear and anguish jo gave a despairing groan and meg laughed outright while beth let her bread burn as she watched the fun with interest its no use do the best you can when the time comes and if the audience laughs dont blame me come on megthen things went smoothly for don pedro defied the world in a speech of two pages without a single break hagar the witch chanted an awful incantation over her kettleful of simmering toads with weird effect roderigo rent his chains asunder manfully and hugo died in agonies of remorse and arsenic with a wild ha haits the best weve had yet said meg as the dead villain sat up and rubbed his elbowsi dont see how you can write and act such splendid things jo youre a regular shakespeare exclaimed beth who firmly believed that her sisters were gifted with wonderful genius in all thingsnot quite replied jo modestly i do think the witches curse an operatic tragedy is rather a nice thing but id like to try macbeth if we only had a trapdoor for banquo i always wanted to do the killing part is that a dagger that i see before me muttered jo rolling her eyes and clutching at the air as she had seen a famous tragedian dono its the toasting fork with mothers shoe on it instead of the bread beths stagestruck cried meg and the rehearsal ended in a general burst of laughterglad to find you so merry my girls said a cheery voice at the door and actors and audience turned to welcome a tall motherly lady with a can i help you look about her which was truly delightful she was not elegantly dressed but a noblelooking woman and the girls thought the gray cloak and unfashionable bonnet covered the most splendid mother in the worldwell dearies how have you got on today there was so much to do getting the boxes ready to go tomorrow that i didnt come home to dinner has anyone called beth how is your cold meg jo you look tired to death come and kiss me babywhile making these maternal inquiries mrs march got her wet things off her warm slippers on and sitting down in the easy chair drew amy to her lap preparing to enjoy the happiest hour of her busy day the girls flew about trying to make things comfortable each in her own way meg arranged the tea table jo brought wood and set chairs dropping overturning and clattering everything she touched beth trotted to and fro between parlor kitchen quiet and busy while amy gave directions to everyone as she sat with her hands foldedas they gathered about the table mrs march said with a particularly happy face ive got a treat for you after suppera quick bright smile went round like a streak of sunshine beth clapped her hands regardless of the biscuit she held and jo tossed up her napkin crying a letter a letter three cheers for fatheryes a nice long letter he is well and thinks he shall get through the cold season better than we feared he sends all sorts of loving wishes for christmas and an especial message to you girls said mrs march patting her pocket as if she had got a treasure therehurry and get done dont stop to quirk your little finger and simper over your plate amy cried jo choking on her tea and dropping her bread butter side down on the carpet in her haste to get at the treatbeth ate no more but crept away to sit in her shadowy corner and brood over the delight to come till the others were readyi think it was so splendid in father to go as chaplain when he was too old to be drafted and not strong enough for a soldier said meg warmlydont i wish i could go as a drummer a vivanwhats its name or a nurse so i could be near him and help him exclaimed jo with a groanit must be very disagreeable to sleep in a tent and eat all sorts of badtasting things and drink out of a tin mug sighed amywhen will he come home marmee asked beth with a little quiver in her voicenot for many months dear unless he is sick he will stay and do his work faithfully as long as he can and we wont ask for him back a minute sooner than he can be spared now come and hear the letterthey all drew to the fire mother in the big chair with beth at her feet meg and amy perched on either arm of the chair and jo leaning on the back where no one would see any sign of emotion if the letter should happen to be touching very few letters were written in those hard times that were not touching especially those which fathers sent home in this one little was said of the hardships endured the dangers faced or the homesickness conquered it was a cheerful hopeful letter full of lively descriptions of camp life marches and military news and only at the end did the writers heart overflow with fatherly love and longing for the little girls at homegive them all of my dear love and a kiss tell them i think of them by day pray for them by night and find my best comfort in their affection at all times a year seems very long to wait before i see them but remind them that while we wait we may all work so that these hard days need not be wasted i know they will remember all i said to them that they will be loving children to you will do their duty faithfully fight their bosom enemies bravely and conquer themselves so beautifully that when i come back to them i may be fonder and prouder than ever of my little women everybody sniffed when they came to that part jo wasnt ashamed of the great tear that dropped off the end of her nose and amy never minded the rumpling of her curls as she hid her face on her mothers shoulder and sobbed out i am a selfish girl but ill truly try to be better so he maynt be disappointed in me byandbywe all will cried meg i think too much of my looks and hate to work but wont any more if i can help itill try and be what he loves to call me a little woman and not be rough and wild but do my duty here instead of wanting to be somewhere else said jo thinking that keeping her temper at home was a much harder task than facing a rebel or two down southbeth said nothing but wiped away her tears with the blue army sock and began to knit with all her might losing no time in doing the duty that lay nearest her while she resolved in her quiet little soul to be all that father hoped to find her when the year brought round the happy coming homemrs march broke the silence that followed jos words by saying in her cheery voice do you remember how you used to play pilgrims progress when you were little things nothing delighted you more than to have me tie my piece bags on your backs for burdens give you hats and sticks and rolls of paper and let you travel through the house from the cellar which was the city of destruction up up to the housetop where you had all the lovely things you could collect to make a celestial citywhat fun it was especially going by the lions fighting apollyon and passing through the valley where the hobgoblins were said joi liked the place where the bundles fell off and tumbled downstairs said megi dont remember much about it except that i was afraid of the cellar and the dark entry and always liked the cake and milk we had up at the top if i wasnt too old for such things id rather like to play it over again said amy who began to talk of renouncing childish things at the mature age of twelvewe never are too old for this my dear because it is a play we are playing all the time in one way or another our burdens are here our road is before us and the longing for goodness and happiness is the guide that leads us through many troubles and mistakes to the peace which is a true celestial city now my little pilgrims suppose you begin again not in play but in earnest and see how far on you can get before father comes homereally mother where are our bundles asked amy who was a very literal young ladyeach of you told what your burden was just now except beth i rather think she hasnt got any said her motheryes i have mine is dishes and dusters and envying girls with nice pianos and being afraid of peoplebeths bundle was such a funny one that everybody wanted to laugh but nobody did for it would have hurt her feelings very muchlet us do it said meg thoughtfully it is only another name for trying to be good and the story may help us for though we do want to be good its hard work and we forget and dont do our bestwe were in the slough of despond tonight and mother came and pulled us out as help did in the book we ought to have our roll of directions like christian what shall we do about that asked jo delighted with the fancy which lent a little romance to the very dull task of doing her dutylook under your pillows christmas morning and you will find your guidebook replied mrs marchthey talked over the new plan while old hannah cleared the table then out came the four little work baskets and the needles flew as the girls made sheets for aunt march it was uninteresting sewing but tonight no one grumbled they adopted jos plan of dividing the long seams into four parts and calling the quarters europe asia africa and america and in that way got on capitally especially when they talked about the different countries as they stitched their way through themat nine they stopped work and sang as usual before they went to bed no one but beth could get much music out of the old piano but she had a way of softly touching the yellow keys and making a pleasant accompaniment to the simple songs they sang meg had a voice like a flute and she and her mother led the little choir amy chirped like a cricket and jo wandered through the airs at her own sweet will always coming out at the wrong place with a croak or a quaver that spoiled the most pensive tune they had always done this from the time they could lispcrinkle crinkle little tarand it had become a household custom for the mother was a born singer the first sound in the morning was her voice as she went about the house singing like a lark and the last sound at night was the same cheery sound for the girls never grew too old for that familiar lullaby',77)\n",
    "import re\n",
    "#create ciphers in different lengths\n",
    "def diff_length_ciphers(symbols,plaintext):\n",
    "    '''generate homophonic substitution ciphertexts of varying lengths'''\n",
    "    L = 300\n",
    "    plaintext = plaintext.lower()\n",
    "    new_string = re.sub(r'[^\\w\\s]', '', plaintext)\n",
    "    new_string=new_string.replace(\" \", \"\")\n",
    "    plaintext = new_string\n",
    "    D = {}\n",
    "    while L <= 2000:\n",
    "        new = plaintext[0:L]\n",
    "        D[L]=[new,generate_homophonic_key(symbols,new)]\n",
    "        L=L+50\n",
    "    print(D)"
   ]
  }
 ],
 "metadata": {
  "kernelspec": {
   "display_name": "Python 3 (ipykernel)",
   "language": "python",
   "name": "python3"
  },
  "language_info": {
   "codemirror_mode": {
    "name": "ipython",
    "version": 3
   },
   "file_extension": ".py",
   "mimetype": "text/x-python",
   "name": "python",
   "nbconvert_exporter": "python",
   "pygments_lexer": "ipython3",
   "version": "3.9.13"
  }
 },
 "nbformat": 4,
 "nbformat_minor": 5
}
