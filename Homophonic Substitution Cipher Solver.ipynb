{
 "cells": [
  {
   "cell_type": "markdown",
   "metadata": {},
   "source": [
    "# Homophonic Substitution Cipher Solver\n",
    "### June 2022"
   ]
  },
  {
   "cell_type": "markdown",
   "metadata": {},
   "source": [
    "## variables"
   ]
  },
  {
   "cell_type": "code",
   "execution_count": 6,
   "metadata": {},
   "outputs": [],
   "source": [
    "cipher_trial = 'xO@B*OSfyv*OoNOt<f*tO@i*OaW@jF*OjDOxLv*xO@B*OaWp?RoZ@t*Xh<xO@B*Oa.p?.hDuhjkt*Sef**%O@z*OSR.qh&SoZUfk%fItO@i*OSvfqolSjNtenFWMQkxOVtO@Y*OS.*Wi*oejIkx?aOtO@p*OaR*RB*oehD^BFTef**tO@Y*OaW*qFxeKjuaoC.xO@p*OSv@xeO.FhIrf*qY%F@faiXRPfFVOS%e?dvboFWQ*@fSpgehOateKcRujFfQ*@.@WF.ikkKj%e?X%Fv&OOhSRBPRe@R@.FvzkkKhteK^tFf&OOavjOSRF@iVte*SoFOOSvCvFxhH@p**jIiFktTROSRqFf*feOqWF%jrOSYO*jLRjIxO*ejt*xf*OiQOSoFtO%f*%e*%*OWsoetO*Uv%e?FWl.tPfrZoFKojXhFZhF.P%kteOaW*QqvFkzOxPfHv?FRRjD&hLwzF%*hehekV'\n",
    "import time\n",
    "prev_swaps = []\n",
    "import copy\n",
    "#uses z408 plaintext and used generated a random homophonic substitution cipher using our cipher generator\n",
    "z408 = 'ihopeyouarehavinglotsoffunintryingtocatchmethatwasntmeonthetvshowwhichbringsupapointaboutmeiamnotafraidofthegaschamberbecauseitwillsendmetoparadiceallthesoonerbecauseinowhaveenoughslavestoworkformewhereeveryoneelsehasnothingwhentheyreachparadicesotheyareafraidofdeathiamnotafraidbecauseiknowthatmynewlifewillbeaneasyoneinparadicelifeisdeath'\n",
    "cipher_trial_2 = 'jlDMi$<bDc.xXw$zxgbii$xE$kSi$WD!Rx%!IWDfRcfql$.OOc@ca$<Ml^^b$c@V<wl$?$lDCWD<lSlIWD$<PiwD@lb$<DcWx*$T@l^^V$q<Pf?DAD^wax~<<PixA^a<?^i<P.U%HIi!RRmrW$Av~DalF<PaZl$xWgb.$naxlO<%rcD^WxxVzixj*RR?$Sw$<l<P.vDl$S%E$TxDiIiKRw$SuDWM?lbxxaMDf<x<lDwI*R$H<?l$xV$kJW<DKU?$zIc<ER?$FlD^~<wl$<lluulxw$zjlDYWxc<v*x<PW<PDWA<lja$i^Uc$<aDMWu<?l$<%K<^l<wI~<iL<%fk.IiRlu^.$<ljMl&.x~$CYcuPWDx<a@P$?gbWxjlDkcxSb?x?$SK^axxASWxl<%K<l$RU<Pf?$<r$LiGDanwu?r$<nE$DaKqc<<PaTWx?DijlDxrZDWZUPKx^r!$<<PH<$E<cl$x%HIfluiDK<aL@lLa^AX?$zT.u~D<^f$<xv%?Y%vfDfD.xul$x?yRWFlDa$xbDc$z<PfxfZbDw<Uljnl^^b$wME<?l$xNUc$If$<w$SA$qw^uRf^.$<?$S<PWhWx<ulxxcmR.nlCix*<<%ix!^r<?^ri$i^U@lCamDf~XaDxPVI.K<<W^u<rG<lNDaVX<PfxrZlTrxA$Lx<r~RxanDr<xMlqWeDiEX.Dx!D.R?$Sb?x<c@*RnPf^wx<xV^Ux<?M~R<DwN.K<<f^u<w$S<l@l$obDrxf$xwJRrvlDCxlb<lF^i*$c$SRrxxxU^JlRx<PWPcx<lDUlOZlq.xV$BY?uPiDxwx<P.x<lDUlj<PrMa$<bDwrxlR&eK<<RWma<v.i$Yl&.^!X.DxK$TZlCfhDWHXrDxA$w$<.RRin<bARHD^xD*@a<%E<PAx%K&*CDH^A<?Z?^uHM<l$<%WZlbDxflO%wx<lDUc$vD?<c$S<P.YlTryllXcP*IWPAT<vl^V?$lmpWY<?Irx<P.O?Dx<?x<lMPAD<<%r.IlRb<?l$lFZlGaxWIlRb<wl$wxAv%lRRU~uuDluD?E<r<WD^Ji@Vbxf<PikrI.Rlu^r$<lO@lBaxZ*$hfI?ivfC~x~$iIlRb<?l$~DUx<DbzSRiH@lGicxYl$x<K$<RUb$&.D!<<*@XjDl^Ylk.hDaAX.DxvPi$<Pr@l&imDWAXfDx%AIakWIaRluaq!$.vv.Kul$<%H<DiIWKRx~YlBWxvW!X$.xx<Pr$<%rMlqWwx$lRl$ziDbxiFbRc<a?<PWDh.Zl^fxas<c$@<lDc<fIlRI.xc$<lH$ivx<Dl$SiDnlTfc$<bD$<%wx$ivYlka<PDcIfxl$RUb$<wR<PrMlqamDW*XiDx?Ci$<cjU?<xv.KX$.xx*$Gxll$<Pcxwxxc^?RED<l<PWxw<b!<?l$F!nc$zOlDWs*^uR.Kx<D~w$lF?$jan<?lbxyHn<aDw*<%iNEM<fDcHRcIf<PD?IrE$TxbDIcIfb$<?RBln<lDxCcxZlIiDA$V$<wJ?l<cZ<PK<WsulxrxHvi*X$.xxw$<PahK@<rDw*E$CXcRRx<Pr^<PWm!n<iDwH~DWjlDMrB<liIlRIi*$Glb<v?<<%.V$<chwl<wY*$TwjxbMYaxxObR<PiUvcRR<PDwI.l$M.KzA?$!$CDrix<*tR?xP<%a^xrRIWx'"
   ]
  },
  {
   "cell_type": "code",
   "execution_count": 7,
   "metadata": {},
   "outputs": [],
   "source": [
    "cipher_z408='*tJjxsJ^PHxtGZ*m!EJnKJ$$^m*mnHs*mOnJ~LnytgontPnezKmnaxJmntxnZKtJeet*~tIH*mdK^jPjJ*mnPWJ^nap*&gmJnCBH&*QJBntodMKVtzgixHWoXL^Kw*ne*EEK%mua%nJjCHlu*~pzEEnt%KJJmwHr%yC^Ko*mJetLZ%pmJ^dtKEMZoKnJeJHYUJHawetxHooZ%HsJmxoEKptlKmJnt*mdetwmnt%sH%LXtjGH&b*~%KJntxszHx&BHl*vJUbwCnt*PgmJnSBHM*uIxVC^Ko*YmJentMngsmpeE*Upe*EEI%Lm%MKsJmx*mjPHlQ*~xE*$x*Kvx&nt'"
   ]
  },
  {
   "cell_type": "code",
   "execution_count": 8,
   "metadata": {},
   "outputs": [],
   "source": [
    "singh_codebook_plaintext = \"For centuries kings queens and generals have relied on efficient \\\n",
    "communication in order to \\\n",
    "govern their countries and command their armies At the same time they have all been aware of \\\n",
    "the consequences of their messages falling into the wrong hands revealing precious secrets to \\\n",
    "rival nations and betraying vital information to opposing forces It was the threat of enemy \\\n",
    "interception that motivated the development of codes and ciphers techniques for disguising a \\\n",
    "message so that only the intended recipient can read it \\\n",
    "The desire for secrecy has meant that nations have operated codemaking departments which were \\\n",
    "responsible for ensuring the security of communications by inventing and implementing the best \\\n",
    "possible codes At the same time enemy code breakers have attempted to break these codes and steal \\\n",
    "secrets Codebreakers are linguistic alchemists a mystical tribe at tempting to conjure sensible \\\n",
    "words out of meaningless symbols The history of codes and ciphers is the story of the centuries \\\n",
    "old battle between codemakers and codebreakers an intellectual arms race that has had a dramatic \\\n",
    "impact on the course of history In writing The Code Book I have had two main objectives The first \\\n",
    "is to chart the evolution of codes Evolution is a wholly appropriate term because the development \\\n",
    "of codes can be viewed as an evolutionary struggle A code is constantly under attack from \\\n",
    "codebreakers When the codebreakers have developed a new weapon that reveals a codes weakness then \\\n",
    "the code is no longer useful It either becomes extinct or it evolves into a new stronger code In \\\n",
    "turn this new code thrives only until the codebreakers identify its weakness and so on This is \\\n",
    "similar to the situation facing for example a strain of infectious bacteria The bacteria live \\\n",
    "thrive and survive until doctors discover an antibiotic that exposes a weakness in the bacteria \\\n",
    "and kills them The bacteria are forced to evolve and outwit the antibiotic and if successful \\\n",
    "they will thrive once again and reestablish themselves\".upper().replace(' ','')"
   ]
  },
  {
   "cell_type": "markdown",
   "metadata": {},
   "source": [
    "## Index of Coincidence"
   ]
  },
  {
   "cell_type": "code",
   "execution_count": 9,
   "metadata": {},
   "outputs": [],
   "source": [
    "import sys\n",
    "import collections\n",
    "def IoC(plaintext):\n",
    "    '''returns the index of coincidence of a candidate plaintext solution'''\n",
    "    N = len(plaintext)\n",
    "    #calculate index of coincidence\n",
    "    numLetters  = [0] * 26\n",
    "    for char in plaintext:\n",
    "        numLetters [ord(char) - 65] += 1\n",
    "\n",
    "    IoC = sum([entry * (entry - 1) for entry in numLetters ])\n",
    "    IoC /= N * (N - 1)\n",
    "\n",
    "    return IoC"
   ]
  },
  {
   "cell_type": "markdown",
   "metadata": {},
   "source": [
    "## Set up quintgram dictionary"
   ]
  },
  {
   "cell_type": "code",
   "execution_count": 10,
   "metadata": {},
   "outputs": [
    {
     "name": "stdout",
     "output_type": "stream",
     "text": [
      "11712713.0346226\n"
     ]
    }
   ],
   "source": [
    "import math\n",
    "f = open('english_quintgrams.txt', 'r')\n",
    "quintgrams = f.read()\n",
    "L = []\n",
    "for quintgram in quintgrams.split():\n",
    "    L.append(quintgram)\n",
    "D = {}\n",
    "total = 0\n",
    "#total is total no. pentagrams\n",
    "#turn quintgram file to counter dictionary\n",
    "for i in range(0,len(L)):\n",
    "    if i%2 == 0:\n",
    "        D[L[i]] = math.log(1.0+float(L[i+1]))\n",
    "        total += float(math.log(1.0+float(L[i+1])))\n",
    "print(total)\n",
    "alphabet =  ['A','B','C','D','E','F','G','H','I','J','K','L','M','N','O','P','Q','R','S','T','U','V','W','X','Y','Z']\n",
    "alphabetised_quint  = []\n",
    "#create alphebetised list of pentagrams to access via base\n",
    "for p in alphabet:\n",
    "    for q in alphabet:\n",
    "        for r in alphabet:\n",
    "            for s in alphabet:\n",
    "                for t in alphabet:\n",
    "                    quint =  p+q+r+s+t\n",
    "                    if quint in D:\n",
    "                        alphabetised_quint.append([quint,float(D[quint])/total])\n",
    "                    else:\n",
    "                        alphabetised_quint.append([quint,0])"
   ]
  },
  {
   "cell_type": "markdown",
   "metadata": {},
   "source": [
    "## Scoring candidate solution"
   ]
  },
  {
   "cell_type": "code",
   "execution_count": 11,
   "metadata": {},
   "outputs": [],
   "source": [
    "import math\n",
    "def evaluate_pentagrams(solution,cipher):\n",
    "    '''evaluates candidate plaintext solution based on  pentagrams/quintgrams'''\n",
    "    #find plaintext according to candidate key\n",
    "    plaintext = ''\n",
    "    fitness=0.0\n",
    "    alphabet = ['A','B','C','D','E','F','G','H','I','J','K','L','M','N','O','P','Q','R','S','T','U','V','W','X','Y','Z']\n",
    "    #sub in candidate solution key to cipher\n",
    "    for i in cipher:\n",
    "        for key,value in solution.items():\n",
    "            if i in value:\n",
    "                plaintext += str(key)\n",
    "    plaintext = plaintext.upper()\n",
    "    for i in range(0,len(plaintext)-4):\n",
    "        pentagram = plaintext[i:i+5]\n",
    "        #access pentagram probability score via numerical key\n",
    "        index = (alphabet.index(pentagram[0]) * 26 * 26 * 26 * 26 +\n",
    "                 alphabet.index(pentagram[1]) * 26 * 26 * 26 +\n",
    "                 alphabet.index(pentagram[2]) * 26 * 26 +\n",
    "                 alphabet.index(pentagram[3]) * 26 +\n",
    "                alphabet.index(pentagram[4]))\n",
    "        y = float((alphabetised_quint[index])[1])\n",
    "        fitness += y\n",
    "    fitness = fitness * 1e6\n",
    "    #print(fitness)\n",
    "    IoC_score = IoC(plaintext)\n",
    "    difference = abs((IoC_score - 0.067))\n",
    "    #print(10000*difference)\n",
    "    #smaller the difference the better the score\n",
    "    final_score = fitness - 1000.0*difference #+ 0.3*(score_zodiac_like_words(plaintext))\n",
    "    return final_score,plaintext"
   ]
  },
  {
   "cell_type": "markdown",
   "metadata": {},
   "source": [
    "## Generate new candidate solutions "
   ]
  },
  {
   "cell_type": "code",
   "execution_count": 13,
   "metadata": {},
   "outputs": [],
   "source": [
    "import random\n",
    "def generate(old_solution):\n",
    "    '''swap a position of a symbol to another letter to pertubate a neighbouring candidate solution'''\n",
    "    #swap position of 2 symbols in key, or swap position of 1 symbol in key\n",
    "    alphabet = [ 'e', 't', 'a', 'o', 'h', 'n', 'i', 's', 'r', 'd', 'l', 'u', 'w', 'm', 'c', 'g', 'f', 'y', 'p', 'v', 'k', 'b', 'j', 'x', 'z', 'q']\n",
    "    #swap 1 symbol to another key\n",
    "    key1 = random.choice(list(old_solution))\n",
    "    while len(old_solution[key1]) <1:\n",
    "        key1 = random.choice(list(old_solution))\n",
    "\n",
    "    key2 = str(random.choice(alphabet))\n",
    "    #pick another key if the randomly selected key2 is same as key1\n",
    "    while str(key1) == str(key2) is True:\n",
    "        key2 = str(random.choice(alphabet))\n",
    "\n",
    "    x1_pos = random.sample(range(0, len(old_solution[key1])), 1)[0]\n",
    "    symbol = old_solution[key1][x1_pos]\n",
    "    old_solution[key1].remove(symbol)\n",
    "    old_solution[key2].append(symbol)\n",
    "    #returns a new key\n",
    "    return old_solution"
   ]
  },
  {
   "cell_type": "markdown",
   "metadata": {},
   "source": [
    "## Generate initial key solution"
   ]
  },
  {
   "cell_type": "code",
   "execution_count": 14,
   "metadata": {},
   "outputs": [],
   "source": [
    "import random\n",
    "#generate a starting key\n",
    "def start(cipher):\n",
    "    '''generates a random starting homophonic substituion key'''\n",
    "    symbols = []\n",
    "    for i in cipher:\n",
    "        if i not in symbols:\n",
    "            symbols.append(i)\n",
    "    total = len(symbols)\n",
    "    alphabet = [ 'e', 't', 'a', 'o', 'h', 'n', 'i', 's', 'r', 'd', 'l', 'u', 'w', 'm', 'c', 'g', 'f', 'y', 'p', 'v', 'k', 'b', 'j', 'x', 'z', 'q']\n",
    "    key = {}\n",
    "    #distribute symbols by allocating more symbols to more common letters\n",
    "    for i in range(0,6):\n",
    "        x=random.sample(range(2,5), 1)[0]\n",
    "        ran_ind = random.sample(range(0, total-1), x)\n",
    "        letters_to_remove = []\n",
    "        symbols_for_key = []\n",
    "        for j in ran_ind:\n",
    "            symbols_for_key.append(symbols[j])\n",
    "            letters_to_remove.append(symbols[j])\n",
    "        for j in letters_to_remove:\n",
    "            symbols.remove(j)\n",
    "        key[alphabet[i]] = symbols_for_key\n",
    "        total-=x\n",
    "    for i in range(6,26):\n",
    "        x=random.sample(range(1,3), 1)[0]\n",
    "        if total <= 26-i+2:\n",
    "            x=1\n",
    "        ran_ind = random.sample(range(0, total), x)\n",
    "        letters_to_remove = []\n",
    "        symbols_for_key = []\n",
    "        for j in ran_ind:\n",
    "            symbols_for_key.append(symbols[j])\n",
    "            letters_to_remove.append(symbols[j])\n",
    "        for j in letters_to_remove:\n",
    "            symbols.remove(j)\n",
    "        total-=x\n",
    "        key[alphabet[i]] = symbols_for_key\n",
    "    if len(symbols)>0:\n",
    "        for i in symbols:\n",
    "            key['e'].append(i)\n",
    "    return key\n",
    "#output in form of {'e':['x','x'],...}"
   ]
  },
  {
   "cell_type": "markdown",
   "metadata": {},
   "source": [
    "## Simulated annealing "
   ]
  },
  {
   "cell_type": "code",
   "execution_count": 1,
   "metadata": {},
   "outputs": [],
   "source": [
    "def solve_homophonic_substitution_cipher(ciphertext, initial_temperature, cooling_rate,n_restarts, n_local,actual_text):\n",
    "    '''generate and score candidate solutions using simulated annealing'''\n",
    "    #initialise variables\n",
    "    n_explore = 0\n",
    "    n_iterations = 0\n",
    "    n_since_best = 0\n",
    "    n_abandon = 0\n",
    "    current_state = start(ciphertext)\n",
    "    current_score = score_final(current_state,ciphertext)\n",
    "    best_state = copy.deepcopy(current_state)\n",
    "    best_score = current_score\n",
    "    start_time = time.time()\n",
    "    actual_text = actual_text.upper()\n",
    "    solved  = False\n",
    "    for n_restart in range(0,n_restarts):\n",
    "        #check if solved function for later use\n",
    "        if is_it_solved(evaluate_pentagrams(best_state,ciphertext)[1],actual_text)==True or solved==True:\n",
    "            print('solved')\n",
    "            break   \n",
    "        current_state = start(ciphertext)\n",
    "        current_score = score_final(current_state,ciphertext)\n",
    "        #generate initial key candidate\n",
    "        temp = initial_temperature\n",
    "        temp_at_best = temp\n",
    "        while temp > 1:\n",
    "            if is_it_solved(evaluate_pentagrams(best_state,ciphertext)[1],actual_text)==True:\n",
    "                print('solved')\n",
    "                solved = True\n",
    "                break\n",
    "            # initialise local search\n",
    "            best_neighbour_state = copy.deepcopy(current_state)\n",
    "            best_neighbour_score = current_score\n",
    "            temporary =  copy.deepcopy(current_state)\n",
    "            # local search\n",
    "            local = False\n",
    "            for i in range(0,n_local):\n",
    "                n_iterations += 1\n",
    "                n_since_best += 1\n",
    "                temporary = copy.deepcopy(best_neighbour_state)\n",
    "                nearby_state = generate(temporary)\n",
    "                nearby_score = score_final(nearby_state,ciphertext)\n",
    "                if nearby_score > best_neighbour_score:\n",
    "                    #better step found during local search\n",
    "                    #take best local step\n",
    "                    local = True\n",
    "                    best_neighbour_state = copy.deepcopy(nearby_state)\n",
    "                    best_neighbour_score = nearby_score \n",
    "            if local == False and 0.93 < random.uniform(0.,1.):\n",
    "                #if no better step found near neighbourhood, but acceptance probability accepts it\n",
    "                print('accept worse solution')\n",
    "                n_explore += 1\n",
    "                #take a worse step\n",
    "                current_state = copy.deepcopy(nearby_state)\n",
    "                current_score = nearby_score\n",
    "            elif local==True:\n",
    "                #accept better solution found from local search\n",
    "                current_state = copy.deepcopy(best_neighbour_state)\n",
    "                current_score = best_neighbour_score\n",
    "                #update global best score\n",
    "                if best_neighbour_score > best_score:\n",
    "                    n_since_best = 0\n",
    "                    temp_at_best = temp\n",
    "                    best_state = copy.deepcopy(best_neighbour_state)\n",
    "                    best_score = best_neighbour_score\n",
    "            # Decrease temperature. \n",
    "            temp *= 1.0 - cooling_rate\n",
    "\n",
    "            if n_since_best > 20000:\n",
    "                print('repick starting point')\n",
    "                #no good solutions found for a while,restart\n",
    "                n_abandon += 1\n",
    "                temp_at_best = temp\n",
    "                current_state = start(ciphertext)\n",
    "                current_score = score_final(current_state,ciphertext)\n",
    "                n_since_best = 0\n",
    "\n",
    "            if n_iterations % 2000 == 0:\n",
    "                iter_per_sec = int(10000/(time.time() - start_time))\n",
    "                print(f'time elapsed = {time.time() - start_time}')\n",
    "                print(f'{iter_per_sec} iterations / sec')\n",
    "                print(f'temperature   = {temp:.2f}')\n",
    "                print(f'best_score    = {best_score:.6f}')\n",
    "                print(f'current_score = {current_score:.6f}')\n",
    "                print(f'n_iterations  = {n_iterations}')\n",
    "                print(f'n_restart     = {n_restart}')\n",
    "                print(f'n_backtracks  = {n_abandon}')\n",
    "                print(f'n_explore     = {n_explore}')\n",
    "                print(f'n_since_best  = {n_since_best}')\n",
    "                print(f'n_since_best  = {n_since_best}')\n",
    "                print('')\n",
    "                print(score_final(best_state,ciphertext))\n",
    "                print('')\n",
    "                print(evaluate_pentagrams(best_state,ciphertext)[1])\n",
    "                print('')\n",
    "                start_time = time.time()\n",
    "        print('repick starting point')\n",
    "    \n",
    "    return [evaluate_pentagrams(best_state,ciphertext)[1],n_iterations]"
   ]
  },
  {
   "cell_type": "code",
   "execution_count": 16,
   "metadata": {},
   "outputs": [],
   "source": [
    "z340 = 'H+M8|CV@KEB+*5k.LdR(UVFFz9<>#Z3P>L(MpOGp+2|G+l%WO&D#2b^D(+4(5J+VW)+kp+fZPYLR/8KjRk.#K_Rq#2|<z29^%OF1*HSMF;+BLKJp+l2_cTfBpzOUNyG)y7t-cYA2N:^j*Xz6dpclddG+4'"
   ]
  },
  {
   "cell_type": "code",
   "execution_count": null,
   "metadata": {
    "scrolled": true
   },
   "outputs": [],
   "source": [
    "#testing this solver on the first few lines of the Z340 cipher\n",
    "solve_homophonic_substitution_cipher(z340, 1e3, 0.001, 4, 50,z340)\n",
    "#final state: 'DAYHOPECONSAREDUPMETWELLSOFINDSHIPTYEAREATORAISLAMONTKNOTAFTERAELMADEANDHOPESHOPEDUNOTEINTOFSTONSALARDLYLEASPOREAITTHENSESAWHERMENOTHOUTHINPRISOMEHIMMRAF'"
   ]
  },
  {
   "cell_type": "code",
   "execution_count": 2,
   "metadata": {},
   "outputs": [],
   "source": [
    "def score_final(key,ciphertext):\n",
    "    '''final score of ciphertext is the first element of the function evaluate_pentagrams'''\n",
    "    return evaluate_pentagrams(key,ciphertext)[0]"
   ]
  },
  {
   "cell_type": "code",
   "execution_count": 18,
   "metadata": {},
   "outputs": [],
   "source": [
    "def score_zodiac_like_words(plaintext):\n",
    "    '''gives additional points to candidate plaintext containning words that are likely to appear in the plaintext'''\n",
    "    #below is a sample for words likely to appear in the Zodiac ciphers\n",
    "    D = {'ME':4,'NOT':6,'KILLING':5,'KILL':7,'ZODIAC':10}\n",
    "    score = 0\n",
    "    for i in D:\n",
    "        score = score + D[i]*plaintext.count(i)\n",
    "    return score"
   ]
  },
  {
   "cell_type": "code",
   "execution_count": 19,
   "metadata": {},
   "outputs": [],
   "source": [
    "import matplotlib.pyplot as plt\n",
    "#Z340 cipher\n",
    "Z340 =  \"HER>pl^VPk|1LTG2dNp+B(#O%DWY.<*Kf)By:cM+UZGW()L#zHJSpp7^l8*V3pO++RK2_9M+ztjd|5FP+&4k/p8R^FlO-*dCkF>2D(#5+Kq%;2UcXGV.zL|(G2Jfj#O+_NYz+@L9d<M+b+ZR2FBcyA64K-zlUV+^J+Op7<FBy-U+R/5tE|DYBpbTMKO2<clRJ|*5T4M.+&BFz69Sy#+N|5FBc(;8RlGFN^f524b.cV4t++yBX1*:49CE>VUZ5-+|c.3zBK(Op^.fMqG2RcT+L16C<+FlWB|)L++)WCzWcPOSHT/()p|FkdW<7tB_YOB*-Cc>MDHNpkSzZO8A|K;+\""
   ]
  },
  {
   "cell_type": "code",
   "execution_count": 20,
   "metadata": {},
   "outputs": [],
   "source": [
    "def generate_misspells(no_mis,plaintext,cipher):\n",
    "    '''create different number of random misspells in cipher'''\n",
    "    plaintext = list(plaintext)\n",
    "    cipher = list(cipher)\n",
    "    for i in range(0,no_mis):\n",
    "        num1 = random.randint(0, len(plaintext)-6)\n",
    "        num2 = random.randint(1,5)\n",
    "        #swap letters in positions num1 and num2 to create misspells\n",
    "        plaintext[num1],plaintext[num1+num2]=plaintext[num1+num2],plaintext[num1]\n",
    "        cipher[num1],cipher[num1+num2]=cipher[num1+num2],cipher[num1]\n",
    "    plaintext = ''.join(plaintext)\n",
    "    cipher = ''.join(cipher)\n",
    "    return plaintext,cipher\n",
    "    "
   ]
  },
  {
   "cell_type": "code",
   "execution_count": 52,
   "metadata": {},
   "outputs": [
    {
     "data": {
      "text/plain": [
       "('FORCENTURIESKINGSQUEENSANDGENERALSHAVERELIEDONEFFICIENTCOMMUNICATIONINORDERTOGOVERNTHEIRCOUNTRIESANDCOMMANDTHEIRARMIESATTHESAMETIMETHEYHAVEALLBEENAWAREOFTHECONSEQUENCESOFTHEIRMESSAGESFALLINGINTOTHEWRONGHANDSREVEALINGPRECIOUSSECRETSTORIVALNATIONSANDBETRAYINGVITALINFORMATIONTOOPPOSINGFORCESITWASTHETHREATOFENEMYINTERCEPTIONTHATMOTIVATEDTHEDEVELOPMENTOFCODESANDCIPHERSTECHNIQUESFORDISGUISINGAMESSAGESOTHATONLYTHEINTENDEDRECIPIENTCANREADITTHEDESIREFORSECRECYHASMEANTTHATNATIONSHAVEOPERATEDCODEMAKINGDEPARTMENTSWHICHWERERESPONSIBLEFORENSURINGTHESECURITYOFCOMMUNICATIONSBYINVENTINGANDIMPLEMENTINGTHEBESTPOSSIBLECODESATTHESAMETIMEENEMYCODEBREAKERSHAVEATTEMPTEDTOBREAKTHESECODESANDSTEALSECRETSCODEBREAKERSARELINGUISTICALCHEMISTSAMYSTICALTRIBEATTEMPTINGTOCONJURESENSIBLEWORDSOUTOFMEANINGLESSSYMBOTSLHEHISTORYOFCODESANDCIPHERSISTHESTORYOFTHECENTURIESOLDBATTLEBETWEENCODEMAKERSANDCODEBREAKERSANINTELLECTUALARMSRACETHATHASHADADRAMATICIMPACTONTHECOURSEOFHISTORYINWRITINGTHECODEBOOKIHAVEHADTWOMAINOBJECTIVESTHEFIRSTISTOCHARTTHEEVOLUTIONOFCODESEVOLUTIONISAWHOLLYAPPROPRIATETERMBECAUSETHEDEVELOPMENTOFCODESCANBEVIEWEDASANEVOLUTIONARYSTRUGGLEACODEISCONSTANTLYUNDERATTACKFROMCODEBREAKERSWHENTHECODEBREAKERSHAVEDEVELOPEDANEWWEAPONTHATREVEALSACODESWEAKNESSTHENTHECODEISNOLONGERUSEFULHTEITIERBECOMESEXTINCTORITEVOLVESINTOANEWSTRONGERCODEINTURNTHISNEWCODETHRIVESONLYUNTILTHECODEBREAKERSIDENTIFYITSWEAKNESSANDSOONTHISISSIMILARTOTHESITUATIONFACINGFOREXAMPLEASTRAINOFINFECTIOUSBACTERIATHEBACTERIALIVETHRIVEANDSURVIVEUNTILDOCTORSDISCOVERANANTIBIOTICTHATEXPOSESAWEAKNESSINTHEBACTERIAANDKILLSTHEMTHEBACTERIAAREFORCEDTOEVOLVEANDOUTWITTHEANTIBIOTICANDIFSUCCESSFULTHEYWILLTHRIVEONCEAGAINANDREESTABLISHTHEMSELVES',\n",
       " 'jlDMi$<bDc.xXw$zxgbii$xE$kSi$WD!Rx%!IWDfRcfql$.OOc@ca$<Ml^^b$c@V<wl$?$lDCWD<lSlIWD$<PiwD@lb$<DcWx*$T@l^^V$q<Pf?DAD^wax~<<PixA^a<?^i<P.U%HIi!RRmrW$Av~DalF<PaZl$xWgb.$naxlO<%rcD^WxxVzixj*RR?$Sw$<l<P.vDl$S%E$TxDiIiKRw$SuDWM?lbxxaMDf<x<lDwI*R$H<?l$xV$kJW<DKU?$zIc<ER?$FlD^~<wl$<lluulxw$zjlDYWxc<v*x<PW<PDWA<lja$i^Uc$<aDMWu<?l$<%K<^l<wI~<iL<%fk.IiRlu^.$<ljMl&.x~$CYcuPWDx<a@P$?gbWxjlDkcxSb?x?$SK^axxASWxl<%K<l$RU<Pf?$<r$LiGDanwu?r$<nE$DaKqc<<PaTWx?DijlDxrZDWZUPKx^r!$<<PH<$E<cl$x%HIfluiDK<aL@lLa^AX?$zT.u~D<^f$<xv%?Y%vfDfD.xul$x?yRWFlDa$xbDc$z<PfxfZbDw<Uljnl^^b$wME<?l$xNUc$If$<w$SA$qw^uRf^.$<?$S<PWhWx<ulxxcmR.nlCix*<<%ix!^r<?^ri$i^U@lCamDf~XaDxPVI.K<<W^u<rG<lNDaVX<PfxrZlTrxA$Lx<r~RxanDr<xMlqWeDiEX.Dx!D.R?$Sb?x<c@*RnPf^wx<xV^Ux<?M~R<DwN.K<<f^u<w$S<l@l$obDrxf$xwJRrvlDCxlb<lF^i*$c$SRrxxxU^Jl<xRPWPcx<lDUlOZlq.xV$BY?uPiDxwx<P.x<lDUlj<PrMa$<bDwrxlR&eK<<RWma<v.i$Yl&.^!X.DxK$TZlCfhDWHXrDxA$w$<.RRin<bARHD^xD*@a<%E<PAx%K&*CDH^A<?Z?^uHM<l$<%WZlbDxflO%wx<lDUc$vD?<c$S<P.YlTryllXcP*IWPAT<vl^V?$lmpWY<?Irx<P.O?Dx<?x<lMPAD<<%r.IlRb<?l$lFZlGaxWIlRb<wl$wxAv%lRRU~uuDluD?E<r<WD^Ji@Vbxf<PikrI.Rlu^r$<lO@lBaxZ*$hfI?ivfC~x~$iIlRb<?l$~DUx<DbzSRiH@lGicxYl$x<K$<RUb$&.D!<<*@XjDl^Ylk.hDaAX.DxvPi$<Pr@l&imDWAXfDx%AIakWIaRluaq!$.vv.Kul$<%H<DiIWKRx~YlBWxvW!X$.xx<Pr$<%rMlqWwx$lRl$ziDbxiFbRP<a?<cWDh.Zl^fxas<c$@<lDc<fIlRI.xc$<lH$ivx<Dl$SiDnlTfc$<bD$<%wx$ivYlka<PDcIfxl$RUb$<wR<PrMlqamDW*XiDx?Ci$<cjU?<xv.KX$.xx*$Gxll$<Pcxwxxc^?RED<l<PWxw<b!<?l$F!nc$zOlDWs*^uR.Kx<D~w$lF?$jan<?lbxyHn<aDw*<%iNEM<fDcHRcIf<PD?IrE$TxbDIcIfb$<?RBln<lDxCcxZlIiDA$V$<wJ?l<cZ<PK<WsulxrxHvi*X$.xxw$<PahK@<rDw*E$CXcRRx<Pr^<PWm!n<iDwH~DWjlDMrB<liIlRIi*$Glb<v?<<%.V$<chwl<wY*$TwjxbMYaxxObR<PiUvcRR<PDwI.l$M.KzA?$!$CDrix<*tR?xP<%a^xrRIWx')"
      ]
     },
     "execution_count": 52,
     "metadata": {},
     "output_type": "execute_result"
    }
   ],
   "source": [
    "#generate 3 misspells in the cipher\n",
    "generate_misspells(3,singh_codebook_plaintext,cipher_trial_2)"
   ]
  },
  {
   "cell_type": "code",
   "execution_count": 21,
   "metadata": {},
   "outputs": [],
   "source": [
    "def test_misspells(plaintext,cipher,no_misspells):\n",
    "    '''test generate_misspells function with a different numbers of misspells in the cipher, also graphs no. iterations to solvle cipher vs no. misspells'''\n",
    "    no_mis = no_misspells\n",
    "    x=[no_mis]\n",
    "    y=[]\n",
    "    while no_mis<=50:\n",
    "        new = generate_misspells(no_mis,plaintext,cipher)\n",
    "        solved = solve_homophonic_substitution_cipher(new[1],1e3,0.001,10,50,new[0])\n",
    "        print(solved)\n",
    "        #stops the cipher solver when the cipher is 'solved' (if accuracy of ciphertext is above 75%)\n",
    "        if is_it_solved(solved[0],new[0])==True:\n",
    "            y.append(solved[1])\n",
    "        else:\n",
    "            y.append(False)\n",
    "            break\n",
    "        no_mis+=5\n",
    "        x.append(no_mis)\n",
    "    return x,y"
   ]
  },
  {
   "cell_type": "code",
   "execution_count": null,
   "metadata": {
    "scrolled": true
   },
   "outputs": [],
   "source": [
    "test_misspells(singh_codebook_plaintext,cipher_trial_2,0)"
   ]
  },
  {
   "cell_type": "code",
   "execution_count": 23,
   "metadata": {},
   "outputs": [],
   "source": [
    "def is_it_solved(solved_plaintext,plaintext):\n",
    "    '''check if the solver solves the cipher by comparing it to the plaintext solution'''\n",
    "    total = len(plaintext)\n",
    "    same = 0\n",
    "    #check if each letter maatch\n",
    "    #solved if accuracy above 75%\n",
    "    for i in range(0,len(plaintext)):\n",
    "        if solved_plaintext[i]==plaintext[i]:\n",
    "            same += 1\n",
    "    score = (same/total)*100\n",
    "    if score >= 75:\n",
    "        return True\n",
    "    else:\n",
    "        return False"
   ]
  },
  {
   "cell_type": "code",
   "execution_count": 36,
   "metadata": {},
   "outputs": [],
   "source": [
    "#dictionary of plaintext and ciphertext of different length generated from the homophonic substitution cipher generator\n",
    "D={300: ['forcenturieskingsqueensandgeneralshavereliedonefficientcommunicationinordertogoverntheircountriesandcommandtheirarmiesatthesametimetheyhaveallbeenawareoftheconsequencesoftheirmessagesfallingintothewronghandsrevealingprecioussecretstorivalnationsandbetrayingvitalinformationtoopposingforcesitwasthethr', 'k@Tif<PXT?nhK?<whxXAE<hu<.wf<ETjchD$dETfc*EH@<nzg*S*n<PI@WWX<VCUP*@<*<@T.QTP@w@dnT<PynVTS@X<PT?QhO<Yi@WW&<.PyE?TtTWVEhuPPDQhFWEP*WEPyfBDjdnOcc!Qn<tL&TE@gPDQi@<hExXn<Ifh@kPyA?TWnhhuwQhJuccV<Z*<P@PsALT@<ZsO<HhTEdnNc*<ZRTAiV@XhhniTAPhP@TVduc<$P*@<hO<H%APTUB?<wd*PtcV<o@TWuP*@<P@@RR@hV<wa@TCfhVPLFhPsnPsT'], 350: ['forcenturieskingsqueensandgeneralshavereliedonefficientcommunicationinordertogoverntheircountriesandcommandtheirarmiesatthesametimetheyhaveallbeenawareoftheconsequencesoftheirmessagesfallingintothewronghandsrevealingprecioussecretstorivalnationsandbetrayingvitalinformationtoopposingforcesitwasthethreatofenemyinterceptionthatmotivatedthedevelopmento', 'OuGJKL^aG!KlAUiRlgajxLl.ifXKLxGv*lyEW?GK*!Kf<Ljstbw!ji^zuIYai!JM^U<LUiuGfxG^uRuWxGL^yjbGp<aL^Gb?lML&q<YZQLV^yjbGvGZbKl%^^yjlQYj^UYK^yKmy.WKN**CKKLMovG?us^y?~uilKga?in?lus^y?UGYKlldRKltv**!iX!i^<^yKoG<LeyTL&lGKWK%*UiR@Gx~!uallj~GK^l^uGUW%*LM^b<Ll%iVhK^GNm!iRWU^E*!i$<GZv^U<L^uu@@<l!Le$<GpKlb^oMl^FK^yGjd^<$KixImbL^?Gp?@^!ui^FT^Y<^!WT^x&^y?VxWx*u@ZKL^<'], 400: ['forcenturieskingsqueensandgeneralshavereliedonefficientcommunicationinordertogoverntheircountriesandcommandtheirarmiesatthesametimetheyhaveallbeenawareoftheconsequencesoftheirmessagesfallingintothewronghandsrevealingprecioussecretstorivalnationsandbetrayingvitalinformationtoopposingforcesitwasthethreatofenemyinterceptionthatmotivatedthedevelopmentofcodesandcipherstechniquesfordisguisingamessagesot', 'pvQ!lTf<QVAOBVTkOc<AATOGTLklTAQCXO@rPAQzgVHUvTzmNV^VATf!v~~<TVqCfVvTWTvQoHQfvkvPAQTfMlWQjv<TfQWHOCTw*v~~rTUf@HWQrQ~VAO?ff@lO?~zfW~HfMAi@aPAr&gRAlTGuaQHvmfMA*vTOlc<ATjAOvFfMHWQ~zOOrklOsCggVTkVTfvfMAuQvTkMrTLOQlPA?gVTkDQHEWv<OOA!QzfOfvQVP?gTrfVvTOCT%yAfQCiWTkPWf?&VTmvQ~rfVvTfvvDDvOVTkpvQEzOVfuGOf@AfMQzrfvslTH~iVTfzQ*zDfVvTfM?f~vfWPCfALfMAwAPAXvD~ATfvNjvolOGTwEWD@HQOfHnMTWc<HOsvQoVOk<VOWTkG~HOOCklOvf'], 450: ['forcenturieskingsqueensandgeneralshavereliedonefficientcommunicationinordertogoverntheircountriesandcommandtheirarmiesatthesametimetheyhaveallbeenawareoftheconsequencesoftheirmessagesfallingintothewronghandsrevealingprecioussecretstorivalnationsandbetrayingvitalinformationtoopposingforcesitwasthethreatofenemyinterceptionthatmotivatedthedevelopmentofcodesandcipherstechniquesfordisguisingamessagesothatonlytheintendedrecipientcanreaditthedesireforse', 'LuNVwqRSNYZbrkqlbaSwZqb.qtlGqGNsUbcB^ZNzUkg$uqGLpkHkZqRHuQQSqkFsRkuqkquN$gNRulu^ANqRhwYN@uSqRNkyb.qdVuQQ~qJRcyYN.NQYgb~RRcGbWQZRkQzRcZChs^y~UUOzAqsiWNAuLRczDuqbzaSAqFzbumRhzYNQzbbWlgbL~UUYqlkqRuRhZiNuqlPWqdbNA^zBUkql?NzoYuSbbyDNzRbRuNk^MUqMRkuqbBqdTzRNMCkql^YRsUYqpuNQ&RYuqRuu??ubYqlLuNVZbYRi~bRPARhNgWRuLzqGQCkqRzNoy?RYuqRh&RQuRk^MRw$RhA$Z^yUu?QzqRum@uJwbMqjHY?hgNbRGDcqkaSzbpuNtYblSYbkqlMQzbbslGbuRPsRuqUCRczkqRgqJZjNwVY?kGqRVBqNz.JkRRhAjybYNgmuNbg'], 500: ['forcenturieskingsqueensandgeneralshavereliedonefficientcommunicationinordertogoverntheircountriesandcommandtheirarmiesatthesametimetheyhaveallbeenawareoftheconsequencesoftheirmessagesfallingintothewronghandsrevealingprecioussecretstorivalnationsandbetrayingvitalinformationtoopposingforcesitwasthethreatofenemyinterceptionthatmotivatedthedevelopmentofcodesandcipherstechniquesfordisguisingamessagesothatonlytheintendedrecipientcanreaditthedesireforsecrecyhasmeantthatnationshaveoperatedcodemakingdepa', 'y<xtwDAGxNnjbNDOjdGhpDjfDXOpDZx.%j?B~hxr%NpX<DZT&NuNrDAt<RRGDNMKAN<DND<xXnxA<O<~pxDA?hNxv<GDAxNZj.Dgv<RRkDXACZNxsxRNpjkAA?rjkRpANRwA?rF?Q~wf%%InhDKaHxr<SACZW<DjZdGZDtrj<EACpNxRnjj!OnjEf%%NDmNDA<A?Zax<DO?.D$jxr~nf%NDm@xpcN<GjjwuxrAjA<xN~f%DQAN<DjHDULZAxkFNDO~NA!%NDz<xRfAN<DA<<@@<jNDOS<xchjNAaQjAqhAqxw!A<EnDZRFNDAwxuh@AN<DA?KAR<AN~.ApUAqhXZ~p%<@RnDA<PW<Unj.D$tN@qpxjAwMqDNdGZjS<xXNjmGNjNDm.RhjjfOZj<AC.A<D%FAqpNDAwDgrXxpcN@NhDAt.DxZQgNAAqrgrjNxn&<xjrWxpMFqkjRZKDAACkAD!AN<DjCB~r<@nx.Ar$u<gpRBbNDmXh@s'], 550: ['forcenturieskingsqueensandgeneralshavereliedonefficientcommunicationinordertogoverntheircountriesandcommandtheirarmiesatthesametimetheyhaveallbeenawareoftheconsequencesoftheirmessagesfallingintothewronghandsrevealingprecioussecretstorivalnationsandbetrayingvitalinformationtoopposingforcesitwasthethreatofenemyinterceptionthatmotivatedthedevelopmentofcodesandcipherstechniquesfordisguisingamessagesothatonlytheintendedrecipientcanreaditthedesireforsecrecyhasmeantthatnationshaveoperatedcodemakingdepartmentswhichwereresponsibleforensuringthesecurityo', 'gMc$lj&tcZwzhZjozmtvrjzejfoKjvcVqzieOvcRqZwxMjKpkZUZwj&$MDDtjZ$u&ZMjZjMcxwc&MoMOrcj&iKZc$Mtj&cZvzCjsbMDDujx&iIZcCcDZyzP&&irzuDr&ZDr&iv<iPOKeqqTwljLQecvMd&irNMjzvmtljUwzMG&iKZcDvzzaorzBVqqZjoZj&M&ivQcMjoi%jfzcwOI*qZjoXcIbZMtzzrUcR&z&McZOuqjV&ZMjzPjfTl&cL<ZjoOZ&VqZjBMcDC&ZMj&MMXXMzZjogMcbvzZ&Q%z&il&icKu&MdRjyD<Zj&KcnKX&ZMj&i*&DM&ZOL&vf&iRfvOvqMXDyj&MG$MfIzVj^WZXiycz&rAijZmtwzGMcfZzotZzZjoeDKzz*oKzM&iV&Mjq<&iRZj&ljfIscvYZXZrj&$ejcIe^Z&&iKxRzZcIpMczlNcvn<iuzDIPj&&iL&jV&ZMjzieOwMXrcu&rx$MsyDLhZjoxRX*c&Dyj&zQiZUiQrcycRzXMjzZTqrgMcyjztcZjo&ivzlWtcZ&<M'], 600: ['forcenturieskingsqueensandgeneralshavereliedonefficientcommunicationinordertogoverntheircountriesandcommandtheirarmiesatthesametimetheyhaveallbeenawareoftheconsequencesoftheirmessagesfallingintothewronghandsrevealingprecioussecretstorivalnationsandbetrayingvitalinformationtoopposingforcesitwasthethreatofenemyinterceptionthatmotivatedthedevelopmentofcodesandcipherstechniquesfordisguisingamessagesothatonlytheintendedrecipientcanreaditthedesireforsecrecyhasmeantthatnationshaveoperatedcodemakingdepartmentswhichwereresponsibleforensuringthesecurityofcommunicationsbyinventingandimplementingthebestpo', 'luhOm<HDhCR!a.<y!fDms<!V<Gyb<qhz@!wV$Rhm@CmYu<sQQEOEq<HPTgUD<EZVHCx<C<xh^bhHxyu$qh<HrbEhJTD<Hh.b!B<^OugLF<GHcm.hFhL.s!KHHws!VgbH.LbHwqvcV$bF@@dmb<kpShmTlHrRPu<!sfDq<Ob!ueHwb.hLm!!kyR!AS@@C<y.<HxHrbphT<yrS<G!hs$RS@.<ythmJ.uD!!mJhbH!Hxh.$B@<FH.u<!F<nNRHhzvE<y$.HK@E<luhgBHCT<HuuttT!.<y~ThOb!CHpF!HcmHchsKHueb<bUvE<HshPqtHET<HwFHUuHE$KHmGHrsYs$q@TtLb<HT~*uGb!B<^*.tcbh!HqOr<CfDq!AuhG.!yDE!E<yBLm!!zys!THcBHu<@vHrm.<Hs<nbnhqOEtEb<HJF<hszG.HHcq^m!Ehq~uh!bOhq*vrk!Uqz<HHrzH<KHEx<!wV$sutqhkHsnJTGbLKa.<y^qtkhHLs<H!prCJrpshqhb!tx<!.o@mlxhR<!DhC<yHrq!m*Dh.Hvx~JxULD<.PSH.x<!XvE<$R<HE<yV<GCLt@mgs<H.<yHrRNb!HtT'], 650: ['forcenturieskingsqueensandgeneralshavereliedonefficientcommunicationinordertogoverntheircountriesandcommandtheirarmiesatthesametimetheyhaveallbeenawareoftheconsequencesoftheirmessagesfallingintothewronghandsrevealingprecioussecretstorivalnationsandbetrayingvitalinformationtoopposingforcesitwasthethreatofenemyinterceptionthatmotivatedthedevelopmentofcodesandcipherstechniquesfordisguisingamessagesothatonlytheintendedrecipientcanreaditthedesireforsecrecyhasmeantthatnationshaveoperatedcodemakingdepartmentswhichwereresponsibleforensuringthesecurityofcommunicationsbyinventingandimplementingthebestpossiblecodesatthesametimeenemycodebreakershaveattem', 'BShonRswhgnqFg@%NMwVn@N*RX%nRnPmKN<mErArKgVj$@.W^&D&.@sD$TTw@xoGs&$RgR$PX.AsS%$YVPRs<rghoSw@pPxrqG@XDS?TURzp<.ghUhT&VdUsp<nq*?nsgvrp<.~<*kVGKKyVnRmCmPVSBp<Va$Rqncw.@o.d$Bp<nxhTrqNGbVq^*KKx@bxRsSs<VCPSR%<URzqPrkVmKx@%JPrax$wNdnohrpdpSA&kGK@*pg$RNm@zeVpAUfxR%k&sGKg@HSATGsg$RpS$Ji$d&@bHShorqgsCGqs<rp<hrUs$Hn@Vv~x@pVADrJp&$Rp<*pTSpxE*sVZp<rj.YnK$Jvn@s$^a$urN*@zoxi<VhNpro<RxMwVNH$huxq%wxd&@bmTVqdG%.N$s<GpSRK~s<.x@sVRjrzA.ogJ&VRpaU@ArUX&sp<.znNxAV^ShNVahVo!<Uqv.m@sp<*p@UpgS@d<*Yr$i.AmsrZD$u.v*Fx@bj.JUAsvVRpqC<xo<CrPnhVqi$Rd&yKnB$Ar@qwAg@%s<VdnawAxp!S^D$??w@go*sg$RdyfgRYnRs&RbG@XgTiKrvVRpx@bs<VyrqsiSqdxeKno$XrNmps<ndm?VpxT.nR.T~oSXrQPn*FnPq<*Y.mss.T'], 700: ['forcenturieskingsqueensandgeneralshavereliedonefficientcommunicationinordertogoverntheircountriesandcommandtheirarmiesatthesametimetheyhaveallbeenawareoftheconsequencesoftheirmessagesfallingintothewronghandsrevealingprecioussecretstorivalnationsandbetrayingvitalinformationtoopposingforcesitwasthethreatofenemyinterceptionthatmotivatedthedevelopmentofcodesandcipherstechniquesfordisguisingamessagesothatonlytheintendedrecipientcanreaditthedesireforsecrecyhasmeantthatnationshaveoperatedcodemakingdepartmentswhichwereresponsibleforensuringthesecurityofcommunicationsbyinventingandimplementingthebestpossiblecodesatthesametimeenemycodebreakershaveattemptedtobreakthesecodesandstealsecretscodebreakersar', 'SiPHmdcpP~T?ZGd<R&pkTlxJdb<kdkPJIRLKD^PTgGm$idmVV~j~klcHiWypl~HXcGid~diPAkPciUiD^PlcLTGPjipdcPGTRfluHiyyYlbcLmGPCPyGTxqccLTxYykcGy^cLmoLqDTqggB^TdKOXPTiVcL^vid?T&pTdj^?i%cLTGPWTxRC<k?%YggGlU~lcicL^OPilULqd$xP^D^Jn~lUzPkj~ipRRkHPTcxciP~DfIdKc~ilRFl$!^cPYo~lUD~cJg~dSiPyqc~ilciiEEix~d<SiPvTx~cOh?cLTcLPkJciV^l^yoGdc^PHkzcGilcLJcyicGDKckbcLk@TDTIiEymlci%ji$k?Xd@j~zLmP?cTHLd~&pm?%iP$~xUpGx~l<Yy^xxC<m?icLCcilgocLT~lckla^uPmj~zGklcHClPkCA~ccLkAkR~PkSiPRkjPmvoLCxWTFlccLqcltcGidxLJDkiMkPXcm$vibmyXZ~dU@kzCPcQkdc?OL~HLO^P^Pm?zilx~BIk%iP^dxpPGd<cLm?^jpPGcoi%HiQypd~vKc~idxBoGdDTlcGd<Kdb~yzn^Q^dc~lUcL^BmRcEixRG!g^HiA^RXccLTRfQmc~ykkdTyovibTePmqZTPxLYDkKcckQEc^$ci!PTY*cL^xkHibTxXd@xcTJn?mjP^cxHia^BP^FZkPxhP'], 750: ['forcenturieskingsqueensandgeneralshavereliedonefficientcommunicationinordertogoverntheircountriesandcommandtheirarmiesatthesametimetheyhaveallbeenawareoftheconsequencesoftheirmessagesfallingintothewronghandsrevealingprecioussecretstorivalnationsandbetrayingvitalinformationtoopposingforcesitwasthethreatofenemyinterceptionthatmotivatedthedevelopmentofcodesandcipherstechniquesfordisguisingamessagesothatonlytheintendedrecipientcanreaditthedesireforsecrecyhasmeantthatnationshaveoperatedcodemakingdepartmentswhichwereresponsibleforensuringthesecurityofcommunicationsbyinventingandimplementingthebestpossiblecodesatthesametimeenemycodebreakershaveattemptedtobreakthesecodesandstealsecretscodebreakersarelinguisticalchemistsamysticaltribeattemptingtocon', '~wrAE<tOr*RZs*<@ZWOFg<Z!<V@g<Rr!qZJjfFryqdgHw<g&~dvde<towCCO<dv%t*w<*<wrVFrtw@wfBr<tJF*rowO<trpgZj<aowCC$<LtnF*r!rC*RZ%ttnNZ$CBtpCetJNDJ%fy%qqPyE<jz$rgw~tJFow<ZEWOy<GBZwMtJydrCRZZl@FZQ$qqd<@d<twtJRzrw<@n$<KZrNfE$qp<@^ryTdwOZZyArNtZtwrpf!q<$t*w<Zm<LcRtr!D*<@fdt$q*<MwrC$tdw<tww^^wZ*<@.wrhRZdtzjZtJytJrB%twQe<ECD*<tgriF^tpw<tnjtCwtdfltgKtkeLNfyqw^CE<tw&vwKyZ%<Ko*^kBrZtBAJ<pWOEZ.wrLdZ@OpZp<@lCgZZ$@yZwtkjtw<qDtne*<tE<LNVryG*^dR<ti%<ry%X*ttJyaEZdrFQwrZEhreADJ!ZCFj<ttn!t<jtpw<ZJbfBw^yrmtFHhwHBC!s*<@XB^jrtCN<tZzJ*inzerNrNZ^w<ZdcqE.wrR<ZOrd<@tneZBAOrptDw.AwCCO<dolt*w<ZPDd<fe<t*<@!<adC^qFCy<tp<@tJFuFZt^wZZd?qBhwXEZ$ttJNZmCNtdCRE<yCDiwVe?ry%syrZJmfE$tteC^tgKtwYryjstJNZEiwHBZ!<aZtNlqZFArgtZGwKE?rglsNrZbrRqd<@O*Zt*o%qvJNC*ZtZ%CDZt*T%qtrpcylttNC^tp<@twTw<'], 800: ['forcenturieskingsqueensandgeneralshavereliedonefficientcommunicationinordertogoverntheircountriesandcommandtheirarmiesatthesametimetheyhaveallbeenawareoftheconsequencesoftheirmessagesfallingintothewronghandsrevealingprecioussecretstorivalnationsandbetrayingvitalinformationtoopposingforcesitwasthethreatofenemyinterceptionthatmotivatedthedevelopmentofcodesandcipherstechniquesfordisguisingamessagesothatonlytheintendedrecipientcanreaditthedesireforsecrecyhasmeantthatnationshaveoperatedcodemakingdepartmentswhichwereresponsibleforensuringthesecurityofcommunicationsbyinventingandimplementingthebestpossiblecodesatthesametimeenemycodebreakershaveattemptedtobreakthesecodesandstealsecretscodebreakersarelinguisticalchemistsamysticaltribeattemptingtoconjuresensiblewordsoutofmeaninglesssymbolsthehistory', 'SauOKwWmuYDl^!wVlZmKDwl?wnVDwIucglNcrIuDgYKbawKRS!p!DwWOajjmwYpfW!aw!wauiDuWaVarIuwW@D!uOamwWu!Dlcwb%ajjCwnWNK!uCuj!KlfWW@IlEjDW!jDWqDU@frKCggoIDw*z?uKaSWqIhawlKZmIwyKlaSW@KYujKll*VIl.*gg!wVYwWaW@KzuawVqCwbluKrIfg!wV<uKpYamllDXuKWlWauYr?gw?WYawlcwi~IWuEUYwVr!WCgYwJaujsW!awWaa<<alYwVGauhKlYWz*lWqKW@uKEWaQKwDjUYwWIuFD<W!awWNsWjaWYrsWIPWqKkIrIga<jIwWa.haBIlcwnFY<NIulWK%NwYZmIlJauP!lVmYlYwVEjDllcVIlaW@CWawgUWNIYwWDwADPuDOY<!DwW%cwuDCk!WWNDkDlYuKJaulDhuD%UNEljKfwWWNcWwfWYawl@ErIa<Ku?WKPXaBKj?^YwVBI<CuWjIwWlz@!FqzIuKuDl<awl!HgKRauKwlmuYwVWqDlIFmu!WUaRFajjmwYFCW!awl~U!wrDwW!wVswiYj<gDjKwWYwVW@KHKlW<all!TgKhaPKlsWW@Il?jKW!jKDwDjU%akITuKs^Dul@?rDCWWKj<WDnWaTuDE^WqDlIXakDlCwPlWIsglKFuKWlhakD&uKf^KulcuIg!wVmYlWYOEghNIjYlWl*jUlW!yCgWuYoI*WWKj<W!wVWa%awtmuIlIwlYTgKzaunlamWaJjKfwYwVgIlllUjoaglWqDN!lWauU'], 850: ['forcenturieskingsqueensandgeneralshavereliedonefficientcommunicationinordertogoverntheircountriesandcommandtheirarmiesatthesametimetheyhaveallbeenawareoftheconsequencesoftheirmessagesfallingintothewronghandsrevealingprecioussecretstorivalnationsandbetrayingvitalinformationtoopposingforcesitwasthethreatofenemyinterceptionthatmotivatedthedevelopmentofcodesandcipherstechniquesfordisguisingamessagesothatonlytheintendedrecipientcanreaditthedesireforsecrecyhasmeantthatnationshaveoperatedcodemakingdepartmentswhichwereresponsibleforensuringthesecurityofcommunicationsbyinventingandimplementingthebestpossiblecodesatthesametimeenemycodebreakershaveattemptedtobreakthesecodesandstealsecretscodebreakersarelinguisticalchemistsamysticaltribeattemptingtoconjuresensiblewordsoutofmeaninglesssymbolsthehistoryofcodesandciphersisthestoryofthecenturiesoldbattle', 'WZtYKBwMt&q<x&Q!<UMulF<NFAOSFqsd@<GdVKtk@&knZBqar&D&lFweZyyMQ&eHw&ZQ&BZtnqswZ$ZVSsFwRl&teZMFws&u<HFAeZyygFJwRK&s^ty&q<HwwGl<dyuw&yKwRkCGdVK^@@XkuQdvfsSZ*wGqYZQ<uUMuQDl<ZpwGu&syS<<g!l<*H@@&FO&FwZwRlvsZQ!GfB~<tqVSg@&F$itKe&ZM<<ketqw<wZs&VN@Bjw&ZF<HBAXkwsdC&B!V&wj@&BWZsyjw&ZQwZZiiZ<&B$*Ztek<&wvf<wGqwRtldwZrlQlyC&Bwuseliw&ZQwGdwyZw&VHwKnwGqnuVq@ZiykBwZpeZJq<dFJe&iRKs<wleRF&UMk<*Zsn&<!M&<&FOfyu<<d!u<ZwRHwZQ@CwRk&BwKFnuJslY&i&uQwDdQsugJ&wwRunS<&tlWZs<letSeCGH<yKHFwwGjwFHw&ZB<RNVkZiltdwkIDZhuyfm&FOJSiNswykBw<vR&DRvqsSsK<iZQ<&.@kWZskB<Mt&B!wRK<KYMt&wCZpDZyyMF&efw&ZB<EC&BVlQw&F!dB~&yi@lyuQw&F!wRSXS<wiZ<<&.@lYZnu<fwwRk<fyqw&yKSFlyCYZnSXtqgxkt<RHVSjwwqyiwknwZEsqNTwGu<uYZhK<jQI<wSH@<KDskw<eZhqEsKjTqt<dsS@&F!M&<w&eN@DRKy&<w<gyC<w&Df@ws&XuHwwuyiw&Q$wZYZQoMtk<kQ<&X@SvZsn<ZMwZayljF&FO@k<<<CyEZ@<wGSG&<wZtCZ*eZIS<fBJD&iRSt<&<wGk<wZsCZpwRkeuQwMs&u<Z@h.Hww@q'], 900: ['forcenturieskingsqueensandgeneralshavereliedonefficientcommunicationinordertogoverntheircountriesandcommandtheirarmiesatthesametimetheyhaveallbeenawareoftheconsequencesoftheirmessagesfallingintothewronghandsrevealingprecioussecretstorivalnationsandbetrayingvitalinformationtoopposingforcesitwasthethreatofenemyinterceptionthatmotivatedthedevelopmentofcodesandcipherstechniquesfordisguisingamessagesothatonlytheintendedrecipientcanreaditthedesireforsecrecyhasmeantthatnationshaveoperatedcodemakingdepartmentswhichwereresponsibleforensuringthesecurityofcommunicationsbyinventingandimplementingthebestpossiblecodesatthesametimeenemycodebreakershaveattemptedtobreakthesecodesandstealsecretscodebreakersarelinguisticalchemistsamysticaltribeattemptingtoconjuresensiblewordsoutofmeaninglesssymbolsthehistoryofcodesandciphersisthestoryofthecenturiesoldbattlebetweencodemakersandcodebreakersanintellectualarms', 'KLc*yr$@cEyjbErTj%@ffAjzrvtyrfc^GjJ!BfceGEyVNAfMKEiEeA$CL..@rEY!$ENrErLcvec$NTLBecA$RyEcCL@A$cEyj!rVYN..SAv$ZeEcSc.Eejz$$ZfjS.y$E.y$ZfQR^ByzGGqyeAXwXcfLh$JfiNrjyF@eAOfjLh$JyEc.ejjXTyjh^GGErtEr$N$JywcNATZzAljcyBy^GEATpce&EN@jjy&cf$j$LcEB^GrX$ENrjzAVoe$czQErtBE$^GErhNc.!$ENr$LLpPLjErThLcWfjE$wzj$Rf$JceX$LheAy.QEr$fcCf<$ENA$Z^$.N$EB!$fV$RelyBfGNp.eA$NK&LVyj^AV&EPZecj$f*ZrE~@ejmNcvEjt@EjErTS.ejj!TyjN$Zz$LAGQ$JfEr$yrlyVcyOEpEfr$W!AceXVE$$JyvfjEceuNcjfWcyiQJzj.f^A$$JS$A!$ELrjRzByN<ecz$fVWNVe.SbEAtVePXc$.er$jwZE*JwecfcejPLrjEnGfmLcyrj@cErT$Jejyi@cE$QLMOL..@AEO^$ELAjkQEAByr$ErtXAlE.pGe.yr$ErT$RfIej$<LjjEoGeCNvfjX$$Zej^.y$E.efAf.QOLlfgceXbecjZSBez$$e.p$yV$Nkcy!b$RejfOLVyjzAVj$eSGjyscy$jWLvfgceSbecj!ceGEAt@Ej$E&!G&Zy.Ej$jX.Qj$E&^G$cEnyX$$e.<$ErT$NONrU@cejerjEoGewNcvjN@$Lu.e!AErTGfjjjQ.kLGj$RyREj$NcQNhOLlfjzrlYE<RycjEj$Jfj$NcQLK$Jeifr$@cEejNGvnX$$Gekf$wferCNVf.zbycj!rV&NvfgcfSbecjSrEr$eGGeC$@!G!c.j'], 950: ['forcenturieskingsqueensandgeneralshavereliedonefficientcommunicationinordertogoverntheircountriesandcommandtheirarmiesatthesametimetheyhaveallbeenawareoftheconsequencesoftheirmessagesfallingintothewronghandsrevealingprecioussecretstorivalnationsandbetrayingvitalinformationtoopposingforcesitwasthethreatofenemyinterceptionthatmotivatedthedevelopmentofcodesandcipherstechniquesfordisguisingamessagesothatonlytheintendedrecipientcanreaditthedesireforsecrecyhasmeantthatnationshaveoperatedcodemakingdepartmentswhichwereresponsibleforensuringthesecurityofcommunicationsbyinventingandimplementingthebestpossiblecodesatthesametimeenemycodebreakershaveattemptedtobreakthesecodesandstealsecretscodebreakersarelinguisticalchemistsamysticaltribeattemptingtoconjuresensiblewordsoutofmeaninglesssymbolsthehistoryofcodesandciphersisthestoryofthecenturiesoldbattlebetweencodemakersandcodebreakersanintellectualarmsracethathashadadramaticimpactonthecourseofhistoryi', 'PalchpBdlKEouApDoGdhUpo@pqD%pvl@Yo?fgZlEYL%~ap%!!ArK%pBcabbdpKcjBLapApal.%lBaDagJlpB?JLl^adpBlKEo@p.mabbXp~BwULlslbLhofBB?ZosbZBLbUBw%&wXghtYYSvUpfzelEaRBwJrapo%Gdhp^%oaPB?vKlbvoosDZo!fYYKpFApBaBwEzlapDwfpqolEgh@YApDIlvrKadooU^lhBoBalAgeYpxBKapoXp.CJBle&ApFgKBtYLp!albsBKapBaaIIaoKp$RalcvoKBzXoBwhB?lEtBaRZpJb&ApBvl^%IBAapB?eBbaBKgXB%qBwh.JgvYaIbJpBaPmaqvoTp~rKI?vloBU^wpKGdJoPal~LoFdKoKpDtbvoos$UoaBwjBapY&B?vLpBvpqU~l%rLIA%pBcfplUTqABBwE.EoLlERaloEclv^&weobv@pBB?@BpTBLapo?sgUaIEljBv~^aqhbjuAp$.EIslBbUpBoz?Am?zZlvlhoIapoKMYE!alhpodlLpFB?%oZmdlAB&aRmabbdpLrXBLapoO&LpgZpBApFXp~LbIYEbvpBLpFBw%W%oBIaooAWYU^a.hoXBBwJojb%BLbv%pZb&caqvklJtNZlo?@gZxBBJbIBUqBaklvxNBwJovcaqZojpqoBJ@Yoh^lJBo^a~%ClvtHEloTl%YApDdAoBKrsYrwUbLoBojb&oBLmeYBlLS%xBBhbIBApDBa^apVdlJoEpoKSY%zal.oadBaRbETpAp$Y%ooo&bCaYoBwUwKoBal&a!caq%oTp.mLI?ZloKoBwEoBal&aRB?E^JpBdlK%oaY~nfBBYUWJBzJvpma.vb@HEloXpqca.EOlJ@HvlofpLpBZYYZmBdjYelbole^JBwXB?xowT.T~lebjBKcAbIe^BapB?%radlovaP?KoBal&K'], 1000: ['forcenturieskingsqueensandgeneralshavereliedonefficientcommunicationinordertogoverntheircountriesandcommandtheirarmiesatthesametimetheyhaveallbeenawareoftheconsequencesoftheirmessagesfallingintothewronghandsrevealingprecioussecretstorivalnationsandbetrayingvitalinformationtoopposingforcesitwasthethreatofenemyinterceptionthatmotivatedthedevelopmentofcodesandcipherstechniquesfordisguisingamessagesothatonlytheintendedrecipientcanreaditthedesireforsecrecyhasmeantthatnationshaveoperatedcodemakingdepartmentswhichwereresponsibleforensuringthesecurityofcommunicationsbyinventingandimplementingthebestpossiblecodesatthesametimeenemycodebreakershaveattemptedtobreakthesecodesandstealsecretscodebreakersarelinguisticalchemistsamysticaltribeattemptingtoconjuresensiblewordsoutofmeaninglesssymbolsthehistoryofcodesandciphersisthestoryofthecenturiesoldbattlebetweencodemakersandcodebreakersanintellectualarmsracethathashadadramaticimpactonthecourseofhistoryinwritingthecodebookihavehadtwomainobjectivesthefir', 'Sw&eBq!N&bPstbqEsrNyPqsOquEvqB&$ZsUjJy&PZbPfwqyTTlebvq!gw~%Nqbi$!bwqbqw&MB&!wEwJv&q!^vl&cwNq!&lPsDqKewppOqu!^Gb&O&~lGsn!!UGsQ~P!b~G!^Gk^DJBOZZFyvqn<D&BwS!^viwqsGrNPqivswX!^Gl&%yss$EPsROZZbq@bq!w!^G<&wqI^oqKs&GJGjZbqEd&velwNssPh&v!s!w&bJnZqo!bwqsoqM*v!&zklqIJb!OZlqAw&pD!bwq!wwddwsbqESw&eBsl!<js!Uv!^&Pn!wSBqv~kbq!G&hvd!bwq!^n!pw!bJQ!vu!UBuvJPZwdpGq!wAewKvsQqucbd^v&s!BhUqlrNPsRw&ulsENbsbq@O%BssO@Gsw!Uj!wqZk!Uvlq!PquGM&yhbdlBq!gzq&B$fb!!^vKPsl&BXw&sPg&Gek^os%Pzq!!^O!qD!lwqs^DJGwdG&O!GMhwKB%otlq@.vdo&!%Gq!s<^beU<y&P&GsdwqsbVZBSw&BqsN&bq@!^BsviN&l!kwXewppNqbg$!bwqsxklqJyq!bq@QqKbpdZv%Gq!lqI!^yVGs!dwssl*ZBiwMPsO!!UPsj~y!l%BvqPpkiwKGC&Pzty&s^oJvz!!y~d!yu!wF&BOt!^PsvgwfBsjqfs!vzZsvg&v!scwfPm&vQtB&sD&GZlqENls!li$ZeUG~bs!sn%ks!lhnZ!&lCPj!!Bpd!bqE!whwq?N&ysPqsb*Zy<w&MswN!wT%PQqbqEZGsssk~CwZs!^v^bs!w&kwRcwfBszqMcldUy&sls!^Bs!w&kwX!UGeGq!N&lyswZ.V$!!Zvmy!<PyqcwKPp$tv&sjq.hwKyx&BDtP&soqlq!PZZBh!NjZn&~s&DcB!UD!^jsUO.D.&O~z!lil~dzc!wq!^BewN&sBwRUbs!w&klq<&l!lq@!^BiwfvWwwtlU$JvUQK!<wpzlqwmHBe!bJys!UvSl&'], 1050: ['forcenturieskingsqueensandgeneralshavereliedonefficientcommunicationinordertogoverntheircountriesandcommandtheirarmiesatthesametimetheyhaveallbeenawareoftheconsequencesoftheirmessagesfallingintothewronghandsrevealingprecioussecretstorivalnationsandbetrayingvitalinformationtoopposingforcesitwasthethreatofenemyinterceptionthatmotivatedthedevelopmentofcodesandcipherstechniquesfordisguisingamessagesothatonlytheintendedrecipientcanreaditthedesireforsecrecyhasmeantthatnationshaveoperatedcodemakingdepartmentswhichwereresponsibleforensuringthesecurityofcommunicationsbyinventingandimplementingthebestpossiblecodesatthesametimeenemycodebreakershaveattemptedtobreakthesecodesandstealsecretscodebreakersarelinguisticalchemistsamysticaltribeattemptingtoconjuresensiblewordsoutofmeaninglesssymbolsthehistoryofcodesandciphersisthestoryofthecenturiesoldbattlebetweencodemakersandcodebreakersanintellectualarmsracethathashadadramaticimpactonthecourseofhistoryinwritingthecodebookihavehadtwomainobjectivesthefirstistocharttheevolutionofcodesevolutionisawhollyap', 'UpgRNiOSgxleJjQte!SWN<euQ*tWiCguTehIKlglTxWvpioDDjnjNQOXpMbSixq^OjpQx<pgvogOptpKog<OhlxgnpSiOgxWefi*qpMMfQvOhCjgVgMjle^OOhCefbNOxboOhC~huKoITTPlCQAHVgWp$OhoRpieo!SWiXoeprOhoxgMCeeftoecfTsx<txiOpOhCHgp<thViaegoKCuTxQtLglnjpSeeCXgWOeOpgjKuTQ%OxpQeIivPlOgu~x<tKxOVTj<cpgb%OxpQOppLLpej<tDpgnoejOH%eOhlOhgl^Op$WQlM~x<OCgRoLOjpQOh^ObpOjK^Oo*OhC*NKoTpLbW<Op$qpaWeIQvGxLhlgeONnhQj!SNerpg*xetSjex<tVMoeeItNepOh^OpQs~Ohox<OlQvCagNRjLjCQOq^QgNI*xOOhlaCejglUpgeWnglX~hVebC^QOOhVOiuOxpQeh^KNpLNgIOl*qpvoMIJxQtaoL^gOMCQOeHhjXhHCglgleLpQexEslDpgoQeSgj<tOhWeCGSgxO~pkGpMMS<xnIOjp<eP~jQKW<Oxit^ivxMLslMC<OjitOhWPWeOLpeejFsCGpvWeAOOhWefblOjbWWQWM~Xp*CwgoVJNgeh^KN^OOCMLOWvOp?gCAJOhleoXp*Ce%Q*eOlITelXglOenpvoFgoAJCgefgoTx<tSxeOjXVTnhCbjeOeIb~eOxXusOgjFo%OOlMLOxQtOpnp<zSgoeliexwsCHpgvepSOpZMoIQjQtTleee~M@pTeOhohjeOpg~pdXpvCeVQaqjLhWgexeOhCeOpg~pZOhCXWQOSgjoepTvyVOOsCwNOHNWinp*oMfJWgefQaqp*oFgofJogeI<j<OlsToqOSusAgbegAnCOhfOhVehI*uvgVbVOxRjMLInOpiOhCXpSgeCpUhxeOpg~jQHgjOj<tOhoGpaWyppJjh^Klh%*OHpbVx<pP.lGOjKleOhocxgeOjeOpnh^gOOhlNKpsSOjp<pUnpvNelKpTSOxpQxeIHhpsT~uL'], 1100: ['forcenturieskingsqueensandgeneralshavereliedonefficientcommunicationinordertogoverntheircountriesandcommandtheirarmiesatthesametimetheyhaveallbeenawareoftheconsequencesoftheirmessagesfallingintothewronghandsrevealingprecioussecretstorivalnationsandbetrayingvitalinformationtoopposingforcesitwasthethreatofenemyinterceptionthatmotivatedthedevelopmentofcodesandcipherstechniquesfordisguisingamessagesothatonlytheintendedrecipientcanreaditthedesireforsecrecyhasmeantthatnationshaveoperatedcodemakingdepartmentswhichwereresponsibleforensuringthesecurityofcommunicationsbyinventingandimplementingthebestpossiblecodesatthesametimeenemycodebreakershaveattemptedtobreakthesecodesandstealsecretscodebreakersarelinguisticalchemistsamysticaltribeattemptingtoconjuresensiblewordsoutofmeaninglesssymbolsthehistoryofcodesandciphersisthestoryofthecenturiesoldbattlebetweencodemakersandcodebreakersanintellectualarmsracethathashadadramaticimpactonthecourseofhistoryinwritingthecodebookihavehadtwomainobjectivesthefirstistocharttheevolutionofcodesevolutionisawhollyappropriatetermbecausethedevelopmentofcodescanbeview', 'I%<YMG.i<~jC!?GaCmijlGCfGQHlGj<kKCdrbM<MN?jP%GjzI?X~lG.X%VRiG?Yr.~%G?G%<qM<.%a%bM<G.dj~<Y%iG.<~lCuGQh%V$SGP.dj?<f<V~jCk..dMCfVM.?VM.dlndkblfNKFljGk@u<l%U.dj&%GCMmiMG^jC%I.dj?<VjCCuHMCeSNN~Ga~G.%.dl@<%GHdSGWC<jbMxN?GHL<lt~%iCCM&<l.C.%<?buKGS.?%GCuGPFM.<xn~Gab?.fN~GU%<VS.~%G.%%LL%C?GHz%<*MC~.@kC.dl.d<Mu.%wjGj$n~G.l<BjL.?%G.dk.R%.?br.lQ.dlPjbMN%LRjG.%OY%pMCxGP*?Ldj<C.MBdG~mijCz%<W?Cai?C~GHu$MCCkajC%.du.%GNn.dj?G.lGqlp<Mh?L?MG.hkG<juP?..djPjC~<lI%<Clh<M*ndSC$lkG..df.Gk.~%GCdfbM%Ll<r.lq*%WMRxD~GavlLS<.$MG.C@d?&d@l<M<jCL%GC?ENMJ%<jGCi<?GH.dlCMYi<~.n%U*%R$iG?Bk.~%GCFn?GblG.?GakGP?$LNl$jG.~Ga.dlElC.L%CC~ENlh%WjCk..djCSVM.?RjMGlRnt%qjF<MSDl<CdxbMr..j$L.jW.%T<jS!.dlCj^%vlCuGqC.MuKClY<l.CY%WlA<MrDl<Cx<MK~GHi~C.?BxNBdl$?C.CSVnC.~XSN.<~Fjx..lVL.~GH.%X%Gsi<lClGC~FKM@%<pC%i.%zVjrG?GaKMCCCn$E%NC.dMd~C.%<n%It%WjCSGv*~Ldl<C?C.djC.%<n%z.dMXjG.i<~lC%KWEk..NjFM.@jjG*%PjRk!l<CuGQt%vjE<jSDj<CxG?G.lNNM*.ifKr<$C<fBj.dS.dkCduPSP<r$f.~&~$Lr&.%G.djh%i<Cl%Od~C.%<n~G@<~.~Ga.dlh%pMA%%!?dfbMdSv.@%Vr?G%AsMt.?bMC.dMe~<C.~C.%tdk<..dMMb%Ni.~%G%w*%WlCMb%Ki.?%G?Cr@d%NNnSLL<%L<?k.M.l<$AjhkiCl.dlWMbMN%L$jG.%U&%WMCtkGAlb~l@'], 1150: ['forcenturieskingsqueensandgeneralshavereliedonefficientcommunicationinordertogoverntheircountriesandcommandtheirarmiesatthesametimetheyhaveallbeenawareoftheconsequencesoftheirmessagesfallingintothewronghandsrevealingprecioussecretstorivalnationsandbetrayingvitalinformationtoopposingforcesitwasthethreatofenemyinterceptionthatmotivatedthedevelopmentofcodesandcipherstechniquesfordisguisingamessagesothatonlytheintendedrecipientcanreaditthedesireforsecrecyhasmeantthatnationshaveoperatedcodemakingdepartmentswhichwereresponsibleforensuringthesecurityofcommunicationsbyinventingandimplementingthebestpossiblecodesatthesametimeenemycodebreakershaveattemptedtobreakthesecodesandstealsecretscodebreakersarelinguisticalchemistsamysticaltribeattemptingtoconjuresensiblewordsoutofmeaninglesssymbolsthehistoryofcodesandciphersisthestoryofthecenturiesoldbattlebetweencodemakersandcodebreakersanintellectualarmsracethathashadadramaticimpactonthecourseofhistoryinwritingthecodebookihavehadtwomainobjectivesthefirstistocharttheevolutionofcodesevolutionisawhollyappropriatetermbecausethedevelopmentofcodescanbeviewedasanevolutionarystruggleacodeisconstantlyunderat', 'XcxPnv~AxTeK*ToEK@AnZoK<odEZoGxFSKOHkZxeuTimcoGXLT%Tno~jcUUAoT%y~TcvTocxdZx~cEckexo~hnTxPcAo~xTeKHvgPcUU^om~QZTxHxUTGKy~~h.KHUi~TU.~O!fOWkGFuaVeZoHCWxncL~hZPcvK.@AnoPnKcl~OZTxUZKK<z.KlWSuTvzTv~c~h!Cxcobh<vpKxekZyuTvbrxiwTcAKKGqxn~K~cxTkJSvH~TcoK^vpI.~xJfToEkT~<aTvlcxUJ~Tcv~ccrrcKTvblcx%nKT~CWK~hn~QxZF~clio!UfTo~!xqGr~Tcv~hy~Uc~Tk^~Gg~Qeg.k!ScrUnv~cljcdeKHop%TrQ!xK~ewhvT@AnKXcxgTKzATKTvEFUZKKybiKc~OW~coaf~OeTv~iodeMxn%TrT.v~P^vxZJgT~~Oem!KTx.XcxKiPxiwfOHKUe^v~~h<~v^~TcoKO<kecrGx^~np%c?ZUW*Tvzpnr<x~Uev~KChTwOCnx.x.KrcoKTsu.XcxGoKAxTvb~O!Ki%AxT~fcXwcUUAvT%F~TcoKNfTvkev~TobHomTUruGUio~Tob~O.BGK~rcKKTVSZqcm!KH~~h.KWUZ~TUZGvGUfqcpGBxeJ*.xKhFkZH~~GUr~!?~cDxi^*~QZK!jcp!KJvmK~.HaKnPxi~KqcMGNx!y*ZxKyxeaTobATK~TwWSqhZUTK~KFUfK~Tq^a~xTRG^~~!Ur~TvE~cwcv&Ax!KGvKTDaiCcxgKcA~clUi^oTvbS.KKKfUNcSK~QehTK~cxfcXqcmnKyomqTrQGxKTK~QnK~cxfcL~OZwZo~AxTZKcumDF~~SZN!~C.GojcdeUJ*GxKyo?wcMGNx!y*ixKFvTo~.SSij~AHaFxUKx<Pe~hH~hWKQHMJgxFUJ~TqTUrJw~co~QG%cAxK.cLOTK~cxfTvCxT~TvE~O.jc?!Dcc*TQJkZh<d~CcU<TvcB&.j~TknK~QnXTxK~TK~cPhFx~~OZekcaA~Tcvcl%cdGKZkcaA~TcoTK<COcuuf<rrxcrxTW~!~nxUB.qHAKn~O!pekeucrUnv~clwc?nKj^oD!kTGC.MFK<vZkcaA~TcoWxfK~xAbbS!<jcp!TKPcoK~<o~SfAomZxJ~'], 1200: ['forcenturieskingsqueensandgeneralshavereliedonefficientcommunicationinordertogoverntheircountriesandcommandtheirarmiesatthesametimetheyhaveallbeenawareoftheconsequencesoftheirmessagesfallingintothewronghandsrevealingprecioussecretstorivalnationsandbetrayingvitalinformationtoopposingforcesitwasthethreatofenemyinterceptionthatmotivatedthedevelopmentofcodesandcipherstechniquesfordisguisingamessagesothatonlytheintendedrecipientcanreaditthedesireforsecrecyhasmeantthatnationshaveoperatedcodemakingdepartmentswhichwereresponsibleforensuringthesecurityofcommunicationsbyinventingandimplementingthebestpossiblecodesatthesametimeenemycodebreakershaveattemptedtobreakthesecodesandstealsecretscodebreakersarelinguisticalchemistsamysticaltribeattemptingtoconjuresensiblewordsoutofmeaninglesssymbolsthehistoryofcodesandciphersisthestoryofthecenturiesoldbattlebetweencodemakersandcodebreakersanintellectualarmsracethathashadadramaticimpactonthecourseofhistoryinwritingthecodebookihavehadtwomainobjectivesthefirstistocharttheevolutionofcodesevolutionisawhollyappropriatetermbecausethedevelopmentofcodescanbeviewedasanevolutionarystruggleacodeisconstantlyunderattackfromcodebreakerswhenthecodebreakershavedevelop', 'ghwuf&.@w?JNAi&GNT@B~&NR&da~&JwRqNo^IJwJqi~dz&Bkk?bi~&.uzXX@&iF<.ih&?&hwZ~w.ylyIBw&.Qmiwuh@&.w?fN<&nuzXXe&s.oB?wrwXimN^..QfNrXB.iXm.Qm!v<I~eYL*ff&MSewfzD.vBbz&NJT@J&b~NyV.vmiwXJNNRGBNkMqL?&Gi&.y.oJSwy&Gvr&UNwJImeYi&lpwBb?z@NNJFwB.N.hw?Ieq&R.iy&NM&W*m.w<!i&GI?.<L?&DhwXe.?z&.zyppyN?&aDzwFJNi.SrN.o~.Qwmr.zDf&fX!i&.~wuJp.iy&.Q<.Xh.iI^.JW.ofC~IfLhpXB&.zkbydBN<&UbipQJwN.f$o&?T@JNVhwWiNl@?N?&GRXfNNrlJNh.vr.h&q!.oJi&.f&UBZw~Fip?J&.br&w~^C?..o~nfN?w~cywNJuwBu!v^NX~<&..Qe.&^.iz&NQrIfyp~wM.fdbzUmXRAi&GCmpew.XB&.NSQibvSBwmw~Npz&NijqfVywJ&N@w?&a.omNJb@w?.!hguhXX@&?uR.?y&NP!?&IB&.i&aM&ZiXpYJXB&.?&l.vfEmN.phNN?*qJuhdJN^..o~NRX~.?XJB&mX!bysmtwJ<AmwNQrIB<..~Xp.Js.zjw~rA.ofNBbhUJNr&dN.JrYNJ$w~.NuzCJKwBRA~wN^wmY?&l@iN.i$RYbvJXiN.N^X!N.iFrq.wiEJr..JXp.?&a.zFz&H@wJN~&N?*q~ShwUNy@.yDXJR&?&Gq~NNN!XEzqN.QmQiN.hw!hgbhCBN^&dbipQ~wN?N.vmN.yw!hg.o~uf&.@wi~NyYZtR..q~*m.Sff&uhZBX^AmwNM&ZFhsmtwmrAfwN<&i&.BYYm$.@<qMwXNweum.vr.oMNvMs<sw^X^.?b?XpRF.h&.ofFy@wNmhDv?N.hw!?&Swi.i&G.oJFhZf*hyA?Q^IfQ^C.SzXRi&yjOmF.iIBN.QBc?wN.iN.yuvew..vfJIyL@.?y&yVbyWJNfIhL@.?y&?NeSQhLY!Mppwhpwie.~.JwX*JFR@NB.vmCBI~YzpX~&.hcbhWmNFe&jBI?fSJdMNr&fIzq@.?h&rw!N.w@GaqJebzdm?Nuz&N.e&.q!@&s~wR..<FADwzX$zW~PwfrAmwNSvJ&.v~uhUJKwJMABwNQrIfZJIJqzp'], 1250: ['forcenturieskingsqueensandgeneralshavereliedonefficientcommunicationinordertogoverntheircountriesandcommandtheirarmiesatthesametimetheyhaveallbeenawareoftheconsequencesoftheirmessagesfallingintothewronghandsrevealingprecioussecretstorivalnationsandbetrayingvitalinformationtoopposingforcesitwasthethreatofenemyinterceptionthatmotivatedthedevelopmentofcodesandcipherstechniquesfordisguisingamessagesothatonlytheintendedrecipientcanreaditthedesireforsecrecyhasmeantthatnationshaveoperatedcodemakingdepartmentswhichwereresponsibleforensuringthesecurityofcommunicationsbyinventingandimplementingthebestpossiblecodesatthesametimeenemycodebreakershaveattemptedtobreakthesecodesandstealsecretscodebreakersarelinguisticalchemistsamysticaltribeattemptingtoconjuresensiblewordsoutofmeaninglesssymbolsthehistoryofcodesandciphersisthestoryofthecenturiesoldbattlebetweencodemakersandcodebreakersanintellectualarmsracethathashadadramaticimpactonthecourseofhistoryinwritingthecodebookihavehadtwomainobjectivesthefirstistocharttheevolutionofcodesevolutionisawhollyappropriatetermbecausethedevelopmentofcodescanbeviewedasanevolutionarystruggleacodeisconstantlyunderattackfromcodebreakerswhenthecodebreakershavedevelopedanewweaponthatrevealsacodesweaknessthenthecodeis', 'RCna@oQbnAxjzAoVj*bHHojNoX~loHwNujUN!lwy<AlKCoHppZMAyoQMC?&boAWSQZCoZoCnKxnQCVC!ywoQDlZwWCboQnZlj.ovaC&&eoXQT$ZwYn&h$jSQQUljs?HQAi@QTlkTY!@Su<FxyoeJew@CpQUHMCojl*bHod$jCRQUyAn&$jjS~@jps<<Ao~AoQCQTyJnCo~Dsovjw$!@e<Zo~cwydZCbjjHanlQjQCwZ!s<oYQZCojSovIxQwSkAoV!hQN<ZoRCwiYQACoQCCccCjhoVRCnM$jhQJ.jQTyQUw@eQCpHoyikhoQywaxcQhCoQTSQ?CQA!YQyKQT$Kx!@<Cc?$oQCtdCv@jeovghcU@njQHLUoZ*byjRCwKZj~bhjAoVs&@jjNV@jCQDsQCoukQUyZoQxoXxvwHMZcAxoQdsowHYvZQQTxX@jhwlpCnjxgn@WkU.j?@eoQQDsQoSQACojDN!xCc$nYQxXaCX$?ezAoVXxcYwQ&yoQjJDhdUJ$wlwyjcCojhf<@RCnyojbnZoVQTHjHdbnAQkCpMC?&bohWSQhCojOkZo!yoQhoVYoXA?cul&yoQZo~QTHEyjQcCjjhOuHaCvlj.QQDHjs&HQAillox&kdCKyqwyNzlwjTN!xYQQ$icQHvQCfwyYzQU$j$dCvxjSovjQy.uj$dnyQjWCXx^wlsz@wjewx<AoVbZjQZaY<gU@iAjQjs?kjQZMN<QnZElNQQx?cQAo~QCgCoBbnlj$ojZqulJCnvjCbQCpi@YohoV<ljjjk?ICujQDxDZjQCnkCRdCXHjYoXLZcTxnjhjQTHjQCwkCtQTyLxoQbnAyjCuv^.QQ<lf$QJH@odCv@&YzlnjsovMCvHOnx.zlwjSohoQlu<lgQbsuNnijwSdHQU.QDejDeKevnsiNQhdh?ceLQCoQU$aCbwjyCpUZjQCwkhoJwZQZoVQTHaCK@FCCzAUY!$U.XQJCiSAoCOB@dQA!ljQT$RAnjQhjQCdTswQQDy@!C<bQZCoCRdCvHj$!CubQZCoZjeJTCu<kNccwCcwAeQlQxwiI@gebj$QTyvl!$uCciloQCpdCvxjLSoqy!hlJHXsjNoy!CubQhCoYwkjQwb~~u@.WCvxhjMCojQsoQukbov@w.QQYgzpnC?MCvHqnHYz@wjJDxoQTHMCv$qwHYz@njDY!@v$!luCcxKeoyJJx.cCoQDsQwH!yeujSdCvHjJ@Nzo@jjQDyoQUyWCvHhj'], 1300: ['forcenturieskingsqueensandgeneralshavereliedonefficientcommunicationinordertogoverntheircountriesandcommandtheirarmiesatthesametimetheyhaveallbeenawareoftheconsequencesoftheirmessagesfallingintothewronghandsrevealingprecioussecretstorivalnationsandbetrayingvitalinformationtoopposingforcesitwasthethreatofenemyinterceptionthatmotivatedthedevelopmentofcodesandcipherstechniquesfordisguisingamessagesothatonlytheintendedrecipientcanreaditthedesireforsecrecyhasmeantthatnationshaveoperatedcodemakingdepartmentswhichwereresponsibleforensuringthesecurityofcommunicationsbyinventingandimplementingthebestpossiblecodesatthesametimeenemycodebreakershaveattemptedtobreakthesecodesandstealsecretscodebreakersarelinguisticalchemistsamysticaltribeattemptingtoconjuresensiblewordsoutofmeaninglesssymbolsthehistoryofcodesandciphersisthestoryofthecenturiesoldbattlebetweencodemakersandcodebreakersanintellectualarmsracethathashadadramaticimpactonthecourseofhistoryinwritingthecodebookihavehadtwomainobjectivesthefirstistocharttheevolutionofcodesevolutionisawhollyappropriatetermbecausethedevelopmentofcodescanbeviewedasanevolutionarystruggleacodeisconstantlyunderattackfromcodebreakerswhenthecodebreakershavedevelopedanewweaponthatrevealsacodesweaknessthenthecodeisnolongerusefuliteitherbecomesextinctoritevolvesint', 'D~kjZXd$vgMWCtXAWz$iZXWGXlSJXJk&yWUqmZ<nEtnl~XZDDtFtiXdY~..$XgH&dt~XgX~vsZvd~A~mMvXdUngvY~$Xd<gMWqXpF~rr&XldUZg<h<rgnW?ddUnW?.Zdt.ndUJ!UGmM&EyPJnXqu?vM~BdUiV~XWiz$ZXeMW~BdUZgkrJWWGSiWTqEygXAgXd~dUnuk~XAU?XQWknmZqEgXAc<JKt~$WWZH<idWd~ktm?yX&dt~XWfXQ*idkq!tXSmtdhygXR~<rfdt~Xd~~cc~WtXSD~v@iWtdubWdUndUkMqd~BJXZ.!tXdJkVMcdt~XdUGdr~dgmGdiadUnaMmJy~crnXd~DK~lMWhXQVtcUZ<WdMKUXgz$MWR~<QtWA$tWtXSfriWWhAMW~dUGd~Xy!dUJgXdMXlia<ZHgctnXd@&XknqltddUJQMWgvnB~<WiYknF!UGWrMfXddUqdXhdg~XWU&mM~ci<fdnl@~airfCgXSaJcb<d.ZXdWuUtVUui<J<nWc~XWt*yMO~<nXW$kgXSdUiWZK$kgd!~RH~..$Xgjbdg~XWL!gXmMXdtXSGXat.cEMrnXdtXSdUMLJWdc~WWtPyie~pMW&ddUZWfridtrnJXZr!@~sZPkJ&CZ<WUhmMqddJ.cdnQd~LvMfCdUiWJK~lnW?XsWdZfEWnH<ZdWK~pJ^<ZqCJ<W?kiytXA$tWdtHhyHUnrtWdW&r!WdtKhEdktLibddn.cdgXAd~H~X%$vMWZXWt^Eiu~kaW~$d~BrnbXgXSyiWWW!.I~EWdUJUtWd~k!~RH~sJWfXxetcUMkWgWdUiWd~v!~TdUJYZXd$vtJW~ys^Gddyn^iduZJXH~xMrfCZvWqXxY~an^<n&CZvW&XgXdiyyJKd$Gy?<rWvq@JdU?dUfWUfQfx<b.bdtjgrcfed~XdUnV~$vWi~BUtWd~v!tXuvgdtXAdUJV~aJ*~~CgU&mJU&adu~rbgX~*%MYdgmnWdUZRg<WdtWd~KUGkddUMnm~y$dg~X~TH~aZWim~y$dg~XtWGuU~yE!Gccv~cvghdidJ<r^M@h$WZdUipMmJy~c.iXd~TV~xnWVbXLMmtnuJxGWhXnm~y$dt~X?<!Wd<$SAEJ&F~aMtWY~XWdfXdy!$XaZ<fdd?@CD<~.H~pZLkJqCivWuUZXdUM@~QJ^vM?CJvWUqmiaMmnE~cnlqXiuuMbc~XdUGdkimi?EWGY~xJWuihCXnWWdUnXdUJH~QngWX~y~XSM<$WiR$EgdigdUZv*JF~.iWJNdgXYd~<gdMm~EmnWtXd'], 1350: ['forcenturieskingsqueensandgeneralshavereliedonefficientcommunicationinordertogoverntheircountriesandcommandtheirarmiesatthesametimetheyhaveallbeenawareoftheconsequencesoftheirmessagesfallingintothewronghandsrevealingprecioussecretstorivalnationsandbetrayingvitalinformationtoopposingforcesitwasthethreatofenemyinterceptionthatmotivatedthedevelopmentofcodesandcipherstechniquesfordisguisingamessagesothatonlytheintendedrecipientcanreaditthedesireforsecrecyhasmeantthatnationshaveoperatedcodemakingdepartmentswhichwereresponsibleforensuringthesecurityofcommunicationsbyinventingandimplementingthebestpossiblecodesatthesametimeenemycodebreakershaveattemptedtobreakthesecodesandstealsecretscodebreakersarelinguisticalchemistsamysticaltribeattemptingtoconjuresensiblewordsoutofmeaninglesssymbolsthehistoryofcodesandciphersisthestoryofthecenturiesoldbattlebetweencodemakersandcodebreakersanintellectualarmsracethathashadadramaticimpactonthecourseofhistoryinwritingthecodebookihavehadtwomainobjectivesthefirstistocharttheevolutionofcodesevolutionisawhollyappropriatetermbecausethedevelopmentofcodescanbeviewedasanevolutionarystruggleacodeisconstantlyunderattackfromcodebreakerswhenthecodebreakershavedevelopedanewweaponthatrevealsacodesweaknessthenthecodeisnolongerusefuliteitherbecomesextinctoritevolvesintoanewstrongercodeinturnthisnewcodethrivesonlyuntil', 'GyfiHVMJfnwjknVYj!JlHVjmV*YlVlfaRjSOE.fHRnlhyVl@unin.VMiyeeJVn$rMnyVnVyfh.fMyYyElfVMStnfiyJVMfnWjaVAPyeeaV*MSlnfofenljaMMSIjDe.MnetMSWdS%ElmRR?IwVzZOfIycMSl$yVjl!JwVP.jyGMStnfewjjvbIjGzRRnVYnVMyMSHZfyVbS%V*jfHE.vRnVb&fw$nyJjjlPfIMjMyfnEvRVDMnyVjDVp?wMfodnVbEnMFRnV@yfevMnyVMyy&&yjnVbcyf$HjnMZrjMSwMSfwmMyUlVlednVMlfiW&MnyVMSOMeyMnEoM.AMSHgHE.Ry&etVMyBTy*wjvVpPn&SwfjMlKSVn!JtjUyfgnjbJnjnVY%eHjjabWjyMSzMyVRdMSlnVMtVpIgfIPn&nWVMiFVflzAnMMSwptjnf.cyfjtPfHKdSOjeIzVMMS%MVvMnyVjSmEWy&wfaMl*iy*leFknVbpt&mfMetVMjZSniSZIftf.j&yVjnLRlcyftVjJfnVbMStjw$JfnMdy~PyeeJVnPvMnyVj^dnVEwVMnVbrVAne&RWeWVMnVYMStXljM&yjjnXRlKyAwjvMMS.jre.MneHlVHediyAHNfIvkWfjSrElvMMte&MthMy^fw%xMStjl$yAIjoVhjMIaRj.PfIMj$y*l^fwa<wfjvfwRnVbJnjMnPzRKS.enjMjzedjMniaRMfnClvMMIe&MnVYMyPyVsJfHjlVjnCRlZyfAjyJMycewaVnVbRWjjjdeXyRjMSWSnjMyfdyUPyAHjoVhKn&SlfjnjMSljMyfdy~MSWPwVMJfn.jyRAC%MMRHClMZwIV$yp.emxwfjDVpTyAIXfHO<WfjvVnVM.RRt$MJFRzfejfrKHMSoMSrjS%g%pfrezMnTne&aKMyVMStTyJfjlycSnjMyfdnVZfnMnVbMSl$y*ICyyxnSaE.Sr*MZyeFnVyCstKMnEwjMS.unfjMnjMyTSDfMMSItEyRJMnyVyc$yAWj.EyRJMnyVnjmZSyRRdF&&fy&fnOMHMHfeX.TaJjwMSlgwEwRy&eHVMyBiygIjTFVXtEn.ZlpFjzVHEyRJMnyVzfdjMfJYbRtF$y*tnjPyVjMoVMRdJV*wfvMMai<ufye$ypI?ftF<lfjZSwVMSlPyp.?fWFkWfjSDEHplElRy&.gvV.ZZw%&yVMSmMfHEH%RjrKy*tjZ.vkVWjjMSwVMSHTygwnjVyRyVYtfJjluJRnMlnMS.fL.TyeIjtqMnVTMyfnMWEyREHjnVMyOVHZjMfyVY.fKygInVMJfVMSnjV.ZiyhWMSfnEIjyVRdJVMnR'], 1400: ['forcenturieskingsqueensandgeneralshavereliedonefficientcommunicationinordertogoverntheircountriesandcommandtheirarmiesatthesametimetheyhaveallbeenawareoftheconsequencesoftheirmessagesfallingintothewronghandsrevealingprecioussecretstorivalnationsandbetrayingvitalinformationtoopposingforcesitwasthethreatofenemyinterceptionthatmotivatedthedevelopmentofcodesandcipherstechniquesfordisguisingamessagesothatonlytheintendedrecipientcanreaditthedesireforsecrecyhasmeantthatnationshaveoperatedcodemakingdepartmentswhichwereresponsibleforensuringthesecurityofcommunicationsbyinventingandimplementingthebestpossiblecodesatthesametimeenemycodebreakershaveattemptedtobreakthesecodesandstealsecretscodebreakersarelinguisticalchemistsamysticaltribeattemptingtoconjuresensiblewordsoutofmeaninglesssymbolsthehistoryofcodesandciphersisthestoryofthecenturiesoldbattlebetweencodemakersandcodebreakersanintellectualarmsracethathashadadramaticimpactonthecourseofhistoryinwritingthecodebookihavehadtwomainobjectivesthefirstistocharttheevolutionofcodesevolutionisawhollyappropriatetermbecausethedevelopmentofcodescanbeviewedasanevolutionarystruggleacodeisconstantlyunderattackfromcodebreakerswhenthecodebreakershavedevelopedanewweaponthatrevealsacodesweaknessthenthecodeisnolongerusefuliteitherbecomesextinctoritevolvesintoanewstrongercodeinturnthisnewcodethrivesonlyuntilthecodebreakersidentifyitsweaknessandsoonthisissim', 'BVg@Cif&PXtruXinrN&S*irTi^MZitPQ<rR!J*P*FX*~ViZGjX@XSifbVmm&iX.sfXViXiVg~tPfVnVJtgifWtXP@V&ifgXCrUi^@V$mwidfRtXgUg$XCrsffWCrw$ZfXmSfOSARwJtI<eEZZiDxwgZVHfOZ@VirSY&*ibtrVGfRtXgmSrrTnZrh!<eXinXifVfW*xPViMOsi~rgZJZU<XinpgSbXV&rrtbPCfrfVPXJQeiDfXVir!i^z*fgUAXiMJXfTFXioVg$IfXVifVVppVrXiMBVgb*rXfxDrfRtfOPtTfVGSiS$AXiftP@*pfXVifRIf$VfXJTf*afOt~CJSeVpmZifVc.VdZrwiabXpWSPrfCbWiXl&ZrjVg~XrM&XrXiM!LCrrUn*rVfOTfVieAfR*Xifti^*~gCbXpXZif.UigC!~XffRSd*rXgChVPrtbPS.AOIr$tIiffRsfisfXVirWUJtVptgwfZ~@V~*mQyXindtp!gfLZifrxOXbWxCPCPCrpVirXz<CBVP*ir&PXinfOtrZ.&PXfAVBbV$$&iX@QfXVirKAXiJtifXinUi~XLpeCmZifXiMfOSEZrfpVrrXvFtbV^*r!ffWtrQLtfXLSCi*LAbV~CvgSIutgrWIJtTfftLpfZ^fVKgCIyfWCr*@VdSrQi^rfS!<rZ.P*frbVdCvgtQySPr!PS<XiM&XrfX.we.R*mXrfrwmArfX@T<fgXKSDff*LpfXiMfV@Viq&PCrSirXEeSxVg~rV&fVjmCUiXiMeZrrrAmvVFrfO*RXrfVPAVcbV^ZrQi^@XpRtgrXrfOtrfVPAVhfWC.Sif&gXtrVedzQffFZKtfxZ*i.Va*$!u*Pr!iabVdSKPZIuSPrwiXiftF<t@f&D<sgmrPwbSfWQfOTrOs^I^gsLDfX.XmpDbfVifOZ.V&grCVjWXrfVPAXixgXfXinfR*.V^tEVVyXWIJZR!~fxV$QXiVEqC@fXJtrfWSBXPrfXrfVbRsPffWCSJVF&fXViVB@VaSrCJVe&fXViXrDxWV<FAIppPVpPXQfCfCg$E*.U&rCfOZdCJ*<VpLZifVH.V~tr.DiE*JXZx*a!rDiSJVe&fXViIgArfP&MnetT@VdtXrbVirf!if<A&idtgIffsbyBgVL@VdZEgZQyZPrxRtifRt.V~Zzgt!y*PrOUJSdtJ*FVptdwiCxxtQpVifWwfP*JZser!bV^*rx*suiCrrfR*ifRCbVdSXriVFVinSP&rSH&FXftXfWtgzSbVm*rZkfXi@fVPXftJVFJZrXifVQiCxrfPVin*PbVdZXif&PifRXritxbV~CfRgXJ*rVieA&ifX<fWC.V^*EgZDyCPrX~ZifXjAXfrxSQyiCrrwiarVVifOXrXrrX$'], 1450: ['forcenturieskingsqueensandgeneralshavereliedonefficientcommunicationinordertogoverntheircountriesandcommandtheirarmiesatthesametimetheyhaveallbeenawareoftheconsequencesoftheirmessagesfallingintothewronghandsrevealingprecioussecretstorivalnationsandbetrayingvitalinformationtoopposingforcesitwasthethreatofenemyinterceptionthatmotivatedthedevelopmentofcodesandcipherstechniquesfordisguisingamessagesothatonlytheintendedrecipientcanreaditthedesireforsecrecyhasmeantthatnationshaveoperatedcodemakingdepartmentswhichwereresponsibleforensuringthesecurityofcommunicationsbyinventingandimplementingthebestpossiblecodesatthesametimeenemycodebreakershaveattemptedtobreakthesecodesandstealsecretscodebreakersarelinguisticalchemistsamysticaltribeattemptingtoconjuresensiblewordsoutofmeaninglesssymbolsthehistoryofcodesandciphersisthestoryofthecenturiesoldbattlebetweencodemakersandcodebreakersanintellectualarmsracethathashadadramaticimpactonthecourseofhistoryinwritingthecodebookihavehadtwomainobjectivesthefirstistocharttheevolutionofcodesevolutionisawhollyappropriatetermbecausethedevelopmentofcodescanbeviewedasanevolutionarystruggleacodeisconstantlyunderattackfromcodebreakerswhenthecodebreakershavedevelopedanewweaponthatrevealsacodesweaknessthenthecodeisnolongerusefuliteitherbecomesextinctoritevolvesintoanewstrongercodeinturnthisnewcodethrivesonlyuntilthecodebreakersidentifyitsweaknessandsoonthisissimilartothesituationfacingforexampleastrainofinfecti', 'lnFbT~SeFZ?yfZ~^y<eAV~yN~%RA~?Fw*yzwL?Fo*.?Hn~oOOZtZ?~S$nppe~ZbwS.n~Z~nFmAFSnRnLTF~SzT.F$ne~SF.Vyd~%Wnppq~jSzA.FqFpZXywSSzTyqp?SJpISzXgzdLTq**DAI~GvwFTnESzo$n~yA<eT~CVyn!SzXZFpXyyGRoyUN**J~^J~SnSzIvFn~^zG~%yFXLVd*J~^KFA$.neyyVbFVSySnFZLw*~rSZn~yw~HDXSFdgJ~^LJSQ*Z~!nFpQSJn~SnnKKny.~^cnFtAyZSvrySzPSzF?xSnUT~ApgJ~SoFCIKSZn~SzxSpnS.LxS?jSzPmPLV*nKpI~SnUWnmIyQ~HCJKzXFySACz~.<eoyEnF%.y^eJy.~RqpIyywRVynSzNSn~*gSzIJ~SP~m?jFPCJKZT~S$q~FIQH.SSz?jVyJFVEnFyPWFAWgzQypTd~SSzGS~rS.n~yzrLPnKXFdS?mtn%opws.~RmIKqFSpI~SyvzJtzvXF?FoyKn~y.M*?EnFV~yeF.~^SzVyTWeF.SgnEWnppe~JWGS.n~ykg.~LI~S.~^q~HZpK*opP~SZ~^SzAMPySKnyy.D*ICn%VyGSSzIyNpoSZpT?~VpgCnHAkFIqsAFyzxLTrSSApKSVHSn@FVQ&SzoyVWnaVyQ~mySIr*yI$FoSy$n%IDFXr&VFyrFP*Z~ReJySJCQ*$zopZySyrpgyS.tN*SF.kXqSSIpKS.~RSnbn~ueFVy?~yJk*?vnFayneSncpVG~J~^*TyyygpMn*ySzVzZySnFgnO$nHoyr~%C.Kz?FyJySzoySnFgnOSzVWV~SeF.Iyn*HkxSS*IkXSvIo~WnmTpGfXFyr~%tnHoDFAwsIFyd~.~SA**ICSeQ*wFpyFrWVSzGSzryzGjr%FNpxSJCZpKdbSn~Sz?$neFyPnEzZySnFgZ~vFZS.~RSzIWnm?DnnfJzqLIzqjSvnpNJ~n@uobSZLIySzVcZFySJySntzGFSSzIILn*eSJn~nBWn%TyALn*eSJn~ZyGvzn**gNKKFnKFJGSPSAFp@oWNeyISzP%ALA*nKpV~SnBtnHXyCq~@oLZXvImxyQ~oLn*eSZn~wFgySFeRR*orbnjP.y$n~ySw~S*ge~m?FqSSxCfEFnpWnHVkFAxsPFyvzI~SzotnmA@FVqsVFyzwLImTLV*nK?Hd~IvvoQKn~SzwSFILTw*yN$nHPyvXqs~?yySz?~Sz?bn%XZy~n*n~R?FeyoUe*.SP.SzPF@oCnpXy?YS.~tSnFJSILn*LXyZ~Snd~VvySFn~^TF$n%o.~SeF~SzZy~PvWna?SzFJLIyn~*ge~S.*SzTbnjV@FXwsVFy.HX~S.UgJSyv?xf~Vyyw~aynn~SzJy.yy.pJ*dFSnSz?y.SeNS.n~EwtJ~^lnFXYwpK*AQySFd.~nOJ~lI$S.'], 1500: ['forcenturieskingsqueensandgeneralshavereliedonefficientcommunicationinordertogoverntheircountriesandcommandtheirarmiesatthesametimetheyhaveallbeenawareoftheconsequencesoftheirmessagesfallingintothewronghandsrevealingprecioussecretstorivalnationsandbetrayingvitalinformationtoopposingforcesitwasthethreatofenemyinterceptionthatmotivatedthedevelopmentofcodesandcipherstechniquesfordisguisingamessagesothatonlytheintendedrecipientcanreaditthedesireforsecrecyhasmeantthatnationshaveoperatedcodemakingdepartmentswhichwereresponsibleforensuringthesecurityofcommunicationsbyinventingandimplementingthebestpossiblecodesatthesametimeenemycodebreakershaveattemptedtobreakthesecodesandstealsecretscodebreakersarelinguisticalchemistsamysticaltribeattemptingtoconjuresensiblewordsoutofmeaninglesssymbolsthehistoryofcodesandciphersisthestoryofthecenturiesoldbattlebetweencodemakersandcodebreakersanintellectualarmsracethathashadadramaticimpactonthecourseofhistoryinwritingthecodebookihavehadtwomainobjectivesthefirstistocharttheevolutionofcodesevolutionisawhollyappropriatetermbecausethedevelopmentofcodescanbeviewedasanevolutionarystruggleacodeisconstantlyunderattackfromcodebreakerswhenthecodebreakershavedevelopedanewweaponthatrevealsacodesweaknessthenthecodeisnolongerusefuliteitherbecomesextinctoritevolvesintoanewstrongercodeinturnthisnewcodethrivesonlyuntilthecodebreakersidentifyitsweaknessandsoonthisissimilartothesituationfacingforexampleastrainofinfectiousbacteriathebacterialivethriveandsurviveuntildoc', 'ql!xXJo$!EXRLEJSRD$X@JR*JQc&JX!rFRWOwX!XFzeslJdYYEnzbJoKlUU$JE?fozlJzJl!QX!olSlwy!JoVez!hl$Jo!ziR*JjhlUU*JHoV&z!*!UEiR.ooWXR*UyozUioVigWBwdfFFuedJf<O!dlYoWy?lJR&D$dJKdRl%oVyz!U&RR.cXRY.FFEJcEJoloW&<!lJvWOJsR!ew&rFzJSP!eKzl$RRe^!ioRol!Ew*FJGozlJRrJZM@o!rgEJSwzoGFzJ%l!U*ozlJollPPlRzJcql!KdRzo<ORoWioV!i.olqdJyUgzJoi!xbPoElJoVOoUloEwrodQoWbZewiFlPU@JolYxlsiRGJHhEPWy!Ro@nVJED$XRIl!ZzRS$zREJv*UeRR.cXRloWOolJFgoW@EJo&JHiZ!btzPEeJo^fJ!XfQzooW@QdRE!bIl!R@?!itgVGRUeBJooVroJ.oElJRVGwylPX!OoXsxlsXUOCEJcQdP.!oUbJoR<WExW<X!d!dRPlJRzuFXql!dJR$!EJvoW&R@h$!Eogl%tlUU$JztGoElJRpgEJwbJozJvBJQEUPF&U&JozJSoV&MeRoPlRRENFyhlZiR.ooViRfUboEU&yJbUgtlH&u!bOC&!RVOw&rooiUPoXZolN!iOCoV@R&?lHyRrJQRoirFRX^!@oRtlZiu!&*L&!RO!iFzJc$ERoEx*F?WXUERoR*UgRozh*Fo!zMXGooyUPoEJvolKlJA$!iReJRENFe<l!QRl$olYUerJEJcFbRRRgUulFRoWeWzRol!glIKlH@ROJZtEPVX!RERoWiRol!gl%oWXt@Jo$!ziRlFsNOooFXuio<XeJhlsdUrLb!RBJkxlQ@u!e.Li!R.JzJo@FFbto$fFf!UR!BhyoV*oV.RW.kOj!fUroExzUPO^olJoWy^l$!R&lYWERol!gzJ<!EozJcoVyKlHeMllLzWGwiWGko<lU*EJlpa@xozwXRoWb%E!RozRol?W*!ooVdywlF$ozlJlqKlHXRiwlF$ozlJzRf<VlFFgGPP!lP!E*o&o@!UpbhO$RboWdZbw@FlPUiJol%hlQXRKfJpewEd<&srRBJbwlF$ozlJO!gRo!$vcFX.tlHeERtlJRoGJoFg$Jsb!fooGhLI!lUtlZiu!ifCi!R<WbJoWexlZip!i.Cd!RVGwes&wyFlPiQrJi<<yfPlJoVGo!bwe.FRfxls&R<e*CJXRRoVeJoWbnljizRJlFlJvy!$Rb%$FEoXzoVX!NdnlU&RimoEJ?ol!EoiwlFwbRzJol.J@<Ro!lJv@!xlZ@zJo$!JoVzRJb<?lsdoW!EwyRlJFg$JoEFoVehlQdp!yOL@!REH&Joz%gEoR<d.CJeRR.JkRllJoWzRERRzUzFr!oloW@Rzo$BoElJI*tEJcYl!im.UPF@GRo!rzJlqEJIbnozl$RNfxoX!zroV@M*xo@!EBFEwXoW!zwXfJZR$!wEw@$JozFHlh'], 1550: ['forcenturieskingsqueensandgeneralshavereliedonefficientcommunicationinordertogoverntheircountriesandcommandtheirarmiesatthesametimetheyhaveallbeenawareoftheconsequencesoftheirmessagesfallingintothewronghandsrevealingprecioussecretstorivalnationsandbetrayingvitalinformationtoopposingforcesitwasthethreatofenemyinterceptionthatmotivatedthedevelopmentofcodesandcipherstechniquesfordisguisingamessagesothatonlytheintendedrecipientcanreaditthedesireforsecrecyhasmeantthatnationshaveoperatedcodemakingdepartmentswhichwereresponsibleforensuringthesecurityofcommunicationsbyinventingandimplementingthebestpossiblecodesatthesametimeenemycodebreakershaveattemptedtobreakthesecodesandstealsecretscodebreakersarelinguisticalchemistsamysticaltribeattemptingtoconjuresensiblewordsoutofmeaninglesssymbolsthehistoryofcodesandciphersisthestoryofthecenturiesoldbattlebetweencodemakersandcodebreakersanintellectualarmsracethathashadadramaticimpactonthecourseofhistoryinwritingthecodebookihavehadtwomainobjectivesthefirstistocharttheevolutionofcodesevolutionisawhollyappropriatetermbecausethedevelopmentofcodescanbeviewedasanevolutionarystruggleacodeisconstantlyunderattackfromcodebreakerswhenthecodebreakershavedevelopedanewweaponthatrevealsacodesweaknessthenthecodeisnolongerusefuliteitherbecomesextinctoritevolvesintoanewstrongercodeinturnthisnewcodethrivesonlyuntilthecodebreakersidentifyitsweaknessandsoonthisissimilartothesituationfacingforexampleastrainofinfectiousbacteriathebacterialivethriveandsurviveuntildoctorsdiscoveranantibioticthatexposesaweaknessintheb', 'mSDwnsWdDXnC<XsyCjdZnsCHsagUsnDb^CRb.UDN^XZrSszGEXuXnsWVSlldsX%bWXSsXsSD~ZDWSyS.UDsWRZXDqSdsWDXzC&stuSllisaWRUXDiDlXzCbWWRUCelNWXlZWRNARb.ni^^PzNsMF&DUSGWRzwSsCUjdns%nCSLWRNXDlNCCiJzCpM^^XsgXsWSWRNFDSsJR&stCDZ.zi^Xsy@DzVXSdCCzwDNWCWSDX.M^sHWXSsCis$PzWDiAXsy.XW&^XskSDlHWXSsWSS@@SCXsJESDfUCXWFMCWRnWRDz&WSBzsUlAXsWNDuU@WXSsWRiWlSWX.QWntWRUxn.z^S@lNsWSEoSaZC&s!fX@RzDCWzwRsXjdNCLSD~XCgdXCXsJMlUCCbgNCSWRMWSs^AWRnXsWZsxZ~DNwX@XnsWcMsDZixXWWRztUCXDNBSDCZcDNqARbClN&sWWR&WsQWXSsCRe.nS@ZDeWZ~wSYzlb<Xsy~Z@bDWlnsWCFRXVRFNDnDNC@SsCXP^NkSDZsCdDXsgWRNCZfdDXWASkwSlldsXuiWXSsCKAXs.NsWXsg&s!Xl@^NlzsWXsJWRnIZCW@SCCXh^nuSazCiWWRZC&lnWXlnnszlAoSxUPDNi<nDCRi.ZMWWnl@WU~WSIDzH<WRnCnVS~UCQstCWUM^CnVDUWCcS~n?DNM<NDCeDN^XsydXCWXV&^cRzlXCWC&lACWXce^WDX?nbWWzl@WXsyWS%SsTdDNCnsCXP^nFSDYCSdWSGlNHsXsg^ZCCCAlPS^CWRZRXCWSDASkqS$NCbs~VX@RzDCXCWRZCWSDASmWRncNsWdDXnCS^aPMWW^ZInWFzzswSYnl&<NDCbs~%SxNODZb<NDCesXsWn^^zuWd&^eDlCDeunWRbWRMCRHtHtDblHWXuXl@&uWSsWRUfSdDCZSERXCWSDAXsFDXWXsgWRUqS~UKSS<XRe.nR&YWFSleXsSITz%WX.ZCWRZLXDCWXCWSuRQDWWRUZ.S^dWXSsSLwSYNCz.S^dWXSsXCMFRS^^Ae@@DS@DXbWnWnDlKz%idCnWRn~n.Z^S@lZsWSBfSrUCcQsPz.XZFzrQCMsU.S^dWXSsMDACWDdyg^zeuSxNXCqSsCW&sW^Ads!NDQWWew<kDSlqSaUPDZi<NDCFRNsWRUfS~z?DnM<NDCRH.UxZ.z^S@Ua&sNFFUi@SsWRQWDz.zM^Ci%SazCFUe<snCCWRzsWRZwStzXCsS^SsgNDdCzBd^XWnXWRNDOUcSlzCNvWXs%WSDXWN.S^.ZCXsWSHsNFCWDSsyUD%SazXsWdDsWRXCsZFoSrnWRDX.UCSs^AdsWX^WRncSYzIDnb<NDCX!ZsWXGAXWCFZH<snCC&s!CSSsWRXCXCCXlX^&DWSWRzCXWd&WXSski%XsgGSDZvQl@^UHCWDeXsSpXskn%WXSdCPMVWNDXeWRZOifWnDX&^X.zWRDX.NQstCdD.X.NdsWX^tS%WSDCYXC%S.nDisMsWXOXSWXuWRbWUv@SCZCMFZH<szCCXsWRUP'], 1600: ['forcenturieskingsqueensandgeneralshavereliedonefficientcommunicationinordertogoverntheircountriesandcommandtheirarmiesatthesametimetheyhaveallbeenawareoftheconsequencesoftheirmessagesfallingintothewronghandsrevealingprecioussecretstorivalnationsandbetrayingvitalinformationtoopposingforcesitwasthethreatofenemyinterceptionthatmotivatedthedevelopmentofcodesandcipherstechniquesfordisguisingamessagesothatonlytheintendedrecipientcanreaditthedesireforsecrecyhasmeantthatnationshaveoperatedcodemakingdepartmentswhichwereresponsibleforensuringthesecurityofcommunicationsbyinventingandimplementingthebestpossiblecodesatthesametimeenemycodebreakershaveattemptedtobreakthesecodesandstealsecretscodebreakersarelinguisticalchemistsamysticaltribeattemptingtoconjuresensiblewordsoutofmeaninglesssymbolsthehistoryofcodesandciphersisthestoryofthecenturiesoldbattlebetweencodemakersandcodebreakersanintellectualarmsracethathashadadramaticimpactonthecourseofhistoryinwritingthecodebookihavehadtwomainobjectivesthefirstistocharttheevolutionofcodesevolutionisawhollyappropriatetermbecausethedevelopmentofcodescanbeviewedasanevolutionarystruggleacodeisconstantlyunderattackfromcodebreakerswhenthecodebreakershavedevelopedanewweaponthatrevealsacodesweaknessthenthecodeisnolongerusefuliteitherbecomesextinctoritevolvesintoanewstrongercodeinturnthisnewcodethrivesonlyuntilthecodebreakersidentifyitsweaknessandsoonthisissimilartothesituationfacingforexampleastrainofinfectiousbacteriathebacterialivethriveandsurviveuntildoctorsdiscoveranantibioticthatexposesaweaknessinthebacteriaandkillsthemthebacteriaareforcedtoevolveand', 'n~So&ft$SqTQeqbZQ%$TTfcifkZTfySXxcwXDySyxqTFKbysnquqTbtLKVV$fqoXtq~bqb~SF&St~Z~DySftwTqSL~$btSqyQifd@~VVab.tw&qSlSVq&c*ttw&clVTtqVTtwTNwXDyirrh&ybaBgST~Ctw&@~fc&%$yfuyQKGtwyqSVTQc*Zyc?XJxqfZqftKtwTBS~bZwMf.QSyD&axqfZWSyoqK$QQ&@STtQtKSqDzJfgtq~fQYbERTtSiNqfZDqtzJqbsKSVXtqKbtKKWW~cqfZnKSu&cqtBzQtw&twSyitKsyb&VNqbtTSLyWtqKftwgtVKtqDltydtwT^TDTJKWVTft~PoK^yQ*fFoqWw&SctTowfq%$&cP~S.qQZ$qcqfZYVyQQ*ZyQKtwltKfJNtw&qftTbEydSTLqWq&bt@*fSTl.qttwydTQqSTP~ScTuSyuNwMQVTabttwltbatq~bQwaD&~W&SXtyk@K^&VaeqfZ^TWzStV&btcBwqLwBTSySTcW~bcqmJyCKS&fc$SqfZtwTQy@$SqtN~G@~VV$fqo*tqKbchNqbDyftqfZ*fEqVWJTVyftqfZtwyR&ctWKQcqHxT@~kTQgttw&Q*V&tqVTTfTVNu~ET!STleTSQwXDyztt&VWtyFt~RSyietwTc&o~kTQ*bkQt&ixc&LSTtQ@~FThSyie&SQaSTrqbZ$qctq@zxowTVqctcXVNctq@lJtSq!y*ttyVWtqfZt~LKf<$SyQTbcqmxyBKSEQ~$tKCVyMfqfZxTQcQNVv~rQtwywqctKSNK?L~EyQMbF@qWw&ScqctwyQt~SN~ntwyuyft$SqyQKJEhXttxyHTtBTTfL~.&VzeySQMf.L~^THSy*eTSQXbqbtyxJTot$lJgSVQSYoTtwXtwlQwY^MFS*V*tqoqVWXutKbtw&LK$Sc&KnwqQt~SNqbBSqtqfZtwTo~d&hK~eqwgDTwXktBKVXqfK!UyotqD&QtwTGqSctqQt~uwXSttwy&D~x$tq~b~nu~E&QyD~J$tq~bqQlBw~JxNYWWSKWSqztTtTSVR&L*$Q&tw&.&D&xKWV&ft~suK^&c@zbRTDqTByFicgbTDKr$tqKbiSNctS$ZZJyYo~ETqco~bQtabtJN$fdySXttXuesSKVoK.TmSTieyScBwybtw&L~E&vS&ieTSQwMDTk&Dyr~Wy^Yb&BB&MWKftwltSyDTYxclLK^yQByiefycctwTftwyo~kTqQf~xKbZ&S$QTP$xqtTqtwTSR&L~VycyAtqb@t~SqtyD~JDycqft~Xb&BQtS~bZ&S@~F&qft$SftwqQfyBLKk&twSqDyQKbxN$ftqrtwy@~^yvS&ieTSQqk&ftqsNqtcByMebyccXfFQ~KftwqQqcQqVqxiSt~twTcqt$itq~fIY@qbZCKSyA*VWr&*ctSMqfKPqbI&LtqK$chlLtTSqltwTjYutySqzxqDTtwSqDy*b^c$SDqD&$ftqJFKotKScdqQL~DTSibXftqvq~tq@twltTAWKQTciByXebycQqftw&hM@t&SqXgbFeqrrQtwTVtwTHzutySqzaS&P~S@yFt~yD~JDylfk'], 1650: ['forcenturieskingsqueensandgeneralshavereliedonefficientcommunicationinordertogoverntheircountriesandcommandtheirarmiesatthesametimetheyhaveallbeenawareoftheconsequencesoftheirmessagesfallingintothewronghandsrevealingprecioussecretstorivalnationsandbetrayingvitalinformationtoopposingforcesitwasthethreatofenemyinterceptionthatmotivatedthedevelopmentofcodesandcipherstechniquesfordisguisingamessagesothatonlytheintendedrecipientcanreaditthedesireforsecrecyhasmeantthatnationshaveoperatedcodemakingdepartmentswhichwereresponsibleforensuringthesecurityofcommunicationsbyinventingandimplementingthebestpossiblecodesatthesametimeenemycodebreakershaveattemptedtobreakthesecodesandstealsecretscodebreakersarelinguisticalchemistsamysticaltribeattemptingtoconjuresensiblewordsoutofmeaninglesssymbolsthehistoryofcodesandciphersisthestoryofthecenturiesoldbattlebetweencodemakersandcodebreakersanintellectualarmsracethathashadadramaticimpactonthecourseofhistoryinwritingthecodebookihavehadtwomainobjectivesthefirstistocharttheevolutionofcodesevolutionisawhollyappropriatetermbecausethedevelopmentofcodescanbeviewedasanevolutionarystruggleacodeisconstantlyunderattackfromcodebreakerswhenthecodebreakershavedevelopedanewweaponthatrevealsacodesweaknessthenthecodeisnolongerusefuliteitherbecomesextinctoritevolvesintoanewstrongercodeinturnthisnewcodethrivesonlyuntilthecodebreakersidentifyitsweaknessandsoonthisissimilartothesituationfacingforexampleastrainofinfectiousbacteriathebacterialivethriveandsurviveuntildoctorsdiscoveranantibioticthatexposesaweaknessinthebacteriaandkillsthemthebacteriaareforcedtoevolveandoutwittheantibioticandifsuccessfultheywillthriveon', 'pgLfMQHDLl@n!BQenJDkkQnoQ~C$QKLyFnIE.@L$FOk~gQKPpOaOKQHaghuDQBsyHlgQBQgLAKLHg*g.kLQHI$lLvgDQHLlKnxQGsghuoQ~HIklLELRB@nxHHIMnVh@HBRkHI@ZIy.tUWFq@KQE<oLKg^HI?jgQnkJDMQd@ngpHI$BLRtnnVe@nboFFBQCOQHgHIM<LgQeIoQGnL@.KzWlQCrLKNlgDnntaL@HnHgLl.UWQVHOgQnVQASkHLyZBQC.OHoFlQPgLRoHOgQHggrrgnlQe^gLaMnOH<ynHI$HIL@EHgP@Q$uZOQH?Lv?rHBgQHIyHugHl.zH$GHIK~K.tFgrR@QHgwigA$noQGaOrIkLnH?jIQlJDMnYgLABn*DlnlQCyR$nny*kngHIUHgQWZHI@OQHMQGkGL?fBrB?QHvzQLtVGlHHItA@nBLk^gLntfLkaZIynuKVQHHIzHQyHlgQnIE.kgr?LVH?AjgG$Ro!lQ*G?rVLHhKQHn<IlaI<?LkL$nrgQnOXFMpgL?QnDLOQCHIknkvDLlHZgpiguhDQBfoHlgQnSZOQ.tQHBQ*xQGBurWKhkQHBQ*HI@X$nHrgnnBXF?dgG@nEHHI?nEuKHBRk?Q?RZNgAMXLKy!kLnIz.toHHthrHKAHgqLMx!HI$n$ig~$nyQAnH?yFntvL$Hnsg~?qL$V!KLnELkWlQeDOnHljoWsI@ROnHnxRZnHBdoWHLB&kVHHkurHOQeHgNgQmDLKn@QnBSF?<gL~ngDHgbutUQBQ*WMnnnZh&gWnHI?IOnHgLZgYNgGKnyQ~sOrI@LnOnHIKnHgLZg^HI?vMQHDLBKngF~qoHHFkSKH<MkQvgG$uz!@LnUQ~vgGkqLMx!?LnUQlQH@WFKjHDxWVLunLzskHIyHIVnIzGV~LUuoHlilRrzsHgQHI$igDLnKgpIOnHgLZlQ<LBHBQCHIKdgG$Sgg!lIy.$IzGH<guUlQg&mKfHB.KnHI?PBLnHOnHgNIVLHHItM.gWDHOgQgpvgA@n@.gWDHlgQOnE<IgWWZErrLgrLBxH@H@LhXtsEDnkHIkGM.KWgrhtQHgwdg~MnsxQSK.Bt<?GynUQK.gFDHlgQxLZnHLDC*WkxNgA@lnigQnHVQHFZDQAMLxHHyN!bLguNgAMqL@U!kLn<IKQHI?sg~M&L$y!@LnIV.@GM.KFgr@~xQ@<<tErgQHIoHLk.@VFnyNg~@n<kz!QtnnHI$QHItig~tlnQgFgQeKLDnMbDFBH$BHItLq?vgR@n?%HlQvHgLBHM.gF.$nBQHgzQK<nHLgQeMLig~$lQHDLQHIBnQK<vg~$HILl.MngQFZDQHOFHIKagAMXL?z!MLnlA?QHO^ZBHn<@E!QKnnVQGnggQHIlnlnnBhBFVLHgHI@nBHDyHlgQYEsOQ*YgL?%ERrWKEnHLUlQgplQw@NHOgDn&xdH@LlzHIkqzjH@LlyWO.?HILO.@UQ~nDL.B.KDQHOFGgfHgLn~OnNg.MLzQzQHB&BgHlfHIUH$%rgntnU<Kz!QknnOQHIMSodHkLOUUQA!OWFnHIMhHI?&EvHKLlEUL?^gLvtAHgt.gF.?oQAgDH<lHHI$oQHOcOgHlayQAlYnDfsknnPDWHIkZ<BFWHILB.kgQ'], 1700: ['forcenturieskingsqueensandgeneralshavereliedonefficientcommunicationinordertogoverntheircountriesandcommandtheirarmiesatthesametimetheyhaveallbeenawareoftheconsequencesoftheirmessagesfallingintothewronghandsrevealingprecioussecretstorivalnationsandbetrayingvitalinformationtoopposingforcesitwasthethreatofenemyinterceptionthatmotivatedthedevelopmentofcodesandcipherstechniquesfordisguisingamessagesothatonlytheintendedrecipientcanreaditthedesireforsecrecyhasmeantthatnationshaveoperatedcodemakingdepartmentswhichwereresponsibleforensuringthesecurityofcommunicationsbyinventingandimplementingthebestpossiblecodesatthesametimeenemycodebreakershaveattemptedtobreakthesecodesandstealsecretscodebreakersarelinguisticalchemistsamysticaltribeattemptingtoconjuresensiblewordsoutofmeaninglesssymbolsthehistoryofcodesandciphersisthestoryofthecenturiesoldbattlebetweencodemakersandcodebreakersanintellectualarmsracethathashadadramaticimpactonthecourseofhistoryinwritingthecodebookihavehadtwomainobjectivesthefirstistocharttheevolutionofcodesevolutionisawhollyappropriatetermbecausethedevelopmentofcodescanbeviewedasanevolutionarystruggleacodeisconstantlyunderattackfromcodebreakerswhenthecodebreakershavedevelopedanewweaponthatrevealsacodesweaknessthenthecodeisnolongerusefuliteitherbecomesextinctoritevolvesintoanewstrongercodeinturnthisnewcodethrivesonlyuntilthecodebreakersidentifyitsweaknessandsoonthisissimilartothesituationfacingforexampleastrainofinfectiousbacteriathebacterialivethriveandsurviveuntildoctorsdiscoveranantibioticthatexposesaweaknessinthebacteriaandkillsthemthebacteriaareforcedtoevolveandoutwittheantibioticandifsuccessfultheywillthriveonceagainandreestablishthemselveshistoryispunctuated', 'u.nctCGlnbtaHbzxadlU$Ca<zAxtC~ieqakPL~iyQbUg.ztOObobUzG*.jjlCbowGJ.CbC.nvUiG.x.LynCGkUJi*.lzGnJtaEzAc.jjwzAGkSJiEi&JtaEGGkyaPj~Gbj$Gk$XkwL~wQqWy~ze!mnS.pGkUc.CaSdlUC*$a.YGkUbij~aaPxBa%w??bzxJCG.GkU!i.CxkeCAanyLS<?bzxRnScJ.laaBcnSGaG.nbLwQzmGb.zaeCvWUGnPXJCxLbGE?bCK.i&PGJ.zG..ZR.abzxK.ioBaJG!EaGk~GkntwG.sSzy&XbzGUiVyNGJ.CGkwG&.GbLPGy@Gkyr$LU?.NjBCG.Ko.gBaeCvcJZktiaG$*kCJflSaO.nAbaxlbaJCx<j$aaexUa.GkeG.CQXGkUbzGyC@~gi~*bRJ~CGcECiBwgbGGkSgSabitK.iaUVnyVXk<ajBmCGGkmGCPGb.CakwL~.NyiwGtg*.vSjeIJCx@yNwiG&~CGa!kJVk!Si~itaN.CabhQ$K.nyzaliJzxGkBaSclibGX.Y*.&&lzbVmGb.CaWXbzLSzGJzx<CAJ&NqU&tCGJzxGkyWyaGR.aaJh?UV.@SaeGGkyam&~GJ&B~CB&X*.gBhiSmHSiakPLUEGG$&NGt@G.hiteHGkBaUV.gyawCvaGSmqa~*iUGa*.AUhnUEHUiawitqJzxlJaGbcPqokS&JaGawjXaGJV<?GnbFUEGGyjZGJCxG.o.z^lnSa~zaJW?$!.iAa.lG.Y&~wCbzx?~aaaXjW.QaGkykbaG.nX.Oc.AtawC@VbRkUiabaGkSaG.iX.pGkSctCGlnbUa.qvF<GG?SWyG!~$zo.v$jeItiaEzAV.gyhntmHynaezbCGy??~oGlm?mijaiw*UGkeGkmakPgw@iPjEGJoJ&NEVG.CGk$c.lnaU.YkJaG.nXbC!nbGbCxGky*.@Bh..HJk<LUkmAG!.&ebz.F^y*GJLyaGkUubnaGJaG.ckmiGGktUL.QlGJ.C.O*.vUaSL.?lGb.zbam!k.?QXmZZi.ZnJmG$GUn&F~owlaSGkS@tLt?.Z&BCG.Ko.r~aVPCFSLb$!~rmaECBL.?lGb.zPiXaGilxx?$Eo.AUJac.CaGeCGQXlCvUnmGGE*IKi.jc.gShi~PHSna!kUCGk~*.@~hiUPI$iakPL~gyLt?.R$vwzB!!UwN.zGkmGi~LUm?amc.vSa!ymICSaaGkBzGkUo.gSbaz.?.zx$nlaSpl?JGSbGkBihtV.jtaSTGJCVG.nJGUL.qLyaJCG.<CS!aGn.Cx~nV.@SbzGlnCGkbaCB!*.rtGknbLBa.z?XlzGJ?GkSV.vBhnUwHUiaJA$zGJ%XJGa!twIz~aa<z@a..zGkJaJaaJ&JQ<nG.GkSabGleGb.zsm*Jzxu.ntTm&N?$PaGiEJC.%bzK~cGJ.laW<cGUnbPGk~FEVGtiJP?JLUGkibLSeCralnLbL$lCGJ?v.cG.na@bao.LtneCEzGbWJ.GboGkPGtTN.a~a<!B<HCtaaJCGk~hm*GtiJewCgIbq?aGk~jGkthmcG~ibPei~Y.no~gG.BL.?LtPCA.lG!JGGkteCGJFJ.Gb*ez@JYalV*$aaslQGkUX!bQ?GkibLU.CcUPxPJzezri$BaGeWqJakGkUja~?L$akJaG.nXbaNlzoGlwGBA'], 1750: ['forcenturieskingsqueensandgeneralshavereliedonefficientcommunicationinordertogoverntheircountriesandcommandtheirarmiesatthesametimetheyhaveallbeenawareoftheconsequencesoftheirmessagesfallingintothewronghandsrevealingprecioussecretstorivalnationsandbetrayingvitalinformationtoopposingforcesitwasthethreatofenemyinterceptionthatmotivatedthedevelopmentofcodesandcipherstechniquesfordisguisingamessagesothatonlytheintendedrecipientcanreaditthedesireforsecrecyhasmeantthatnationshaveoperatedcodemakingdepartmentswhichwereresponsibleforensuringthesecurityofcommunicationsbyinventingandimplementingthebestpossiblecodesatthesametimeenemycodebreakershaveattemptedtobreakthesecodesandstealsecretscodebreakersarelinguisticalchemistsamysticaltribeattemptingtoconjuresensiblewordsoutofmeaninglesssymbolsthehistoryofcodesandciphersisthestoryofthecenturiesoldbattlebetweencodemakersandcodebreakersanintellectualarmsracethathashadadramaticimpactonthecourseofhistoryinwritingthecodebookihavehadtwomainobjectivesthefirstistocharttheevolutionofcodesevolutionisawhollyappropriatetermbecausethedevelopmentofcodescanbeviewedasanevolutionarystruggleacodeisconstantlyunderattackfromcodebreakerswhenthecodebreakershavedevelopedanewweaponthatrevealsacodesweaknessthenthecodeisnolongerusefuliteitherbecomesextinctoritevolvesintoanewstrongercodeinturnthisnewcodethrivesonlyuntilthecodebreakersidentifyitsweaknessandsoonthisissimilartothesituationfacingforexampleastrainofinfectiousbacteriathebacterialivethriveandsurviveuntildoctorsdiscoveranantibioticthatexposesaweaknessinthebacteriaandkillsthemthebacteriaareforcedtoevolveandoutwittheantibioticandifsuccessfultheywillthriveonceagainandreestablishthemselveshistoryispunctuatedwithcodestheyhavedecidedtheoutcomesofbattlesandled', '~RGaTj*ugtTmptj<wquBQ!mf!e<CjigPomcE%igBotOeRjCA~t&tQj*URNWujtaD*tR!t!Rgri^*R<R%.^!xF.tgMRuj*GtTmfjeaRNW$jrYFQtgE^Wt.w$YYFOwnNB*tzT*FTSFn%TPhovQi!$?lgOR@*F.aR!miquQ!&BwRAYcBt^NQwmb<Ow~boht!Zt!xRYci?gRjZc$!emgO%BEhtj<kgB&tRummQa^C*wxRgt%$ojb*tR!w$jrvO*GnSt!<%tYnht!@RgWb*tR!xRRIkRwtjZ~RGM.mt*?bm*FOYFgQPxR~.!BNSt!YQGa.IxtR!xFfxzRxt%l*BeYc.rT%CoRIWCj*RAURr.wn!eatIyT^mxTVcjtquTwARGrtwZutwtj<PzOmmbZTmR*cH*R!oSYFBtjxOjrir^T&tktBjxaDj^THKtYYyBK.wt^T~RGwiU^Q&SFnmzBfjxxy$*jnxtRjmyE%ORkQGPxQrVReTzfptjZeBIEg*Wi!xw?FtUc?BgCGBmIR!wtvhB@RgBjwu^tj<xyQwTauGtxSRAVRWWu!talxtR!wJSt!%Q!Yt!<$jrtzIoBzB!Ytj<Yc.vCw*kRmwtvhOVRKQmfx*F.wbWBYtWBCjBzSURe.JGinpCgmcH%Bf**TNk*BKYRLgObpxyQwOUReiwbjrm*ilowBM^ixm&RK.LG.DpT^mHGTotj<utwxtU$oMcOWtw*wEWSm*tUbhYGtLOnY*.WkYtjZ*RURjdu^Bmi!mtJhQ?RgewRuYRAzT$jt!ZoBmwmSNLRhm*yTctw*R^SRAURrBmE!eUtky.^wtwYyiwxRGSRA*cT&BjYuGtiwRheJbxxoOJCY?Ti!&RK.NfpTGw$je&ReTLGCfp.GwD!t!YihoQa*ubonGWwGnaOxyfYFlmcfKneGbNPxtatNI$&YR!xcCMRu^w.R~FtmYRgStj?^t*t!ZYcB&RrTJRRpty$%Ocfr*?RWltjRJdiMxt%CwxcTAtGmxtm*RVFHGxxcO.%RouxtR!RAVRKTwB%Rou*tRjtwf?cRooS$kkgRkGtPxCxCGNvC&bumQYyieC%OhRkNi!YRAURrimVPjvC%tQ?OKlmfjC%RouYtR!PgSmY^u<ZhiDMReCtmVR!wYljYhSujeCGH**Hap@^Rz&RKiLgQbpOGm?yT!xyCaRKOvGOnpOGmyl%.KB%ThRI.rnjO??.HkRj*cH*gB%BEowlURKQw?Cbp!OwwYyOj*y.aReOtm!RoR!Zi^umO~uot*QtYFCgJiaRNOmis*t!V*RgtxQ%Rh%Bwt!YR$!C?mYgR!Z.^aRr.tjYuG!xFtw!C?aReOYF^t%CwR!oSuj*to*cOMReCJG.HpQGmteOjxt@StYm?.$p!immbjrmRRjYytwtmwtWtofgxR*yOwtYu$YtRjAbMt!<ARGCsHNkhQEm*GDt!RAt!~OU*tRuwLbU*CGtHxFQvlaYQ^t$ot%TYFgt%O$!emug%t%Ouj*torRUxRgmKtwUR%.Gb!bj*tLtRxtVxFP*QsIRmCmb?Bbp!.wwt!YcOJbaxQGtPnjepthhm*yQNYFTJDaxOGt$D^Q~R^aCrxRi%Ro%if!eRuY?tYYc.bjYtvtR*tUn!et@muaUBmw@uhxy.S?thoxy^t%ORjM.P<ft!HjeG.QwYbLhtmyxyiNwTh%.mctmYRGStwkujV*uPYOK?tYy&Rr.mYy.SFE%.KOMteTrYF.Rux&RNCwR@J$YYoOmbjKoQr'], 1800: ['forcenturieskingsqueensandgeneralshavereliedonefficientcommunicationinordertogoverntheircountriesandcommandtheirarmiesatthesametimetheyhaveallbeenawareoftheconsequencesoftheirmessagesfallingintothewronghandsrevealingprecioussecretstorivalnationsandbetrayingvitalinformationtoopposingforcesitwasthethreatofenemyinterceptionthatmotivatedthedevelopmentofcodesandcipherstechniquesfordisguisingamessagesothatonlytheintendedrecipientcanreaditthedesireforsecrecyhasmeantthatnationshaveoperatedcodemakingdepartmentswhichwereresponsibleforensuringthesecurityofcommunicationsbyinventingandimplementingthebestpossiblecodesatthesametimeenemycodebreakershaveattemptedtobreakthesecodesandstealsecretscodebreakersarelinguisticalchemistsamysticaltribeattemptingtoconjuresensiblewordsoutofmeaninglesssymbolsthehistoryofcodesandciphersisthestoryofthecenturiesoldbattlebetweencodemakersandcodebreakersanintellectualarmsracethathashadadramaticimpactonthecourseofhistoryinwritingthecodebookihavehadtwomainobjectivesthefirstistocharttheevolutionofcodesevolutionisawhollyappropriatetermbecausethedevelopmentofcodescanbeviewedasanevolutionarystruggleacodeisconstantlyunderattackfromcodebreakerswhenthecodebreakershavedevelopedanewweaponthatrevealsacodesweaknessthenthecodeisnolongerusefuliteitherbecomesextinctoritevolvesintoanewstrongercodeinturnthisnewcodethrivesonlyuntilthecodebreakersidentifyitsweaknessandsoonthisissimilartothesituationfacingforexampleastrainofinfectiousbacteriathebacterialivethriveandsurviveuntildoctorsdiscoveranantibioticthatexposesaweaknessinthebacteriaandkillsthemthebacteriaareforcedtoevolveandoutwittheantibioticandifsuccessfultheywillthriveonceagainandreestablishthemselveshistoryispunctuatedwithcodestheyhavedecidedtheoutcomesofbattlesandledtothedeathsofkingsandqueensihavethereforebeenablet', 'Roth!KeMtr!VBrKbVGMp!KVFKcbEKptdIV<mHZtpIrpQoKEyNrgrZKeAoLLMKrgderoKrKotfateoboHatKe<!rtOoMKetr!VdKc*oLLdKie<!rt&tLrEVkee<ZVdL!erLZe<E~<dH!JIICp!KjUjtpose<!OoKV!GMpKAEVoye<ZrtLEVVJbEVzPIIrKbrKeoe<pUtoKb<JKvVtEHpmIrKbntEDroMVVZSt!eVeotrHJIKderoKVkKixEet&~rKbHredIrKzotLFeroKeoonnoVrKbyotDEVreUkVe<ae<tZmeosZKZL~rKeEtSEneroKe<keLoerHPeZ?e<!YZH!IonLZKeoyAoiEVJKvArn<ZtVeag<KrGMZVzotfrVbMrVrKbjLpVVPbEVoe<deoKI~e<prKe!Kcp?tpXrnrEKeAkKtajfree<acpVrtZuotVahtaX~<FVLZPKee<&eKmeroKV<jHEonZtFeE?hofELdBrKbQandteLZKeVU<rg<U!tat!VnoKVrqIENotEKVMtrKbe<aV!DMtre~ozOoLLMKrAPeroKVW~rKH!KerKbPKYrLnIaLpKerKbe<Z.EVenoVVr^IphovpVPee<aVdLperLZ!KEL~XoQZxtZ&BptV<PHEmeepLneZYeo^tpdBe<pVaDofEVFKfVeEPIV!Xt!eV*oYExtaFBptV&t!IrKbMrVerDJIS<pLrVeVPL~Ver*JIetrqEkeeELnerKbeogoK%MtpVpKVrCIpUot@VoMeoNLZFKrKbIZVVV~LToIVe<E<rVeot~oNgo?EVkKQgrn<!tVrVe<pVeot~oue<Z*aKeMtrEVoIYTJeeIa.EeUEZKAof!L&BEtVkKihoY!.tEmB!tVjKrKeEIIEOeMdIdtLVtkAEe<&e<jV<Jc&ftjLPerOrLnJheoKe<aAoMtVaoR<rVeot~rKUtrerKbe<aAoQpWooBr<FHE<d?eUoLjrKoq%pSerHaVe<ZyrtVerVeoD<Ftee<pZHoIMeroKosAoiZVEHoIMeroKrVPU<oII~JnntontrkeEe!tL^aAjMVEe<EcZHpIonLEKeoN*o@!VDjKCpHrEUafPVJKaHoIMeroKPt~VetMbbIpdhoiErVOoKVeJKeI~MKcEt&eedDBRtoLDoYZTtZ&BZtVU<!Ke<!ho?ETtZdBatV<dHE@aH!IonaYFK!UUEknoKe<metpH!JIVPOoipVUpkBKpVVe<pKe<EXof!rVKoIoKbZtMVauMIrepre<at^ZXoLEVElerKAeotre!HoIHaVrKeo&KZUVetoKbZtAoc!rKeMtKe<rVKZUgofEe<trHpVoKI~MKerIe<aAocETtaJBptVr?aKers~reVUaJBKaVVkK@VooKe<rVrVVrLrIPteoe<ZVreMPeroKsJOrKb$ot!ldLnIpjVetPrKoRrK$E*eroMVqkAe!trke<pqPheEtrmIrH!e<trHE&KcVMtHrHaMKerI@oXeotVYrVAoH!tJKdKerWroer*e<&eplnoVaVFUEPBKZVVrKe<ECJSeEtrF&K?BrIIVe<ELe<!.kDe!trjktpyotD!Yeo!HoIHpmKcoMeUree<!&Ker.roerAJKYrRVMOAZVVzMIe<a~UrIIe<trHaoK*!jbjrKkKit!!VejTIrV<e<aLVpIHpV<rVeot~rVnMK*eMjeEQUre<gocZVe<p~<JHaipDrva@e<poMeDoLaVouWdeeIEVPKfIZieoe<!?!de<VoyBrKbVJK?GM!!KVr<&HZe<Zt!RotpWaZKPWIZe'], 1850: ['forcenturieskingsqueensandgeneralshavereliedonefficientcommunicationinordertogoverntheircountriesandcommandtheirarmiesatthesametimetheyhaveallbeenawareoftheconsequencesoftheirmessagesfallingintothewronghandsrevealingprecioussecretstorivalnationsandbetrayingvitalinformationtoopposingforcesitwasthethreatofenemyinterceptionthatmotivatedthedevelopmentofcodesandcipherstechniquesfordisguisingamessagesothatonlytheintendedrecipientcanreaditthedesireforsecrecyhasmeantthatnationshaveoperatedcodemakingdepartmentswhichwereresponsibleforensuringthesecurityofcommunicationsbyinventingandimplementingthebestpossiblecodesatthesametimeenemycodebreakershaveattemptedtobreakthesecodesandstealsecretscodebreakersarelinguisticalchemistsamysticaltribeattemptingtoconjuresensiblewordsoutofmeaninglesssymbolsthehistoryofcodesandciphersisthestoryofthecenturiesoldbattlebetweencodemakersandcodebreakersanintellectualarmsracethathashadadramaticimpactonthecourseofhistoryinwritingthecodebookihavehadtwomainobjectivesthefirstistocharttheevolutionofcodesevolutionisawhollyappropriatetermbecausethedevelopmentofcodescanbeviewedasanevolutionarystruggleacodeisconstantlyunderattackfromcodebreakerswhenthecodebreakershavedevelopedanewweaponthatrevealsacodesweaknessthenthecodeisnolongerusefuliteitherbecomesextinctoritevolvesintoanewstrongercodeinturnthisnewcodethrivesonlyuntilthecodebreakersidentifyitsweaknessandsoonthisissimilartothesituationfacingforexampleastrainofinfectiousbacteriathebacterialivethriveandsurviveuntildoctorsdiscoveranantibioticthatexposesaweaknessinthebacteriaandkillsthemthebacteriaareforcedtoevolveandoutwittheantibioticandifsuccessfultheywillthriveonceagainandreestablishthemselveshistoryispunctuatedwithcodestheyhavedecidedtheoutcomesofbattlesandledtothedeathsofkingsandqueensihavethereforebeenabletocalluponstoriesofpoliticalintrigueandtalesoflifea', 'gcPAZydWPk?XR<yCXMWZ?yXQNxCZN?PQOXVQt?PvO<?bFNvLgkK<eydUcDDWNfo*d<FykyFPxvPdFCFt?PNdV?fPTFWydP<?Xwy%AcDSiNndVzkP*Pl<vXiddVeXQledklzdV?JVit?wO.aZ?Nw&QP?cLdV?$FyXzIWvyoZXFEdVvkPSeXXwBZXgQ.OkNBkNdFdVZ&PcNBV*NhXPZt?Q.kyCmPzKkcWXXv~PedXdFP<tQONwdkcNXwNxavdP*JfyCtfd*.<yEFPlwd<FydccmuFXkNCgFPTvXfd&*XdVedVPvwdFgvyeDJfydzPoemdfFydVQdlcdft*dvbdVejvtv.FuDeydFEoFnzXQNnokmVePXdzoVNkGWZXEcPjkXBW<XfyBiSeXXQBzXFdVwdcyOJdVvkydeyn?HP?Aku<vNdA*yPewhfddVv^?XfPegcPXzUPZ$JV*XDZ*NddVidyQdkcNXVitvFpZPQdz%$FbzDQqfyBjepwPdSzydX&Vf~V&vPzPvXuFyXfa.zEcPZNXWP<NBdVvXvUWP<dJFgKclSWN<owdkcyXaJkNtZNd<NC*NnkDuOeSeyd<yCdVeseXducXX<@.ZUc%?XQddVeXwD?d<SzZyzDJoF^esPZQR?PXVitvwddvSpd?jdFsPvwRdVZX?~cjzXiN^XdziOXeTPzdXUcH?sPzQqzPXiP?OkyBW<XdkTiOAVzS<XdXiSJXdfAQ.dP<aZ*ddZDpdkyCdcTcN!WPZXZNXfa.Z&cP^XFWdcESv*NfyB.ZXXXJlacOXdVvVkXdcPJcLKFbvXwNho<uVvPXkXdVeXdcPJFgdVzAzNdWPfvXFOb@wdd.zaed&zzyTcbvliqePXiy%~F^ZsPziqZPXiykNdz.O?TdWQOwPDXPw~edVwdVQXVQjQxPiDwdkTkSmwUdFNdVzKcWPXvFgVkXdFPJky&PkdkyBdVeAFHZsFcq<VwtzVQxd&cSw<ycs!eTdftvXdV?gkPXdfXdcAViPddV?etcOWdkFNcgAchvXvtFOWd<FyfX*&VcOOJipuPFpPkwdZd?Plse~iWXvdVexet?OFpDvydFETcHvXKwNsvt<v&v^iXwyztFOWdkFyQPJXdPWBCOew~F^ZfX~cNXdQNdOJWyn?PQdd*UqgPFDTF^z@PZ*R?PX&VZydVzAcje@P?QRzPXVQte%?tZOFpZjQNz&&z*uFydVQdPvtZ*OX*AcnvX&zwqNeXXdVzydVvUche<XNc.FyC?PWXzgWOkdzkdVzP@vKFlzX?rdkN$dcP<dztF.t?XfNdcQNv&XdPFNBzPKcx?<NdWPydVfXNv&UFjedVP<tzXcN.JWydf.dVZTcHZ@PzQqePXk^zNdkEJfdX&vwqN?XXwNhXFFNdV<XkXXkDfOiPdcdVvX<dW*d<FNgQ$fNBLcP?rwSm.viXdPikNcEkNL?AdfcWXsi~dvP<QdVeawodvP<QO<tedVPkteQy%XWPtktzWydkO%cAdFPXbfXTFt?P*N*yd<akcdk$dVQd?ruFXvXi&eiqyvXXkydVv@wUdzPfQQN^RkO.XdVZDdV?a*odzPkQiPzLFP~zndFetc.tzwN^FWd&kddVv*Ndks<cdkKwyH<LXWTAeXXLW.dVvJ&f..dVP<t?FNK?iB*<ywNxPzzXd*s.kXVdVzlXZOtZXVkXdcPJ<XmWN~dWidzn&fdVKFxzXdVvJV*t?bZ$f%ZbdVeFWd$FDZXcL@QddOZXwN^OejdcdVej?*dVXFLRkyBXiyHGWveNX<VwtvdVePvgcPe@zZy*sO?dco*.OWpFNXdcPfvXcEpFOkd<KQO<ydPkCWewNxdiOvXFE.fgzQ'], 1900: ['forcenturieskingsqueensandgeneralshavereliedonefficientcommunicationinordertogoverntheircountriesandcommandtheirarmiesatthesametimetheyhaveallbeenawareoftheconsequencesoftheirmessagesfallingintothewronghandsrevealingprecioussecretstorivalnationsandbetrayingvitalinformationtoopposingforcesitwasthethreatofenemyinterceptionthatmotivatedthedevelopmentofcodesandcipherstechniquesfordisguisingamessagesothatonlytheintendedrecipientcanreaditthedesireforsecrecyhasmeantthatnationshaveoperatedcodemakingdepartmentswhichwereresponsibleforensuringthesecurityofcommunicationsbyinventingandimplementingthebestpossiblecodesatthesametimeenemycodebreakershaveattemptedtobreakthesecodesandstealsecretscodebreakersarelinguisticalchemistsamysticaltribeattemptingtoconjuresensiblewordsoutofmeaninglesssymbolsthehistoryofcodesandciphersisthestoryofthecenturiesoldbattlebetweencodemakersandcodebreakersanintellectualarmsracethathashadadramaticimpactonthecourseofhistoryinwritingthecodebookihavehadtwomainobjectivesthefirstistocharttheevolutionofcodesevolutionisawhollyappropriatetermbecausethedevelopmentofcodescanbeviewedasanevolutionarystruggleacodeisconstantlyunderattackfromcodebreakerswhenthecodebreakershavedevelopedanewweaponthatrevealsacodesweaknessthenthecodeisnolongerusefuliteitherbecomesextinctoritevolvesintoanewstrongercodeinturnthisnewcodethrivesonlyuntilthecodebreakersidentifyitsweaknessandsoonthisissimilartothesituationfacingforexampleastrainofinfectiousbacteriathebacterialivethriveandsurviveuntildoctorsdiscoveranantibioticthatexposesaweaknessinthebacteriaandkillsthemthebacteriaareforcedtoevolveandoutwittheantibioticandifsuccessfultheywillthriveonceagainandreestablishthemselveshistoryispunctuatedwithcodestheyhavedecidedtheoutcomesofbattlesandledtothedeathsofkingsandqueensihavethereforebeenabletocalluponstoriesofpoliticalintrigueandtalesoflifeanddeathtoillustratethekeyturningpointsintheevoluti', 'v.qzHePRqj&O*j^xOQR$CeOI^Lx~e$qlaOEliAqCajd@t^&oYjWj~ePFtGGR^jFpPj.^j^.qr&qPtw.iJqePSJjqX.R^PqjCOKe@s.G?K^@PSAjqnqGjAOIPPb$OnG~Pj?dPS$gSIi&lmmN$CeK<VqJ.oPbdX.^O~QR&^FHOtYPEdjq?~OOBxAOYpmajewj^P.Pb~<qt^wbKe@Oq~i$lmj^wuqJsjtROOCWqCPOPtqjilmeMPjt^OK^LhAPqngj^wijPVmjevtqGMPj.^P..uutOjewotqkAOjP<BOPb$PSqJlPto&^~GgjePJqXCuPj.ePSlPGtPjipPCrPE~L$iCm.u?&^P.vz.LAOB^LsjuS$qOPHFSejQRHOotqLjOxRjOj^wl?~OOnwdO.PEMPteagPS&j^P~^LCLq&yjujA^PFleq~B@jPPEd@HOjqCvtqO$sq$sgbKOGHI^PPSlPenPjteObli$tu$qBPJrFt@CGl*jexr~uKqPG$ePO<SjkE<dqJqAOu.eOjhmJv.q&^ORqj^xPEHOAXRqjPg.os.?GR^jXVPj.eOhgjei~ePj^wn^rjGuaAGdePj^wPE~DCOPu.OOjZmAW.@JOIPPE&OKGHPjG~&e~?gzt@Hhq~l*HqOEBi~MPP~GuPH@Pthq&M*PE$O~F.r&Op^@OPAKmOAsq&POX.rd%q&K*JqOlqAajewRjOPjsnmXSA?jOPOl?gOPjWVaPqjZ~nPPH?uPjewPtF.^URq&OA^OjDm&<tqLO.RPtYG&Bej^waJOOOg?DtaOPb$bjOP.qg.YF.LCOK^LXjuSCqOjOPbdOPtqgtoPE~zdePRqj~O.mr%MPPmA%~P<$~es.@C?B*~qOV^@yt@H%qHM*$qOnejeP&aa$yPRMmKq?OqnsdPEBPEMObl@BrqI?KPjsj?ulkPtePbJXtRqOHtoEjOP.qgj^<qjPj^wPbJX.@dh.t*jSpiCElrP<.?Mj^t%U$WPjiHOPE$vjqOPjOP.zEMqPPbCAi.aRPjt^.YF.@dO$i.mRPj.^jOn<Staagnuuq.uqjIPJPdq?DAkBROHPb$r$i~atu?~eP.oF.LdOsB^%dijA<$@lOKe&i.aRPjteKqgOPqRwwmCMyt@JjOz.^OPI^PmgRe@AqpPPMy*vqtGzt@JNqAp*&qO<b&^PEdFtLJhqAl*HqOEpi&@~i&a.uCLKeH<<Anu.^PEnPqCiAMmOKztLCO<$M*^HOOPbHePEJst@JjO^tat^xAqROAvRajP$jPb$qhHk.?dO~cPjesP.qjP&itaiCOjePtpe$<OPqt^x~qztr&jePRq^PbjO^C<Wt@APSqjiJO.eagR^PjaPSCy.r&hq$p*JqOj@A^PjYgjPO<$n*e&OOM^rOtt^PbjOjOOjGjanqP.PECOjPRlPjt^YKFj^wotq~cl?uaABOPqpje.vj^YAzPj.RODnkP&qjpPS$NlyP$qjImji~PEqjiHl^LORqiji&R^PjaLtsP.qOrjOk.iJqBeV^Pj%jtPjzPSBPJcutOCOI<&I*eAOOj^PE~%IkP&qjlVer*jamOPSJGPbChlWP$qjlnq$otqFHrPt&i.mi&IeL.RP<jPPS&VePjDjtPjWKe@jvORzz~OOoRaPS~g<jaaPEqji$.^X~lxBjeIe@q~COPBDajObPb~?O~miAOSjOPtqgjOuR^XPRBPC@<jPEy.@HOPEHgbli~L~zj@A@PbJ.RPk.?HOtYDpPPmCOK^LaArP.Pb$LdpPbO.o*j^xOK^@QRHC^OjSIidPb$q~otq~Z~H^Vha~PtylmaRu.^OP.qjdOtoutajPjWnmj^PqjwR&peLPVa~OtoajoJle@r$KPbPtjamROPqBPAPEJ*HgPRqejewu.j^POjePE&AitaRPj'], 1950: ['forcenturieskingsqueensandgeneralshavereliedonefficientcommunicationinordertogoverntheircountriesandcommandtheirarmiesatthesametimetheyhaveallbeenawareoftheconsequencesoftheirmessagesfallingintothewronghandsrevealingprecioussecretstorivalnationsandbetrayingvitalinformationtoopposingforcesitwasthethreatofenemyinterceptionthatmotivatedthedevelopmentofcodesandcipherstechniquesfordisguisingamessagesothatonlytheintendedrecipientcanreaditthedesireforsecrecyhasmeantthatnationshaveoperatedcodemakingdepartmentswhichwereresponsibleforensuringthesecurityofcommunicationsbyinventingandimplementingthebestpossiblecodesatthesametimeenemycodebreakershaveattemptedtobreakthesecodesandstealsecretscodebreakersarelinguisticalchemistsamysticaltribeattemptingtoconjuresensiblewordsoutofmeaninglesssymbolsthehistoryofcodesandciphersisthestoryofthecenturiesoldbattlebetweencodemakersandcodebreakersanintellectualarmsracethathashadadramaticimpactonthecourseofhistoryinwritingthecodebookihavehadtwomainobjectivesthefirstistocharttheevolutionofcodesevolutionisawhollyappropriatetermbecausethedevelopmentofcodescanbeviewedasanevolutionarystruggleacodeisconstantlyunderattackfromcodebreakerswhenthecodebreakershavedevelopedanewweaponthatrevealsacodesweaknessthenthecodeisnolongerusefuliteitherbecomesextinctoritevolvesintoanewstrongercodeinturnthisnewcodethrivesonlyuntilthecodebreakersidentifyitsweaknessandsoonthisissimilartothesituationfacingforexampleastrainofinfectiousbacteriathebacterialivethriveandsurviveuntildoctorsdiscoveranantibioticthatexposesaweaknessinthebacteriaandkillsthemthebacteriaareforcedtoevolveandoutwittheantibioticandifsuccessfultheywillthriveonceagainandreestablishthemselveshistoryispunctuatedwithcodestheyhavedecidedtheoutcomesofbattlesandledtothedeathsofkingsandqueensihavethereforebeenabletocalluponstoriesofpoliticalintrigueandtalesoflifeanddeathtoillustratethekeyturningpointsintheevolutionarydevelopmentofcodesthehistoryofcodesissoinordi', 'ep!yVPkC!$EG~$PoGiCJJPGuPxoJPJ!INGOIgw!w&rw?pPV.a<QrVPkBpKsCP$luk$pPrPp!?E!kptpgE!PkOJr!qpCPk!<VG%PFQpHHDPFkOEr!D!H$JGDkkOJGuHEk$sJkOwnODgVIN&hVJPuZD!EpekOVQpPGwiCJPBEGp.kOJr!swGG%owGdI&&rPm<PkpkOEZ!pPtOIPFG!Jgw%&<PtT!wX$pCGGwy!JkGkp!$gDNPuk$pPGuPWREk!un$Ptg$kuNrPSp!Huk<pPkppTTpGrPoep!qJGrkZuGkOVkO!JukpdEPEHn$PkV!vwTk$pPkODkHpkrgukV?kOExJgVNpTKEPkp.XpbwGDP?l<TOJ!GkEvOP<iCJG.p!x<GtC<G<PouHJGGDowGpkOIkpP&nkOV<PkJPWJx!wyrT$JPkB%P!EI?$kkOVFJG<!E^p!Gwl!wqnOIGHwIPkkOIkP%k$pPGODgwpTV!%kVFBpxJKu~$PobJTD!kHJPkGZO<XOZV!E!VGTpPG$Y&JAp!wPGC!rPtkOwGwXC!<knpAvpssCP<lIkrpPGcn<PgEPk<PtuPWrsTNJHJPk<PtkOEYJGkTpGG$YNVlpbVGDkkOVGIKJk<KwVPEHnvpxER!JDLw!GOIgEDkkEKTkVFkpc!J%LkOwGwXpWVGDPFGkw%NGVq!VkGQp?JR!VIfw!Gu!w&<PmC<Gk$QINBOEH<GkG%KnGk<QINk!rYwukkJHTk$PmkpqpPjC!VGwPG<RNVZp!xGpCkpSKEuP<PoNEGGGnKhp&GkOwOrGkp!npSypbJGuP?v<TOE!G<GkOVGkp!npAkOVywPkC!$VGp&WcDkkNJRVkZEEPlpbwKILw!GIPbQpFVY!E%~V!GDPrPkJ&NVBkCu&D!HG!%lJkOukO%GOuWuW!uH%krq<KT%QkpPkOEQpC!GwpSOrGkp!n<PZ!$k$PtkOJQpbwYppfrOugwOuFkZpKu<PpczwQkrgwGkOw^<!GkrGkpQOD!kkOVwgpNCkrpPpUXp?wGVgp&Ck<pPrGDZOpNNn%TT!pT!<ukEkV!KRVQ%CGVkOEFEgJNpTHVPkpUQp?EGBuPRJg<wZJ?IGIPEgpNCkrpPu!nGk!CtoNJDvpbErGlpPGkDPk&nCPxV!DkkIy~a!pKyp?Vh!Ju~w!GZOJPkOEypxJh!wIfJ!GO%gwbEgV&pTJ?uPVZZVuTpPkO%k!JgJuNGulpxwGZJuLPJGGkOJPkOEvpxE<GPpNpPtw!CGESC&rkJ<kOV!hVXpKEGE@k$Pvkp!<kwgpNgVG<PkpuPJZGk!pPow!Qpxw<PkC!PkOrGPJZyp?EkO!<gEGpPNnCPkr&kOElp?wh!wDfJ!G$bJPk$UnrkGZEDLPJGGIPFGppPkO<G<GGrs<N%!kpkOVG<kC%krpPd%yrPoap!J@DHTNVDGk!u$PpU<P^Vvk$pCGcuXkJ!rIkOJRDQkE!$INrgJkO!<gwDPWGC!grgwCPkrN?pBkp!GWrGypgE!IPIPk$Rrpk<BkOukw@TpGVG%ZJ%fPEGGrPkOwR%ykV!$I%P?L$N&GkOEKkOJYDBkJ!rIu!w^p!qV?kpJgp&gJuP?pCkZ<kkOV%PkrR<pkrvIPW$UGCQyVGGeCNkOwnZ<N&kO!<gwpPlEut%<PDPW!wVGkDYNrGOkOJHGJNgVGOrGkp!n$GTCPXkCukVFZ$kOvpWEGkOEnODgV?Ev$?wFkOEpCkBpHEGpURukkNJGuPbNEWkpkOJbVDkOGpaL<PmGDPbiCwwPG<OIgJkOw!E^p!JcEwPIcNVkpq%NNCTpPGkp!rEGp.Tp&$k<luN$Pk!<tCwDPFkI&EGpdN$dV%P??EDkOkp$N&CGk!DkEkOw~EnkC!PrPmTp$PkGrPkOJVgpNCk<pPI!nbEgJNpTHJPkpeypxJGkOEO<Gkp!np.vpbEGrGGp$Pp!b$'], 2000: ['forcenturieskingsqueensandgeneralshavereliedonefficientcommunicationinordertogoverntheircountriesandcommandtheirarmiesatthesametimetheyhaveallbeenawareoftheconsequencesoftheirmessagesfallingintothewronghandsrevealingprecioussecretstorivalnationsandbetrayingvitalinformationtoopposingforcesitwasthethreatofenemyinterceptionthatmotivatedthedevelopmentofcodesandcipherstechniquesfordisguisingamessagesothatonlytheintendedrecipientcanreaditthedesireforsecrecyhasmeantthatnationshaveoperatedcodemakingdepartmentswhichwereresponsibleforensuringthesecurityofcommunicationsbyinventingandimplementingthebestpossiblecodesatthesametimeenemycodebreakershaveattemptedtobreakthesecodesandstealsecretscodebreakersarelinguisticalchemistsamysticaltribeattemptingtoconjuresensiblewordsoutofmeaninglesssymbolsthehistoryofcodesandciphersisthestoryofthecenturiesoldbattlebetweencodemakersandcodebreakersanintellectualarmsracethathashadadramaticimpactonthecourseofhistoryinwritingthecodebookihavehadtwomainobjectivesthefirstistocharttheevolutionofcodesevolutionisawhollyappropriatetermbecausethedevelopmentofcodescanbeviewedasanevolutionarystruggleacodeisconstantlyunderattackfromcodebreakerswhenthecodebreakershavedevelopedanewweaponthatrevealsacodesweaknessthenthecodeisnolongerusefuliteitherbecomesextinctoritevolvesintoanewstrongercodeinturnthisnewcodethrivesonlyuntilthecodebreakersidentifyitsweaknessandsoonthisissimilartothesituationfacingforexampleastrainofinfectiousbacteriathebacterialivethriveandsurviveuntildoctorsdiscoveranantibioticthatexposesaweaknessinthebacteriaandkillsthemthebacteriaareforcedtoevolveandoutwittheantibioticandifsuccessfultheywillthriveonceagainandreestablishthemselveshistoryispunctuatedwithcodestheyhavedecidedtheoutcomesofbattlesandledtothedeathsofkingsandqueensihavethereforebeenabletocalluponstoriesofpoliticalintrigueandtalesoflifeanddeathtoillustratethekeyturningpointsintheevolutionarydevelopmentofcodesthehistoryofcodesissoinordinatelyrichthatihavebeenforcedtoleaveoutmanyfascina', '!YCaIL?MCoTNVoL$N^MPTLNQLp$PLeCBtNsjJxCTtoPpYLT@no.oxL?aYmmMLo.j?oYLoLYCiTC?Y$YJTCL?sPoCEYML?CoPNBL~EYmmjL*?sxoCBCmoxNz??sPNzmx?ome?sI<sZJeyttGxbLzlQCPYn?sIaYLNT^MxLEbNY@?sToCmxNNWFbNqWttoLRoL?Y?selCYLFsULiNCbJeytoLRSCPEoYMNNxaCx?N?YCoJUtLj?oYLNULiwx?CB<oLRJo?QtoLqYCmB?oYL?YYSSYNoL$@YCEbNo?lQN?sb?sCxH?YnxLTm<oL?PCEbS?oYL?sH?mY?oJy?Ip?se~IJbtYSmxL?YqEYpPNHLpEoSsICN?bEsLo^MbNqYCgoNFMoNoLRZmbNNy$eNY?sZ?YLt<?sIoL?ILpxrCI.oSoTL?.jLCezpo??se~eNoCb@YCNb.Cx.<sWNmIUL??sQ?LW?oYLNsHJTYSbCW?TraY~xmQ&oLR~PSHC?mbL?Nlso.sleCPCPNSYLNoAtI!YCPLNMCoL$?seNTaMCo?<YnaYmmMLo.W?oYLNh<oLJbL?oL$BLiomStbmTL?oL$?sTwIN?SYNNoOtxaYrINZ??sPNWmI?ombTLem<.Y~IkCIZVPCNsjJeQ??TmS?x~?Y%CbyV?sINTEYrINUL*N?TQtNe.Cx?N.YrPACTzVICNHCPtoLRMoN?oEyt.sPmoN?Nym<N?o.yt?CoGIU??ImS?oL$?Y.YLcMCbNbLNo%tIlYCgNYM?YnmTWLoLFtbNNN<mGYtN?sxsoN?YC<YdaYpeNULgaoSsTCNoN?sPN?YC<Y!?sP.eL?MCoINYtp%U??tTkP?lPTL.Y*emyuxCNjLiEYpIACTH&eCNZLoL?xttT.?MBtZCmNCBEP?sU?syNsj*HiCymz?o.omSja?YL?sxaYMCNTY@soN?YC<oLlCo?oL$?sx.YrThYYuosBJIsjg?lYmzoLYwDIa?oJTN?sT!oCN?oN?Y.sZC??sbxJYtM?oYLY@.YgxNbJYtM?oYLoNzlsYtt<zSSCYSCoy?T?bCmhe.HMNI?sTiTJetYSmIL?Y!.YrbN.WLOIJoIlIrQNzLxJYtM?oYLzC<N?CMF$tIyEYpPoNaYLN?HL?t<MLrTCQ??UEVqCYm.Y~xwCPy&xCNlsIL?sI.Yix%CPQVICNsZJIrTJItYSbrWLellPySYL?sU?CIJbBtNBEY*PNleHuLeNN?sTL?sIEY~eoNLYtYL$PCMNP!Mto?eo?sbCOe.YmeNPv?oL.?YCo?TJYtJbNoL?YzLTlN?CYLRICEYgIoL?MCL?soNLPl.Yrx?sCoJeNYLt<ML?ot?sIaY*x%CPWVICNo*eL?oq<o?NlPj&LbNNHLrNYYL?soNoNNomotjC?Y?seNo?Mz?oYL!yaoLF!YCPvHmStTQN?CZoLYnoL!ea?oYMNkZa?TCoH?sx%ZE?xCoHtoJe?sCoJxWLrNMCJoJIML?otiY.?YCNroNaYJxCWLQL?oGoY?oa?sQ?TvSYNbNBleZVLeNNoL?sx%Ba?TCozZLpuottN?sxm?seOWa?xCoHZCT!YC.bp?YbJYtJIzLgYM?lo??sIWL?oAoY?o.ULrodNMaaINN@Mt?sT<lott?sCoJPYLETB$UoLWLiCTTN?HOtoNs?sTmNetJbNsoN?YC<oNSMLE?Mz?x~lo?s.YgIN?sI<sZJepPao*Pp?sbYM?EYmPNYf%B??tbNZLgtTi?Y?sbieB?sNY@uoLFNzLr^MTTLNosyJI?sTCenYCb%IeLHAtT?YayttMSYLN?YCoINY@SYto?oEytoL?CoFMTHLg?ZtbNY@to!xULpiey?s?YottMN?Cy?e?sIux<?MCLoLFSYoL?NoL?sPTJYtM?oYLBC<~xJetYSmIL?Yd.YrTN?sxsoN?YC<YfEY~INoNNYoLYCpoLy?Pt<CoEs?sz?osUJbGxeLdYCExi?YteQJPYM?mZL<!ZN.oLZ']}"
   ]
  },
  {
   "cell_type": "code",
   "execution_count": 24,
   "metadata": {},
   "outputs": [],
   "source": [
    "def test_length_ciphers(D):\n",
    "    '''test the cipher solver on different lengths of homophonic substitution cipher solvers, graphs its performance'''\n",
    "    #D is a dictionary of ciphers and its corresponding plaintexts of different lengths\n",
    "    x=D.keys()\n",
    "    y=[]\n",
    "    i=2000\n",
    "    while i >= 300:\n",
    "        cipher = D[i][1]\n",
    "        trial = solve_homophonic_substitution_cipher(cipher, 1e3, 0.001, 5, 50,D[i][0])\n",
    "        solved_solution_iter = trial[1]\n",
    "        #record how many iterations required to solve this cipher \n",
    "        print(str(trial[0]))\n",
    "        print(str(D[i][0].upper()))\n",
    "        if is_it_solved(str(trial[0]),str(D[i][0].upper()))==True:\n",
    "            y.append(solved_solution_iter)\n",
    "            print(y)\n",
    "        else:\n",
    "            y.append(1e10)\n",
    "        i-=50\n",
    "    return"
   ]
  },
  {
   "cell_type": "code",
   "execution_count": null,
   "metadata": {},
   "outputs": [],
   "source": [
    "test_length_ciphers(D)"
   ]
  },
  {
   "cell_type": "code",
   "execution_count": 54,
   "metadata": {},
   "outputs": [],
   "source": [
    "#from test_length_ciphers\n",
    "y=[68100, 13500, 107600, 65250, 137650, 166750, 14500, 8100, 68750, 7050, 98450, 102650, 137000, 120550, 197950, 248650, 61750, 58800, 6300, 7750, 159750, 168100, 94450, 53950, 103700, 191900, 101800, 125750, 176850, 183950, 508100, 263750, 289550, 118150, 102400]"
   ]
  },
  {
   "cell_type": "code",
   "execution_count": 55,
   "metadata": {},
   "outputs": [],
   "source": [
    "x=[]\n",
    "for i in D:\n",
    "    x.insert(0,i)"
   ]
  },
  {
   "cell_type": "code",
   "execution_count": 59,
   "metadata": {
    "scrolled": true
   },
   "outputs": [
    {
     "data": {
      "image/png": "[encoded data removed]",
      "text/plain": [
       "<Figure size 432x288 with 1 Axes>"
      ]
     },
     "metadata": {
      "needs_background": "light"
     },
     "output_type": "display_data"
    }
   ],
   "source": [
    "#plot length of cipher vs no. iterations taken to solve thhe cipher\n",
    "import matplotlib.pyplot as plt\n",
    "plt.scatter(x, y)\n",
    "z = np.polyfit(x, y, 1)\n",
    "p = np.poly1d(z)\n",
    "plt.plot(x,p(x),\"r--\")\n",
    "\n",
    "plt.xlabel(\"length of cipher\")\n",
    "plt.ylabel(\"number of iterations to solve the cipher\")\n",
    "plt.show()"
   ]
  },
  {
   "cell_type": "code",
   "execution_count": 29,
   "metadata": {},
   "outputs": [
    {
     "data": {
      "image/png": "[encoded data removed]",
      "text/plain": [
       "<Figure size 432x288 with 1 Axes>"
      ]
     },
     "metadata": {
      "needs_background": "light"
     },
     "output_type": "display_data"
    }
   ],
   "source": [
    "import matplotlib.pyplot as plt\n",
    "import numpy as np\n",
    "#plot n_iterations to solve cipher vs no.misspells in cipher\n",
    "x=[0, 5, 10, 15, 20, 25, 30, 35, 40, 45, 50]\n",
    "y=[25000,74250,129950,122800,32050,98500,12400,83600,45550,66800,23600]\n",
    "plt.scatter(x, y)\n",
    "z = np.polyfit(x, y, 1)\n",
    "p = np.poly1d(z)\n",
    "plt.plot(x,p(x),\"r--\")\n",
    "\n",
    "plt.xlabel(\"number of misspells in cipher\")\n",
    "plt.ylabel(\"number of iterations to solve the cipher\")\n",
    "plt.show()"
   ]
  },
  {
   "cell_type": "markdown",
   "metadata": {},
   "source": [
    "###### "
   ]
  },
  {
   "cell_type": "code",
   "execution_count": null,
   "metadata": {},
   "outputs": [],
   "source": []
  }
 ],
 "metadata": {
  "kernelspec": {
   "display_name": "Python 3 (ipykernel)",
   "language": "python",
   "name": "python3"
  },
  "language_info": {
   "codemirror_mode": {
    "name": "ipython",
    "version": 3
   },
   "file_extension": ".py",
   "mimetype": "text/x-python",
   "name": "python",
   "nbconvert_exporter": "python",
   "pygments_lexer": "ipython3",
   "version": "3.9.13"
  }
 },
 "nbformat": 4,
 "nbformat_minor": 4
}
