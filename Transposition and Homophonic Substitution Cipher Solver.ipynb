{
 "cells": [
  {
   "cell_type": "markdown",
   "metadata": {},
   "source": [
    "# Transposition and Homophonic Substitution Cipher Solver\n",
    "### August 2022"
   ]
  },
  {
   "cell_type": "markdown",
   "metadata": {},
   "source": [
    "## Randomly generate starting homophonic substitution & transposition key"
   ]
  },
  {
   "cell_type": "code",
   "execution_count": 1,
   "metadata": {
    "id": "W543DlnP6iS2"
   },
   "outputs": [],
   "source": [
    "import random\n",
    "import copy\n",
    "import time\n",
    "import math\n",
    "def start(cipher):\n",
    "    '''for a given ciphertext, returns random substitution key and transposition key'''\n",
    "    #no transposition applied\n",
    "    symbols = []\n",
    "    for i in cipher:\n",
    "        if i not in symbols:\n",
    "            symbols.append(i)\n",
    "    total = len(symbols)\n",
    "    alphabet = [ 'e', 't', 'a', 'o', 'h', 'n', 'i', 's', 'r', 'd', 'l', 'u', 'w', 'm', 'c', 'g', 'f', 'y', 'p', 'v', 'k', 'b', 'j', 'x', 'z', 'q']\n",
    "    key = {}\n",
    "    #distribute symbols by allocating more symbols to more common letters\n",
    "    for i in range(0,6):\n",
    "        x=random.sample(range(1,5), 1)[0]\n",
    "        ran_ind = random.sample(range(0, total-1), x)\n",
    "        letters_to_remove = []\n",
    "        symbols_for_key = []\n",
    "        for j in ran_ind:\n",
    "            symbols_for_key.append(symbols[j])\n",
    "            letters_to_remove.append(symbols[j])\n",
    "        for j in letters_to_remove:\n",
    "            symbols.remove(j)\n",
    "        key[alphabet[i]] = symbols_for_key\n",
    "        total-=x\n",
    "    for i in range(6,26):\n",
    "        x=random.sample(range(1,3), 1)[0]\n",
    "        if total <= 26-i+2:\n",
    "            x=1\n",
    "        ran_ind = random.sample(range(0, total), x)\n",
    "        letters_to_remove = []\n",
    "        symbols_for_key = []\n",
    "        for j in ran_ind:\n",
    "            symbols_for_key.append(symbols[j])\n",
    "            letters_to_remove.append(symbols[j])\n",
    "        for j in letters_to_remove:\n",
    "            symbols.remove(j)\n",
    "        total-=x\n",
    "        key[alphabet[i]] = symbols_for_key\n",
    "    if len(symbols)>0:\n",
    "        for i in symbols:\n",
    "            key['e'].append(i)\n",
    "    transpose = random.sample(range(0, len(cipher)-1), 3)\n",
    "    transpose[0],transpose[1],transpose[2] = int(transpose[0]),int(transpose[1]),int(transpose[2])\n",
    "    transpose.sort()\n",
    "    return key,transpose\n",
    "#output in form of {'e':['x','x'],...}"
   ]
  },
  {
   "cell_type": "markdown",
   "metadata": {},
   "source": [
    "## Create Standard Quintgram Frequency Dictionary"
   ]
  },
  {
   "cell_type": "code",
   "execution_count": 4,
   "metadata": {
    "colab": {
     "base_uri": "https://localhost:8080/",
     "height": 235
    },
    "id": "2tEjhRPW6iTK",
    "outputId": "c107ed7e-c8b5-4215-e299-f963da0f593d"
   },
   "outputs": [],
   "source": [
    "import math\n",
    "f = open('english_quintgrams.txt', 'r')\n",
    "quintgrams = f.read()\n",
    "L = []\n",
    "for quintgram in quintgrams.split():\n",
    "    L.append(quintgram)\n",
    "D = {}\n",
    "total = 0\n",
    "#total is total no. pentagrams\n",
    "for i in range(0,len(L)):\n",
    "    if i%2 == 0:\n",
    "        D[L[i]] = math.log(1.0+float(L[i+1]))\n",
    "        total += float(math.log(1.0+float(L[i+1])))\n",
    "alphabet =  ['A','B','C','D','E','F','G','H','I','J','K','L','M','N','O','P','Q','R','S','T','U','V','W','X','Y','Z']\n",
    "alphabetised_quint  = []\n",
    "#create alphebetised list of pentagrams to access via index of quintgrams\n",
    "for p in alphabet:\n",
    "    for q in alphabet:\n",
    "        for r in alphabet:\n",
    "            for s in alphabet:\n",
    "                for t in alphabet:\n",
    "                    quint =  p+q+r+s+t\n",
    "                    if quint in D:\n",
    "                        alphabetised_quint.append([quint,float(D[quint])/total])\n",
    "                    else:\n",
    "                        #quintgram is not found in the corpus used to construct quintgram count\n",
    "                        alphabetised_quint.append([quint,0])"
   ]
  },
  {
   "cell_type": "markdown",
   "metadata": {},
   "source": [
    "## Index of Coincidence"
   ]
  },
  {
   "cell_type": "code",
   "execution_count": 8,
   "metadata": {
    "id": "cP7edMjP6iTQ"
   },
   "outputs": [],
   "source": [
    "import sys\n",
    "import collections\n",
    "def IoC(plaintext):\n",
    "    '''returns the Index of Coincidence of the inputed plaintext'''\n",
    "    #calculate the index of coincidence of the candidate plaintext\n",
    "    N = len(plaintext)\n",
    "    \n",
    "    numLetters  = [0] * 26\n",
    "    for char in plaintext:\n",
    "        numLetters [ord(char) - 65] += 1\n",
    "\n",
    "    IoC = sum([entry * (entry - 1) for entry in numLetters ])\n",
    "    IoC /= N * (N - 1)\n",
    "\n",
    "    return IoC"
   ]
  },
  {
   "cell_type": "code",
   "execution_count": 9,
   "metadata": {
    "id": "4gOR3tEL6iTT"
   },
   "outputs": [],
   "source": [
    "#for centuries ... text\n",
    "#homophonic & transposed by period 19\n",
    "cipher = 'jiD^lW^.F%wIfkDDj%Ruc<DPKH$fxnf$C^<r<$^<RRDwbihbK<$cYPlRi<~b<llRDx$.liYR$x<l$iEllX$Dil<z%c$OliVxmgzlWRzl<a<M$KPnlHafxx<wu!~lxERDo<RVUK.$@?lPvOl<Dk*<i<DDvlMRcHbfD.x?KyRfisarM<xPixbWl<cDPl<SiD$lll<icklG<P%?v$jI?liKxr?VuJSlx<.f<%$cXWMZlJ$CD$Y@a<.lhISvwiGlO?%r<?*EiIwRK<Di.wP^iRWVDD*$lx<~jPS<<jP<^$fEq<xf<Li*<$blxDeXA*<f<<.IbuiZbG!.fvYrb<l<Imvw<.xHIIWPPD?j<rxgIMDDA<aO$DMVFj<$IYDxi<UxX%al$<n$.fDRx^w$<D$vCnxlUlplF%^rf<K^rIH$RDf$i<C$<zF<InJi*<Rhb.PbS$<<^PRxxvuI?<*$Il@$U$i<K<lPM$xiDG$D@RllJ.l&!xDAxSTP.RlPxRlDXX.~%Fs<$caxx!Rbccl<<<lvwRDWx!<W<DiDl?xax$zAl.ClWLcZ$AYDUc$.iIPn.<fxcxia<liA<Dlm<lvD^vx<lPW%XlW<l$$?*D$l*?lwvwnlcOMx<klV$l<!$x.SwU$vcw<a?RrD<DDu<wAW%mrAec~@x^q<R^Dx^D$A<rlD<al@.AA$x<ia$cDq<cbulDIZK$xj<TRCIz%$C$?^~xRTx$?$W?k$jS$qWl^?l<U.RrV<aDx<$$cPMaZRPMlylx$AWuiUxD<k<!$PcDxbxxEc$wDB<HD!I<x$?$$q@D@<ilWP$DKl<U<$<x$??$i~xz$Sh<a<xW<MlCUlxl.r^HbcPx%IufBIH&aW!R$xxcfPl?P<^?fDxPwRWb$c$R$xaDbf?vaR$xlRwD<f~xArKDca%FwN^m^PXx!w<f*PurmTR<H<r$?lx<l?D$j$a$Wx<D<wUDxRnwDPR$xrmi$xlRiEfcWT~IZ^<wlDwc^l.x?lux!uu.$b$W<Curqx?<DxZ.x&XDDl<Wr<Wuxlii$DDqKrbfxT<MU<w*<<bc<xRDl*v!rwRcllP<An*Eb?ExPu%xWx<aZ<LvWDxfc?xVRx^KxiW?PW$.EuxT?<?wrRI~lXiIlvw?lx%Ri.?!~a<?Vr<WlVa.tMxc$I$xHaDlR<<<xi^^Db<wWrl.Dc^wP*l^Tl?<SlxOPrlHHCZ?II<x~b@$RbhmaWPD^.larj$xsnMxCZxc~GYU$xX!@$@<a$$j%l<<l<W<.bx$DrElxRb$Rx<Da~Df.r^PY<RK<%^wlVx<$<.f$Y@PAuxWa<v<$X$^FD<f<$x@P<.YI*D$Rbl*a%Pc<KxW~W$<uWSKnT^fTfD^<<x@WlMbx$vxl<wYWR*WD*?DaUVO~SU.iuI<ilInkPclWWaETxc.XH$wi?^xDc?Dq^W.xS?HcuWML&ga?$x$@<yZluxraDr.PNDF<Bj<x$<?%Y^DblEIhlx*v%KWq<@i$l*Xc$<nI$AlK<B%Mw<lif^SxwU<r$i<J^YaKlPx%aaxIzDbl$SiU<ZxSUwrrUxD$DA&%vP<AGR@lxzRk&lixzZRDl<<lPDjN$D<$Cw*<PAa.WO$w$Arbi$M$IuPDil?^fED<L$?f?^l^XN<Xnwblx$l<DwaZO.l?Rw?r$?c<xx.Blc$$DxWKxlxHcbDuh^r<bD'"
   ]
  },
  {
   "cell_type": "code",
   "execution_count": 10,
   "metadata": {
    "id": "VwFIfNyo6iTW"
   },
   "outputs": [],
   "source": [
    "untransposed_cipher = 'jlDMi$<bDc.xXw$zxgbii$xE$kSi$WD!Rx%!IWDfRcfql$.OOc@ca$<Ml^^b$c@V<wl$?$lDCWD<lSlIWD$<PiwD@lb$<DcWx*$T@l^^V$q<Pf?DAD^wax~<<PixA^a<?^i<P.U%HIi!RRmrW$Av~DalF<PaZl$xWgb.$naxlO<%rcD^WxxVzixj*RR?$Sw$<l<P.vDl$S%E$TxDiIiKRw$SuDWM?lbxxaMDf<x<lDwI*R$H<?l$xV$kJW<DKU?$zIc<ER?$FlD^~<wl$<lluulxw$zjlDYWxc<v*x<PW<PDWA<lja$i^Uc$<aDMWu<?l$<%K<^l<wI~<iL<%fk.IiRlu^.$<ljMl&.x~$CYcuPWDx<a@P$?gbWxjlDkcxSb?x?$SK^axxASWxl<%K<l$RU<Pf?$<r$LiGDanwu?r$<nE$DaKqc<<PaTWx?DijlDxrZDWZUPKx^r!$<<PH<$E<cl$x%HIfluiDK<aL@lLa^AX?$zT.u~D<^f$<xv%?Y%vfDfD.xul$x?yRWFlDa$xbDc$z<PfxfZbDw<Uljnl^^b$wME<?l$xNUc$If$<w$SA$qw^uRf^.$<?$S<PWhWx<ulxxcmR.nlCix*<<%ix!^r<?^ri$i^U@lCamDf~XaDxPVI.K<<W^u<rG<lNDaVX<PfxrZlTrxA$Lx<r~RxanDr<xMlqWeDiEX.Dx!D.R?$Sb?x<c@*RnPf^wx<xV^Ux<?M~R<DwN.K<<f^u<w$S<l@l$obDrxf$xwJRrvlDCxlb<lF^i*$c$SRrxxxU^JlRx<PWPcx<lDUlOZlq.xV$BY?uPiDxwx<P.x<lDUlj<PrMa$<bDwrxlR&eK<<RWma<v.i$Yl&.^!X.DxK$TZlCfhDWHXrDxA$w$<.RRin<bARHD^xD*@a<%E<PAx%K&*CDH^A<?Z?^uHM<l$<%WZlbDxflO%wx<lDUc$vD?<c$S<P.YlTryllXcP*IWPAT<vl^V?$lmpWY<?Irx<P.O?Dx<?x<lMPAD<<%r.IlRb<?l$lFZlGaxWIlRb<wl$wxAv%lRRU~uuDluD?E<r<WD^Ji@Vbxf<PikrI.Rlu^r$<lO@lBaxZ*$hfI?ivfC~x~$iIlRb<?l$~DUx<DbzSRiH@lGicxYl$x<K$<RUb$&.D!<<*@XjDl^Ylk.hDaAX.DxvPi$<Pr@l&imDWAXfDx%AIakWIaRluaq!$.vv.Kul$<%H<DiIWKRx~YlBWxvW!X$.xx<Pr$<%rMlqWwx$lRl$ziDbxiFbRc<a?<PWDh.Zl^fxas<c$@<lDc<fIlRI.xc$<lH$ivx<Dl$SiDnlTfc$<bD$<%wx$ivYlka<PDcIfxl$RUb$<wR<PrMlqamDW*XiDx?Ci$<cjU?<xv.KX$.xx*$Gxll$<Pcxwxxc^?RED<l<PWxw<b!<?l$F!nc$zOlDWs*^uR.Kx<D~w$lF?$jan<?lbxyHn<aDw*<%iNEM<fDcHRcIf<PD?IrE$TxbDIcIfb$<?RBln<lDxCcxZlIiDA$V$<wJ?l<cZ<PK<WsulxrxHvi*X$.xxw$<PahK@<rDw*E$CXcRRx<Pr^<PWm!n<iDwH~DWjlDMrB<liIlRIi*$Glb<v?<<%.V$<chwl<wY*$TwjxbMYaxxObR<PiUvcRR<PDwI.l$M.KzA?$!$CDrix<*tR?xP<%a^xrRIWx'"
   ]
  },
  {
   "cell_type": "markdown",
   "metadata": {},
   "source": [
    "## Generating new candidate solutions"
   ]
  },
  {
   "cell_type": "code",
   "execution_count": 11,
   "metadata": {
    "id": "swAXFHCX6iTc"
   },
   "outputs": [],
   "source": [
    "import random\n",
    "def generate(old_solution,N):\n",
    "    '''pertubate a neighbouring solution of the current solution by swapping position of a symbol in substitution key and generating a new transposition key'''\n",
    "    alphabet = [ 'e', 't', 'a', 'o', 'h', 'n', 'i', 's', 'r', 'd', 'l', 'u', 'w', 'm', 'c', 'g', 'f', 'y', 'p', 'v', 'k', 'b', 'j', 'x', 'z', 'q']\n",
    "    #swap 1 symbol to another key\n",
    "    key1 = random.choice(list(old_solution))\n",
    "    while len(old_solution[key1]) <1:\n",
    "        key1 = random.choice(list(old_solution))\n",
    "\n",
    "    key2 = str(random.choice(alphabet))\n",
    "    while str(key1) == str(key2) is True:\n",
    "        key2 = str(random.choice(alphabet))\n",
    "\n",
    "    x1_pos = random.sample(range(0, len(old_solution[key1])), 1)[0]\n",
    "    symbol = old_solution[key1][x1_pos]\n",
    "    #print(symbol)\n",
    "    old_solution[key1].remove(symbol)\n",
    "    old_solution[key2].append(symbol)\n",
    "    \n",
    "    \n",
    "    #generate new trasnsposition candidate solution key\n",
    "    transpose = random.sample(range(0, N-1), 3)\n",
    "    transpose[0],transpose[1],transpose[2] = int(transpose[0]),int(transpose[1]),int(transpose[2])\n",
    "    transpose.sort()\n",
    "    #returns new alphabet key and transpose key\n",
    "    return [old_solution,transpose]"
   ]
  },
  {
   "cell_type": "code",
   "execution_count": 7,
   "metadata": {
    "id": "qbTsz83_6iTe"
   },
   "outputs": [
    {
     "data": {
      "text/plain": [
       "[{'e': ['l', 'X', '@', 'f', 'P', 'h', 'e', '&', 'T', 'R', 'g', 'r'],\n",
       "  't': ['z', 'p', 'a', 't', 'B'],\n",
       "  'a': ['c', 'o', 'O', 'V'],\n",
       "  'o': ['Y', 'H'],\n",
       "  'h': ['^', 'M', 's'],\n",
       "  'n': ['W', '.'],\n",
       "  'i': ['%'],\n",
       "  's': ['u'],\n",
       "  'r': ['q', 'U'],\n",
       "  'd': ['j'],\n",
       "  'l': ['Z'],\n",
       "  'u': ['D'],\n",
       "  'w': ['i', 'S'],\n",
       "  'm': ['w'],\n",
       "  'c': ['v'],\n",
       "  'g': ['?', 'b'],\n",
       "  'f': ['n'],\n",
       "  'y': ['Q', '*'],\n",
       "  'p': ['C'],\n",
       "  'v': ['F'],\n",
       "  'k': ['d'],\n",
       "  'b': ['y'],\n",
       "  'j': ['K', 'N'],\n",
       "  'x': ['<', 'k'],\n",
       "  'z': ['x'],\n",
       "  'q': ['I', 'L']},\n",
       " [3, 5, 8]]"
      ]
     },
     "execution_count": 7,
     "metadata": {},
     "output_type": "execute_result"
    }
   ],
   "source": [
    "generate({'e': ['l', 'X', '@', 'f', 'P', 'h', 'e', '&', 'T', 'R', 'g', 'r'], 't': ['z', 'p', 'a', 't'], 'a': ['c', 'o', 'O', 'V'], 'o': ['Y', 'H'], 'h': ['^', 'M', 's'], 'n': ['W', '.'], 'i': ['%'], 's': ['u'], 'r': ['q', 'U'], 'd': ['j'], 'l': ['Z'], 'u': ['D'], 'w': ['i', 'S'], 'm': ['w'], 'c': ['v'], 'g': ['?', 'b'], 'f': ['n'], 'y': ['Q', '*'], 'p': ['B', 'C'], 'v': ['F'], 'k': ['d'], 'b': ['y'], 'j': ['K', 'N'], 'x': ['<', 'k'], 'z': ['x'], 'q': ['I', 'L']},10)"
   ]
  },
  {
   "cell_type": "markdown",
   "metadata": {},
   "source": [
    "## Scoring candidate solutions"
   ]
  },
  {
   "cell_type": "code",
   "execution_count": 12,
   "metadata": {
    "id": "gGLWyFxN6iTg"
   },
   "outputs": [],
   "source": [
    "import math\n",
    "def score(solution,new_cipher,transpose):\n",
    "    '''given a ciphertext, scores the quality of this candidate solution based on n-grams frequency and IoC'''\n",
    "    #find plaintext according to candidate key\n",
    "    plaintext = ''\n",
    "    fitness=0.0\n",
    "    alphabet = ['A','B','C','D','E','F','G','H','I','J','K','L','M','N','O','P','Q','R','S','T','U','V','W','X','Y','Z']\n",
    "    #sub in candidate solution key to cipher\n",
    "    for i in new_cipher:\n",
    "        for key,value in solution.items():\n",
    "            if i in value:\n",
    "                plaintext += str(key)\n",
    "    plaintext = plaintext.upper()\n",
    "\n",
    "    for i in range(0,len(plaintext)-4):\n",
    "        pentagram = plaintext[i:i+5]\n",
    "        #access pentagram probability score via numerical key\n",
    "        index = (alphabet.index(pentagram[0]) * 26 * 26 * 26 * 26 +\n",
    "                 alphabet.index(pentagram[1]) * 26 * 26 * 26 +\n",
    "                 alphabet.index(pentagram[2]) * 26 * 26 +\n",
    "                 alphabet.index(pentagram[3]) * 26 +\n",
    "                alphabet.index(pentagram[4]))\n",
    "        y = float((alphabetised_quint[index])[1])\n",
    "        fitness += y\n",
    "    fitness = fitness * 1e6\n",
    "    IoC_score = IoC(plaintext)\n",
    "    difference = abs((IoC_score - 0.067))\n",
    "    homophonic_score = fitness - 1000.0*difference \n",
    "    transpose_score = 0.3*repeating_bigrams(new_cipher) + bigram_score(plaintext)\n",
    "    #put different weights on homophonic substitution and transposition scores\n",
    "    final_score = 0.4*homophonic_score + 0.6 * transpose_score + score_zodiac_like_words(plaintext)\n",
    "    return final_score,plaintext"
   ]
  },
  {
   "cell_type": "code",
   "execution_count": 48,
   "metadata": {
    "id": "pG-JDjME6iTj"
   },
   "outputs": [
    {
     "name": "stdout",
     "output_type": "stream",
     "text": [
      "252.33654284045122\n",
      "613.2514338186061\n"
     ]
    },
    {
     "data": {
      "text/plain": [
       "(865.5879766590573,\n",
       " 'FORCENTURIESKINGSQUEENSANDGENERALSHAVERELIEDONEFFICIENTCOMMUNICATIONINORDERTOGOVERNTHEIRCOUNTRIESANDCOMMANDTHEIRRMIESATTHESMETIMETHEYHAVEALLBEENWAREOFTHECONSEQUENCESOFTHEIRMESSAGESFALLINGINTOTHEWRONGHANDSREVEALINGPRECIOUSSECRETSTORIVALNATIONSANDBETRAYINGVITALINFORMATIONTOOPPOSINGFORCESITWASTHETHRETOFENEMYINTERCEPTIONTHATMOTIVATEDTHEDEVELOPMENTOFCODESANDCIPHERSTECHNIQUESFORDISGUISINGAMESSGESOTHATONLYTHEINTENDEDRECIPIENTCANREADITTHEDESIREFORSECRECYHASMEANTTHATNATIONSHAVEOPERATEDCODEMKINGDEPARTMENTSWHICHWERERESPONSIBLEFORENSURINGTHESECURITYOFCOMMUNICATIONSBYINVENTINGNDIMPLEMENTINGTHEBESTPOSSIBLECODESATTHESAMETIMEENEMYCODEBREAKERSHAVEATTEMPTEDTOBREAKTHESECODESNDSTEALSECRETSCODEBREAKERSARELINGUISTICALCHEMISTSAMYSTICALTRIBEATTEMPTINGTOCONJURESENSIBLEWORDSOUTOFMEANINGLESSSYMBOLSTHEHISTORYOFCODESANDCIPHERSISTHESTORYOFTHECENTURIESOLDBATTLEBETWEENCODEMAKERSANDCODEBREAKERSNINTELLECTULARMSRACETHATHSHADADRAMTICIMPACTONTHECOURSEOFHISTORYINWRITINGTHECODEBOOKIHAVEHDTWOMAINOBJECTIVESTHEFIRSTISTOCHRTTHEEVOLUTIONOFCODESEVOLUTIONISWHOLLYAPPROPRIATETERMBECAUSETHEDEVELOPMENTOFCODESCANBEVIEWEDASANEVOLUTIONARYSTRUGGLEACODEISCONSTANTLYUNDERATTACKFROMCODEBREKERSWHENTHECODEBREKERSHVEDEVELOPEDANEWWEAPONTHATREVEALSACODESWEAKNESSTHENTHECODEISNOLONGERUSEFULITEITHERBECOMESEXTINCTORITEVOLVESINTOANEWSTRONGERCODEINTURNTHISNEWCODETHRIVESONLYUNTILTHECODEBREAKERSIDENTIFYITSWEAKNESSANDSOONTHISISSIMILARTOTHESITUATIONFACINGFOREXAMPLEASTRAINOFINFECTIOUSBACTERIATHEBACTERIALIVETHRIVEANDSURVIVEUNTILDOCTORSDISCOVERNANTIBIOTICTHATEXPOSESAWEAKNESSINTHEBACTERIAANDKILLSTHEMTHEBACTERIAAREFORCEDTOEVOLVEANDOUTWITTHEANTIBIOTICANDIFSUCCESSFULTHEYWILLTHRIVEONCEAGINANDREESTABLISHTHEMSELVES')"
      ]
     },
     "execution_count": 48,
     "metadata": {},
     "output_type": "execute_result"
    }
   ],
   "source": [
    "score({'a': ['E', '!', '~', '*', 'K', 'H', 'V'], 'b': ['J', 't', 'm', 'h', 'e', 'N', 'y'], 'c': ['n', '@', 'Z', 'Y', 'M'], 'd': ['k', 'G', 'L', 'B', 'T', 'C', '&', 'q'], 'e': ['f', 'i', 'W', 'r', 'a', '.'], 'f': ['j', 'O', 'F'], 'g': ['z', 'S'], 'h': ['%', 'P'], 'i': ['?', 'w', 'c'], 'j': ['p', 'Q', 'o'], 'k': ['X'], 'l': ['R'], 'm': ['^'], 'n': ['$'], 'o': ['l'], 'p': ['u'], 'q': ['g'], 'r': ['D'], 's': ['x'], 't': ['<'], 'u': ['b'], 'v': ['I'], 'w': ['v'], 'x': ['s'], 'y': ['U'], 'z': ['d']},untransposed_cipher,[1,5,3])"
   ]
  },
  {
   "cell_type": "code",
   "execution_count": 5,
   "metadata": {
    "id": "QUWEd1zN6iTl"
   },
   "outputs": [],
   "source": [
    "def transpose_score(plaintext):\n",
    "    '''transposition score of candidate plaintext solutiono is based on bigram_scoroe function'''\n",
    "    return bigram_score(plaintext)"
   ]
  },
  {
   "cell_type": "code",
   "execution_count": 8,
   "metadata": {
    "id": "6R-9qFDI6iTm"
   },
   "outputs": [],
   "source": [
    "def repeating_bigrams(text):\n",
    "    '''counts number of repeating bigrams in input text'''\n",
    "    bigrams =  {}\n",
    "    text = \"\".join(text.split())\n",
    "    for i in range(0,len(text)-1):\n",
    "        letters = str(text[i]+text[i+1])\n",
    "        if bigrams.get(letters) is not None:\n",
    "            bigrams[letters] += 1\n",
    "            #counts total number of times this bigram appears in text\n",
    "        else:\n",
    "            bigrams[letters] = 1\n",
    "    repeated = 0\n",
    "    for key, value in bigrams.items():\n",
    "        if value > 1:\n",
    "            repeated = repeated + value -1\n",
    "            #repeated bigram does not include first bigram detected, so subtract 1 from all counters\n",
    "    return repeated"
   ]
  },
  {
   "cell_type": "code",
   "execution_count": 7,
   "metadata": {},
   "outputs": [
    {
     "data": {
      "text/plain": [
       "29"
      ]
     },
     "execution_count": 7,
     "metadata": {},
     "output_type": "execute_result"
    }
   ],
   "source": [
    "repeating_bigrams('ONEBEAUTIFULMORNINGIWASTAKINGASTROLLINTHEGARDENWHENISAWSOMETHINGSTRANGEITWASADOGWITHAGIRLANDTHEYWERESPRINTING')"
   ]
  },
  {
   "cell_type": "code",
   "execution_count": 15,
   "metadata": {
    "id": "d0kIShdn6iTq"
   },
   "outputs": [],
   "source": [
    "def repeating_trigrams(text):\n",
    "    '''counts number of repeating trigrams in input text'''\n",
    "    trigrams =  {}\n",
    "    text = \"\".join(text.split())\n",
    "    for i in range(0,len(text)-2):\n",
    "        letters = str(text[i]+text[i+1]+text[i+2])\n",
    "        if trigrams.get(letters) is not None:\n",
    "            trigrams[letters] += 1\n",
    "        else:\n",
    "            trigrams[letters] = 1\n",
    "    repeated = 0\n",
    "    for key, value in trigrams.items():\n",
    "        if value > 1:\n",
    "            repeated = repeated + value -1\n",
    "    return repeated"
   ]
  },
  {
   "cell_type": "code",
   "execution_count": 16,
   "metadata": {
    "id": "_ac5F4ot6iTx"
   },
   "outputs": [],
   "source": [
    "def bigram_score(text):\n",
    "    '''scores candidate plaintext solution based on each bigrams frequency discrepencies compared to standard bigram frequencies'''\n",
    "    #for english plaintext, not ciphertext\n",
    "    text = text.upper()\n",
    "    bigrams =  {}\n",
    "    score=0\n",
    "    total=len(text)-1\n",
    "    text = \"\".join(text.split())\n",
    "    for i in range(0,len(text)-1):\n",
    "        letters = str(text[i]+text[i+1])\n",
    "        if bigrams.get(letters) is not None:\n",
    "            bigrams[letters] += 1\n",
    "        else:\n",
    "            bigrams[letters] = 1\n",
    "      #bigrams now countains a counter for the number of times each bigra appear in the text\n",
    "    for i in bigrams:\n",
    "        bigrams[i]=bigrams[i]/total\n",
    "        score += abs(bigrams[i]-alphabetised_bi[i])\n",
    "        #score adds together the differences between the ratio of times bigrams appear in the text vs the ratio of times that bigram appear in the collated bigram counter file\n",
    "    return float(100.0/score)"
   ]
  },
  {
   "cell_type": "code",
   "execution_count": 10,
   "metadata": {
    "id": "JrAXWFnm6iT6",
    "outputId": "8eaff42a-ec14-4a85-9719-8d62260d492e"
   },
   "outputs": [],
   "source": [
    "import math\n",
    "f = open('english_bigrams.txt', 'r')\n",
    "bigrams = f.read()\n",
    "L = []\n",
    "for bigram in bigrams.split():\n",
    "    L.append(bigram)\n",
    "D = {}\n",
    "total = 0\n",
    "#total is total no. bigrams counted\n",
    "for i in range(0,len(L)):\n",
    "    if i%2 == 0:\n",
    "        D[L[i]] = math.log(1.0+float(L[i+1]))\n",
    "        total += float(math.log(1.0+float(L[i+1])))\n",
    "#Similar to quintgram file, we create a list of all possible bigrams in alphabetised_bi\n",
    "alphabet =  ['A','B','C','D','E','F','G','H','I','J','K','L','M','N','O','P','Q','R','S','T','U','V','W','X','Y','Z']\n",
    "alphabetised_bi  = {}\n",
    "\n",
    "for p in alphabet:\n",
    "    for q in alphabet:\n",
    "                    quint =  p+q\n",
    "                    if quint in D:\n",
    "                      #standardalise the no. bigrams counted\n",
    "                        alphabetised_bi[quint]=float(D[quint])/total\n",
    "                    else:\n",
    "                        alphabetised_bi[quint]=0"
   ]
  },
  {
   "cell_type": "code",
   "execution_count": 11,
   "metadata": {},
   "outputs": [],
   "source": [
    "def transposed_ciphertext(ciphertext,trans_key):\n",
    "    '''given a generated transposition key, we swap sections of the ciphertext'''\n",
    "    a,b,c = int(trans_key[0]),int(trans_key[1]),int(trans_key[2])\n",
    "    #transpose candidate plaintext according to generated transposition key\n",
    "    new_cipher = ciphertext[0:a]+ciphertext[b:c]+ciphertext[a:b]+ciphertext[c:len(ciphertext)]\n",
    "    return new_cipher"
   ]
  },
  {
   "cell_type": "markdown",
   "metadata": {},
   "source": [
    "## Cipher Solver"
   ]
  },
  {
   "cell_type": "code",
   "execution_count": 19,
   "metadata": {
    "id": "tFVRyQL-6iT7"
   },
   "outputs": [],
   "source": [
    "def solve(ciphertext, initial_temperature, cooling_rate,n_restarts, n_local):\n",
    "    '''generate and score candidate cipher solutions in a simulated annealing algorithm'''\n",
    "    N=len(ciphertext)\n",
    "    n_explore = 0\n",
    "    n_iterations = 0\n",
    "    n_since_best = 0\n",
    "    n_abandon = 0\n",
    "    #initialise variables\n",
    "    current_state = start(ciphertext)\n",
    "    print(current_state)\n",
    "    current_cipher = transposed_ciphertext(str(ciphertext),current_state[1])\n",
    "    current_score = score(current_state[0],current_cipher,current_state[1])[0]\n",
    "    best_state = copy.deepcopy(current_state)\n",
    "    best_score = current_score\n",
    "    best_cipher = current_cipher\n",
    "    start_time = time.time()\n",
    "\n",
    "    for n_restart in range(0,n_restarts):\n",
    "        current_state = start(ciphertext)\n",
    "        current_cipher = transposed_ciphertext(current_cipher,current_state[1])\n",
    "        current_score = score(current_state[0],current_cipher,current_state[1])[0]\n",
    "        # generate initial key candidate\n",
    "        temp = initial_temperature\n",
    "        temp_at_best = temp\n",
    "        while temp > 1:\n",
    "            # initialise local search\n",
    "            best_neighbour_state = copy.deepcopy(current_state)\n",
    "            #keep track of current ciphertext after transposed via trannspose key and substitution via homophonic substitution key\n",
    "            best_transposed_cipher = current_cipher\n",
    "            best_neighbour_score = current_score\n",
    "            best_neighbour_cipher = current_cipher\n",
    "            temporary =  copy.deepcopy(current_state)\n",
    "            current_transpose_key = current_state[1]\n",
    "            best_local_score = bigram_score(score(best_neighbour_state[0],best_transposed_cipher,current_transpose_key)[1])\n",
    "            best_local_t_key = current_transpose_key\n",
    "            # local search\n",
    "            local = False\n",
    "            #keep transposition key the same, local search by changing alphabet key\n",
    "            for i in range(0,1):\n",
    "                temporary = copy.deepcopy(best_neighbour_state)\n",
    "            \n",
    "                for i in range(0,20):\n",
    "                    n_iterations += 1\n",
    "                    n_since_best += 1\n",
    "                    #local search for good transposition\n",
    "                    transpose = random.sample(range(0, N-1), 3)\n",
    "                    transpose[0],transpose[1],transpose[2] = int(transpose[0]),int(transpose[1]),int(transpose[2])\n",
    "                    transpose.sort()\n",
    "                    C  = transposed_ciphertext(current_cipher,transpose)\n",
    "                    s = bigram_score(score(current_state[0],C,transpose)[1])\n",
    "                    if s>best_local_score:\n",
    "                        best_local_score = s\n",
    "                        best_local_t_key = transpose\n",
    "\n",
    "                for i in range(0,10):\n",
    "                    n_iterations += 1\n",
    "                    n_since_best += 1\n",
    "                    nearby_state = generate(temporary[0],len(ciphertext))\n",
    "                    nearby_state[1]=best_local_t_key\n",
    "                    #local search for good homophonic substitution key\n",
    "                    nearby_score = score(nearby_state[0],current_cipher,best_local_t_key)[0]\n",
    "                    current_cipher = transposed_ciphertext(current_cipher,best_local_t_key)\n",
    "                    if nearby_score > best_neighbour_score:\n",
    "                            #better step found during local search\n",
    "                            #take best local step\n",
    "                            local = True\n",
    "                            best_neighbour_state = copy.deepcopy(nearby_state)\n",
    "                            best_neighbour_score = nearby_score \n",
    "                            best_neighbour_cipher = copy.deepcopy(current_cipher)\n",
    "                    \n",
    "            if local == False and 0.93 < random.uniform(0.,1.):\n",
    "                #if no better step found near neighbourhood, but acceptance probability accepts it\n",
    "                print('accept worse solution')\n",
    "                n_explore += 1\n",
    "                #take a worse step\n",
    "                current_state = copy.deepcopy(nearby_state)\n",
    "                current_score = nearby_score\n",
    "                \n",
    "            elif local==True:\n",
    "                #accept better solution found from local search\n",
    "                current_state = copy.deepcopy(best_neighbour_state)\n",
    "                current_score = best_neighbour_score\n",
    "                #update global best score\n",
    "                if best_neighbour_score > best_score:\n",
    "                    n_since_best = 0\n",
    "                    temp_at_best = temp\n",
    "                    best_state = copy.deepcopy(best_neighbour_state)\n",
    "                    best_score = best_neighbour_score\n",
    "                    best_cipher = best_neighbour_cipher\n",
    "\n",
    "                # Decrease temperature. \n",
    "            temp *= 1.0 - cooling_rate\n",
    "\n",
    "            if n_since_best > 20000:\n",
    "                print('repick starting point')\n",
    "                #no good solutions found for a while,restart\n",
    "                n_abandon += 1\n",
    "                temp_at_best = temp\n",
    "                current_state = start(ciphertext)\n",
    "                current_cipher = transposed_ciphertext(ciphertext,current_state[1])\n",
    "                current_score = score(current_state[0],current_cipher,current_state[1])[0]\n",
    "                n_since_best = 0\n",
    "\n",
    "            if n_iterations % 2000 == 0:\n",
    "                iter_per_sec = int(10000/(time.time() - start_time))\n",
    "                #tracking progress\n",
    "                print(f'time elapsed = {time.time() - start_time}')\n",
    "                print(f'{iter_per_sec} iterations / sec')\n",
    "                print(f'temperature   = {temp:.2f}')\n",
    "                print(f'best_score    = {best_score:.6f}')\n",
    "                print(f'current_score = {current_score:.6f}')\n",
    "                print(f'n_iterations  = {n_iterations}')\n",
    "                print(f'n_restart     = {n_restart}')\n",
    "                print(f'n_backtracks  = {n_abandon}')\n",
    "                print(f'n_explore     = {n_explore}')\n",
    "                print(f'n_since_best  = {n_since_best}')\n",
    "                print(f'n_since_best  = {n_since_best}')\n",
    "                print('')\n",
    "                print(score(best_state[0],best_cipher,best_state[1])[0])\n",
    "                print('')\n",
    "                print(score(best_state[0],best_cipher,best_state[1])[1])\n",
    "                print('')\n",
    "                print(best_cipher)\n",
    "                print('')\n",
    "                start_time = time.time()\n",
    "        print('repick starting point')\n",
    "    \n",
    "    return [score(best_state[0],best_cipher,best_state[1]),n_iterations]"
   ]
  },
  {
   "cell_type": "code",
   "execution_count": null,
   "metadata": {
    "id": "f6l8W6O96iUA",
    "outputId": "c69bf397-8340-4c22-c5fd-10db9d3e21b1",
    "scrolled": true
   },
   "outputs": [],
   "source": [
    "solve(cipher,1e4,0.01,10,100)"
   ]
  },
  {
   "cell_type": "markdown",
   "metadata": {},
   "source": [
    "## Extra Score Function"
   ]
  },
  {
   "cell_type": "code",
   "execution_count": 13,
   "metadata": {
    "id": "A36e0_wM6iUD"
   },
   "outputs": [],
   "source": [
    "def score_zodiac_like_words(plaintext):\n",
    "    '''give extra score points to candidate plaintexts with words appearing in highly-likely words to appear in the actual plaintext solution'''\n",
    "    #D is a dictionary of words that is likely to be in the cipher, higher the score, the more likely it is that the word would appear in the cipher\n",
    "    #if one of these words appears in the plaintext, the candidate is scored higher\n",
    "    #D is for  the cipher 'for centuries, kings and queens...'\n",
    "    #D can be tailored to Zodiac ciphers using words like 'kill'\n",
    "    D = {'CENTURIES':100,'KINGS':20,'QUEENS':100,'CODEBREAKERS':200}\n",
    "    score = 0\n",
    "    for i in D:\n",
    "        score = score + D[i]*plaintext.count(i)\n",
    "\n",
    "    return 0.4*score"
   ]
  },
  {
   "cell_type": "code",
   "execution_count": null,
   "metadata": {},
   "outputs": [],
   "source": []
  }
 ],
 "metadata": {
  "colab": {
   "provenance": []
  },
  "kernelspec": {
   "display_name": "Python 3 (ipykernel)",
   "language": "python",
   "name": "python3"
  },
  "language_info": {
   "codemirror_mode": {
    "name": "ipython",
    "version": 3
   },
   "file_extension": ".py",
   "mimetype": "text/x-python",
   "name": "python",
   "nbconvert_exporter": "python",
   "pygments_lexer": "ipython3",
   "version": "3.9.13"
  }
 },
 "nbformat": 4,
 "nbformat_minor": 1
}
