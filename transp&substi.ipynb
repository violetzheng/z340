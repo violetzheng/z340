{
 "cells": [
  {
   "cell_type": "code",
   "execution_count": 47,
   "metadata": {
    "id": "W543DlnP6iS2"
   },
   "outputs": [],
   "source": [
    "import random\n",
    "import copy\n",
    "import time\n",
    "import math\n",
    "def start(cipher):\n",
    "    #no transposition applied\n",
    "    symbols = []\n",
    "    for i in cipher:\n",
    "        if i not in symbols:\n",
    "            symbols.append(i)\n",
    "    total = len(symbols)\n",
    "    alphabet = [ 'e', 't', 'a', 'o', 'h', 'n', 'i', 's', 'r', 'd', 'l', 'u', 'w', 'm', 'c', 'g', 'f', 'y', 'p', 'v', 'k', 'b', 'j', 'x', 'z', 'q']\n",
    "    key = {}\n",
    "    #distribute symbols by allocating more symbols to more common letters\n",
    "    for i in range(0,6):\n",
    "        x=random.sample(range(1,5), 1)[0]\n",
    "        ran_ind = random.sample(range(0, total-1), x)\n",
    "        letters_to_remove = []\n",
    "        symbols_for_key = []\n",
    "        for j in ran_ind:\n",
    "            symbols_for_key.append(symbols[j])\n",
    "            letters_to_remove.append(symbols[j])\n",
    "        for j in letters_to_remove:\n",
    "            symbols.remove(j)\n",
    "        key[alphabet[i]] = symbols_for_key\n",
    "        total-=x\n",
    "    for i in range(6,26):\n",
    "        x=random.sample(range(1,3), 1)[0]\n",
    "        if total <= 26-i+2:\n",
    "            x=1\n",
    "        ran_ind = random.sample(range(0, total), x)\n",
    "        letters_to_remove = []\n",
    "        symbols_for_key = []\n",
    "        for j in ran_ind:\n",
    "            symbols_for_key.append(symbols[j])\n",
    "            letters_to_remove.append(symbols[j])\n",
    "        for j in letters_to_remove:\n",
    "            symbols.remove(j)\n",
    "        total-=x\n",
    "        key[alphabet[i]] = symbols_for_key\n",
    "    if len(symbols)>0:\n",
    "        for i in symbols:\n",
    "            key['e'].append(i)\n",
    "    transpose = random.sample(range(0, len(cipher)-1), 3)\n",
    "    transpose[0],transpose[1],transpose[2] = int(transpose[0]),int(transpose[1]),int(transpose[2])\n",
    "    transpose.sort()\n",
    "    return key,transpose\n",
    "#output in form of {'e':['x','x'],...}"
   ]
  },
  {
   "cell_type": "code",
   "execution_count": 7,
   "metadata": {
    "colab": {
     "base_uri": "https://localhost:8080/",
     "height": 235
    },
    "id": "2tEjhRPW6iTK",
    "outputId": "c107ed7e-c8b5-4215-e299-f963da0f593d"
   },
   "outputs": [
    {
     "name": "stdout",
     "output_type": "stream",
     "text": [
      "11712713.0346226\n"
     ]
    }
   ],
   "source": [
    "import math\n",
    "f = open('english_quintgrams.txt', 'r')\n",
    "quintgrams = f.read()\n",
    "L = []\n",
    "for quintgram in quintgrams.split():\n",
    "    L.append(quintgram)\n",
    "D = {}\n",
    "total = 0\n",
    "#total is total no. pentagrams\n",
    "for i in range(0,len(L)):\n",
    "    if i%2 == 0:\n",
    "        D[L[i]] = math.log(1.0+float(L[i+1]))\n",
    "        total += float(math.log(1.0+float(L[i+1])))\n",
    "print(total)\n",
    "alphabet =  ['A','B','C','D','E','F','G','H','I','J','K','L','M','N','O','P','Q','R','S','T','U','V','W','X','Y','Z']\n",
    "alphabetised_quint  = []\n",
    "#create alphebetised list of pentagrams to access via index of quintgrams\n",
    "for p in alphabet:\n",
    "    for q in alphabet:\n",
    "        for r in alphabet:\n",
    "            for s in alphabet:\n",
    "                for t in alphabet:\n",
    "                    quint =  p+q+r+s+t\n",
    "                    if quint in D:\n",
    "                        alphabetised_quint.append([quint,float(D[quint])/total])\n",
    "                    else:\n",
    "                        #quintgram is not found in the corpus used to construct quintgram count\n",
    "                        alphabetised_quint.append([quint,0])"
   ]
  },
  {
   "cell_type": "code",
   "execution_count": 8,
   "metadata": {
    "id": "cP7edMjP6iTQ"
   },
   "outputs": [],
   "source": [
    "import sys\n",
    "import collections\n",
    "def IoC(plaintext):\n",
    "    #calculate the index of coincidence of the candidate plaintext\n",
    "    N = len(plaintext)\n",
    "    \n",
    "    numLetters  = [0] * 26\n",
    "    for char in plaintext:\n",
    "        numLetters [ord(char) - 65] += 1\n",
    "\n",
    "    IoC = sum([entry * (entry - 1) for entry in numLetters ])\n",
    "    IoC /= N * (N - 1)\n",
    "\n",
    "    return IoC"
   ]
  },
  {
   "cell_type": "code",
   "execution_count": 9,
   "metadata": {
    "id": "4gOR3tEL6iTT"
   },
   "outputs": [],
   "source": [
    "#for centuries ... text\n",
    "#homophonic & transposed by period 19\n",
    "cipher = 'jiD^lW^.F%wIfkDDj%Ruc<DPKH$fxnf$C^<r<$^<RRDwbihbK<$cYPlRi<~b<llRDx$.liYR$x<l$iEllX$Dil<z%c$OliVxmgzlWRzl<a<M$KPnlHafxx<wu!~lxERDo<RVUK.$@?lPvOl<Dk*<i<DDvlMRcHbfD.x?KyRfisarM<xPixbWl<cDPl<SiD$lll<icklG<P%?v$jI?liKxr?VuJSlx<.f<%$cXWMZlJ$CD$Y@a<.lhISvwiGlO?%r<?*EiIwRK<Di.wP^iRWVDD*$lx<~jPS<<jP<^$fEq<xf<Li*<$blxDeXA*<f<<.IbuiZbG!.fvYrb<l<Imvw<.xHIIWPPD?j<rxgIMDDA<aO$DMVFj<$IYDxi<UxX%al$<n$.fDRx^w$<D$vCnxlUlplF%^rf<K^rIH$RDf$i<C$<zF<InJi*<Rhb.PbS$<<^PRxxvuI?<*$Il@$U$i<K<lPM$xiDG$D@RllJ.l&!xDAxSTP.RlPxRlDXX.~%Fs<$caxx!Rbccl<<<lvwRDWx!<W<DiDl?xax$zAl.ClWLcZ$AYDUc$.iIPn.<fxcxia<liA<Dlm<lvD^vx<lPW%XlW<l$$?*D$l*?lwvwnlcOMx<klV$l<!$x.SwU$vcw<a?RrD<DDu<wAW%mrAec~@x^q<R^Dx^D$A<rlD<al@.AA$x<ia$cDq<cbulDIZK$xj<TRCIz%$C$?^~xRTx$?$W?k$jS$qWl^?l<U.RrV<aDx<$$cPMaZRPMlylx$AWuiUxD<k<!$PcDxbxxEc$wDB<HD!I<x$?$$q@D@<ilWP$DKl<U<$<x$??$i~xz$Sh<a<xW<MlCUlxl.r^HbcPx%IufBIH&aW!R$xxcfPl?P<^?fDxPwRWb$c$R$xaDbf?vaR$xlRwD<f~xArKDca%FwN^m^PXx!w<f*PurmTR<H<r$?lx<l?D$j$a$Wx<D<wUDxRnwDPR$xrmi$xlRiEfcWT~IZ^<wlDwc^l.x?lux!uu.$b$W<Curqx?<DxZ.x&XDDl<Wr<Wuxlii$DDqKrbfxT<MU<w*<<bc<xRDl*v!rwRcllP<An*Eb?ExPu%xWx<aZ<LvWDxfc?xVRx^KxiW?PW$.EuxT?<?wrRI~lXiIlvw?lx%Ri.?!~a<?Vr<WlVa.tMxc$I$xHaDlR<<<xi^^Db<wWrl.Dc^wP*l^Tl?<SlxOPrlHHCZ?II<x~b@$RbhmaWPD^.larj$xsnMxCZxc~GYU$xX!@$@<a$$j%l<<l<W<.bx$DrElxRb$Rx<Da~Df.r^PY<RK<%^wlVx<$<.f$Y@PAuxWa<v<$X$^FD<f<$x@P<.YI*D$Rbl*a%Pc<KxW~W$<uWSKnT^fTfD^<<x@WlMbx$vxl<wYWR*WD*?DaUVO~SU.iuI<ilInkPclWWaETxc.XH$wi?^xDc?Dq^W.xS?HcuWML&ga?$x$@<yZluxraDr.PNDF<Bj<x$<?%Y^DblEIhlx*v%KWq<@i$l*Xc$<nI$AlK<B%Mw<lif^SxwU<r$i<J^YaKlPx%aaxIzDbl$SiU<ZxSUwrrUxD$DA&%vP<AGR@lxzRk&lixzZRDl<<lPDjN$D<$Cw*<PAa.WO$w$Arbi$M$IuPDil?^fED<L$?f?^l^XN<Xnwblx$l<DwaZO.l?Rw?r$?c<xx.Blc$$DxWKxlxHcbDuh^r<bD'"
   ]
  },
  {
   "cell_type": "code",
   "execution_count": 10,
   "metadata": {
    "id": "VwFIfNyo6iTW"
   },
   "outputs": [],
   "source": [
    "untransposed_cipher = 'jlDMi$<bDc.xXw$zxgbii$xE$kSi$WD!Rx%!IWDfRcfql$.OOc@ca$<Ml^^b$c@V<wl$?$lDCWD<lSlIWD$<PiwD@lb$<DcWx*$T@l^^V$q<Pf?DAD^wax~<<PixA^a<?^i<P.U%HIi!RRmrW$Av~DalF<PaZl$xWgb.$naxlO<%rcD^WxxVzixj*RR?$Sw$<l<P.vDl$S%E$TxDiIiKRw$SuDWM?lbxxaMDf<x<lDwI*R$H<?l$xV$kJW<DKU?$zIc<ER?$FlD^~<wl$<lluulxw$zjlDYWxc<v*x<PW<PDWA<lja$i^Uc$<aDMWu<?l$<%K<^l<wI~<iL<%fk.IiRlu^.$<ljMl&.x~$CYcuPWDx<a@P$?gbWxjlDkcxSb?x?$SK^axxASWxl<%K<l$RU<Pf?$<r$LiGDanwu?r$<nE$DaKqc<<PaTWx?DijlDxrZDWZUPKx^r!$<<PH<$E<cl$x%HIfluiDK<aL@lLa^AX?$zT.u~D<^f$<xv%?Y%vfDfD.xul$x?yRWFlDa$xbDc$z<PfxfZbDw<Uljnl^^b$wME<?l$xNUc$If$<w$SA$qw^uRf^.$<?$S<PWhWx<ulxxcmR.nlCix*<<%ix!^r<?^ri$i^U@lCamDf~XaDxPVI.K<<W^u<rG<lNDaVX<PfxrZlTrxA$Lx<r~RxanDr<xMlqWeDiEX.Dx!D.R?$Sb?x<c@*RnPf^wx<xV^Ux<?M~R<DwN.K<<f^u<w$S<l@l$obDrxf$xwJRrvlDCxlb<lF^i*$c$SRrxxxU^JlRx<PWPcx<lDUlOZlq.xV$BY?uPiDxwx<P.x<lDUlj<PrMa$<bDwrxlR&eK<<RWma<v.i$Yl&.^!X.DxK$TZlCfhDWHXrDxA$w$<.RRin<bARHD^xD*@a<%E<PAx%K&*CDH^A<?Z?^uHM<l$<%WZlbDxflO%wx<lDUc$vD?<c$S<P.YlTryllXcP*IWPAT<vl^V?$lmpWY<?Irx<P.O?Dx<?x<lMPAD<<%r.IlRb<?l$lFZlGaxWIlRb<wl$wxAv%lRRU~uuDluD?E<r<WD^Ji@Vbxf<PikrI.Rlu^r$<lO@lBaxZ*$hfI?ivfC~x~$iIlRb<?l$~DUx<DbzSRiH@lGicxYl$x<K$<RUb$&.D!<<*@XjDl^Ylk.hDaAX.DxvPi$<Pr@l&imDWAXfDx%AIakWIaRluaq!$.vv.Kul$<%H<DiIWKRx~YlBWxvW!X$.xx<Pr$<%rMlqWwx$lRl$ziDbxiFbRc<a?<PWDh.Zl^fxas<c$@<lDc<fIlRI.xc$<lH$ivx<Dl$SiDnlTfc$<bD$<%wx$ivYlka<PDcIfxl$RUb$<wR<PrMlqamDW*XiDx?Ci$<cjU?<xv.KX$.xx*$Gxll$<Pcxwxxc^?RED<l<PWxw<b!<?l$F!nc$zOlDWs*^uR.Kx<D~w$lF?$jan<?lbxyHn<aDw*<%iNEM<fDcHRcIf<PD?IrE$TxbDIcIfb$<?RBln<lDxCcxZlIiDA$V$<wJ?l<cZ<PK<WsulxrxHvi*X$.xxw$<PahK@<rDw*E$CXcRRx<Pr^<PWm!n<iDwH~DWjlDMrB<liIlRIi*$Glb<v?<<%.V$<chwl<wY*$TwjxbMYaxxObR<PiUvcRR<PDwI.l$M.KzA?$!$CDrix<*tR?xP<%a^xrRIWx'"
   ]
  },
  {
   "cell_type": "code",
   "execution_count": 11,
   "metadata": {
    "id": "swAXFHCX6iTc"
   },
   "outputs": [],
   "source": [
    "import random\n",
    "def generate(old_solution,N):\n",
    "    #swap position of 2 symbols in key, or swap position of 1 symbol in key\n",
    "    alphabet = [ 'e', 't', 'a', 'o', 'h', 'n', 'i', 's', 'r', 'd', 'l', 'u', 'w', 'm', 'c', 'g', 'f', 'y', 'p', 'v', 'k', 'b', 'j', 'x', 'z', 'q']\n",
    "    #swap 1 symbol to another key\n",
    "    key1 = random.choice(list(old_solution))\n",
    "    while len(old_solution[key1]) <1:\n",
    "        key1 = random.choice(list(old_solution))\n",
    "\n",
    "    key2 = str(random.choice(alphabet))\n",
    "    while str(key1) == str(key2) is True:\n",
    "        key2 = str(random.choice(alphabet))\n",
    "\n",
    "    x1_pos = random.sample(range(0, len(old_solution[key1])), 1)[0]\n",
    "    symbol = old_solution[key1][x1_pos]\n",
    "    #print(symbol)\n",
    "    old_solution[key1].remove(symbol)\n",
    "    old_solution[key2].append(symbol)\n",
    "    \n",
    "    \n",
    "    #generate new trasnsposition candidate solution key\n",
    "    transpose = random.sample(range(0, N-1), 3)\n",
    "    transpose[0],transpose[1],transpose[2] = int(transpose[0]),int(transpose[1]),int(transpose[2])\n",
    "    transpose.sort()\n",
    "    #returns new alphabet key and transpose key\n",
    "    return [old_solution,transpose]"
   ]
  },
  {
   "cell_type": "code",
   "execution_count": 7,
   "metadata": {
    "id": "qbTsz83_6iTe"
   },
   "outputs": [
    {
     "data": {
      "text/plain": [
       "[{'e': ['l', 'X', '@', 'f', 'P', 'h', 'e', '&', 'T', 'R', 'g', 'r'],\n",
       "  't': ['z', 'p', 'a', 't', 'B'],\n",
       "  'a': ['c', 'o', 'O', 'V'],\n",
       "  'o': ['Y', 'H'],\n",
       "  'h': ['^', 'M', 's'],\n",
       "  'n': ['W', '.'],\n",
       "  'i': ['%'],\n",
       "  's': ['u'],\n",
       "  'r': ['q', 'U'],\n",
       "  'd': ['j'],\n",
       "  'l': ['Z'],\n",
       "  'u': ['D'],\n",
       "  'w': ['i', 'S'],\n",
       "  'm': ['w'],\n",
       "  'c': ['v'],\n",
       "  'g': ['?', 'b'],\n",
       "  'f': ['n'],\n",
       "  'y': ['Q', '*'],\n",
       "  'p': ['C'],\n",
       "  'v': ['F'],\n",
       "  'k': ['d'],\n",
       "  'b': ['y'],\n",
       "  'j': ['K', 'N'],\n",
       "  'x': ['<', 'k'],\n",
       "  'z': ['x'],\n",
       "  'q': ['I', 'L']},\n",
       " [3, 5, 8]]"
      ]
     },
     "execution_count": 7,
     "metadata": {},
     "output_type": "execute_result"
    }
   ],
   "source": [
    "generate({'e': ['l', 'X', '@', 'f', 'P', 'h', 'e', '&', 'T', 'R', 'g', 'r'], 't': ['z', 'p', 'a', 't'], 'a': ['c', 'o', 'O', 'V'], 'o': ['Y', 'H'], 'h': ['^', 'M', 's'], 'n': ['W', '.'], 'i': ['%'], 's': ['u'], 'r': ['q', 'U'], 'd': ['j'], 'l': ['Z'], 'u': ['D'], 'w': ['i', 'S'], 'm': ['w'], 'c': ['v'], 'g': ['?', 'b'], 'f': ['n'], 'y': ['Q', '*'], 'p': ['B', 'C'], 'v': ['F'], 'k': ['d'], 'b': ['y'], 'j': ['K', 'N'], 'x': ['<', 'k'], 'z': ['x'], 'q': ['I', 'L']},10)"
   ]
  },
  {
   "cell_type": "code",
   "execution_count": 12,
   "metadata": {
    "id": "gGLWyFxN6iTg"
   },
   "outputs": [],
   "source": [
    "import math\n",
    "def score(solution,new_cipher,transpose):\n",
    "    #find plaintext according to candidate key\n",
    "    plaintext = ''\n",
    "    fitness=0.0\n",
    "    alphabet = ['A','B','C','D','E','F','G','H','I','J','K','L','M','N','O','P','Q','R','S','T','U','V','W','X','Y','Z']\n",
    "    #sub in candidate solution key to cipher\n",
    "    for i in new_cipher:\n",
    "        for key,value in solution.items():\n",
    "            if i in value:\n",
    "                plaintext += str(key)\n",
    "    plaintext = plaintext.upper()\n",
    "\n",
    "    for i in range(0,len(plaintext)-4):\n",
    "        pentagram = plaintext[i:i+5]\n",
    "        #access pentagram probability score via numerical key\n",
    "        index = (alphabet.index(pentagram[0]) * 26 * 26 * 26 * 26 +\n",
    "                 alphabet.index(pentagram[1]) * 26 * 26 * 26 +\n",
    "                 alphabet.index(pentagram[2]) * 26 * 26 +\n",
    "                 alphabet.index(pentagram[3]) * 26 +\n",
    "                alphabet.index(pentagram[4]))\n",
    "        y = float((alphabetised_quint[index])[1])\n",
    "        fitness += y\n",
    "    fitness = fitness * 1e6\n",
    "    IoC_score = IoC(plaintext)\n",
    "    difference = abs((IoC_score - 0.067))\n",
    "    homophonic_score = fitness - 1000.0*difference \n",
    "    transpose_score = 0.3*repeating_bigrams(new_cipher) + bigram_score(plaintext)\n",
    "    #put different weights on homophonic substitution and transposition scores\n",
    "    final_score = 0.4*homophonic_score + 0.6 * transpose_score + score_zodiac_like_words(plaintext)\n",
    "    return final_score,plaintext"
   ]
  },
  {
   "cell_type": "code",
   "execution_count": 48,
   "metadata": {
    "id": "pG-JDjME6iTj"
   },
   "outputs": [
    {
     "name": "stdout",
     "output_type": "stream",
     "text": [
      "252.33654284045122\n",
      "613.2514338186061\n"
     ]
    },
    {
     "data": {
      "text/plain": [
       "(865.5879766590573,\n",
       " 'FORCENTURIESKINGSQUEENSANDGENERALSHAVERELIEDONEFFICIENTCOMMUNICATIONINORDERTOGOVERNTHEIRCOUNTRIESANDCOMMANDTHEIRRMIESATTHESMETIMETHEYHAVEALLBEENWAREOFTHECONSEQUENCESOFTHEIRMESSAGESFALLINGINTOTHEWRONGHANDSREVEALINGPRECIOUSSECRETSTORIVALNATIONSANDBETRAYINGVITALINFORMATIONTOOPPOSINGFORCESITWASTHETHRETOFENEMYINTERCEPTIONTHATMOTIVATEDTHEDEVELOPMENTOFCODESANDCIPHERSTECHNIQUESFORDISGUISINGAMESSGESOTHATONLYTHEINTENDEDRECIPIENTCANREADITTHEDESIREFORSECRECYHASMEANTTHATNATIONSHAVEOPERATEDCODEMKINGDEPARTMENTSWHICHWERERESPONSIBLEFORENSURINGTHESECURITYOFCOMMUNICATIONSBYINVENTINGNDIMPLEMENTINGTHEBESTPOSSIBLECODESATTHESAMETIMEENEMYCODEBREAKERSHAVEATTEMPTEDTOBREAKTHESECODESNDSTEALSECRETSCODEBREAKERSARELINGUISTICALCHEMISTSAMYSTICALTRIBEATTEMPTINGTOCONJURESENSIBLEWORDSOUTOFMEANINGLESSSYMBOLSTHEHISTORYOFCODESANDCIPHERSISTHESTORYOFTHECENTURIESOLDBATTLEBETWEENCODEMAKERSANDCODEBREAKERSNINTELLECTULARMSRACETHATHSHADADRAMTICIMPACTONTHECOURSEOFHISTORYINWRITINGTHECODEBOOKIHAVEHDTWOMAINOBJECTIVESTHEFIRSTISTOCHRTTHEEVOLUTIONOFCODESEVOLUTIONISWHOLLYAPPROPRIATETERMBECAUSETHEDEVELOPMENTOFCODESCANBEVIEWEDASANEVOLUTIONARYSTRUGGLEACODEISCONSTANTLYUNDERATTACKFROMCODEBREKERSWHENTHECODEBREKERSHVEDEVELOPEDANEWWEAPONTHATREVEALSACODESWEAKNESSTHENTHECODEISNOLONGERUSEFULITEITHERBECOMESEXTINCTORITEVOLVESINTOANEWSTRONGERCODEINTURNTHISNEWCODETHRIVESONLYUNTILTHECODEBREAKERSIDENTIFYITSWEAKNESSANDSOONTHISISSIMILARTOTHESITUATIONFACINGFOREXAMPLEASTRAINOFINFECTIOUSBACTERIATHEBACTERIALIVETHRIVEANDSURVIVEUNTILDOCTORSDISCOVERNANTIBIOTICTHATEXPOSESAWEAKNESSINTHEBACTERIAANDKILLSTHEMTHEBACTERIAAREFORCEDTOEVOLVEANDOUTWITTHEANTIBIOTICANDIFSUCCESSFULTHEYWILLTHRIVEONCEAGINANDREESTABLISHTHEMSELVES')"
      ]
     },
     "execution_count": 48,
     "metadata": {},
     "output_type": "execute_result"
    }
   ],
   "source": [
    "score({'a': ['E', '!', '~', '*', 'K', 'H', 'V'], 'b': ['J', 't', 'm', 'h', 'e', 'N', 'y'], 'c': ['n', '@', 'Z', 'Y', 'M'], 'd': ['k', 'G', 'L', 'B', 'T', 'C', '&', 'q'], 'e': ['f', 'i', 'W', 'r', 'a', '.'], 'f': ['j', 'O', 'F'], 'g': ['z', 'S'], 'h': ['%', 'P'], 'i': ['?', 'w', 'c'], 'j': ['p', 'Q', 'o'], 'k': ['X'], 'l': ['R'], 'm': ['^'], 'n': ['$'], 'o': ['l'], 'p': ['u'], 'q': ['g'], 'r': ['D'], 's': ['x'], 't': ['<'], 'u': ['b'], 'v': ['I'], 'w': ['v'], 'x': ['s'], 'y': ['U'], 'z': ['d']},untransposed_cipher,[1,5,3])"
   ]
  },
  {
   "cell_type": "code",
   "execution_count": 13,
   "metadata": {
    "id": "QUWEd1zN6iTl"
   },
   "outputs": [],
   "source": [
    "def transpose_score(plaintext):\n",
    "    return bigram_score(plaintext)"
   ]
  },
  {
   "cell_type": "code",
   "execution_count": 14,
   "metadata": {
    "id": "6R-9qFDI6iTm"
   },
   "outputs": [],
   "source": [
    "def repeating_bigrams(text):\n",
    "    bigrams =  {}\n",
    "    text = \"\".join(text.split())\n",
    "    for i in range(0,len(text)-1):\n",
    "        letters = str(text[i]+text[i+1])\n",
    "        if bigrams.get(letters) is not None:\n",
    "            bigrams[letters] += 1\n",
    "            #counts total number of times this bigram appears in text\n",
    "        else:\n",
    "            bigrams[letters] = 1\n",
    "    repeated = 0\n",
    "    for key, value in bigrams.items():\n",
    "        if value > 1:\n",
    "            repeated = repeated + value -1\n",
    "            #repeated bigram does not include first bigram detected, so subtract 1 from all counters\n",
    "    return repeated"
   ]
  },
  {
   "cell_type": "code",
   "execution_count": 38,
   "metadata": {},
   "outputs": [
    {
     "data": {
      "text/plain": [
       "29"
      ]
     },
     "execution_count": 38,
     "metadata": {},
     "output_type": "execute_result"
    }
   ],
   "source": [
    "repeating_bigrams('ONEBEAUTIFULMORNINGIWASTAKINGASTROLLINTHEGARDENWHENISAWSOMETHINGSTRANGEITWASADOGWITHAGIRLANDTHEYWERESPRINTING')"
   ]
  },
  {
   "cell_type": "code",
   "execution_count": 15,
   "metadata": {
    "id": "d0kIShdn6iTq"
   },
   "outputs": [],
   "source": [
    "def repeating_trigrams(text):\n",
    "    trigrams =  {}\n",
    "    text = \"\".join(text.split())\n",
    "    for i in range(0,len(text)-2):\n",
    "        letters = str(text[i]+text[i+1]+text[i+2])\n",
    "        if trigrams.get(letters) is not None:\n",
    "            trigrams[letters] += 1\n",
    "        else:\n",
    "            trigrams[letters] = 1\n",
    "    repeated = 0\n",
    "    for key, value in trigrams.items():\n",
    "        if value > 1:\n",
    "            repeated = repeated + value -1\n",
    "    return repeated"
   ]
  },
  {
   "cell_type": "code",
   "execution_count": null,
   "metadata": {
    "id": "HlyuzRCI6iTs",
    "outputId": "81aec033-c6ce-45af-e3c7-d6faa7e3223a"
   },
   "outputs": [],
   "source": [
    "repeating_bigrams(untransposed_cipher)"
   ]
  },
  {
   "cell_type": "code",
   "execution_count": null,
   "metadata": {
    "id": "uvMMOy4_6iTu"
   },
   "outputs": [],
   "source": [
    "repeating_trigrams(untransposed_cipher)"
   ]
  },
  {
   "cell_type": "code",
   "execution_count": 16,
   "metadata": {
    "id": "_ac5F4ot6iTx"
   },
   "outputs": [],
   "source": [
    "def bigram_score(text):\n",
    "    #for english plaintext, not ciphertext\n",
    "    text = text.upper()\n",
    "    bigrams =  {}\n",
    "    score=0\n",
    "    total=len(text)-1\n",
    "    text = \"\".join(text.split())\n",
    "    for i in range(0,len(text)-1):\n",
    "        letters = str(text[i]+text[i+1])\n",
    "        if bigrams.get(letters) is not None:\n",
    "            bigrams[letters] += 1\n",
    "        else:\n",
    "            bigrams[letters] = 1\n",
    "      #bigrams now countains a counter for the number of times each bigra appear in the text\n",
    "    for i in bigrams:\n",
    "        bigrams[i]=bigrams[i]/total\n",
    "        score += abs(bigrams[i]-alphabetised_bi[i])\n",
    "        #score adds together the differences between the ratio of times bigrams appear in the text vs the ratio of times that bigram appear in the collated bigram counter file\n",
    "    return float(100.0/score)"
   ]
  },
  {
   "cell_type": "code",
   "execution_count": 34,
   "metadata": {
    "id": "I5AmgtcO6iTy",
    "outputId": "a2393f45-c2b8-4103-d27e-ec003faa687f"
   },
   "outputs": [
    {
     "data": {
      "text/plain": [
       "104.35725872142157"
      ]
     },
     "execution_count": 34,
     "metadata": {},
     "output_type": "execute_result"
    }
   ],
   "source": [
    "bigram_score('ZZPPUWHLQPFQUYFPGQWUVEFPVJBSWQIS')"
   ]
  },
  {
   "cell_type": "code",
   "execution_count": 35,
   "metadata": {
    "id": "jP_HvL7m6iTz"
   },
   "outputs": [
    {
     "data": {
      "text/plain": [
       "104.83872758805988"
      ]
     },
     "execution_count": 35,
     "metadata": {},
     "output_type": "execute_result"
    }
   ],
   "source": [
    "bigram_score('GOODMORNINGITISAGOODDAYTODAYRIGHT')"
   ]
  },
  {
   "cell_type": "code",
   "execution_count": 36,
   "metadata": {
    "id": "_sIBbMdY6iT1"
   },
   "outputs": [
    {
     "data": {
      "text/plain": [
       "116.47964819648435"
      ]
     },
     "execution_count": 36,
     "metadata": {},
     "output_type": "execute_result"
    }
   ],
   "source": [
    "bigram_score('ONEBEAUTIFULMORNINGIWASTAKINGASTROLLINTHEGARDENWHENISAWSOMETHINGSTRANGEITWASADOGWITHAGIRLANDTHEYWERESPRINTING')"
   ]
  },
  {
   "cell_type": "code",
   "execution_count": 37,
   "metadata": {
    "id": "bwB6ClEU6iT2"
   },
   "outputs": [
    {
     "data": {
      "text/plain": [
       "115.67321665443292"
      ]
     },
     "execution_count": 37,
     "metadata": {},
     "output_type": "execute_result"
    }
   ],
   "source": [
    "bigram_score('ONEBEAUTIFULMORNINGIWASTAKINGASTROLLINTHEGARDENWHENISAWSOMETHINGSTRANGEITWASADOGWITHAGIRLANDTHEYWERESPRINTING'.replace('A','M'))"
   ]
  },
  {
   "cell_type": "code",
   "execution_count": 17,
   "metadata": {
    "id": "JQK_aMR96iT3"
   },
   "outputs": [],
   "source": [
    "old_transpose_cipher = 'helloiamviolet'\n",
    "transpose = [1,4,8]\n",
    "a,b,c = transpose[0],transpose[1],transpose[2]\n",
    "new_cipher = old_transpose_cipher[0:a]+old_transpose_cipher[b:c]+old_transpose_cipher[a:b]+old_transpose_cipher[c:len(old_transpose_cipher)]"
   ]
  },
  {
   "cell_type": "code",
   "execution_count": null,
   "metadata": {
    "colab": {
     "base_uri": "https://localhost:8080/"
    },
    "id": "YnidLlL-6iT4",
    "outputId": "bf7fcddc-e845-49e5-f9b0-5dbfbf2dab03"
   },
   "outputs": [],
   "source": [
    "print(new_cipher)"
   ]
  },
  {
   "cell_type": "code",
   "execution_count": 18,
   "metadata": {
    "id": "JrAXWFnm6iT6",
    "outputId": "8eaff42a-ec14-4a85-9719-8d62260d492e"
   },
   "outputs": [
    {
     "name": "stdout",
     "output_type": "stream",
     "text": [
      "9271.650802516351\n"
     ]
    }
   ],
   "source": [
    "import math\n",
    "f = open('english_bigrams.txt', 'r')\n",
    "bigrams = f.read()\n",
    "L = []\n",
    "for bigram in bigrams.split():\n",
    "    L.append(bigram)\n",
    "D = {}\n",
    "total = 0\n",
    "#total is total no. pentagrams counted\n",
    "for i in range(0,len(L)):\n",
    "    if i%2 == 0:\n",
    "        D[L[i]] = math.log(1.0+float(L[i+1]))\n",
    "        total += float(math.log(1.0+float(L[i+1])))\n",
    "print(total)\n",
    "#Similar to quintgram file, we create a list of all possible bigrams in alphabetised_bi\n",
    "alphabet =  ['A','B','C','D','E','F','G','H','I','J','K','L','M','N','O','P','Q','R','S','T','U','V','W','X','Y','Z']\n",
    "alphabetised_bi  = {}\n",
    "\n",
    "for p in alphabet:\n",
    "    for q in alphabet:\n",
    "                    quint =  p+q\n",
    "                    if quint in D:\n",
    "                      #standardalise the no. bigrams counted\n",
    "                        alphabetised_bi[quint]=float(D[quint])/total\n",
    "                    else:\n",
    "                        alphabetised_bi[quint]=0"
   ]
  },
  {
   "cell_type": "code",
   "execution_count": 19,
   "metadata": {
    "id": "tFVRyQL-6iT7"
   },
   "outputs": [],
   "source": [
    "def solve(ciphertext, initial_temperature, cooling_rate,n_restarts, n_local):\n",
    "    N=len(ciphertext)\n",
    "    n_explore = 0\n",
    "    n_iterations = 0\n",
    "    n_since_best = 0\n",
    "    n_abandon = 0\n",
    "    #initialise variables\n",
    "    current_state = start(ciphertext)\n",
    "    print(current_state)\n",
    "    current_cipher = transposed_ciphertext(str(ciphertext),current_state[1])\n",
    "    current_score = score(current_state[0],current_cipher,current_state[1])[0]\n",
    "    best_state = copy.deepcopy(current_state)\n",
    "    best_score = current_score\n",
    "    best_cipher = current_cipher\n",
    "    start_time = time.time()\n",
    "\n",
    "    for n_restart in range(0,n_restarts):\n",
    "        current_state = start(ciphertext)\n",
    "        current_cipher = transposed_ciphertext(current_cipher,current_state[1])\n",
    "        current_score = score(current_state[0],current_cipher,current_state[1])[0]\n",
    "        # generate initial key candidate\n",
    "        temp = initial_temperature\n",
    "        temp_at_best = temp\n",
    "        while temp > 1:\n",
    "            # initialise local search\n",
    "            best_neighbour_state = copy.deepcopy(current_state)\n",
    "            #keep track of current ciphertext after transposed via trannspose key and substitution via homophonic substitution key\n",
    "            best_transposed_cipher = current_cipher\n",
    "            best_neighbour_score = current_score\n",
    "            best_neighbour_cipher = current_cipher\n",
    "            temporary =  copy.deepcopy(current_state)\n",
    "            current_transpose_key = current_state[1]\n",
    "            best_local_score = bigram_score(score(best_neighbour_state[0],best_transposed_cipher,current_transpose_key)[1])\n",
    "            best_local_t_key = current_transpose_key\n",
    "            # local search\n",
    "            local = False\n",
    "            #keep transposition key the same, local search by changing alphabet key\n",
    "            for i in range(0,1):\n",
    "                temporary = copy.deepcopy(best_neighbour_state)\n",
    "            \n",
    "                for i in range(0,20):\n",
    "                    n_iterations += 1\n",
    "                    n_since_best += 1\n",
    "                    #local search for good transposition\n",
    "                    transpose = random.sample(range(0, N-1), 3)\n",
    "                    transpose[0],transpose[1],transpose[2] = int(transpose[0]),int(transpose[1]),int(transpose[2])\n",
    "                    transpose.sort()\n",
    "                    C  = transposed_ciphertext(current_cipher,transpose)\n",
    "                    s = bigram_score(score(current_state[0],C,transpose)[1])\n",
    "                    if s>best_local_score:\n",
    "                        best_local_score = s\n",
    "                        best_local_t_key = transpose\n",
    "\n",
    "                for i in range(0,10):\n",
    "                    n_iterations += 1\n",
    "                    n_since_best += 1\n",
    "                    nearby_state = generate(temporary[0],len(ciphertext))\n",
    "                    nearby_state[1]=best_local_t_key\n",
    "                    #local search for good homophonic substitution key\n",
    "                    nearby_score = score(nearby_state[0],current_cipher,best_local_t_key)[0]\n",
    "                    current_cipher = transposed_ciphertext(current_cipher,best_local_t_key)\n",
    "                    if nearby_score > best_neighbour_score:\n",
    "                            #better step found during local search\n",
    "                            #take best local step\n",
    "                            local = True\n",
    "                            best_neighbour_state = copy.deepcopy(nearby_state)\n",
    "                            best_neighbour_score = nearby_score \n",
    "                            best_neighbour_cipher = copy.deepcopy(current_cipher)\n",
    "                    \n",
    "            if local == False and 0.93 < random.uniform(0.,1.):\n",
    "                #if no better step found near neighbourhood, but acceptance probability accepts it\n",
    "                print('accept worse solution')\n",
    "                n_explore += 1\n",
    "                #take a worse step\n",
    "                current_state = copy.deepcopy(nearby_state)\n",
    "                current_score = nearby_score\n",
    "                \n",
    "            elif local==True:\n",
    "                #accept better solution found from local search\n",
    "                current_state = copy.deepcopy(best_neighbour_state)\n",
    "                current_score = best_neighbour_score\n",
    "                #update global best score\n",
    "                if best_neighbour_score > best_score:\n",
    "                    n_since_best = 0\n",
    "                    temp_at_best = temp\n",
    "                    best_state = copy.deepcopy(best_neighbour_state)\n",
    "                    best_score = best_neighbour_score\n",
    "                    best_cipher = best_neighbour_cipher\n",
    "\n",
    "                # Decrease temperature. \n",
    "            temp *= 1.0 - cooling_rate\n",
    "\n",
    "            if n_since_best > 20000:\n",
    "                print('repick starting point')\n",
    "                #no good solutions found for a while,restart\n",
    "                n_abandon += 1\n",
    "                temp_at_best = temp\n",
    "                current_state = start(ciphertext)\n",
    "                current_cipher = transposed_ciphertext(ciphertext,current_state[1])\n",
    "                current_score = score(current_state[0],current_cipher,current_state[1])[0]\n",
    "                n_since_best = 0\n",
    "\n",
    "            if n_iterations % 2000 == 0:\n",
    "                iter_per_sec = int(10000/(time.time() - start_time))\n",
    "                #tracking progress\n",
    "                print(f'time elapsed = {time.time() - start_time}')\n",
    "                print(f'{iter_per_sec} iterations / sec')\n",
    "                print(f'temperature   = {temp:.2f}')\n",
    "                print(f'best_score    = {best_score:.6f}')\n",
    "                print(f'current_score = {current_score:.6f}')\n",
    "                print(f'n_iterations  = {n_iterations}')\n",
    "                print(f'n_restart     = {n_restart}')\n",
    "                print(f'n_backtracks  = {n_abandon}')\n",
    "                print(f'n_explore     = {n_explore}')\n",
    "                print(f'n_since_best  = {n_since_best}')\n",
    "                print(f'n_since_best  = {n_since_best}')\n",
    "                print('')\n",
    "                print(score(best_state[0],best_cipher,best_state[1])[0])\n",
    "                print('')\n",
    "                print(score(best_state[0],best_cipher,best_state[1])[1])\n",
    "                print('')\n",
    "                print(best_cipher)\n",
    "                print('')\n",
    "                start_time = time.time()\n",
    "        print('repick starting point')\n",
    "    \n",
    "    return [score(best_state[0],best_cipher,best_state[1]),n_iterations]"
   ]
  },
  {
   "cell_type": "code",
   "execution_count": 20,
   "metadata": {
    "id": "ujnoF1PC6iT-"
   },
   "outputs": [],
   "source": [
    "def transposed_ciphertext(ciphertext,trans_key):\n",
    "    a,b,c = int(trans_key[0]),int(trans_key[1]),int(trans_key[2])\n",
    "    #transpose candidate plaintext according to generated transposition key\n",
    "    new_cipher = ciphertext[0:a]+ciphertext[b:c]+ciphertext[a:b]+ciphertext[c:len(ciphertext)]\n",
    "    return new_cipher"
   ]
  },
  {
   "cell_type": "code",
   "execution_count": 36,
   "metadata": {
    "id": "f6l8W6O96iUA",
    "outputId": "c69bf397-8340-4c22-c5fd-10db9d3e21b1",
    "scrolled": true
   },
   "outputs": [
    {
     "name": "stdout",
     "output_type": "stream",
     "text": [
      "({'e': ['P', 'I', '^', '.', 'w', 'c', 'x', 'Y', 'z', 'O', 'V', 'a', '!', '?', 'y', 'e', 'p', 'T'], 't': ['b', 'h', 'n'], 'a': ['R', '$', 'W', 's'], 'o': ['*', 'J', 'G'], 'h': ['m', 'X', 'E'], 'n': ['K', 'l', '~'], 'i': ['<'], 's': ['g'], 'r': ['k'], 'd': ['C', 'v'], 'l': ['&', 'N'], 'u': ['M'], 'w': ['r', 't'], 'm': ['D', 'B'], 'c': ['H', 'o'], 'g': ['i', 'u'], 'f': ['Z'], 'y': ['q'], 'p': ['f'], 'v': ['F'], 'k': ['%', 'S'], 'b': ['@'], 'j': ['L'], 'x': ['A'], 'z': ['U'], 'q': ['j']}, [181, 786, 867])\n",
      "accept worse solution\n",
      "accept worse solution\n",
      "accept worse solution\n",
      "accept worse solution\n",
      "accept worse solution\n",
      "accept worse solution\n",
      "accept worse solution\n",
      "time elapsed = 138.09615850448608\n",
      "72 iterations / sec\n",
      "temperature   = 1339.80\n",
      "best_score    = 548.379526\n",
      "current_score = 510.018592\n",
      "n_iterations  = 6000\n",
      "n_restart     = 0\n",
      "n_backtracks  = 0\n",
      "n_explore     = 7\n",
      "n_since_best  = 2640\n",
      "n_since_best  = 2640\n",
      "\n",
      "547.3329417211645\n",
      "\n",
      "RISEERSNASIHSSAEISAATESIRNTSNTSNASSTOTILEAEASSENSESASSASENSATYHSEERIESRALASANSAESILSESENTALEASARATSSTNIAAEAUEAESSEAESTLEESISENTARATANASDSSSEEEUSLSNALSANDSIDEISASASASASNEASAAEYLASAITAATASSTNTEESSRSIEOSERYTRENSTAAAIIISITOSEASSSISEHASSSENNHAEEDDADISATSRSNLHIRNIINSIESASISRSLEAEEAEAIESTAASLSIHIAIEAAAASATAESTRTAASASIAEFIETISSASINAAEANASESIEASATSSSSERESNSETALSASSOISSNRANRASAAINAESEARSTNNUNAEEEALSEETSSASRAASDAHAEIOSIAEAITSESSESESARAEALSDSEESLSNANESTESSNASEIOOEEASSSAEIATDSATATAITNSLSAERRLSADASAEAAEENYSEISEESOADNASEISSOSESITAIEASSOTTSSESDARREENEEAASELSILREAELOSEEELRASELSESTLESEESTOIEEDEESANAIRSSOASAERSSNESSISSDSELOEAISELSEEEIESOISLINTTSEESAEESNLEETAATASAEELAIARASSESSENRAISATLASASISSESTISTAESEISSASIEAIAIEEASISALAASESEEEIREDSSEASSAILTTNLNNSAIYEAROARNSESSRNSEENAISISLNIEISSTNSLSAEASLSSSADRALHSESLSHIAAEIIYUTRAAHESALNELESTASNSSSASAESODESTLANEEEASSASAASIESSTISSNIIEDALASYAOTISAAANETSITSASSESEATTEEHESILDEASNESAIARATSLIEASRISEENSANENSAEEYHAEAOIEEREOSSESSAYASESASONTSEYAESETSNOFSAAEADIEEIEDIRANSIRTTAUESSNEATSSAHIISASEILNIAIRLNIESDRIEAAAAODSDAISEANDATEUANANISLIAEISAEASSERSSSYEILRNAAREOEDANAEILNAREASSEAEIEESUETNIEIISRNEELNNDSETNANISIRITTAEIEIAEASTSNTEISDIESNNLDNSSSANISAINNESSESSTTSALESSISEERSTRARNSASNSNSAASILETOTAIADRIENAEAULSIEIAAASLISASAEESSSEALLSSSASESISAESEAETSSIRSSNTDASNEENISENSANYAIINASEETERAINARLLARRIEONDASNEUANISSSRNEENLIASNSAAEENEERAASAYEDITISESASASARSASEESEDRLSSSSENENESHSSIEIAEDEILASAYISSSSODENOISNNRSEESLEAAATSEASIDAESYSEIAASETTISSSSSIIIEENNSHENIRTASASEISETAASEEAASIEESESSAASEDIASNTISLATNSHSSLISESRSIAASSIDAASSEESEEDSAIFESTSETYLANAAEAEAETEDSIARNSEEIHESAINEEAREANESSASANIANSSNSSLAANOSAASIATRHAASSEIONISSSSISSNSARSSRTRASSHSESASEEDSNSSSIIISTRSSSASNAESANEUSESASATEISIRSESTONS\n",
      "\n",
      "w<.xHIl^?l<U.RrV<a%$vxl<wYWR*WD*?DaO~W<Curx$.liYRiD$ll$Dx^D$ASU.iuI<ilInkPcPJ.$xj<TRhlx*v%Ki$M$IPAa.WG<P$xrmi$xlRiEfcWTxia<li*O$w$ArG$D@RlliVxmMZlJ$CD$Y@a<!x<a?R$c$R$.bx$DrExSTPlP<A%?v$jlW^WxxlRwD<f~lhISvwiGlO?%r<<<l<W~lxERDo<RVU$.DMVGYU$xX!@$@<a$vcwl^TU<w*<<bc<xR$l<DwaKH$fxnf$<ilWP$DKl<U<$<x$??$lPW%XlWIWPPD?j<rxg<xW<MlED<L$?f?^$Dil<z%c$OlMaaxIzDblxArZa$cDq<Dc^wP*wPl?P<^?fDxPwRWb^m^PXxx?ZluxO.l?Rw?rl@$U$i<~a<?Vr<WlVa.tMxc$I$xnZR@lxzRZ.YP^iRWVDD*$lx<~~xz$.RlPx<rA!R$O%vP<AGcklEiIwK.$@?lPxr?VuJSlx<DXX.~%Fb$Rx<Da~Df.<Wr<i$DDqvWlDB.F%wIxfbxxEnMxCl<CIz%zk&lixzZI?liKlxRWKxlxHcWq<ux!uu.$b$<IMD~?D$xwlMbxlD<al@.xTqx?<DxZ.xxf<xc~<aZ<LvWDxfc?xVR^KxiW?PW$.EuxT?<?wrR.fDRx^w$<D$vCncrD<DDuDA<aO$xcf<cDPl<x$<?<XuPD<M$KPnlHafxx<wu!RlX%al$<kWWLZY^l?<SxPI~nwblxlDwbDuh^r<l<Dk*<i<DDvYaKlPx%aKDca%FwNCUlxlClU<r$i<<SmvwrrUxlnT^fTfaWPD^.larj$xl&!xDAKrbffxraDr.PND<icaW<lD^<<x@?k$jS$qW<l$$?*xWa<vRPMlylx$AWuiUxD<k@i$l*Xc$<nI$AlK<B%Mw<lif^.r^HbcPxxSU$fEq<fBIH&cjiDc$S%Ri.?Dq^W.xS?HcuWML&ga?$x$@<yi<zF<InJ.<wAW%mxaDbf?vaR$U<<lPDx<C^<r<IZ^<HD!I<x$?$$q@D@$<.f$Y@PAuer^PY<RK<%x<l$iEllXwRclSh<Cw*r%Iu&XF%^rf<K^rIH$RDf$x<HxDeXA*<f<<.IbuiZbG!.fvYrb<l<I<AA$x<i<$X$lvD^vx<lF<BjJ^Ks^RDln*<jP<^bulDp.lWWaETxca<lXiIlvw?I*D$Rbl*a%Pc<KxW~W$<$!w<f*PurmTR<H<r$?lK<lPM$xiDD.x?KkDDj%Ruc<l?xax$zAl.<wDl*v!rl^Xi*<Rhb.PbS$<<^PRxxvuI?<*$ICZ?II<x~b@$Rbhm$^<RRDwbihbK<$cYDP$ixbxiIPn.$Si!<W<DiD$j%lnwDPRuxliFIZlMRcHbfbxlUlD<f<$x@i<C$jPS<DDlc~@x^q<R^^wlVxRTx$?$WlV$l<!$x.S.f<%$cXWA<DaDlR<<<xi^^DUVb<wWrlNDx<lxOPrlHH$?c<xx.Blc$$Dxs<$c^W<cZ$AYDUcRK<Di.wM<$$cl<!$PcDxyRfisar<gzlWRuWSKEb?ExPu%xWxFj<$IYDxi<UxMP<LiH$wi?^xDc?D$*<$bll^l.C$?^~jN$D<$OwU$PlRi<~b<llRD<MDblEIalwvwnlcUDxR?axx!Rbccl<<<lvwRDD$l*?il?^fmlxj$a$Wx<D<w.XDA&bD\n",
      "\n",
      "accept worse solution\n",
      "accept worse solution\n",
      "accept worse solution\n",
      "accept worse solution\n",
      "accept worse solution\n",
      "accept worse solution\n",
      "accept worse solution\n",
      "accept worse solution\n",
      "accept worse solution\n",
      "accept worse solution\n",
      "accept worse solution\n",
      "accept worse solution\n",
      "accept worse solution\n",
      "time elapsed = 139.7309021949768\n",
      "71 iterations / sec\n",
      "temperature   = 179.51\n",
      "best_score    = 552.077844\n",
      "current_score = 552.077844\n",
      "n_iterations  = 12000\n",
      "n_restart     = 0\n",
      "n_backtracks  = 0\n",
      "n_explore     = 20\n",
      "n_since_best  = 270\n",
      "n_since_best  = 270\n",
      "\n",
      "551.6403282632526\n",
      "\n",
      "ERTIAAAARAEEATTESARTTPSENENSISESERNNEEESRSRERAYSRTANTANATSESTATTACTCASSNSDEAEERIRETEASEARTAEETRENERSEARTSAREASAAARSTSRSAPSTEASEARITATANNASSRSTAESAAAEARSSTTSSESATTREATESRARATIEAAESTTTESERSTATTREETIASTRTSSTNAENECEETAEARTERRRRSNEAESEASAARTESEAAETASTSEASNTRTTTCEEAEEPNOERSAETTSETNISEESENEEASDRTENAYREERTRNRTTSEEESASSTEANETTAESEEARANEREATTSSSRAREENSESREEAEESEATSEESTAERTERTRARSACRSESEEESTNTAESTNTSSEAATEAEPARTTEESRTREENATSTANERNINARRAAESTENSSNSASTESEANSSSETENNSEATTESRREESAASSATETTEESAEATRTTERTAAANTCACAAETSARERRRETASRTREAARSSETETARRSTIESCSARATSETSIISIEPRTTESETASSTSASEATETASSATSNEETTENESSNARAASSSEANSTNRERIEEITSTRITSRERASASNETTNSEATRSASTCEERETTTENRESTSEEESTENSSNEESRETSNEASAACTEIAEETEERATATESESTARRAEEAEPEAETANSENERETTERIAEEERAEAEEATASNSSESNEECATEAASEASEREENCANAERTISASSSECRENTSAAREEAETTTSSEPASATATERSAERYAEONANETTATESRNESREEETETTEEORSARESNRESNIEARRCEETTETEAREEEINEAASTTAEESTAEANNSSSTATESTCERNAAEEEERATNSTAEESSEEESASASETEERASSTSESSETSRRASCPATTANRETTERSSRTRENSTTREARSREATCTEATRAAEEENAEARETEETTTSTAATCIPTAEETESTRTSSTANTSTERAIETAESSERTAEAEEEATPERCATNEEEEESEESAEASERENERNEEANTSENATSEETSESETSAEEEENSIAESONTXNSSSSSRANTTTENPEETASATEENAAEAASSRTATRESEEEETATTSRAETASESSATESRESRAESEASSRCTEREEERNENTEATPSPERTDENEAENNSNESETEAETETTSEEEREENRSSEEEEATATEERESTEDEEEACECSRRSAASTSSSAASETENEETEEATTAAAERITNASETSETSNTRERTETSNNENAENETTAEARTESETEPNSSNRAASETETSESSSERNATETTEESTCAEETTSTTAAARRTTSIARSTRSSCERAERAENAESTEATTAASERNSAESASATATREAAEEERESEEASEEEEESRSSASISAASNCEAECTRSOSTEEATASASSARAERNEEESAATERTETSESTARESASSERRNANEAEAEASIEITASRSARRTENATREAEATANSSETASAEEANEESSEERRSTEESNANEASCANCARERATRIEEASNATAARRAAAATSTESASNAEATETRERNTTCSSARESERSESAEASESAARSESESTTTRCAAESAEETAESTEASTEESANESREAEESTEEESEAATRTTTTTETNEAT\n",
      "\n",
      "w<IH$Yrb<qcwbDuh^r<RuZ^W.xS?HXc%W<SvwiT?<l<W<&gl<Db.PbS$D@clA$RD$CDC$?^~jNfbxxEn<wRWb^w$<D$WwD<f~x<lzF<Ilb<x$?$$q<lD^<?$ZluxOXc$<nI$A*v!rl^<XDrxlYU$xb<llRR^^wlVII<x$DKl<U<$Pnx$$xlRPDx^c<lP$PD<fBIH&?P<A%?u.Va.tMxxRri*<Rh<<<<lvwUKlw$lb$<IW^Ks*WD*?D?wr%vu<RRDCixbxxZ.Ja<lYWPD%aP.HlKw@k~TWrlN<Di.qg<xW<D<S<DDlcaa%r??PW$.iIPsa@iW$<$!w<f*Pu?^?<U<xi.?w@<Tw$fc?xVR^Kx^D$x<Af<D<b<?bC<li^WxxlR!Rbc%R!RlXc$$DxscZY<RDfx?<DEwK.$I^DUSw<!n.$<<$$clux!@?.l*lRhlx*vllXwRcvylx$ADWl<<xi^$Oll$RxDRxxj$f$AERDo<RVU$.DMVCr$xR@*<f<<<xR$l<D<x$$<^?fDxP$<<^PnklClU<rPlWP%nnlHcZ<RuxliArG@D@$liYRiD$ll$DLvWaPAa.x?@~*<$bll^c$S%R.<i<HxiHIlR<HAl<i<$X$lvxuD.larI<L$^DMcf<cDPDf.<Wlu%xWWlDB.?l~cklEiI@.x$l*$MRcHbfxRxx<$IYDx?ilD*<<bcxraZa$cD$vlkvx<xPIx<H$fxKEbx$aWber^.l?iG.fxCbDhm$^T$?c<xxSM$.$iEPn?rLj%wM<xyR?Vr<WWrWPPD?jiZbG$I$RK<%*a<g$aJSU.iuI$Ix@<yij<TaKDwDPxKJ<lr<il.<wl.nf$<<CwaPIzDwF<BaxH.W$Y@PArfa%urx$.~llju$Rc?DMx<S$UwWWaEFI~?D$xw?liKa^mlF%wIxa<Y@^PXxXlWIl<<UlMZ$DDqv<cRuc<l?<D<w.XDA<x$<?<x$DCIx$D<$OwxzvYxqExPxzRDeXA*$ICnZR$xcRKlP<AG?I$.RlPx<rnwAOi?^x<P$xricxFIZi<C$D.BxKizlWa?$x$lhEc~W<Siwb!RlwvbuliWD^xXWA%FfcWT.^HbclJSDp.ll^?l<U.RAPx~ZaWR$%$PxxSU$f*r%l<Ibu<B%afxwu&uI?<$xRq?f?^$Dil<z%<$c^WY^l<MPc<KxW<~cvDxFIZlZw<PNxST$x.S?vxlWui*iuWDDlxxf<xc~<?^fTfaVuVPix<a?RxNxax$MxCl<<l$$?Rlll**jhRw~xzuihbAD$rUx<HD!blxAXiIlvP<W<DiD%!.fvYK!xDAmib<Dc^wPxZ.XX.<$OjiDwIGal^lw<!$PcDIailIMrKkDDjDDb*OE<RDln*<jP<^lMK<rK<$c!$x@RWVDD*$lx<~j$xl&@$PrD<KrbxWa<z%zk&lffxxz^<GlO?H?$$?!MwUxMP<LJlDxaYDU^V@%r<$i<~kWWL$qDx<DaDlx?P$<K^rlji<<SmvwriVxmlHanDblEl$<<Da~$A<aOc$R$.%?xRblrTa$vcwl^TW<ElPif^.r!aOlMb~M*<i<$D<nTk$jS$R$U<EqmU$PlRilUl.$cUDcD<f<vRPMlXF<ali<@x^qfmlxjrV<^ilWXuPD<M$&W%mxaDbflPi$lPWi?$vxl<wYxc%IxKxlxrrD<DDuDDcR.fbD\n",
      "\n"
     ]
    },
    {
     "name": "stdout",
     "output_type": "stream",
     "text": [
      "accept worse solution\n",
      "accept worse solution\n",
      "accept worse solution\n",
      "accept worse solution\n",
      "accept worse solution\n",
      "accept worse solution\n",
      "accept worse solution\n",
      "time elapsed = 138.59911251068115\n",
      "72 iterations / sec\n",
      "temperature   = 24.05\n",
      "best_score    = 557.227792\n",
      "current_score = 555.353940\n",
      "n_iterations  = 18000\n",
      "n_restart     = 0\n",
      "n_backtracks  = 0\n",
      "n_explore     = 27\n",
      "n_since_best  = 4380\n",
      "n_since_best  = 4380\n",
      "\n",
      "556.7165766753078\n",
      "\n",
      "ETLASSETTTTTATSAATETNARLEATTAAEESAESTAESTSSLANTSTENTSSSAATEASIATTTEESTTIEENALSNESSTEEAESSEATSEESEASTSTETNSSESETEAAETSATETTTETASTTTEAATSSETETATTSTLESRSATTANATSTESASNTAANAEITTEETTRSRAALRTEALISIAETAAATASEATTASATESSTSTATTTEOESESTTTTESTNTASSTRASAESEARTTSSEAATETEASEATTAEETTEOETAAAEATSSTTSSESALLTEATESTATATNTTRSSATSSEESANTANSSETASAESANASTESATASATATATSSSRATTARTRASSOSAEAEEILETTSEEELANSTTRSSTNASNEREETAEATTATTTTSNSESLRAEETTSTTAAAITTTSRITTGTTAAANTRARNTTTTTREEAEEINATSAETTSSTNASEESELSLAETOEEESAATETTASEASRANEETTTSOARTSASSESSATTSSSTATEENSESAESSTAEANIELIETRATNOEEEESASSALTSASTRSETSTTTENTESTSEEEAEASSTEANELTASSEEATANSAASTSSSAASATEOEETEEANEATSTTSSRETAETERSTTORATETATTLEEASTATAATIAAASSATSNEANEASAARESSAEASAISOETTEEANTSENATSEETSETSAAEETEETALATAEAESEASAATLESEAAOEEASATTENASTEEEASALATETSASTSASATANETLALESTEESTTATSETSLETASTSEASTTEEATSATESNTESNSTASNENAEAEESAEAAASTROATAASSSSATSTEAEASASLTASISATSEASSTEETRTRSOISETSASASTSSTTTENSTRTEAATEESAASSATETTOSSETTAETEAENTSNESETESTATSSTRETTAAEEESIALLOSTARTSESEEISASTANSENETETLETTEESSEESSASASELESTASSTSETLESTTATSTEATIATTANTSTTSAESEENSATRATAAASSESEATLSATNSSESNEATETASSATSNEEAERTTSETAEEALSTTARSTETASETSESEAATTOSSEEETNTLSTAETASESSATESTESTASSEASSTRTSTEEEESESTALEAASNAESTEATTAASETOSAESNSATATTEAAEESTESEENSEEEEESTSSASASAASNRTOSNELSNTSELSTONSSOSESITTSTSITAESTESTTRTAETREASATSTTETRTEETAAEAASSTANSASRAETEAAEEEETISTEESNASISNTTETTETSNNENAENETRAESTATESTEINSSNTAASETTTESERASSTSASETTTTTTTSSSSSASAEASEATALERAESSETTAEAESEALSASSSERSRARTAAAETATNATEETSASSATTVNSSSSSTANTRTEEIESAATSTESOTSSEEESATATEETSSTEEASAAATSTSTSAISTEAEEAETTTSSEITTISENETSASSSETTNEEELEATTRESTLETEATOSLNATTAASSTENSSNSASTASEANSSSETSNESEARTESTTSSATLLARANNASSTSTAESLSTTASERSELTELSSSSSETNATSTNESTEAESSLEEESEAATTTTTTTSTNEAT\n",
      "\n",
      "w<Irlji<<<D<b<?bUSw<!hCIx$D<$Owx%mxaDbflPG?I$.RlPx!RlXc$$DxscZY<RDfx?<DEwK.$I^.x?@<Tw$fc?xVR^Kx^i$?<l<W<&glTaKDwr$xR@*<f<<<xR$l<D<x$$<^?fDxP$<<^PnklClU<Db.$PlRilUl.Sm$.$iEPPxzRDeXA*$ICDxFIZlZ*iuYrb<qcwbDuh^rDx^c<lP$PD<fBilWXuPD<xlR!Rbc%Rer^Nxax$M<Dc^wH$<wRWb^w$<D$WwD<f~x<YU$xb<llRR^^wlVII<x$DKl<U<$PvRPMlXF<alWi?$vR$.%?xRblrTa$vJlDxaYDU^VPbS$D@clA$RD$CDC$?^~jNfbxxEnWDDlxxfIH&?P<A%?u.Va.tMxxRri*<Rh<<<<lvailIMrKkDDjDDb*OE<RDlAERDo<RVU$.DMVCvu<RRDCixbxxZ.J<lYWPD%aP.HlKw@knlIbi<~kWWL$qDx<<bcxraM$&Wxu<Da~$A<aOccwl^*Pu?^?<U<xi.?w@rfa%urx$.ExIZi<C$D.BxKizl$larI<L$^DMcf<cDPDf.<Wlu%xWWqfml?PW$.iIPsa@iW$<$!l$$?Rlll**jhRw~xzuixH.W*<jP<^lMK<rK<xCl<<~M*<i<$D<nTk$jS$R$U<EqmU@%r<avwr.x$l*$MWa?$x$lhEc~W<Siwb!RlwvbuliWD^xRcHbfxRxx<$IYD$wUKlw$lb$<IW^Ks*~TWrlN<Di.qg<xWxbG$I$RK<%*a<g$aJSU.iuI$Ix@<yij<<rPlWP%nWD*?D?wr%DPxKJ<lr<il.<wl.lP$lvzvYxqxxj$f$$Y@PA~*<$bll^c$S%RiVxmlHanDblEl$<^T$?c<xxSMPAa~ZaWRa$%$c<l?<D<w.XDA<xVr<xi^$Oll$RxDR~llw<PNxST$x.S?vxlWuiju$Rc?DMx<S$UwWWaEFIn~?D$C<li^WxZa$cD$vlkvx<xPIx<Dxw?liKa^mlF%wIxa<Y@^PXxDIxlRP$<?<x$DZ$DDqv<cRu%FfcWT.^H<CbDhm$XlWlzF<Ilb<.l?iG.fYRiD$ll$DLvWwUxMP<Li<HxiHIlR<HAl<i<$Xi<@x^x$$u<B%afxwu&uI?<$xRq?f?^$Dil<z%<$c^WY^l<MPc<KxWx?ilD*nib$c!$x@RWVDD*$lx<~j$xl&@$PrD<KrbxWa<z%zk&lffxxz^<GlO?H?$$?!M<~cviI@.<XWnlDB.?l~cklE<DaDlZR$xcRKlP<AD$x<Af$cUDcD<f<APxxSU$f*r%l<r!aOlMbw<fH$fxTW<ElPif^.HcZlvP<W<DiD%!.fvYK!xDAmx?P$<K^PxZ.XX.<$Oji<RuxliArG@D@$li<D<S<DDlcaa%r?bx$aWb<rnwAOi?^x<P$xricxFn?rLj%wMlMbAD$rUx<HD!b<xyR?bclJSDp.ll^?l<U.RAPxKExjrV<^<xc~<?^fTfaVuVPix<a?Rxx$?$$q<lD^<?$ZluxOWWrWPPD?jiZRuZ^W.xS?HXc%W<SvwiTnf$<<CwaPIzDwF<Ban.$<<$$clux!@?.l*lRhlx*vllXwRcvylx$ADWl<<Xc$<nI$A*v!rl^<XDrxlIl<<UlxAXiIDwIGal^lw<!$PcD.xl<wYxc%IxKxlxrrD<DDuDDcR.fbD\n",
      "\n",
      "accept worse solution\n",
      "accept worse solution\n",
      "accept worse solution\n",
      "accept worse solution\n",
      "accept worse solution\n",
      "accept worse solution\n",
      "accept worse solution\n",
      "accept worse solution\n",
      "accept worse solution\n",
      "time elapsed = 140.75243830680847\n",
      "71 iterations / sec\n",
      "temperature   = 3.22\n",
      "best_score    = 564.982385\n",
      "current_score = 531.530024\n",
      "n_iterations  = 24000\n",
      "n_restart     = 0\n",
      "n_backtracks  = 0\n",
      "n_explore     = 36\n",
      "n_since_best  = 5520\n",
      "n_since_best  = 5520\n",
      "\n",
      "564.7222977070152\n",
      "\n",
      "SITETEAIATAIRESESESEAILATENESSSSSNTSEEISREEEITSATRSAINSARSSEISSESTSSEESSSSTASSNEAESNISASSISASSTESNAEESSSESSTARTEATTTSSTSSSEESSSSISATSTEESHSSTEAENTESATSSSEESSASSAASESSATTTSIEISSESTSETAISITIEAAISSRASSANISNASITMESHTISIENHTSASSIAIATSETASTESSSSUETEENARAASSSRNASSTTTTIESESSTNANEEAESSEENSSSATASSTALISASSTTETRIUSNITSEIETTEIETIIESENEATAESTTSSSISSSANARAIILSETTSSEEATSSNITSSNESEEASASISSITISETTHIEASSRESTSETSASAEITTSAEIEEITILSITSAERESATTSESTIOASTESRISTTTARESSESRSSITSRSSSSSEETESAARESSSITIAITISSAEETISSRTATAETSEEEIETSIEARESIRESSTEHEAEERSSTSASSTEETIERASAEESSSTSSTIRSEISAAENISSTEESTASATNSSASSESTESTIIISSISAETNETSETSTESSESSERSTTETTESSSSTTTSNATAETETHSIEIASSSITTSIAEESNETTEIASNTSSSTTSSSSETTNTTNESSIETSHSETASAINEAESTESAASISISTTESSTESSISTATTITSETETSAIIIATTSEASEIEITAEASEASASSSSSEESARSSEEASEAESENSSENSTISSIRSTSSSRERNEESAAATISSIIAESRIESEELSAISAASTSAIESESAITSNINESSSSEIINHSESIHESESNAITSSTSSTSAIATAHESTETAIIEAAESEEHEHTETSENSANSEESINTAESSTNSSSSASSEAAEETETRESITSSAEIEEASSESSEESETTAREISSTSESSTRTEATNSAETASSATSASASESASTASSAHIESSSSSSETTSSSIARTESNSATTASISSASASTARSETSEEESSSINMERSEAEEAASEASTESTSTASATSESTAIEIELASSSEINTISSETINTHESESETATTATESSAELITSNETISSSETSEEEIAIESSSSSSAEATTASSSSSSSSETSSTAISSESITESSAISRSTESTAEEISTSTTSIAEENELTEANESRSTTSEERSSESEAIESSENETSEISSITIOAITEATREESSIESSSTSAASSESESSTISTAESEISAETTSSEAETEALSSMEEEASNSTITTSTMITASTSISTTSSEAAATISTATHTAEIHRASASNTTSTAISETHSEASTLAENEESEEITSSSEAEASESSSSHSISSONSSESSSAISSESSTEATSENASSTSTSAEAAITESSSSSAATLTEASTNAISESSOATTETNESESEESTIESNAESSRASTESESTSAATIEASTSSSSSSNREAUAASTTESESAAATESSIIASEHIEAESSRTAEASESSATOSELTEATISITATISEEIIAAIIAASSTTIRTARENASASISSESSTEEASSENSATIANTIESSIITESESASTEAANASSRASTSSIISSRIRIHTEETSSEAESETSTIESSNTSSTASSSIIIIISISNESSAEITNESTTTTTTSEERNT\n",
      "\n",
      "w<IxKxi<$Xi<@x^x?.l*i<C$D.BR~llw~TK!Mx<r@..x<XWnD@S$<Tw$fc?x<wl.&Dlcaa%r?lP$Olbx$aWb<rnw^<?$ZluxOT$x.S?vxlWuifDx$DKPlWP%WWaal^lw<!$PcD.xlA%?u.VabDhm$XlWlRR^^$!l$$?Rll$DDqv<M<~cMlDlRP$<l<D<x$$<^?fizl$b<?bUS<PNxSAD<^<xbADliWl<U<$PvRPnWD*?Z?!yxqxxj$f$$YwWfBilWXuPD<xlR!cHbijxR$.%?xRblrEFIn~?D$C<li^%DPxK@<y!b<Kvx<xPIx<.qg<xWxbG$I$R?HXc%W<SvwiTnf$<<CwaPIvlk*iuYrb<qcwbaWRa$%$c<l?<D<w.XDA<xVrrfa%urxPr$rUx<HDri*<Rh<H<CY<D!$x@RWVDDlarI<L$^DMcf<cDPXi@Rw~xz@%r<q?f?ZlZZRMPxSU$f*r%l<D<i<D<Sl$RxD<?^fuVPixDtMxx<Ru?<x$fxw<fxmlDxAR$..fvYK!F%wIxaD<a@iW$xRvllXwwD<f~x<YU$xb<llPxaYDU^VPb~Oi?^x?PxlI<<<lv<Si.PT.PlRK^PxZ!aOlM@^PXxDIxWWrWPPD?jiuixHxHAl<*<$rl^<XDr<U..lbsXX.<$OjD?wvuuZ^WSkDDjDDb*OE<RDlAERDo?$<BaVR^Kx^i$?<l<WDuh^rDx^c<lP$PD<D%aP.Hli<<<$ID%*$lx<R<P$xil.nW$c^WY^xsci@Er.x$l*$MWRbc%RerJ<lr<fcDcml@*fbxxEn$$u<Wl<<$a?@<x~M*ClU<^$$zDwF<xSMzF<Ilb<B.?l~ck<<bA~*w<Aa~R?b$<IW^KclXc$<nI$A*vDxP$<<RVUa?RxARAPxKExjrVB%as!<ju$Rc?Dbll^c$S%RiVxxDRDfx?<DWwUx<RR$Owx%mx.WaKDUf.<Wlu%xWWqfHanDbl$RD$wlVIWi?$vxlilD$W~$A<aOccwl^*Pu?^?<U@PRWbviIDil<z%FrilPif^.Hl**avwW<jN.fYRixR$$vailIMrKYD$wUKwMlXF<a<.C$?^~*<jP<^lMK<eXA*lxcRuiuI$Ixwr$xC<KrbxJ<lYWaJrGRx<i<.ll^?lW$.iIP$lvzvYZlExIZwH$<wcxr<DaEl$<^flPG?I$.a<zu&uI?<$xRjhCDk$jx!@WDDlxxfmWxZa$<RcvGTaIlR<lE<D<Li<HxiHfxxz^<GlO?H?$$rl.lxrrD<^Pnklx<SU.IH&?R$.DMVCS^Nxax$wb!I<IDwIN<DiEqm<YuPccxFn$q<lDFIAD$x<Af$cUvbuD?P$<WxDAmx$lDCixbxxZ.M<Dc^lR$x$lhEcclAl<?rLj%wMl^w$<%zkEwK.$I^.T$?cJSDS$R$U<Dxw?llw$$ICDknlIbi<~kWWL$qDaDbx?hlx*rK<x~j$xl&@$lPx!RlXc$$D<xi^DZcZlvrTfaVy$iEPPxzRW$UiKa^l<<UlxA<xi.?w@D$x$lRll$DL!hCIx$P<W<DiK<%*a<g$$<<$$clup<fH$fxTilUl<wYxc%IaM$&Wxbw$D<nTP<.S%<<KxWx?ilD*nib$clf$vJc~<<rw@<f<APxaDlZR$xcRKlP<MrljD^cD$^ml<<<<<&glT.l?iG<Db.lDDDuDDcR.fbD\n",
      "\n",
      "accept worse solution\n",
      "accept worse solution\n",
      "accept worse solution\n",
      "accept worse solution\n",
      "accept worse solution\n",
      "accept worse solution\n",
      "accept worse solution\n",
      "accept worse solution\n",
      "accept worse solution\n",
      "repick starting point\n",
      "accept worse solution\n",
      "accept worse solution\n",
      "time elapsed = 136.72152471542358\n",
      "73 iterations / sec\n",
      "temperature   = 4342.31\n",
      "best_score    = 564.982385\n",
      "current_score = 517.688053\n",
      "n_iterations  = 30000\n",
      "n_restart     = 1\n",
      "n_backtracks  = 0\n",
      "n_explore     = 47\n",
      "n_since_best  = 11520\n",
      "n_since_best  = 11520\n",
      "\n",
      "564.7222977070152\n",
      "\n",
      "SITETEAIATAIRESESESEAILATENESSSSSNTSEEISREEEITSATRSAINSARSSEISSESTSSEESSSSTASSNEAESNISASSISASSTESNAEESSSESSTARTEATTTSSTSSSEESSSSISATSTEESHSSTEAENTESATSSSEESSASSAASESSATTTSIEISSESTSETAISITIEAAISSRASSANISNASITMESHTISIENHTSASSIAIATSETASTESSSSUETEENARAASSSRNASSTTTTIESESSTNANEEAESSEENSSSATASSTALISASSTTETRIUSNITSEIETTEIETIIESENEATAESTTSSSISSSANARAIILSETTSSEEATSSNITSSNESEEASASISSITISETTHIEASSRESTSETSASAEITTSAEIEEITILSITSAERESATTSESTIOASTESRISTTTARESSESRSSITSRSSSSSEETESAARESSSITIAITISSAEETISSRTATAETSEEEIETSIEARESIRESSTEHEAEERSSTSASSTEETIERASAEESSSTSSTIRSEISAAENISSTEESTASATNSSASSESTESTIIISSISAETNETSETSTESSESSERSTTETTESSSSTTTSNATAETETHSIEIASSSITTSIAEESNETTEIASNTSSSTTSSSSETTNTTNESSIETSHSETASAINEAESTESAASISISTTESSTESSISTATTITSETETSAIIIATTSEASEIEITAEASEASASSSSSEESARSSEEASEAESENSSENSTISSIRSTSSSRERNEESAAATISSIIAESRIESEELSAISAASTSAIESESAITSNINESSSSEIINHSESIHESESNAITSSTSSTSAIATAHESTETAIIEAAESEEHEHTETSENSANSEESINTAESSTNSSSSASSEAAEETETRESITSSAEIEEASSESSEESETTAREISSTSESSTRTEATNSAETASSATSASASESASTASSAHIESSSSSSETTSSSIARTESNSATTASISSASASTARSETSEEESSSINMERSEAEEAASEASTESTSTASATSESTAIEIELASSSEINTISSETINTHESESETATTATESSAELITSNETISSSETSEEEIAIESSSSSSAEATTASSSSSSSSETSSTAISSESITESSAISRSTESTAEEISTSTTSIAEENELTEANESRSTTSEERSSESEAIESSENETSEISSITIOAITEATREESSIESSSTSAASSESESSTISTAESEISAETTSSEAETEALSSMEEEASNSTITTSTMITASTSISTTSSEAAATISTATHTAEIHRASASNTTSTAISETHSEASTLAENEESEEITSSSEAEASESSSSHSISSONSSESSSAISSESSTEATSENASSTSTSAEAAITESSSSSAATLTEASTNAISESSOATTETNESESEESTIESNAESSRASTESESTSAATIEASTSSSSSSNREAUAASTTESESAAATESSIIASEHIEAESSRTAEASESSATOSELTEATISITATISEEIIAAIIAASSTTIRTARENASASISSESSTEEASSENSATIANTIESSIITESESASTEAANASSRASTSSIISSRIRIHTEETSSEAESETSTIESSNTSSTASSSIIIIISISNESSAEITNESTTTTTTSEERNT\n",
      "\n",
      "w<IxKxi<$Xi<@x^x?.l*i<C$D.BR~llw~TK!Mx<r@..x<XWnD@S$<Tw$fc?x<wl.&Dlcaa%r?lP$Olbx$aWb<rnw^<?$ZluxOT$x.S?vxlWuifDx$DKPlWP%WWaal^lw<!$PcD.xlA%?u.VabDhm$XlWlRR^^$!l$$?Rll$DDqv<M<~cMlDlRP$<l<D<x$$<^?fizl$b<?bUS<PNxSAD<^<xbADliWl<U<$PvRPnWD*?Z?!yxqxxj$f$$YwWfBilWXuPD<xlR!cHbijxR$.%?xRblrEFIn~?D$C<li^%DPxK@<y!b<Kvx<xPIx<.qg<xWxbG$I$R?HXc%W<SvwiTnf$<<CwaPIvlk*iuYrb<qcwbaWRa$%$c<l?<D<w.XDA<xVrrfa%urxPr$rUx<HDri*<Rh<H<CY<D!$x@RWVDDlarI<L$^DMcf<cDPXi@Rw~xz@%r<q?f?ZlZZRMPxSU$f*r%l<D<i<D<Sl$RxD<?^fuVPixDtMxx<Ru?<x$fxw<fxmlDxAR$..fvYK!F%wIxaD<a@iW$xRvllXwwD<f~x<YU$xb<llPxaYDU^VPb~Oi?^x?PxlI<<<lv<Si.PT.PlRK^PxZ!aOlM@^PXxDIxWWrWPPD?jiuixHxHAl<*<$rl^<XDr<U..lbsXX.<$OjD?wvuuZ^WSkDDjDDb*OE<RDlAERDo?$<BaVR^Kx^i$?<l<WDuh^rDx^c<lP$PD<D%aP.Hli<<<$ID%*$lx<R<P$xil.nW$c^WY^xsci@Er.x$l*$MWRbc%RerJ<lr<fcDcml@*fbxxEn$$u<Wl<<$a?@<x~M*ClU<^$$zDwF<xSMzF<Ilb<B.?l~ck<<bA~*w<Aa~R?b$<IW^KclXc$<nI$A*vDxP$<<RVUa?RxARAPxKExjrVB%as!<ju$Rc?Dbll^c$S%RiVxxDRDfx?<DWwUx<RR$Owx%mx.WaKDUf.<Wlu%xWWqfHanDbl$RD$wlVIWi?$vxlilD$W~$A<aOccwl^*Pu?^?<U@PRWbviIDil<z%FrilPif^.Hl**avwW<jN.fYRixR$$vailIMrKYD$wUKwMlXF<a<.C$?^~*<jP<^lMK<eXA*lxcRuiuI$Ixwr$xC<KrbxJ<lYWaJrGRx<i<.ll^?lW$.iIP$lvzvYZlExIZwH$<wcxr<DaEl$<^flPG?I$.a<zu&uI?<$xRjhCDk$jx!@WDDlxxfmWxZa$<RcvGTaIlR<lE<D<Li<HxiHfxxz^<GlO?H?$$rl.lxrrD<^Pnklx<SU.IH&?R$.DMVCS^Nxax$wb!I<IDwIN<DiEqm<YuPccxFn$q<lDFIAD$x<Af$cUvbuD?P$<WxDAmx$lDCixbxxZ.M<Dc^lR$x$lhEcclAl<?rLj%wMl^w$<%zkEwK.$I^.T$?cJSDS$R$U<Dxw?llw$$ICDknlIbi<~kWWL$qDaDbx?hlx*rK<x~j$xl&@$lPx!RlXc$$D<xi^DZcZlvrTfaVy$iEPPxzRW$UiKa^l<<UlxA<xi.?w@D$x$lRll$DL!hCIx$P<W<DiK<%*a<g$$<<$$clup<fH$fxTilUl<wYxc%IaM$&Wxbw$D<nTP<.S%<<KxWx?ilD*nib$clf$vJc~<<rw@<f<APxaDlZR$xcRKlP<MrljD^cD$^ml<<<<<&glT.l?iG<Db.lDDDuDDcR.fbD\n",
      "\n"
     ]
    },
    {
     "name": "stdout",
     "output_type": "stream",
     "text": [
      "accept worse solution\n",
      "accept worse solution\n",
      "accept worse solution\n",
      "accept worse solution\n",
      "time elapsed = 139.93314743041992\n",
      "71 iterations / sec\n",
      "temperature   = 581.78\n",
      "best_score    = 566.041747\n",
      "current_score = 566.041747\n",
      "n_iterations  = 36000\n",
      "n_restart     = 1\n",
      "n_backtracks  = 0\n",
      "n_explore     = 51\n",
      "n_since_best  = 0\n",
      "n_since_best  = 0\n",
      "\n",
      "565.9911991429951\n",
      "\n",
      "TSERTEREITEERAERSTRINAASESSEORASARERRSTAARREASRTRNNSITAANRLISIESSMTTTTEAASNOERNEASEESTREROTIMSASEERSITSNRRIATTERANETTSSREAEETAMERSSSSSSARIRRIORSTASTROATIARESTSTNTSERAEETEEESSNRTOSSESANERTSRRAENRETREAIRSSISLEERERRHEALEMATEAEAEESTOSEEESRTMITAELARELANIASSAESRAEETSENIASSSEEEESSEERSEOTRSISERITSSSESTASARRETASRETEEAONSETASANAEEMRSREAAESAIAETIRTTSRIRMSNEARTARNSSNSETNLEAEEAEAREASESEEISITEAIASEISEERSEAEEREISEAEEEESEEISTESTRREERSESEANAEATSSSEAESESASSSANETIEAMSEEERAEELTNEABALESSSSTSTEESANSESESITANEITSATETEETEINSEORAISARERSRIAASESTSEANRAOTEINEAAANHSTRRRSAAEAREIIEETERSSENISSERINERRSTETHENRSSATEATASRTMAERTEREIESTEEESTESSEETSMSSATSSSEEASSRSTRATSRISITNSRSNEREINIRISEESSASAEIEEAIIIAEEESSEENAISASASTRIRARRIAROOTHEAAAAANNAEANRTITIEEARTAEERESENESENTEITRTSEEEEOAEEETTEIETAETEERRTTRARSOATTETESAEESAERESSSREEEHTSRIOANNNIRNTENTSEIATEETTSSRIMTREASAAEREESRSRTEEEMHTIISTATAAEESEAEOETESITSTRATEIARRREHASASTTEARTSOSTNMRSATTESEEISEEEANTOESRSSESTERTTETIHEHNATHREEATSNOEEERTERSEISSSRELTSENTTRAIEATAHNTEEARAASANTESLRMRSESNTESTATITEIIEETHAEEATREAESTSEIMNTSHNSMLIESRARNANIASAENATTSTTARSEOARANTISTATSRERAEASTANSIRSTESESRSTRMITISISRTENATASRNAREARNOTASIARSSESSTEEAETATTEETRSMRSEIRISETEAESEEIERNEERIEEEARNSSEANIETSEEIERSRSANESAANAASATASIONRNESTSSHAITATSRMSENTTSSEINENHONAASEITAENATATIESSOSISEESSSEASIESRSTISSTRNRSNRMSANNITISSAISTNAMNTRNRISTRRENEATAESESEESRRNTERAIENETTMISERSARINTTSTASTASESLARERETEEERTNTATSSEERSNSAERRHREEAAAISSTSESTIESASAAATTSINERATRIEEEESRRSREAAATENATIEIRASSALTEENEEESRTILASEEERRESSIRSISNASEESEIRRISTEESEESSTOAEATASASOSTASRATSHSSRTIAAENISASEAESESTEIIENENEAARMEANANNTRASEAHTASANEARAATESATAARTSIREIRTATAIASAEATNIASAESSERSAEERREIREERASRSRSEERASEIAIRTTSELESSSSATEENSAESEISTSETEISIAREISAASAIREMENAETS\n",
      "\n",
      "nDvrTI<Ix@Zc<l?<DO<xR.lafDFIh<.WY<K<<Dn%ur<$lD<^<iiayOlLi<Hxax$DDXjEjTKllWRh$<Rc%wK?D@<f<A^xswlW$$<gx^Di<<x.b~m<lRK^!aa<zu$f^.sIrWPPDaWl<x<<xhrFnlU^rA*^xlrIW^UnibP$<%zkEc$CaPirqADDKPliv<MW<<l?ir$b<klx<SUxDH?z<?<<V$*HCXl@I.$.$cDTAS?fcD<OXxbl$Hl<CHlix*WDufP<l?$qa?Rx*aPP$K??DwIN<D?h^rDxSf<x@wDD?DMuWl<<$~*w<Nj$clARWGj%wuiuI$X<D<Zll$D%x.$Mx<~^F<x<XSRfl<bl<RaWRa$^iHClvvlk*r?lD$W?KxDx^C.xlDfxDKC<UcuI?<$xP$l$f$$Dk$xaEcab<<KKrPIP$lRuvYnWDUK.?U$wlDWDlicbxzlXFmc$<Y$$HbifuplHcJSDWjP^c$S%RDcwIax^lR$xjUl^?b$$!IxRP$Aruxa.<$<D<xluPIWnP$lR<lA~Kxi$lu%RVU~<<rw%*$.<$xxZ?b$<DDcRxWW$<xi?<<D!$!&?R<aJl^KubuD<MXl$<^f<mxvwMcfkP~kWPvGTDBawl^wWSZ$.DPrP@<.qg<xWxbRW<DiK<GxRx<xW$fwWLSlvx$$*xxxY$?cDaZcRuxPlaLwb<x<lr<xl<Ah^VvuYl.liiuvli<@x^x?Z%<jlI?<CDGRID$Revx!<nw$$I$A*vcfOT$xGnlI~ck<<b^<l<DAl~TKM$w.cmDl$rfaaD<$$cVMw<xAliRRxri^cinDfxl^ZI@^Pw<xs!<v%Wlum<m$WrW<n$$vB&bxxDMYbll?fa?YZA?~?Dx!aO<Y^vxl<<<$&%Dlwbj$.<TUAa~RX<alj^cD$Ixw$v$lR@A$w<DDZPncrbMf~xV$VilbVrmIl^wiAf$c<q?<PNxSwD<$Hbw$i@Er.x$.^*VRbN$l<llDliqcwH<X<Svwi@Ka^ljx!fyxIfO&lzvu@<?.?w@D$xXi^WViWXHx$P<.<iuixlW%$ilOTD^El<S$Al<liExP~*jWrK<%?uW~YiUx<wECSID<U@rXxbxJxS<e$Rl^lw<il<z%<RA~lDxu<WW$aD@Icl?^lb^$fn<JBrP$x<xaI~?lIW$Zxfri$?<x?ZK.<RDS$lixK!Dk$xc<W<Fui?P*%i..S%^lDxAR<RcwbaJV*xTljD<XDcR!EPP$xicR&hio.W$xq.fRlOlbx$aWAPxFI$DDD$lPxzF<Dbxaa!<R<PR<BWlRRxbxDDlxw!RlXR^<RrxUb<<KR?YM%IWZa$fD<<iqf<.xzR?@EXxDI<D%<yi@!aO.WElP$UH*<$r$qc$$<Mib%MDUf$rURaL?r<V<$$.Y*xDW@UvD^x?WlP..lbMPxiI<lM<xI$?cDrrD<m*llnfRlExfxr.wUlHbv$i?ccP<^xHlPG?$<<Cwax<DxwRlPccwcxr<xaMICU?$DDqhl$lM%W*PAD^*DrljDVPD<nx*l$RxP.DC.$PcDbfxt$Rcivll<BKLi.RiM<lP$.&MlDlR$.rlu^?D.b.lrEDx<?x<^lElxlw%zljRx%PlZwS$<F*?Z<<$x<$I<*a<g<U$C<lD$xYx<!TD$HcDPaw%~zciWl$PIxPTw$^?xWx.<$xw.YD%x<?XfR.fbD\n",
      "\n",
      "accept worse solution\n",
      "accept worse solution\n",
      "accept worse solution\n",
      "accept worse solution\n",
      "accept worse solution\n",
      "accept worse solution\n",
      "accept worse solution\n",
      "accept worse solution\n",
      "accept worse solution\n",
      "accept worse solution\n",
      "accept worse solution\n",
      "accept worse solution\n",
      "accept worse solution\n",
      "accept worse solution\n",
      "time elapsed = 140.21842789649963\n",
      "71 iterations / sec\n",
      "temperature   = 77.95\n",
      "best_score    = 566.533924\n",
      "current_score = 542.334594\n",
      "n_iterations  = 42000\n",
      "n_restart     = 1\n",
      "n_backtracks  = 0\n",
      "n_explore     = 65\n",
      "n_since_best  = 5910\n",
      "n_since_best  = 5910\n",
      "\n",
      "566.598487768063\n",
      "\n",
      "TSEETTEIETAETEERRTTRARSOATTETESAEESAERESSSREEEHTSRIOANNNIRNTENTSEIATEETTSSRIMTREASAAEREESRSRTEEEMHTIISTATAAEESEAEOETESITSTRATEIARRREHASASTTEARTSOSTNMRSATTESEEISEEEANTOESRSSESTERTTETIHEHNATHREEATSNOEEERTERSEISSSRELTSENTTRAIEATAHNTEEARAASANTESLRMRSESNTESTATITEIIEETHAEEATREAESTSEIMNTSHNSMLIESRARNANIASAENATTSTTARSEOARANTISTATSRERAEASTANSIRSTESESRSTRMITISISRTENATASRNAREARNOTASIARSSESSTEEAETATTEETRSMRSEIRISSSEERSEOTRSISERITSSSESTASARRETASRETEEAONSETASANAEEMRSREAAESAIAETIRTTSRIRMSNEARTARNSSNSETNLEAEEAEAREASESEEISITEAIASEISEERSEAEEREISEAEEEESEEISTESTRREERSESEANAEATSSSEAESESASSSANETIEAMSEEERAEELTNEATALESSSSTSTEESANSESESITANEITSATETEETEINSEORAISARERSRIAASESTSEANRAOTEINEAAANHSTRRRSAAEAREIIEETERSSENISSEETEAESEEIERNEERIEEEARNSSEANIETSEEIERSRSARESTSTNTSERAEETEEESSNRTOSSESANERTSRRAENRETREAIRSSISLEERERRHEALEMATEAEAEESTOSEEESRTMITAELARELANIASSAESRAEETSENIASSSEEEERINERRSTETHENRSSATEATASRTMAERTEREIESTEEESTESSEETSMSSATSSSEEASSRSTRATSRISITNSRSNEREINIRISEESSASAEIEEAIIIAEEESSEENAISASASTRIRARRIAROOTHEAAAAANNAEANRTITIEEARTAEERESENESENTEITTSRMSENTTSSEINENHONAASEITAENATATIESSOSISEANESAANAASATASIONRNESTSSHAITASSEASIESRSTISRTEREITEERAERSTRINAASESSEORASARERRSTAARREASRTRNNSITAANRLISIESSMTTTTEAASNOERNEASEESTREROTIMSASEERSITSNRRIATTERANETTSSREAEETAMERSSSSSSARIRRIORSTASTROATIESRTSEEEEOAEESTRNRSNRMSANNITISSAISTNAMNTRNRISTRRENEATAESESEESRRNTERAIENETTMISERSARINTTSTASTASESLARERETEEERTNTATSSEERSNSAERRHREEAAAISSTSESTIESASAAATTSINERATRIEEEESRRSREAAATENATIEIRASSALTEENEEESRTILASEEERRESSIRSISNASEESEIRRISTEESEESSTOAEATASASOSTASRATSHSSRTIAAENISASEAESESTEITENENEAARMEANANNTRASEAHTASANEARAATESATAARTSIREIRTATAIASAEATNIASAESSERSAEERREIREERASRSRSEERASEIAIRTTSELESSSSATEENSAESEISTSETEISIAREISAASAIREMENAETS\n",
      "\n",
      "nDvfOT$xGnlI~ck<<b^<l<DAl~TKM$w.cmDl$rfaaD<$$cVMw<xAliRRxri^cinDfxl^ZI@^Pw<xs!<v%Wlum<m$WrW<n$$vB&bxxDMYbll?fa?YZA?~?Dx!aO<Y^vxl<<<$&%Dlwbj$.<TUAa~RX<alj^cD$Ixw$v$lR@A$w<DDZPncrbMf~xV$VilbVrmIl^wiAf$c<q?<PNxSwD<$Hbw$i@Er.x$.^*VRbN$l<llDliqcwH<X<Svwi@Ka^ljx!fyxIfO&lzvu@<?.?w@D$xXi^WViWXHx$P<.<iuixlW%$ilOTD^El<S$Al<liExP~*jWrK<%?uW~YiUx<wECSID<U@rXxbxJxS<e$Rl^lw<il<z%<RA~lDxu<WW$aD@Icl?^lb^$fn<JBrP$x<xaDwIN<D?h^rDxSf<x@wDD?DMuWl<<$~*w<Nj$clARWGj%wuiuI$X<D<Zll$D%x.$Mx<~^F<x<XSRfl<bl<RaWRa$^iHClvvlk*r?lD$W?KxDx^C.xlDfxDKC<UcuI?<$xP$l$f$$Dk$xaEcab<<KKrPIP$lRuvYnWDUK.?U$wlDWDlicbxzlXFmc$<Y$$HbifuplHcJSDWjP^c$S%RDcwIax^lR$xjUl^?b$$!IxRP$Aruxa.<$<D<xluPIWnP$lR<lA~Kxi$lu%RVU~<<rw%*$.<$xxZ?b$<DDcRxWW$I~?lIW$Zxfri$?<x?ZK.<RDS$lixK!Dk$xc<W<FlrIW^UnibP$<%zkEc$CaPirqADDKPliv<MW<<l?ir$b<klx<SUxDH?z<?<<V$*HCXl@I.$.$cDTAS?fcD<OXxbl$Hl<CHlix*WDufP<l?$qa?Rx*aPP$K??<xi?<<D!$!&?R<aJl^KubuD<MXl$<^f<mxvwMcfkP~kWPvGTDBawl^wWSZ$.DPrP@<.qg<xWxbRW<DiK<GxRx<xW$fwWLSlvx$$*xxxY$?cDaZcRuxPlaLwb<x<lr<xl<Ah^VvuYl.liiuvli<@x^x?Z%<jlI?<CDGRID$Revx!jD<XDcR!EPP$xicR&hio.W$xq.fRlOlbx$aWAPxFIui?P*%i..S%^lDxAR<RcwbaJV*xTlDD$lPxzF<DbxarTI<Ix@Zc<l?<DO<xR.lafDFIh<.WY<K<<Dn%ur<$lD<^<iiayOlLi<Hxax$DDXjEjTKllWRh$<Rc%wK?D@<f<A^xswlW$$<gx^Di<<x.b~m<lRK^!aa<zu$f^.sIrWPPDaWl<x<<xhrFnlU^rA*^x$D<nw$$I$A*vca!<R<PR<BWlRRxbxDDlxw!RlXR^<RrxUb<<KR?YM%IWZa$fD<<iqf<.xzR?@EXxDI<D%<yi@!aO.WElP$UH*<$r$qc$$<Mib%MDUf$rURaL?r<V<$$.Y*xDW@UvD^x?WlP..lbMPxiI<lM<xI$?cDrrD<m*llnfRlExfxr.wUlHbv$i?ccP<^xHlPG?$<<Cwax<DxwRlPccwcxr<xaMICU?$DDqhl$lM%W*PAD^*DrljDVPD<nx*l$RxP.DC.$PcDbfxt$Rcivll<BKLi.RiM<lP$.&MlDlR$.rlu^?D.b.lrEDx<?x<^lElxlw%zljRx%PlZwS$<F*?Z<<$x<$I<*a<g<U$C<lD$xYx<!TD$HcDPaw%~zciWl$PIxPTw$^?xWx.<$xw.YD%x<?XfR.fbD\n",
      "\n",
      "accept worse solution\n",
      "accept worse solution\n",
      "accept worse solution\n",
      "accept worse solution\n",
      "accept worse solution\n",
      "accept worse solution\n",
      "accept worse solution\n",
      "accept worse solution\n",
      "accept worse solution\n",
      "accept worse solution\n",
      "time elapsed = 1476.997320175171\n",
      "6 iterations / sec\n",
      "temperature   = 10.44\n",
      "best_score    = 566.533924\n",
      "current_score = 508.209169\n",
      "n_iterations  = 48000\n",
      "n_restart     = 1\n",
      "n_backtracks  = 0\n",
      "n_explore     = 75\n",
      "n_since_best  = 11910\n",
      "n_since_best  = 11910\n",
      "\n",
      "566.598487768063\n",
      "\n",
      "TSEETTEIETAETEERRTTRARSOATTETESAEESAERESSSREEEHTSRIOANNNIRNTENTSEIATEETTSSRIMTREASAAEREESRSRTEEEMHTIISTATAAEESEAEOETESITSTRATEIARRREHASASTTEARTSOSTNMRSATTESEEISEEEANTOESRSSESTERTTETIHEHNATHREEATSNOEEERTERSEISSSRELTSENTTRAIEATAHNTEEARAASANTESLRMRSESNTESTATITEIIEETHAEEATREAESTSEIMNTSHNSMLIESRARNANIASAENATTSTTARSEOARANTISTATSRERAEASTANSIRSTESESRSTRMITISISRTENATASRNAREARNOTASIARSSESSTEEAETATTEETRSMRSEIRISSSEERSEOTRSISERITSSSESTASARRETASRETEEAONSETASANAEEMRSREAAESAIAETIRTTSRIRMSNEARTARNSSNSETNLEAEEAEAREASESEEISITEAIASEISEERSEAEEREISEAEEEESEEISTESTRREERSESEANAEATSSSEAESESASSSANETIEAMSEEERAEELTNEATALESSSSTSTEESANSESESITANEITSATETEETEINSEORAISARERSRIAASESTSEANRAOTEINEAAANHSTRRRSAAEAREIIEETERSSENISSEETEAESEEIERNEERIEEEARNSSEANIETSEEIERSRSARESTSTNTSERAEETEEESSNRTOSSESANERTSRRAENRETREAIRSSISLEERERRHEALEMATEAEAEESTOSEEESRTMITAELARELANIASSAESRAEETSENIASSSEEEERINERRSTETHENRSSATEATASRTMAERTEREIESTEEESTESSEETSMSSATSSSEEASSRSTRATSRISITNSRSNEREINIRISEESSASAEIEEAIIIAEEESSEENAISASASTRIRARRIAROOTHEAAAAANNAEANRTITIEEARTAEERESENESENTEITTSRMSENTTSSEINENHONAASEITAENATATIESSOSISEANESAANAASATASIONRNESTSSHAITASSEASIESRSTISRTEREITEERAERSTRINAASESSEORASARERRSTAARREASRTRNNSITAANRLISIESSMTTTTEAASNOERNEASEESTREROTIMSASEERSITSNRRIATTERANETTSSREAEETAMERSSSSSSARIRRIORSTASTROATIESRTSEEEEOAEESTRNRSNRMSANNITISSAISTNAMNTRNRISTRRENEATAESESEESRRNTERAIENETTMISERSARINTTSTASTASESLARERETEEERTNTATSSEERSNSAERRHREEAAAISSTSESTIESASAAATTSINERATRIEEEESRRSREAAATENATIEIRASSALTEENEEESRTILASEEERRESSIRSISNASEESEIRRISTEESEESSTOAEATASASOSTASRATSHSSRTIAAENISASEAESESTEITENENEAARMEANANNTRASEAHTASANEARAATESATAARTSIREIRTATAIASAEATNIASAESSERSAEERREIREERASRSRSEERASEIAIRTTSELESSSSATEENSAESEISTSETEISIAREISAASAIREMENAETS\n",
      "\n",
      "nDvfOT$xGnlI~ck<<b^<l<DAl~TKM$w.cmDl$rfaaD<$$cVMw<xAliRRxri^cinDfxl^ZI@^Pw<xs!<v%Wlum<m$WrW<n$$vB&bxxDMYbll?fa?YZA?~?Dx!aO<Y^vxl<<<$&%Dlwbj$.<TUAa~RX<alj^cD$Ixw$v$lR@A$w<DDZPncrbMf~xV$VilbVrmIl^wiAf$c<q?<PNxSwD<$Hbw$i@Er.x$.^*VRbN$l<llDliqcwH<X<Svwi@Ka^ljx!fyxIfO&lzvu@<?.?w@D$xXi^WViWXHx$P<.<iuixlW%$ilOTD^El<S$Al<liExP~*jWrK<%?uW~YiUx<wECSID<U@rXxbxJxS<e$Rl^lw<il<z%<RA~lDxu<WW$aD@Icl?^lb^$fn<JBrP$x<xaDwIN<D?h^rDxSf<x@wDD?DMuWl<<$~*w<Nj$clARWGj%wuiuI$X<D<Zll$D%x.$Mx<~^F<x<XSRfl<bl<RaWRa$^iHClvvlk*r?lD$W?KxDx^C.xlDfxDKC<UcuI?<$xP$l$f$$Dk$xaEcab<<KKrPIP$lRuvYnWDUK.?U$wlDWDlicbxzlXFmc$<Y$$HbifuplHcJSDWjP^c$S%RDcwIax^lR$xjUl^?b$$!IxRP$Aruxa.<$<D<xluPIWnP$lR<lA~Kxi$lu%RVU~<<rw%*$.<$xxZ?b$<DDcRxWW$I~?lIW$Zxfri$?<x?ZK.<RDS$lixK!Dk$xc<W<FlrIW^UnibP$<%zkEc$CaPirqADDKPliv<MW<<l?ir$b<klx<SUxDH?z<?<<V$*HCXl@I.$.$cDTAS?fcD<OXxbl$Hl<CHlix*WDufP<l?$qa?Rx*aPP$K??<xi?<<D!$!&?R<aJl^KubuD<MXl$<^f<mxvwMcfkP~kWPvGTDBawl^wWSZ$.DPrP@<.qg<xWxbRW<DiK<GxRx<xW$fwWLSlvx$$*xxxY$?cDaZcRuxPlaLwb<x<lr<xl<Ah^VvuYl.liiuvli<@x^x?Z%<jlI?<CDGRID$Revx!jD<XDcR!EPP$xicR&hio.W$xq.fRlOlbx$aWAPxFIui?P*%i..S%^lDxAR<RcwbaJV*xTlDD$lPxzF<DbxarTI<Ix@Zc<l?<DO<xR.lafDFIh<.WY<K<<Dn%ur<$lD<^<iiayOlLi<Hxax$DDXjEjTKllWRh$<Rc%wK?D@<f<A^xswlW$$<gx^Di<<x.b~m<lRK^!aa<zu$f^.sIrWPPDaWl<x<<xhrFnlU^rA*^x$D<nw$$I$A*vca!<R<PR<BWlRRxbxDDlxw!RlXR^<RrxUb<<KR?YM%IWZa$fD<<iqf<.xzR?@EXxDI<D%<yi@!aO.WElP$UH*<$r$qc$$<Mib%MDUf$rURaL?r<V<$$.Y*xDW@UvD^x?WlP..lbMPxiI<lM<xI$?cDrrD<m*llnfRlExfxr.wUlHbv$i?ccP<^xHlPG?$<<Cwax<DxwRlPccwcxr<xaMICU?$DDqhl$lM%W*PAD^*DrljDVPD<nx*l$RxP.DC.$PcDbfxt$Rcivll<BKLi.RiM<lP$.&MlDlR$.rlu^?D.b.lrEDx<?x<^lElxlw%zljRx%PlZwS$<F*?Z<<$x<$I<*a<g<U$C<lD$xYx<!TD$HcDPaw%~zciWl$PIxPTw$^?xWx.<$xw.YD%x<?XfR.fbD\n",
      "\n"
     ]
    },
    {
     "name": "stdout",
     "output_type": "stream",
     "text": [
      "accept worse solution\n",
      "accept worse solution\n",
      "accept worse solution\n",
      "accept worse solution\n",
      "accept worse solution\n",
      "accept worse solution\n",
      "accept worse solution\n",
      "accept worse solution\n",
      "time elapsed = 491.88041949272156\n",
      "20 iterations / sec\n",
      "temperature   = 1.40\n",
      "best_score    = 566.533924\n",
      "current_score = 532.715647\n",
      "n_iterations  = 54000\n",
      "n_restart     = 1\n",
      "n_backtracks  = 0\n",
      "n_explore     = 83\n",
      "n_since_best  = 17910\n",
      "n_since_best  = 17910\n",
      "\n",
      "566.598487768063\n",
      "\n",
      "TSEETTEIETAETEERRTTRARSOATTETESAEESAERESSSREEEHTSRIOANNNIRNTENTSEIATEETTSSRIMTREASAAEREESRSRTEEEMHTIISTATAAEESEAEOETESITSTRATEIARRREHASASTTEARTSOSTNMRSATTESEEISEEEANTOESRSSESTERTTETIHEHNATHREEATSNOEEERTERSEISSSRELTSENTTRAIEATAHNTEEARAASANTESLRMRSESNTESTATITEIIEETHAEEATREAESTSEIMNTSHNSMLIESRARNANIASAENATTSTTARSEOARANTISTATSRERAEASTANSIRSTESESRSTRMITISISRTENATASRNAREARNOTASIARSSESSTEEAETATTEETRSMRSEIRISSSEERSEOTRSISERITSSSESTASARRETASRETEEAONSETASANAEEMRSREAAESAIAETIRTTSRIRMSNEARTARNSSNSETNLEAEEAEAREASESEEISITEAIASEISEERSEAEEREISEAEEEESEEISTESTRREERSESEANAEATSSSEAESESASSSANETIEAMSEEERAEELTNEATALESSSSTSTEESANSESESITANEITSATETEETEINSEORAISARERSRIAASESTSEANRAOTEINEAAANHSTRRRSAAEAREIIEETERSSENISSEETEAESEEIERNEERIEEEARNSSEANIETSEEIERSRSARESTSTNTSERAEETEEESSNRTOSSESANERTSRRAENRETREAIRSSISLEERERRHEALEMATEAEAEESTOSEEESRTMITAELARELANIASSAESRAEETSENIASSSEEEERINERRSTETHENRSSATEATASRTMAERTEREIESTEEESTESSEETSMSSATSSSEEASSRSTRATSRISITNSRSNEREINIRISEESSASAEIEEAIIIAEEESSEENAISASASTRIRARRIAROOTHEAAAAANNAEANRTITIEEARTAEERESENESENTEITTSRMSENTTSSEINENHONAASEITAENATATIESSOSISEANESAANAASATASIONRNESTSSHAITASSEASIESRSTISRTEREITEERAERSTRINAASESSEORASARERRSTAARREASRTRNNSITAANRLISIESSMTTTTEAASNOERNEASEESTREROTIMSASEERSITSNRRIATTERANETTSSREAEETAMERSSSSSSARIRRIORSTASTROATIESRTSEEEEOAEESTRNRSNRMSANNITISSAISTNAMNTRNRISTRRENEATAESESEESRRNTERAIENETTMISERSARINTTSTASTASESLARERETEEERTNTATSSEERSNSAERRHREEAAAISSTSESTIESASAAATTSINERATRIEEEESRRSREAAATENATIEIRASSALTEENEEESRTILASEEERRESSIRSISNASEESEIRRISTEESEESSTOAEATASASOSTASRATSHSSRTIAAENISASEAESESTEITENENEAARMEANANNTRASEAHTASANEARAATESATAARTSIREIRTATAIASAEATNIASAESSERSAEERREIREERASRSRSEERASEIAIRTTSELESSSSATEENSAESEISTSETEISIAREISAASAIREMENAETS\n",
      "\n",
      "nDvfOT$xGnlI~ck<<b^<l<DAl~TKM$w.cmDl$rfaaD<$$cVMw<xAliRRxri^cinDfxl^ZI@^Pw<xs!<v%Wlum<m$WrW<n$$vB&bxxDMYbll?fa?YZA?~?Dx!aO<Y^vxl<<<$&%Dlwbj$.<TUAa~RX<alj^cD$Ixw$v$lR@A$w<DDZPncrbMf~xV$VilbVrmIl^wiAf$c<q?<PNxSwD<$Hbw$i@Er.x$.^*VRbN$l<llDliqcwH<X<Svwi@Ka^ljx!fyxIfO&lzvu@<?.?w@D$xXi^WViWXHx$P<.<iuixlW%$ilOTD^El<S$Al<liExP~*jWrK<%?uW~YiUx<wECSID<U@rXxbxJxS<e$Rl^lw<il<z%<RA~lDxu<WW$aD@Icl?^lb^$fn<JBrP$x<xaDwIN<D?h^rDxSf<x@wDD?DMuWl<<$~*w<Nj$clARWGj%wuiuI$X<D<Zll$D%x.$Mx<~^F<x<XSRfl<bl<RaWRa$^iHClvvlk*r?lD$W?KxDx^C.xlDfxDKC<UcuI?<$xP$l$f$$Dk$xaEcab<<KKrPIP$lRuvYnWDUK.?U$wlDWDlicbxzlXFmc$<Y$$HbifuplHcJSDWjP^c$S%RDcwIax^lR$xjUl^?b$$!IxRP$Aruxa.<$<D<xluPIWnP$lR<lA~Kxi$lu%RVU~<<rw%*$.<$xxZ?b$<DDcRxWW$I~?lIW$Zxfri$?<x?ZK.<RDS$lixK!Dk$xc<W<FlrIW^UnibP$<%zkEc$CaPirqADDKPliv<MW<<l?ir$b<klx<SUxDH?z<?<<V$*HCXl@I.$.$cDTAS?fcD<OXxbl$Hl<CHlix*WDufP<l?$qa?Rx*aPP$K??<xi?<<D!$!&?R<aJl^KubuD<MXl$<^f<mxvwMcfkP~kWPvGTDBawl^wWSZ$.DPrP@<.qg<xWxbRW<DiK<GxRx<xW$fwWLSlvx$$*xxxY$?cDaZcRuxPlaLwb<x<lr<xl<Ah^VvuYl.liiuvli<@x^x?Z%<jlI?<CDGRID$Revx!jD<XDcR!EPP$xicR&hio.W$xq.fRlOlbx$aWAPxFIui?P*%i..S%^lDxAR<RcwbaJV*xTlDD$lPxzF<DbxarTI<Ix@Zc<l?<DO<xR.lafDFIh<.WY<K<<Dn%ur<$lD<^<iiayOlLi<Hxax$DDXjEjTKllWRh$<Rc%wK?D@<f<A^xswlW$$<gx^Di<<x.b~m<lRK^!aa<zu$f^.sIrWPPDaWl<x<<xhrFnlU^rA*^x$D<nw$$I$A*vca!<R<PR<BWlRRxbxDDlxw!RlXR^<RrxUb<<KR?YM%IWZa$fD<<iqf<.xzR?@EXxDI<D%<yi@!aO.WElP$UH*<$r$qc$$<Mib%MDUf$rURaL?r<V<$$.Y*xDW@UvD^x?WlP..lbMPxiI<lM<xI$?cDrrD<m*llnfRlExfxr.wUlHbv$i?ccP<^xHlPG?$<<Cwax<DxwRlPccwcxr<xaMICU?$DDqhl$lM%W*PAD^*DrljDVPD<nx*l$RxP.DC.$PcDbfxt$Rcivll<BKLi.RiM<lP$.&MlDlR$.rlu^?D.b.lrEDx<?x<^lElxlw%zljRx%PlZwS$<F*?Z<<$x<$I<*a<g<U$C<lD$xYx<!TD$HcDPaw%~zciWl$PIxPTw$^?xWx.<$xw.YD%x<?XfR.fbD\n",
      "\n",
      "accept worse solution\n",
      "repick starting point\n",
      "accept worse solution\n",
      "repick starting point\n",
      "accept worse solution\n",
      "accept worse solution\n",
      "accept worse solution\n",
      "accept worse solution\n",
      "time elapsed = 139.86127734184265\n",
      "71 iterations / sec\n",
      "temperature   = 1885.57\n",
      "best_score    = 566.533924\n",
      "current_score = 467.415316\n",
      "n_iterations  = 60000\n",
      "n_restart     = 2\n",
      "n_backtracks  = 1\n",
      "n_explore     = 89\n",
      "n_since_best  = 3900\n",
      "n_since_best  = 3900\n",
      "\n",
      "566.598487768063\n",
      "\n",
      "TSEETTEIETAETEERRTTRARSOATTETESAEESAERESSSREEEHTSRIOANNNIRNTENTSEIATEETTSSRIMTREASAAEREESRSRTEEEMHTIISTATAAEESEAEOETESITSTRATEIARRREHASASTTEARTSOSTNMRSATTESEEISEEEANTOESRSSESTERTTETIHEHNATHREEATSNOEEERTERSEISSSRELTSENTTRAIEATAHNTEEARAASANTESLRMRSESNTESTATITEIIEETHAEEATREAESTSEIMNTSHNSMLIESRARNANIASAENATTSTTARSEOARANTISTATSRERAEASTANSIRSTESESRSTRMITISISRTENATASRNAREARNOTASIARSSESSTEEAETATTEETRSMRSEIRISSSEERSEOTRSISERITSSSESTASARRETASRETEEAONSETASANAEEMRSREAAESAIAETIRTTSRIRMSNEARTARNSSNSETNLEAEEAEAREASESEEISITEAIASEISEERSEAEEREISEAEEEESEEISTESTRREERSESEANAEATSSSEAESESASSSANETIEAMSEEERAEELTNEATALESSSSTSTEESANSESESITANEITSATETEETEINSEORAISARERSRIAASESTSEANRAOTEINEAAANHSTRRRSAAEAREIIEETERSSENISSEETEAESEEIERNEERIEEEARNSSEANIETSEEIERSRSARESTSTNTSERAEETEEESSNRTOSSESANERTSRRAENRETREAIRSSISLEERERRHEALEMATEAEAEESTOSEEESRTMITAELARELANIASSAESRAEETSENIASSSEEEERINERRSTETHENRSSATEATASRTMAERTEREIESTEEESTESSEETSMSSATSSSEEASSRSTRATSRISITNSRSNEREINIRISEESSASAEIEEAIIIAEEESSEENAISASASTRIRARRIAROOTHEAAAAANNAEANRTITIEEARTAEERESENESENTEITTSRMSENTTSSEINENHONAASEITAENATATIESSOSISEANESAANAASATASIONRNESTSSHAITASSEASIESRSTISRTEREITEERAERSTRINAASESSEORASARERRSTAARREASRTRNNSITAANRLISIESSMTTTTEAASNOERNEASEESTREROTIMSASEERSITSNRRIATTERANETTSSREAEETAMERSSSSSSARIRRIORSTASTROATIESRTSEEEEOAEESTRNRSNRMSANNITISSAISTNAMNTRNRISTRRENEATAESESEESRRNTERAIENETTMISERSARINTTSTASTASESLARERETEEERTNTATSSEERSNSAERRHREEAAAISSTSESTIESASAAATTSINERATRIEEEESRRSREAAATENATIEIRASSALTEENEEESRTILASEEERRESSIRSISNASEESEIRRISTEESEESSTOAEATASASOSTASRATSHSSRTIAAENISASEAESESTEITENENEAARMEANANNTRASEAHTASANEARAATESATAARTSIREIRTATAIASAEATNIASAESSERSAEERREIREERASRSRSEERASEIAIRTTSELESSSSATEENSAESEISTSETEISIAREISAASAIREMENAETS\n",
      "\n",
      "nDvfOT$xGnlI~ck<<b^<l<DAl~TKM$w.cmDl$rfaaD<$$cVMw<xAliRRxri^cinDfxl^ZI@^Pw<xs!<v%Wlum<m$WrW<n$$vB&bxxDMYbll?fa?YZA?~?Dx!aO<Y^vxl<<<$&%Dlwbj$.<TUAa~RX<alj^cD$Ixw$v$lR@A$w<DDZPncrbMf~xV$VilbVrmIl^wiAf$c<q?<PNxSwD<$Hbw$i@Er.x$.^*VRbN$l<llDliqcwH<X<Svwi@Ka^ljx!fyxIfO&lzvu@<?.?w@D$xXi^WViWXHx$P<.<iuixlW%$ilOTD^El<S$Al<liExP~*jWrK<%?uW~YiUx<wECSID<U@rXxbxJxS<e$Rl^lw<il<z%<RA~lDxu<WW$aD@Icl?^lb^$fn<JBrP$x<xaDwIN<D?h^rDxSf<x@wDD?DMuWl<<$~*w<Nj$clARWGj%wuiuI$X<D<Zll$D%x.$Mx<~^F<x<XSRfl<bl<RaWRa$^iHClvvlk*r?lD$W?KxDx^C.xlDfxDKC<UcuI?<$xP$l$f$$Dk$xaEcab<<KKrPIP$lRuvYnWDUK.?U$wlDWDlicbxzlXFmc$<Y$$HbifuplHcJSDWjP^c$S%RDcwIax^lR$xjUl^?b$$!IxRP$Aruxa.<$<D<xluPIWnP$lR<lA~Kxi$lu%RVU~<<rw%*$.<$xxZ?b$<DDcRxWW$I~?lIW$Zxfri$?<x?ZK.<RDS$lixK!Dk$xc<W<FlrIW^UnibP$<%zkEc$CaPirqADDKPliv<MW<<l?ir$b<klx<SUxDH?z<?<<V$*HCXl@I.$.$cDTAS?fcD<OXxbl$Hl<CHlix*WDufP<l?$qa?Rx*aPP$K??<xi?<<D!$!&?R<aJl^KubuD<MXl$<^f<mxvwMcfkP~kWPvGTDBawl^wWSZ$.DPrP@<.qg<xWxbRW<DiK<GxRx<xW$fwWLSlvx$$*xxxY$?cDaZcRuxPlaLwb<x<lr<xl<Ah^VvuYl.liiuvli<@x^x?Z%<jlI?<CDGRID$Revx!jD<XDcR!EPP$xicR&hio.W$xq.fRlOlbx$aWAPxFIui?P*%i..S%^lDxAR<RcwbaJV*xTlDD$lPxzF<DbxarTI<Ix@Zc<l?<DO<xR.lafDFIh<.WY<K<<Dn%ur<$lD<^<iiayOlLi<Hxax$DDXjEjTKllWRh$<Rc%wK?D@<f<A^xswlW$$<gx^Di<<x.b~m<lRK^!aa<zu$f^.sIrWPPDaWl<x<<xhrFnlU^rA*^x$D<nw$$I$A*vca!<R<PR<BWlRRxbxDDlxw!RlXR^<RrxUb<<KR?YM%IWZa$fD<<iqf<.xzR?@EXxDI<D%<yi@!aO.WElP$UH*<$r$qc$$<Mib%MDUf$rURaL?r<V<$$.Y*xDW@UvD^x?WlP..lbMPxiI<lM<xI$?cDrrD<m*llnfRlExfxr.wUlHbv$i?ccP<^xHlPG?$<<Cwax<DxwRlPccwcxr<xaMICU?$DDqhl$lM%W*PAD^*DrljDVPD<nx*l$RxP.DC.$PcDbfxt$Rcivll<BKLi.RiM<lP$.&MlDlR$.rlu^?D.b.lrEDx<?x<^lElxlw%zljRx%PlZwS$<F*?Z<<$x<$I<*a<g<U$C<lD$xYx<!TD$HcDPaw%~zciWl$PIxPTw$^?xWx.<$xw.YD%x<?XfR.fbD\n",
      "\n",
      "accept worse solution\n",
      "accept worse solution\n",
      "accept worse solution\n",
      "accept worse solution\n",
      "accept worse solution\n",
      "accept worse solution\n",
      "accept worse solution\n",
      "accept worse solution\n",
      "accept worse solution\n",
      "time elapsed = 154.53681063652039\n",
      "64 iterations / sec\n",
      "temperature   = 252.63\n",
      "best_score    = 566.533924\n",
      "current_score = 529.518002\n",
      "n_iterations  = 66000\n",
      "n_restart     = 2\n",
      "n_backtracks  = 1\n",
      "n_explore     = 98\n",
      "n_since_best  = 9900\n",
      "n_since_best  = 9900\n",
      "\n",
      "566.598487768063\n",
      "\n",
      "TSEETTEIETAETEERRTTRARSOATTETESAEESAERESSSREEEHTSRIOANNNIRNTENTSEIATEETTSSRIMTREASAAEREESRSRTEEEMHTIISTATAAEESEAEOETESITSTRATEIARRREHASASTTEARTSOSTNMRSATTESEEISEEEANTOESRSSESTERTTETIHEHNATHREEATSNOEEERTERSEISSSRELTSENTTRAIEATAHNTEEARAASANTESLRMRSESNTESTATITEIIEETHAEEATREAESTSEIMNTSHNSMLIESRARNANIASAENATTSTTARSEOARANTISTATSRERAEASTANSIRSTESESRSTRMITISISRTENATASRNAREARNOTASIARSSESSTEEAETATTEETRSMRSEIRISSSEERSEOTRSISERITSSSESTASARRETASRETEEAONSETASANAEEMRSREAAESAIAETIRTTSRIRMSNEARTARNSSNSETNLEAEEAEAREASESEEISITEAIASEISEERSEAEEREISEAEEEESEEISTESTRREERSESEANAEATSSSEAESESASSSANETIEAMSEEERAEELTNEATALESSSSTSTEESANSESESITANEITSATETEETEINSEORAISARERSRIAASESTSEANRAOTEINEAAANHSTRRRSAAEAREIIEETERSSENISSEETEAESEEIERNEERIEEEARNSSEANIETSEEIERSRSARESTSTNTSERAEETEEESSNRTOSSESANERTSRRAENRETREAIRSSISLEERERRHEALEMATEAEAEESTOSEEESRTMITAELARELANIASSAESRAEETSENIASSSEEEERINERRSTETHENRSSATEATASRTMAERTEREIESTEEESTESSEETSMSSATSSSEEASSRSTRATSRISITNSRSNEREINIRISEESSASAEIEEAIIIAEEESSEENAISASASTRIRARRIAROOTHEAAAAANNAEANRTITIEEARTAEERESENESENTEITTSRMSENTTSSEINENHONAASEITAENATATIESSOSISEANESAANAASATASIONRNESTSSHAITASSEASIESRSTISRTEREITEERAERSTRINAASESSEORASARERRSTAARREASRTRNNSITAANRLISIESSMTTTTEAASNOERNEASEESTREROTIMSASEERSITSNRRIATTERANETTSSREAEETAMERSSSSSSARIRRIORSTASTROATIESRTSEEEEOAEESTRNRSNRMSANNITISSAISTNAMNTRNRISTRRENEATAESESEESRRNTERAIENETTMISERSARINTTSTASTASESLARERETEEERTNTATSSEERSNSAERRHREEAAAISSTSESTIESASAAATTSINERATRIEEEESRRSREAAATENATIEIRASSALTEENEEESRTILASEEERRESSIRSISNASEESEIRRISTEESEESSTOAEATASASOSTASRATSHSSRTIAAENISASEAESESTEITENENEAARMEANANNTRASEAHTASANEARAATESATAARTSIREIRTATAIASAEATNIASAESSERSAEERREIREERASRSRSEERASEIAIRTTSELESSSSATEENSAESEISTSETEISIAREISAASAIREMENAETS\n",
      "\n",
      "nDvfOT$xGnlI~ck<<b^<l<DAl~TKM$w.cmDl$rfaaD<$$cVMw<xAliRRxri^cinDfxl^ZI@^Pw<xs!<v%Wlum<m$WrW<n$$vB&bxxDMYbll?fa?YZA?~?Dx!aO<Y^vxl<<<$&%Dlwbj$.<TUAa~RX<alj^cD$Ixw$v$lR@A$w<DDZPncrbMf~xV$VilbVrmIl^wiAf$c<q?<PNxSwD<$Hbw$i@Er.x$.^*VRbN$l<llDliqcwH<X<Svwi@Ka^ljx!fyxIfO&lzvu@<?.?w@D$xXi^WViWXHx$P<.<iuixlW%$ilOTD^El<S$Al<liExP~*jWrK<%?uW~YiUx<wECSID<U@rXxbxJxS<e$Rl^lw<il<z%<RA~lDxu<WW$aD@Icl?^lb^$fn<JBrP$x<xaDwIN<D?h^rDxSf<x@wDD?DMuWl<<$~*w<Nj$clARWGj%wuiuI$X<D<Zll$D%x.$Mx<~^F<x<XSRfl<bl<RaWRa$^iHClvvlk*r?lD$W?KxDx^C.xlDfxDKC<UcuI?<$xP$l$f$$Dk$xaEcab<<KKrPIP$lRuvYnWDUK.?U$wlDWDlicbxzlXFmc$<Y$$HbifuplHcJSDWjP^c$S%RDcwIax^lR$xjUl^?b$$!IxRP$Aruxa.<$<D<xluPIWnP$lR<lA~Kxi$lu%RVU~<<rw%*$.<$xxZ?b$<DDcRxWW$I~?lIW$Zxfri$?<x?ZK.<RDS$lixK!Dk$xc<W<FlrIW^UnibP$<%zkEc$CaPirqADDKPliv<MW<<l?ir$b<klx<SUxDH?z<?<<V$*HCXl@I.$.$cDTAS?fcD<OXxbl$Hl<CHlix*WDufP<l?$qa?Rx*aPP$K??<xi?<<D!$!&?R<aJl^KubuD<MXl$<^f<mxvwMcfkP~kWPvGTDBawl^wWSZ$.DPrP@<.qg<xWxbRW<DiK<GxRx<xW$fwWLSlvx$$*xxxY$?cDaZcRuxPlaLwb<x<lr<xl<Ah^VvuYl.liiuvli<@x^x?Z%<jlI?<CDGRID$Revx!jD<XDcR!EPP$xicR&hio.W$xq.fRlOlbx$aWAPxFIui?P*%i..S%^lDxAR<RcwbaJV*xTlDD$lPxzF<DbxarTI<Ix@Zc<l?<DO<xR.lafDFIh<.WY<K<<Dn%ur<$lD<^<iiayOlLi<Hxax$DDXjEjTKllWRh$<Rc%wK?D@<f<A^xswlW$$<gx^Di<<x.b~m<lRK^!aa<zu$f^.sIrWPPDaWl<x<<xhrFnlU^rA*^x$D<nw$$I$A*vca!<R<PR<BWlRRxbxDDlxw!RlXR^<RrxUb<<KR?YM%IWZa$fD<<iqf<.xzR?@EXxDI<D%<yi@!aO.WElP$UH*<$r$qc$$<Mib%MDUf$rURaL?r<V<$$.Y*xDW@UvD^x?WlP..lbMPxiI<lM<xI$?cDrrD<m*llnfRlExfxr.wUlHbv$i?ccP<^xHlPG?$<<Cwax<DxwRlPccwcxr<xaMICU?$DDqhl$lM%W*PAD^*DrljDVPD<nx*l$RxP.DC.$PcDbfxt$Rcivll<BKLi.RiM<lP$.&MlDlR$.rlu^?D.b.lrEDx<?x<^lElxlw%zljRx%PlZwS$<F*?Z<<$x<$I<*a<g<U$C<lD$xYx<!TD$HcDPaw%~zciWl$PIxPTw$^?xWx.<$xw.YD%x<?XfR.fbD\n",
      "\n"
     ]
    },
    {
     "name": "stdout",
     "output_type": "stream",
     "text": [
      "accept worse solution\n",
      "accept worse solution\n",
      "accept worse solution\n",
      "accept worse solution\n",
      "accept worse solution\n",
      "accept worse solution\n",
      "accept worse solution\n",
      "accept worse solution\n",
      "time elapsed = 148.77479815483093\n",
      "67 iterations / sec\n",
      "temperature   = 33.85\n",
      "best_score    = 566.533924\n",
      "current_score = 498.140400\n",
      "n_iterations  = 72000\n",
      "n_restart     = 2\n",
      "n_backtracks  = 1\n",
      "n_explore     = 106\n",
      "n_since_best  = 15900\n",
      "n_since_best  = 15900\n",
      "\n",
      "566.598487768063\n",
      "\n",
      "TSEETTEIETAETEERRTTRARSOATTETESAEESAERESSSREEEHTSRIOANNNIRNTENTSEIATEETTSSRIMTREASAAEREESRSRTEEEMHTIISTATAAEESEAEOETESITSTRATEIARRREHASASTTEARTSOSTNMRSATTESEEISEEEANTOESRSSESTERTTETIHEHNATHREEATSNOEEERTERSEISSSRELTSENTTRAIEATAHNTEEARAASANTESLRMRSESNTESTATITEIIEETHAEEATREAESTSEIMNTSHNSMLIESRARNANIASAENATTSTTARSEOARANTISTATSRERAEASTANSIRSTESESRSTRMITISISRTENATASRNAREARNOTASIARSSESSTEEAETATTEETRSMRSEIRISSSEERSEOTRSISERITSSSESTASARRETASRETEEAONSETASANAEEMRSREAAESAIAETIRTTSRIRMSNEARTARNSSNSETNLEAEEAEAREASESEEISITEAIASEISEERSEAEEREISEAEEEESEEISTESTRREERSESEANAEATSSSEAESESASSSANETIEAMSEEERAEELTNEATALESSSSTSTEESANSESESITANEITSATETEETEINSEORAISARERSRIAASESTSEANRAOTEINEAAANHSTRRRSAAEAREIIEETERSSENISSEETEAESEEIERNEERIEEEARNSSEANIETSEEIERSRSARESTSTNTSERAEETEEESSNRTOSSESANERTSRRAENRETREAIRSSISLEERERRHEALEMATEAEAEESTOSEEESRTMITAELARELANIASSAESRAEETSENIASSSEEEERINERRSTETHENRSSATEATASRTMAERTEREIESTEEESTESSEETSMSSATSSSEEASSRSTRATSRISITNSRSNEREINIRISEESSASAEIEEAIIIAEEESSEENAISASASTRIRARRIAROOTHEAAAAANNAEANRTITIEEARTAEERESENESENTEITTSRMSENTTSSEINENHONAASEITAENATATIESSOSISEANESAANAASATASIONRNESTSSHAITASSEASIESRSTISRTEREITEERAERSTRINAASESSEORASARERRSTAARREASRTRNNSITAANRLISIESSMTTTTEAASNOERNEASEESTREROTIMSASEERSITSNRRIATTERANETTSSREAEETAMERSSSSSSARIRRIORSTASTROATIESRTSEEEEOAEESTRNRSNRMSANNITISSAISTNAMNTRNRISTRRENEATAESESEESRRNTERAIENETTMISERSARINTTSTASTASESLARERETEEERTNTATSSEERSNSAERRHREEAAAISSTSESTIESASAAATTSINERATRIEEEESRRSREAAATENATIEIRASSALTEENEEESRTILASEEERRESSIRSISNASEESEIRRISTEESEESSTOAEATASASOSTASRATSHSSRTIAAENISASEAESESTEITENENEAARMEANANNTRASEAHTASANEARAATESATAARTSIREIRTATAIASAEATNIASAESSERSAEERREIREERASRSRSEERASEIAIRTTSELESSSSATEENSAESEISTSETEISIAREISAASAIREMENAETS\n",
      "\n",
      "nDvfOT$xGnlI~ck<<b^<l<DAl~TKM$w.cmDl$rfaaD<$$cVMw<xAliRRxri^cinDfxl^ZI@^Pw<xs!<v%Wlum<m$WrW<n$$vB&bxxDMYbll?fa?YZA?~?Dx!aO<Y^vxl<<<$&%Dlwbj$.<TUAa~RX<alj^cD$Ixw$v$lR@A$w<DDZPncrbMf~xV$VilbVrmIl^wiAf$c<q?<PNxSwD<$Hbw$i@Er.x$.^*VRbN$l<llDliqcwH<X<Svwi@Ka^ljx!fyxIfO&lzvu@<?.?w@D$xXi^WViWXHx$P<.<iuixlW%$ilOTD^El<S$Al<liExP~*jWrK<%?uW~YiUx<wECSID<U@rXxbxJxS<e$Rl^lw<il<z%<RA~lDxu<WW$aD@Icl?^lb^$fn<JBrP$x<xaDwIN<D?h^rDxSf<x@wDD?DMuWl<<$~*w<Nj$clARWGj%wuiuI$X<D<Zll$D%x.$Mx<~^F<x<XSRfl<bl<RaWRa$^iHClvvlk*r?lD$W?KxDx^C.xlDfxDKC<UcuI?<$xP$l$f$$Dk$xaEcab<<KKrPIP$lRuvYnWDUK.?U$wlDWDlicbxzlXFmc$<Y$$HbifuplHcJSDWjP^c$S%RDcwIax^lR$xjUl^?b$$!IxRP$Aruxa.<$<D<xluPIWnP$lR<lA~Kxi$lu%RVU~<<rw%*$.<$xxZ?b$<DDcRxWW$I~?lIW$Zxfri$?<x?ZK.<RDS$lixK!Dk$xc<W<FlrIW^UnibP$<%zkEc$CaPirqADDKPliv<MW<<l?ir$b<klx<SUxDH?z<?<<V$*HCXl@I.$.$cDTAS?fcD<OXxbl$Hl<CHlix*WDufP<l?$qa?Rx*aPP$K??<xi?<<D!$!&?R<aJl^KubuD<MXl$<^f<mxvwMcfkP~kWPvGTDBawl^wWSZ$.DPrP@<.qg<xWxbRW<DiK<GxRx<xW$fwWLSlvx$$*xxxY$?cDaZcRuxPlaLwb<x<lr<xl<Ah^VvuYl.liiuvli<@x^x?Z%<jlI?<CDGRID$Revx!jD<XDcR!EPP$xicR&hio.W$xq.fRlOlbx$aWAPxFIui?P*%i..S%^lDxAR<RcwbaJV*xTlDD$lPxzF<DbxarTI<Ix@Zc<l?<DO<xR.lafDFIh<.WY<K<<Dn%ur<$lD<^<iiayOlLi<Hxax$DDXjEjTKllWRh$<Rc%wK?D@<f<A^xswlW$$<gx^Di<<x.b~m<lRK^!aa<zu$f^.sIrWPPDaWl<x<<xhrFnlU^rA*^x$D<nw$$I$A*vca!<R<PR<BWlRRxbxDDlxw!RlXR^<RrxUb<<KR?YM%IWZa$fD<<iqf<.xzR?@EXxDI<D%<yi@!aO.WElP$UH*<$r$qc$$<Mib%MDUf$rURaL?r<V<$$.Y*xDW@UvD^x?WlP..lbMPxiI<lM<xI$?cDrrD<m*llnfRlExfxr.wUlHbv$i?ccP<^xHlPG?$<<Cwax<DxwRlPccwcxr<xaMICU?$DDqhl$lM%W*PAD^*DrljDVPD<nx*l$RxP.DC.$PcDbfxt$Rcivll<BKLi.RiM<lP$.&MlDlR$.rlu^?D.b.lrEDx<?x<^lElxlw%zljRx%PlZwS$<F*?Z<<$x<$I<*a<g<U$C<lD$xYx<!TD$HcDPaw%~zciWl$PIxPTw$^?xWx.<$xw.YD%x<?XfR.fbD\n",
      "\n",
      "accept worse solution\n",
      "accept worse solution\n",
      "accept worse solution\n",
      "accept worse solution\n",
      "accept worse solution\n",
      "accept worse solution\n",
      "repick starting point\n",
      "accept worse solution\n",
      "time elapsed = 140.61402225494385\n",
      "71 iterations / sec\n",
      "temperature   = 4.53\n",
      "best_score    = 566.533924\n",
      "current_score = 520.027224\n",
      "n_iterations  = 78000\n",
      "n_restart     = 2\n",
      "n_backtracks  = 2\n",
      "n_explore     = 113\n",
      "n_since_best  = 1890\n",
      "n_since_best  = 1890\n",
      "\n",
      "566.598487768063\n",
      "\n",
      "TSEETTEIETAETEERRTTRARSOATTETESAEESAERESSSREEEHTSRIOANNNIRNTENTSEIATEETTSSRIMTREASAAEREESRSRTEEEMHTIISTATAAEESEAEOETESITSTRATEIARRREHASASTTEARTSOSTNMRSATTESEEISEEEANTOESRSSESTERTTETIHEHNATHREEATSNOEEERTERSEISSSRELTSENTTRAIEATAHNTEEARAASANTESLRMRSESNTESTATITEIIEETHAEEATREAESTSEIMNTSHNSMLIESRARNANIASAENATTSTTARSEOARANTISTATSRERAEASTANSIRSTESESRSTRMITISISRTENATASRNAREARNOTASIARSSESSTEEAETATTEETRSMRSEIRISSSEERSEOTRSISERITSSSESTASARRETASRETEEAONSETASANAEEMRSREAAESAIAETIRTTSRIRMSNEARTARNSSNSETNLEAEEAEAREASESEEISITEAIASEISEERSEAEEREISEAEEEESEEISTESTRREERSESEANAEATSSSEAESESASSSANETIEAMSEEERAEELTNEATALESSSSTSTEESANSESESITANEITSATETEETEINSEORAISARERSRIAASESTSEANRAOTEINEAAANHSTRRRSAAEAREIIEETERSSENISSEETEAESEEIERNEERIEEEARNSSEANIETSEEIERSRSARESTSTNTSERAEETEEESSNRTOSSESANERTSRRAENRETREAIRSSISLEERERRHEALEMATEAEAEESTOSEEESRTMITAELARELANIASSAESRAEETSENIASSSEEEERINERRSTETHENRSSATEATASRTMAERTEREIESTEEESTESSEETSMSSATSSSEEASSRSTRATSRISITNSRSNEREINIRISEESSASAEIEEAIIIAEEESSEENAISASASTRIRARRIAROOTHEAAAAANNAEANRTITIEEARTAEERESENESENTEITTSRMSENTTSSEINENHONAASEITAENATATIESSOSISEANESAANAASATASIONRNESTSSHAITASSEASIESRSTISRTEREITEERAERSTRINAASESSEORASARERRSTAARREASRTRNNSITAANRLISIESSMTTTTEAASNOERNEASEESTREROTIMSASEERSITSNRRIATTERANETTSSREAEETAMERSSSSSSARIRRIORSTASTROATIESRTSEEEEOAEESTRNRSNRMSANNITISSAISTNAMNTRNRISTRRENEATAESESEESRRNTERAIENETTMISERSARINTTSTASTASESLARERETEEERTNTATSSEERSNSAERRHREEAAAISSTSESTIESASAAATTSINERATRIEEEESRRSREAAATENATIEIRASSALTEENEEESRTILASEEERRESSIRSISNASEESEIRRISTEESEESSTOAEATASASOSTASRATSHSSRTIAAENISASEAESESTEITENENEAARMEANANNTRASEAHTASANEARAATESATAARTSIREIRTATAIASAEATNIASAESSERSAEERREIREERASRSRSEERASEIAIRTTSELESSSSATEENSAESEISTSETEISIAREISAASAIREMENAETS\n",
      "\n",
      "nDvfOT$xGnlI~ck<<b^<l<DAl~TKM$w.cmDl$rfaaD<$$cVMw<xAliRRxri^cinDfxl^ZI@^Pw<xs!<v%Wlum<m$WrW<n$$vB&bxxDMYbll?fa?YZA?~?Dx!aO<Y^vxl<<<$&%Dlwbj$.<TUAa~RX<alj^cD$Ixw$v$lR@A$w<DDZPncrbMf~xV$VilbVrmIl^wiAf$c<q?<PNxSwD<$Hbw$i@Er.x$.^*VRbN$l<llDliqcwH<X<Svwi@Ka^ljx!fyxIfO&lzvu@<?.?w@D$xXi^WViWXHx$P<.<iuixlW%$ilOTD^El<S$Al<liExP~*jWrK<%?uW~YiUx<wECSID<U@rXxbxJxS<e$Rl^lw<il<z%<RA~lDxu<WW$aD@Icl?^lb^$fn<JBrP$x<xaDwIN<D?h^rDxSf<x@wDD?DMuWl<<$~*w<Nj$clARWGj%wuiuI$X<D<Zll$D%x.$Mx<~^F<x<XSRfl<bl<RaWRa$^iHClvvlk*r?lD$W?KxDx^C.xlDfxDKC<UcuI?<$xP$l$f$$Dk$xaEcab<<KKrPIP$lRuvYnWDUK.?U$wlDWDlicbxzlXFmc$<Y$$HbifuplHcJSDWjP^c$S%RDcwIax^lR$xjUl^?b$$!IxRP$Aruxa.<$<D<xluPIWnP$lR<lA~Kxi$lu%RVU~<<rw%*$.<$xxZ?b$<DDcRxWW$I~?lIW$Zxfri$?<x?ZK.<RDS$lixK!Dk$xc<W<FlrIW^UnibP$<%zkEc$CaPirqADDKPliv<MW<<l?ir$b<klx<SUxDH?z<?<<V$*HCXl@I.$.$cDTAS?fcD<OXxbl$Hl<CHlix*WDufP<l?$qa?Rx*aPP$K??<xi?<<D!$!&?R<aJl^KubuD<MXl$<^f<mxvwMcfkP~kWPvGTDBawl^wWSZ$.DPrP@<.qg<xWxbRW<DiK<GxRx<xW$fwWLSlvx$$*xxxY$?cDaZcRuxPlaLwb<x<lr<xl<Ah^VvuYl.liiuvli<@x^x?Z%<jlI?<CDGRID$Revx!jD<XDcR!EPP$xicR&hio.W$xq.fRlOlbx$aWAPxFIui?P*%i..S%^lDxAR<RcwbaJV*xTlDD$lPxzF<DbxarTI<Ix@Zc<l?<DO<xR.lafDFIh<.WY<K<<Dn%ur<$lD<^<iiayOlLi<Hxax$DDXjEjTKllWRh$<Rc%wK?D@<f<A^xswlW$$<gx^Di<<x.b~m<lRK^!aa<zu$f^.sIrWPPDaWl<x<<xhrFnlU^rA*^x$D<nw$$I$A*vca!<R<PR<BWlRRxbxDDlxw!RlXR^<RrxUb<<KR?YM%IWZa$fD<<iqf<.xzR?@EXxDI<D%<yi@!aO.WElP$UH*<$r$qc$$<Mib%MDUf$rURaL?r<V<$$.Y*xDW@UvD^x?WlP..lbMPxiI<lM<xI$?cDrrD<m*llnfRlExfxr.wUlHbv$i?ccP<^xHlPG?$<<Cwax<DxwRlPccwcxr<xaMICU?$DDqhl$lM%W*PAD^*DrljDVPD<nx*l$RxP.DC.$PcDbfxt$Rcivll<BKLi.RiM<lP$.&MlDlR$.rlu^?D.b.lrEDx<?x<^lElxlw%zljRx%PlZwS$<F*?Z<<$x<$I<*a<g<U$C<lD$xYx<!TD$HcDPaw%~zciWl$PIxPTw$^?xWx.<$xw.YD%x<?XfR.fbD\n",
      "\n",
      "accept worse solution\n",
      "accept worse solution\n",
      "accept worse solution\n",
      "accept worse solution\n",
      "accept worse solution\n",
      "accept worse solution\n",
      "accept worse solution\n",
      "accept worse solution\n",
      "repick starting point\n",
      "time elapsed = 145.21736192703247\n",
      "68 iterations / sec\n",
      "temperature   = 6111.17\n",
      "best_score    = 566.533924\n",
      "current_score = 523.219769\n",
      "n_iterations  = 84000\n",
      "n_restart     = 3\n",
      "n_backtracks  = 2\n",
      "n_explore     = 121\n",
      "n_since_best  = 7890\n",
      "n_since_best  = 7890\n",
      "\n",
      "566.598487768063\n",
      "\n",
      "TSEETTEIETAETEERRTTRARSOATTETESAEESAERESSSREEEHTSRIOANNNIRNTENTSEIATEETTSSRIMTREASAAEREESRSRTEEEMHTIISTATAAEESEAEOETESITSTRATEIARRREHASASTTEARTSOSTNMRSATTESEEISEEEANTOESRSSESTERTTETIHEHNATHREEATSNOEEERTERSEISSSRELTSENTTRAIEATAHNTEEARAASANTESLRMRSESNTESTATITEIIEETHAEEATREAESTSEIMNTSHNSMLIESRARNANIASAENATTSTTARSEOARANTISTATSRERAEASTANSIRSTESESRSTRMITISISRTENATASRNAREARNOTASIARSSESSTEEAETATTEETRSMRSEIRISSSEERSEOTRSISERITSSSESTASARRETASRETEEAONSETASANAEEMRSREAAESAIAETIRTTSRIRMSNEARTARNSSNSETNLEAEEAEAREASESEEISITEAIASEISEERSEAEEREISEAEEEESEEISTESTRREERSESEANAEATSSSEAESESASSSANETIEAMSEEERAEELTNEATALESSSSTSTEESANSESESITANEITSATETEETEINSEORAISARERSRIAASESTSEANRAOTEINEAAANHSTRRRSAAEAREIIEETERSSENISSEETEAESEEIERNEERIEEEARNSSEANIETSEEIERSRSARESTSTNTSERAEETEEESSNRTOSSESANERTSRRAENRETREAIRSSISLEERERRHEALEMATEAEAEESTOSEEESRTMITAELARELANIASSAESRAEETSENIASSSEEEERINERRSTETHENRSSATEATASRTMAERTEREIESTEEESTESSEETSMSSATSSSEEASSRSTRATSRISITNSRSNEREINIRISEESSASAEIEEAIIIAEEESSEENAISASASTRIRARRIAROOTHEAAAAANNAEANRTITIEEARTAEERESENESENTEITTSRMSENTTSSEINENHONAASEITAENATATIESSOSISEANESAANAASATASIONRNESTSSHAITASSEASIESRSTISRTEREITEERAERSTRINAASESSEORASARERRSTAARREASRTRNNSITAANRLISIESSMTTTTEAASNOERNEASEESTREROTIMSASEERSITSNRRIATTERANETTSSREAEETAMERSSSSSSARIRRIORSTASTROATIESRTSEEEEOAEESTRNRSNRMSANNITISSAISTNAMNTRNRISTRRENEATAESESEESRRNTERAIENETTMISERSARINTTSTASTASESLARERETEEERTNTATSSEERSNSAERRHREEAAAISSTSESTIESASAAATTSINERATRIEEEESRRSREAAATENATIEIRASSALTEENEEESRTILASEEERRESSIRSISNASEESEIRRISTEESEESSTOAEATASASOSTASRATSHSSRTIAAENISASEAESESTEITENENEAARMEANANNTRASEAHTASANEARAATESATAARTSIREIRTATAIASAEATNIASAESSERSAEERREIREERASRSRSEERASEIAIRTTSELESSSSATEENSAESEISTSETEISIAREISAASAIREMENAETS\n",
      "\n",
      "nDvfOT$xGnlI~ck<<b^<l<DAl~TKM$w.cmDl$rfaaD<$$cVMw<xAliRRxri^cinDfxl^ZI@^Pw<xs!<v%Wlum<m$WrW<n$$vB&bxxDMYbll?fa?YZA?~?Dx!aO<Y^vxl<<<$&%Dlwbj$.<TUAa~RX<alj^cD$Ixw$v$lR@A$w<DDZPncrbMf~xV$VilbVrmIl^wiAf$c<q?<PNxSwD<$Hbw$i@Er.x$.^*VRbN$l<llDliqcwH<X<Svwi@Ka^ljx!fyxIfO&lzvu@<?.?w@D$xXi^WViWXHx$P<.<iuixlW%$ilOTD^El<S$Al<liExP~*jWrK<%?uW~YiUx<wECSID<U@rXxbxJxS<e$Rl^lw<il<z%<RA~lDxu<WW$aD@Icl?^lb^$fn<JBrP$x<xaDwIN<D?h^rDxSf<x@wDD?DMuWl<<$~*w<Nj$clARWGj%wuiuI$X<D<Zll$D%x.$Mx<~^F<x<XSRfl<bl<RaWRa$^iHClvvlk*r?lD$W?KxDx^C.xlDfxDKC<UcuI?<$xP$l$f$$Dk$xaEcab<<KKrPIP$lRuvYnWDUK.?U$wlDWDlicbxzlXFmc$<Y$$HbifuplHcJSDWjP^c$S%RDcwIax^lR$xjUl^?b$$!IxRP$Aruxa.<$<D<xluPIWnP$lR<lA~Kxi$lu%RVU~<<rw%*$.<$xxZ?b$<DDcRxWW$I~?lIW$Zxfri$?<x?ZK.<RDS$lixK!Dk$xc<W<FlrIW^UnibP$<%zkEc$CaPirqADDKPliv<MW<<l?ir$b<klx<SUxDH?z<?<<V$*HCXl@I.$.$cDTAS?fcD<OXxbl$Hl<CHlix*WDufP<l?$qa?Rx*aPP$K??<xi?<<D!$!&?R<aJl^KubuD<MXl$<^f<mxvwMcfkP~kWPvGTDBawl^wWSZ$.DPrP@<.qg<xWxbRW<DiK<GxRx<xW$fwWLSlvx$$*xxxY$?cDaZcRuxPlaLwb<x<lr<xl<Ah^VvuYl.liiuvli<@x^x?Z%<jlI?<CDGRID$Revx!jD<XDcR!EPP$xicR&hio.W$xq.fRlOlbx$aWAPxFIui?P*%i..S%^lDxAR<RcwbaJV*xTlDD$lPxzF<DbxarTI<Ix@Zc<l?<DO<xR.lafDFIh<.WY<K<<Dn%ur<$lD<^<iiayOlLi<Hxax$DDXjEjTKllWRh$<Rc%wK?D@<f<A^xswlW$$<gx^Di<<x.b~m<lRK^!aa<zu$f^.sIrWPPDaWl<x<<xhrFnlU^rA*^x$D<nw$$I$A*vca!<R<PR<BWlRRxbxDDlxw!RlXR^<RrxUb<<KR?YM%IWZa$fD<<iqf<.xzR?@EXxDI<D%<yi@!aO.WElP$UH*<$r$qc$$<Mib%MDUf$rURaL?r<V<$$.Y*xDW@UvD^x?WlP..lbMPxiI<lM<xI$?cDrrD<m*llnfRlExfxr.wUlHbv$i?ccP<^xHlPG?$<<Cwax<DxwRlPccwcxr<xaMICU?$DDqhl$lM%W*PAD^*DrljDVPD<nx*l$RxP.DC.$PcDbfxt$Rcivll<BKLi.RiM<lP$.&MlDlR$.rlu^?D.b.lrEDx<?x<^lElxlw%zljRx%PlZwS$<F*?Z<<$x<$I<*a<g<U$C<lD$xYx<!TD$HcDPaw%~zciWl$PIxPTw$^?xWx.<$xw.YD%x<?XfR.fbD\n",
      "\n"
     ]
    },
    {
     "name": "stdout",
     "output_type": "stream",
     "text": [
      "accept worse solution\n",
      "accept worse solution\n",
      "accept worse solution\n",
      "accept worse solution\n",
      "accept worse solution\n",
      "accept worse solution\n",
      "time elapsed = 133.44745898246765\n",
      "74 iterations / sec\n",
      "temperature   = 818.77\n",
      "best_score    = 566.533924\n",
      "current_score = 492.756996\n",
      "n_iterations  = 90000\n",
      "n_restart     = 3\n",
      "n_backtracks  = 2\n",
      "n_explore     = 127\n",
      "n_since_best  = 13890\n",
      "n_since_best  = 13890\n",
      "\n",
      "566.598487768063\n",
      "\n",
      "TSEETTEIETAETEERRTTRARSOATTETESAEESAERESSSREEEHTSRIOANNNIRNTENTSEIATEETTSSRIMTREASAAEREESRSRTEEEMHTIISTATAAEESEAEOETESITSTRATEIARRREHASASTTEARTSOSTNMRSATTESEEISEEEANTOESRSSESTERTTETIHEHNATHREEATSNOEEERTERSEISSSRELTSENTTRAIEATAHNTEEARAASANTESLRMRSESNTESTATITEIIEETHAEEATREAESTSEIMNTSHNSMLIESRARNANIASAENATTSTTARSEOARANTISTATSRERAEASTANSIRSTESESRSTRMITISISRTENATASRNAREARNOTASIARSSESSTEEAETATTEETRSMRSEIRISSSEERSEOTRSISERITSSSESTASARRETASRETEEAONSETASANAEEMRSREAAESAIAETIRTTSRIRMSNEARTARNSSNSETNLEAEEAEAREASESEEISITEAIASEISEERSEAEEREISEAEEEESEEISTESTRREERSESEANAEATSSSEAESESASSSANETIEAMSEEERAEELTNEATALESSSSTSTEESANSESESITANEITSATETEETEINSEORAISARERSRIAASESTSEANRAOTEINEAAANHSTRRRSAAEAREIIEETERSSENISSEETEAESEEIERNEERIEEEARNSSEANIETSEEIERSRSARESTSTNTSERAEETEEESSNRTOSSESANERTSRRAENRETREAIRSSISLEERERRHEALEMATEAEAEESTOSEEESRTMITAELARELANIASSAESRAEETSENIASSSEEEERINERRSTETHENRSSATEATASRTMAERTEREIESTEEESTESSEETSMSSATSSSEEASSRSTRATSRISITNSRSNEREINIRISEESSASAEIEEAIIIAEEESSEENAISASASTRIRARRIAROOTHEAAAAANNAEANRTITIEEARTAEERESENESENTEITTSRMSENTTSSEINENHONAASEITAENATATIESSOSISEANESAANAASATASIONRNESTSSHAITASSEASIESRSTISRTEREITEERAERSTRINAASESSEORASARERRSTAARREASRTRNNSITAANRLISIESSMTTTTEAASNOERNEASEESTREROTIMSASEERSITSNRRIATTERANETTSSREAEETAMERSSSSSSARIRRIORSTASTROATIESRTSEEEEOAEESTRNRSNRMSANNITISSAISTNAMNTRNRISTRRENEATAESESEESRRNTERAIENETTMISERSARINTTSTASTASESLARERETEEERTNTATSSEERSNSAERRHREEAAAISSTSESTIESASAAATTSINERATRIEEEESRRSREAAATENATIEIRASSALTEENEEESRTILASEEERRESSIRSISNASEESEIRRISTEESEESSTOAEATASASOSTASRATSHSSRTIAAENISASEAESESTEITENENEAARMEANANNTRASEAHTASANEARAATESATAARTSIREIRTATAIASAEATNIASAESSERSAEERREIREERASRSRSEERASEIAIRTTSELESSSSATEENSAESEISTSETEISIAREISAASAIREMENAETS\n",
      "\n",
      "nDvfOT$xGnlI~ck<<b^<l<DAl~TKM$w.cmDl$rfaaD<$$cVMw<xAliRRxri^cinDfxl^ZI@^Pw<xs!<v%Wlum<m$WrW<n$$vB&bxxDMYbll?fa?YZA?~?Dx!aO<Y^vxl<<<$&%Dlwbj$.<TUAa~RX<alj^cD$Ixw$v$lR@A$w<DDZPncrbMf~xV$VilbVrmIl^wiAf$c<q?<PNxSwD<$Hbw$i@Er.x$.^*VRbN$l<llDliqcwH<X<Svwi@Ka^ljx!fyxIfO&lzvu@<?.?w@D$xXi^WViWXHx$P<.<iuixlW%$ilOTD^El<S$Al<liExP~*jWrK<%?uW~YiUx<wECSID<U@rXxbxJxS<e$Rl^lw<il<z%<RA~lDxu<WW$aD@Icl?^lb^$fn<JBrP$x<xaDwIN<D?h^rDxSf<x@wDD?DMuWl<<$~*w<Nj$clARWGj%wuiuI$X<D<Zll$D%x.$Mx<~^F<x<XSRfl<bl<RaWRa$^iHClvvlk*r?lD$W?KxDx^C.xlDfxDKC<UcuI?<$xP$l$f$$Dk$xaEcab<<KKrPIP$lRuvYnWDUK.?U$wlDWDlicbxzlXFmc$<Y$$HbifuplHcJSDWjP^c$S%RDcwIax^lR$xjUl^?b$$!IxRP$Aruxa.<$<D<xluPIWnP$lR<lA~Kxi$lu%RVU~<<rw%*$.<$xxZ?b$<DDcRxWW$I~?lIW$Zxfri$?<x?ZK.<RDS$lixK!Dk$xc<W<FlrIW^UnibP$<%zkEc$CaPirqADDKPliv<MW<<l?ir$b<klx<SUxDH?z<?<<V$*HCXl@I.$.$cDTAS?fcD<OXxbl$Hl<CHlix*WDufP<l?$qa?Rx*aPP$K??<xi?<<D!$!&?R<aJl^KubuD<MXl$<^f<mxvwMcfkP~kWPvGTDBawl^wWSZ$.DPrP@<.qg<xWxbRW<DiK<GxRx<xW$fwWLSlvx$$*xxxY$?cDaZcRuxPlaLwb<x<lr<xl<Ah^VvuYl.liiuvli<@x^x?Z%<jlI?<CDGRID$Revx!jD<XDcR!EPP$xicR&hio.W$xq.fRlOlbx$aWAPxFIui?P*%i..S%^lDxAR<RcwbaJV*xTlDD$lPxzF<DbxarTI<Ix@Zc<l?<DO<xR.lafDFIh<.WY<K<<Dn%ur<$lD<^<iiayOlLi<Hxax$DDXjEjTKllWRh$<Rc%wK?D@<f<A^xswlW$$<gx^Di<<x.b~m<lRK^!aa<zu$f^.sIrWPPDaWl<x<<xhrFnlU^rA*^x$D<nw$$I$A*vca!<R<PR<BWlRRxbxDDlxw!RlXR^<RrxUb<<KR?YM%IWZa$fD<<iqf<.xzR?@EXxDI<D%<yi@!aO.WElP$UH*<$r$qc$$<Mib%MDUf$rURaL?r<V<$$.Y*xDW@UvD^x?WlP..lbMPxiI<lM<xI$?cDrrD<m*llnfRlExfxr.wUlHbv$i?ccP<^xHlPG?$<<Cwax<DxwRlPccwcxr<xaMICU?$DDqhl$lM%W*PAD^*DrljDVPD<nx*l$RxP.DC.$PcDbfxt$Rcivll<BKLi.RiM<lP$.&MlDlR$.rlu^?D.b.lrEDx<?x<^lElxlw%zljRx%PlZwS$<F*?Z<<$x<$I<*a<g<U$C<lD$xYx<!TD$HcDPaw%~zciWl$PIxPTw$^?xWx.<$xw.YD%x<?XfR.fbD\n",
      "\n",
      "accept worse solution\n",
      "accept worse solution\n",
      "accept worse solution\n",
      "accept worse solution\n",
      "accept worse solution\n",
      "accept worse solution\n",
      "accept worse solution\n",
      "accept worse solution\n",
      "time elapsed = 136.25233936309814\n",
      "73 iterations / sec\n",
      "temperature   = 109.70\n",
      "best_score    = 566.533924\n",
      "current_score = 528.260658\n",
      "n_iterations  = 96000\n",
      "n_restart     = 3\n",
      "n_backtracks  = 2\n",
      "n_explore     = 135\n",
      "n_since_best  = 19890\n",
      "n_since_best  = 19890\n",
      "\n",
      "566.598487768063\n",
      "\n",
      "TSEETTEIETAETEERRTTRARSOATTETESAEESAERESSSREEEHTSRIOANNNIRNTENTSEIATEETTSSRIMTREASAAEREESRSRTEEEMHTIISTATAAEESEAEOETESITSTRATEIARRREHASASTTEARTSOSTNMRSATTESEEISEEEANTOESRSSESTERTTETIHEHNATHREEATSNOEEERTERSEISSSRELTSENTTRAIEATAHNTEEARAASANTESLRMRSESNTESTATITEIIEETHAEEATREAESTSEIMNTSHNSMLIESRARNANIASAENATTSTTARSEOARANTISTATSRERAEASTANSIRSTESESRSTRMITISISRTENATASRNAREARNOTASIARSSESSTEEAETATTEETRSMRSEIRISSSEERSEOTRSISERITSSSESTASARRETASRETEEAONSETASANAEEMRSREAAESAIAETIRTTSRIRMSNEARTARNSSNSETNLEAEEAEAREASESEEISITEAIASEISEERSEAEEREISEAEEEESEEISTESTRREERSESEANAEATSSSEAESESASSSANETIEAMSEEERAEELTNEATALESSSSTSTEESANSESESITANEITSATETEETEINSEORAISARERSRIAASESTSEANRAOTEINEAAANHSTRRRSAAEAREIIEETERSSENISSEETEAESEEIERNEERIEEEARNSSEANIETSEEIERSRSARESTSTNTSERAEETEEESSNRTOSSESANERTSRRAENRETREAIRSSISLEERERRHEALEMATEAEAEESTOSEEESRTMITAELARELANIASSAESRAEETSENIASSSEEEERINERRSTETHENRSSATEATASRTMAERTEREIESTEEESTESSEETSMSSATSSSEEASSRSTRATSRISITNSRSNEREINIRISEESSASAEIEEAIIIAEEESSEENAISASASTRIRARRIAROOTHEAAAAANNAEANRTITIEEARTAEERESENESENTEITTSRMSENTTSSEINENHONAASEITAENATATIESSOSISEANESAANAASATASIONRNESTSSHAITASSEASIESRSTISRTEREITEERAERSTRINAASESSEORASARERRSTAARREASRTRNNSITAANRLISIESSMTTTTEAASNOERNEASEESTREROTIMSASEERSITSNRRIATTERANETTSSREAEETAMERSSSSSSARIRRIORSTASTROATIESRTSEEEEOAEESTRNRSNRMSANNITISSAISTNAMNTRNRISTRRENEATAESESEESRRNTERAIENETTMISERSARINTTSTASTASESLARERETEEERTNTATSSEERSNSAERRHREEAAAISSTSESTIESASAAATTSINERATRIEEEESRRSREAAATENATIEIRASSALTEENEEESRTILASEEERRESSIRSISNASEESEIRRISTEESEESSTOAEATASASOSTASRATSHSSRTIAAENISASEAESESTEITENENEAARMEANANNTRASEAHTASANEARAATESATAARTSIREIRTATAIASAEATNIASAESSERSAEERREIREERASRSRSEERASEIAIRTTSELESSSSATEENSAESEISTSETEISIAREISAASAIREMENAETS\n",
      "\n",
      "nDvfOT$xGnlI~ck<<b^<l<DAl~TKM$w.cmDl$rfaaD<$$cVMw<xAliRRxri^cinDfxl^ZI@^Pw<xs!<v%Wlum<m$WrW<n$$vB&bxxDMYbll?fa?YZA?~?Dx!aO<Y^vxl<<<$&%Dlwbj$.<TUAa~RX<alj^cD$Ixw$v$lR@A$w<DDZPncrbMf~xV$VilbVrmIl^wiAf$c<q?<PNxSwD<$Hbw$i@Er.x$.^*VRbN$l<llDliqcwH<X<Svwi@Ka^ljx!fyxIfO&lzvu@<?.?w@D$xXi^WViWXHx$P<.<iuixlW%$ilOTD^El<S$Al<liExP~*jWrK<%?uW~YiUx<wECSID<U@rXxbxJxS<e$Rl^lw<il<z%<RA~lDxu<WW$aD@Icl?^lb^$fn<JBrP$x<xaDwIN<D?h^rDxSf<x@wDD?DMuWl<<$~*w<Nj$clARWGj%wuiuI$X<D<Zll$D%x.$Mx<~^F<x<XSRfl<bl<RaWRa$^iHClvvlk*r?lD$W?KxDx^C.xlDfxDKC<UcuI?<$xP$l$f$$Dk$xaEcab<<KKrPIP$lRuvYnWDUK.?U$wlDWDlicbxzlXFmc$<Y$$HbifuplHcJSDWjP^c$S%RDcwIax^lR$xjUl^?b$$!IxRP$Aruxa.<$<D<xluPIWnP$lR<lA~Kxi$lu%RVU~<<rw%*$.<$xxZ?b$<DDcRxWW$I~?lIW$Zxfri$?<x?ZK.<RDS$lixK!Dk$xc<W<FlrIW^UnibP$<%zkEc$CaPirqADDKPliv<MW<<l?ir$b<klx<SUxDH?z<?<<V$*HCXl@I.$.$cDTAS?fcD<OXxbl$Hl<CHlix*WDufP<l?$qa?Rx*aPP$K??<xi?<<D!$!&?R<aJl^KubuD<MXl$<^f<mxvwMcfkP~kWPvGTDBawl^wWSZ$.DPrP@<.qg<xWxbRW<DiK<GxRx<xW$fwWLSlvx$$*xxxY$?cDaZcRuxPlaLwb<x<lr<xl<Ah^VvuYl.liiuvli<@x^x?Z%<jlI?<CDGRID$Revx!jD<XDcR!EPP$xicR&hio.W$xq.fRlOlbx$aWAPxFIui?P*%i..S%^lDxAR<RcwbaJV*xTlDD$lPxzF<DbxarTI<Ix@Zc<l?<DO<xR.lafDFIh<.WY<K<<Dn%ur<$lD<^<iiayOlLi<Hxax$DDXjEjTKllWRh$<Rc%wK?D@<f<A^xswlW$$<gx^Di<<x.b~m<lRK^!aa<zu$f^.sIrWPPDaWl<x<<xhrFnlU^rA*^x$D<nw$$I$A*vca!<R<PR<BWlRRxbxDDlxw!RlXR^<RrxUb<<KR?YM%IWZa$fD<<iqf<.xzR?@EXxDI<D%<yi@!aO.WElP$UH*<$r$qc$$<Mib%MDUf$rURaL?r<V<$$.Y*xDW@UvD^x?WlP..lbMPxiI<lM<xI$?cDrrD<m*llnfRlExfxr.wUlHbv$i?ccP<^xHlPG?$<<Cwax<DxwRlPccwcxr<xaMICU?$DDqhl$lM%W*PAD^*DrljDVPD<nx*l$RxP.DC.$PcDbfxt$Rcivll<BKLi.RiM<lP$.&MlDlR$.rlu^?D.b.lrEDx<?x<^lElxlw%zljRx%PlZwS$<F*?Z<<$x<$I<*a<g<U$C<lD$xYx<!TD$HcDPaw%~zciWl$PIxPTw$^?xWx.<$xw.YD%x<?XfR.fbD\n",
      "\n",
      "repick starting point\n",
      "accept worse solution\n",
      "accept worse solution\n",
      "accept worse solution\n",
      "accept worse solution\n",
      "accept worse solution\n"
     ]
    },
    {
     "ename": "KeyboardInterrupt",
     "evalue": "",
     "output_type": "error",
     "traceback": [
      "\u001b[1;31m---------------------------------------------------------------------------\u001b[0m",
      "\u001b[1;31mKeyboardInterrupt\u001b[0m                         Traceback (most recent call last)",
      "\u001b[1;32m~\\AppData\\Local\\Temp\\ipykernel_14520\\2454229138.py\u001b[0m in \u001b[0;36m<module>\u001b[1;34m\u001b[0m\n\u001b[1;32m----> 1\u001b[1;33m \u001b[0msolve\u001b[0m\u001b[1;33m(\u001b[0m\u001b[0mcipher\u001b[0m\u001b[1;33m,\u001b[0m\u001b[1;36m1e4\u001b[0m\u001b[1;33m,\u001b[0m\u001b[1;36m0.01\u001b[0m\u001b[1;33m,\u001b[0m\u001b[1;36m10\u001b[0m\u001b[1;33m,\u001b[0m\u001b[1;36m100\u001b[0m\u001b[1;33m)\u001b[0m\u001b[1;33m\u001b[0m\u001b[1;33m\u001b[0m\u001b[0m\n\u001b[0m",
      "\u001b[1;32m~\\AppData\\Local\\Temp\\ipykernel_14520\\2402130097.py\u001b[0m in \u001b[0;36msolve\u001b[1;34m(ciphertext, initial_temperature, cooling_rate, n_restarts, n_local)\u001b[0m\n\u001b[0;32m     47\u001b[0m                     \u001b[0mtranspose\u001b[0m\u001b[1;33m.\u001b[0m\u001b[0msort\u001b[0m\u001b[1;33m(\u001b[0m\u001b[1;33m)\u001b[0m\u001b[1;33m\u001b[0m\u001b[1;33m\u001b[0m\u001b[0m\n\u001b[0;32m     48\u001b[0m                     \u001b[0mC\u001b[0m  \u001b[1;33m=\u001b[0m \u001b[0mtransposed_ciphertext\u001b[0m\u001b[1;33m(\u001b[0m\u001b[0mcurrent_cipher\u001b[0m\u001b[1;33m,\u001b[0m\u001b[0mtranspose\u001b[0m\u001b[1;33m)\u001b[0m\u001b[1;33m\u001b[0m\u001b[1;33m\u001b[0m\u001b[0m\n\u001b[1;32m---> 49\u001b[1;33m                     \u001b[0ms\u001b[0m \u001b[1;33m=\u001b[0m \u001b[0mbigram_score\u001b[0m\u001b[1;33m(\u001b[0m\u001b[0mscore\u001b[0m\u001b[1;33m(\u001b[0m\u001b[0mcurrent_state\u001b[0m\u001b[1;33m[\u001b[0m\u001b[1;36m0\u001b[0m\u001b[1;33m]\u001b[0m\u001b[1;33m,\u001b[0m\u001b[0mC\u001b[0m\u001b[1;33m,\u001b[0m\u001b[0mtranspose\u001b[0m\u001b[1;33m)\u001b[0m\u001b[1;33m[\u001b[0m\u001b[1;36m1\u001b[0m\u001b[1;33m]\u001b[0m\u001b[1;33m)\u001b[0m\u001b[1;33m\u001b[0m\u001b[1;33m\u001b[0m\u001b[0m\n\u001b[0m\u001b[0;32m     50\u001b[0m                     \u001b[1;32mif\u001b[0m \u001b[0ms\u001b[0m\u001b[1;33m>\u001b[0m\u001b[0mbest_local_score\u001b[0m\u001b[1;33m:\u001b[0m\u001b[1;33m\u001b[0m\u001b[1;33m\u001b[0m\u001b[0m\n\u001b[0;32m     51\u001b[0m                         \u001b[0mbest_local_score\u001b[0m \u001b[1;33m=\u001b[0m \u001b[0ms\u001b[0m\u001b[1;33m\u001b[0m\u001b[1;33m\u001b[0m\u001b[0m\n",
      "\u001b[1;32m~\\AppData\\Local\\Temp\\ipykernel_14520\\984203471.py\u001b[0m in \u001b[0;36mscore\u001b[1;34m(solution, new_cipher, transpose)\u001b[0m\n\u001b[0;32m      7\u001b[0m     \u001b[1;31m#sub in candidate solution key to cipher\u001b[0m\u001b[1;33m\u001b[0m\u001b[1;33m\u001b[0m\u001b[0m\n\u001b[0;32m      8\u001b[0m     \u001b[1;32mfor\u001b[0m \u001b[0mi\u001b[0m \u001b[1;32min\u001b[0m \u001b[0mnew_cipher\u001b[0m\u001b[1;33m:\u001b[0m\u001b[1;33m\u001b[0m\u001b[1;33m\u001b[0m\u001b[0m\n\u001b[1;32m----> 9\u001b[1;33m         \u001b[1;32mfor\u001b[0m \u001b[0mkey\u001b[0m\u001b[1;33m,\u001b[0m\u001b[0mvalue\u001b[0m \u001b[1;32min\u001b[0m \u001b[0msolution\u001b[0m\u001b[1;33m.\u001b[0m\u001b[0mitems\u001b[0m\u001b[1;33m(\u001b[0m\u001b[1;33m)\u001b[0m\u001b[1;33m:\u001b[0m\u001b[1;33m\u001b[0m\u001b[1;33m\u001b[0m\u001b[0m\n\u001b[0m\u001b[0;32m     10\u001b[0m             \u001b[1;32mif\u001b[0m \u001b[0mi\u001b[0m \u001b[1;32min\u001b[0m \u001b[0mvalue\u001b[0m\u001b[1;33m:\u001b[0m\u001b[1;33m\u001b[0m\u001b[1;33m\u001b[0m\u001b[0m\n\u001b[0;32m     11\u001b[0m                 \u001b[0mplaintext\u001b[0m \u001b[1;33m+=\u001b[0m \u001b[0mstr\u001b[0m\u001b[1;33m(\u001b[0m\u001b[0mkey\u001b[0m\u001b[1;33m)\u001b[0m\u001b[1;33m\u001b[0m\u001b[1;33m\u001b[0m\u001b[0m\n",
      "\u001b[1;31mKeyboardInterrupt\u001b[0m: "
     ]
    }
   ],
   "source": [
    "solve(cipher,1e4,0.01,10,100)"
   ]
  },
  {
   "cell_type": "code",
   "execution_count": null,
   "metadata": {
    "id": "pEWPaqUX6iUB"
   },
   "outputs": [],
   "source": [
    "transposed_ciphertext('LIABBWEFE',[1,2,3])"
   ]
  },
  {
   "cell_type": "code",
   "execution_count": 35,
   "metadata": {
    "id": "A36e0_wM6iUD"
   },
   "outputs": [],
   "source": [
    "def score_zodiac_like_words(plaintext):\n",
    "    #D is a dictionary of words that is likely to be in the cipher, higher the score, the more likely it is that the word would appear in the cipher\n",
    "    #if one of these words appears in the plaintext, the candidate is scored higher\n",
    "    D = {'CENTURIES':100,'KINGS':20,'QUEENS':100,'CODEBREAKERS':200}\n",
    "    score = 0\n",
    "    for i in D:\n",
    "        score = score + D[i]*plaintext.count(i)\n",
    "\n",
    "    return 0.4*score"
   ]
  }
 ],
 "metadata": {
  "colab": {
   "provenance": []
  },
  "kernelspec": {
   "display_name": "Python 3 (ipykernel)",
   "language": "python",
   "name": "python3"
  },
  "language_info": {
   "codemirror_mode": {
    "name": "ipython",
    "version": 3
   },
   "file_extension": ".py",
   "mimetype": "text/x-python",
   "name": "python",
   "nbconvert_exporter": "python",
   "pygments_lexer": "ipython3",
   "version": "3.9.13"
  }
 },
 "nbformat": 4,
 "nbformat_minor": 1
}
